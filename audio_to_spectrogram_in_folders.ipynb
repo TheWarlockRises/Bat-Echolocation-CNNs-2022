{
  "nbformat": 4,
  "nbformat_minor": 0,
  "metadata": {
    "colab": {
      "name": "audio_to_spectrogram_in_folders",
      "provenance": [],
      "collapsed_sections": []
    },
    "kernelspec": {
      "name": "python3",
      "display_name": "Python 3"
    },
    "language_info": {
      "name": "python"
    },
    "accelerator": "GPU"
  },
  "cells": [
    {
      "cell_type": "markdown",
      "source": [
        "#Install Libraries, Import Modules, Mount Drive"
      ],
      "metadata": {
        "id": "YFtIqx5tLKkI"
      }
    },
    {
      "cell_type": "markdown",
      "source": [
        "Install LibROSA, a library for working on audio data"
      ],
      "metadata": {
        "id": "3ZZ8A0QbXkPH"
      }
    },
    {
      "cell_type": "code",
      "execution_count": null,
      "metadata": {
        "colab": {
          "base_uri": "https://localhost:8080/"
        },
        "id": "i4TQcP6lWGHq",
        "outputId": "c536ea92-6d50-4ad4-af28-f5d3df893fcd"
      },
      "outputs": [
        {
          "output_type": "stream",
          "name": "stdout",
          "text": [
            "Requirement already satisfied: librosa in /usr/local/lib/python3.7/dist-packages (0.8.1)\n",
            "Requirement already satisfied: numpy>=1.15.0 in /usr/local/lib/python3.7/dist-packages (from librosa) (1.21.6)\n",
            "Requirement already satisfied: scikit-learn!=0.19.0,>=0.14.0 in /usr/local/lib/python3.7/dist-packages (from librosa) (1.0.2)\n",
            "Requirement already satisfied: resampy>=0.2.2 in /usr/local/lib/python3.7/dist-packages (from librosa) (0.2.2)\n",
            "Requirement already satisfied: soundfile>=0.10.2 in /usr/local/lib/python3.7/dist-packages (from librosa) (0.10.3.post1)\n",
            "Requirement already satisfied: packaging>=20.0 in /usr/local/lib/python3.7/dist-packages (from librosa) (21.3)\n",
            "Requirement already satisfied: pooch>=1.0 in /usr/local/lib/python3.7/dist-packages (from librosa) (1.6.0)\n",
            "Requirement already satisfied: numba>=0.43.0 in /usr/local/lib/python3.7/dist-packages (from librosa) (0.51.2)\n",
            "Requirement already satisfied: scipy>=1.0.0 in /usr/local/lib/python3.7/dist-packages (from librosa) (1.4.1)\n",
            "Requirement already satisfied: decorator>=3.0.0 in /usr/local/lib/python3.7/dist-packages (from librosa) (4.4.2)\n",
            "Requirement already satisfied: audioread>=2.0.0 in /usr/local/lib/python3.7/dist-packages (from librosa) (2.1.9)\n",
            "Requirement already satisfied: joblib>=0.14 in /usr/local/lib/python3.7/dist-packages (from librosa) (1.1.0)\n",
            "Requirement already satisfied: setuptools in /usr/local/lib/python3.7/dist-packages (from numba>=0.43.0->librosa) (57.4.0)\n",
            "Requirement already satisfied: llvmlite<0.35,>=0.34.0.dev0 in /usr/local/lib/python3.7/dist-packages (from numba>=0.43.0->librosa) (0.34.0)\n",
            "Requirement already satisfied: pyparsing!=3.0.5,>=2.0.2 in /usr/local/lib/python3.7/dist-packages (from packaging>=20.0->librosa) (3.0.8)\n",
            "Requirement already satisfied: appdirs>=1.3.0 in /usr/local/lib/python3.7/dist-packages (from pooch>=1.0->librosa) (1.4.4)\n",
            "Requirement already satisfied: requests>=2.19.0 in /usr/local/lib/python3.7/dist-packages (from pooch>=1.0->librosa) (2.23.0)\n",
            "Requirement already satisfied: urllib3!=1.25.0,!=1.25.1,<1.26,>=1.21.1 in /usr/local/lib/python3.7/dist-packages (from requests>=2.19.0->pooch>=1.0->librosa) (1.24.3)\n",
            "Requirement already satisfied: chardet<4,>=3.0.2 in /usr/local/lib/python3.7/dist-packages (from requests>=2.19.0->pooch>=1.0->librosa) (3.0.4)\n",
            "Requirement already satisfied: idna<3,>=2.5 in /usr/local/lib/python3.7/dist-packages (from requests>=2.19.0->pooch>=1.0->librosa) (2.10)\n",
            "Requirement already satisfied: certifi>=2017.4.17 in /usr/local/lib/python3.7/dist-packages (from requests>=2.19.0->pooch>=1.0->librosa) (2021.10.8)\n",
            "Requirement already satisfied: six>=1.3 in /usr/local/lib/python3.7/dist-packages (from resampy>=0.2.2->librosa) (1.15.0)\n",
            "Requirement already satisfied: threadpoolctl>=2.0.0 in /usr/local/lib/python3.7/dist-packages (from scikit-learn!=0.19.0,>=0.14.0->librosa) (3.1.0)\n",
            "Requirement already satisfied: cffi>=1.0 in /usr/local/lib/python3.7/dist-packages (from soundfile>=0.10.2->librosa) (1.15.0)\n",
            "Requirement already satisfied: pycparser in /usr/local/lib/python3.7/dist-packages (from cffi>=1.0->soundfile>=0.10.2->librosa) (2.21)\n"
          ]
        }
      ],
      "source": [
        "!pip install librosa"
      ]
    },
    {
      "cell_type": "markdown",
      "source": [
        "Import Modules"
      ],
      "metadata": {
        "id": "DTbo2I21LleB"
      }
    },
    {
      "cell_type": "code",
      "source": [
        "import numpy as np\n",
        "import os\n",
        "from matplotlib import pyplot as plt\n",
        "import scipy.io.wavfile as wav\n",
        "from numpy.lib import stride_tricks"
      ],
      "metadata": {
        "id": "3EROx8xkLJpR"
      },
      "execution_count": null,
      "outputs": []
    },
    {
      "cell_type": "markdown",
      "source": [
        "Mount Drive"
      ],
      "metadata": {
        "id": "2wpD96PzYTSY"
      }
    },
    {
      "cell_type": "code",
      "source": [
        "from google.colab import drive\n",
        "drive.mount('/content/drive')"
      ],
      "metadata": {
        "colab": {
          "base_uri": "https://localhost:8080/"
        },
        "id": "LzwOCln_YSWq",
        "outputId": "63378202-bee9-4e55-bdd4-75b0bccaf1af"
      },
      "execution_count": null,
      "outputs": [
        {
          "output_type": "stream",
          "name": "stdout",
          "text": [
            "Mounted at /content/drive\n"
          ]
        }
      ]
    },
    {
      "cell_type": "markdown",
      "source": [
        "Ensure there is a folder to store the data"
      ],
      "metadata": {
        "id": "w1XRZZGALrGb"
      }
    },
    {
      "cell_type": "code",
      "source": [
        "#if the designated folder does not exist, create it. Either way, set the spectrogram destination path to the specified folder.\n",
        "if not os.path.isdir('/content/drive/My Drive/Colab Notebooks/Deep Learning/ChiroVox_Bat_Spectrograms_Folders/'):\n",
        "  destination_base_path = os.mkdir('/content/drive/My Drive/Colab Notebooks/Deep Learning/ChiroVox_Bat_Spectrograms_Folders/')\n",
        "else:\n",
        "  destination_base_path = '/content/drive/My Drive/Colab Notebooks/Deep Learning/ChiroVox_Bat_Spectrograms_Folders/'"
      ],
      "metadata": {
        "id": "YZW-ww_sVQbr"
      },
      "execution_count": null,
      "outputs": []
    },
    {
      "cell_type": "markdown",
      "source": [
        "#Transform .wav files into Spectrograms\n",
        "\n",
        "from https://stackoverflow.com/questions/44787437/how-to-convert-a-wav-file-to-a-spectrogram-in-python3 (2nd answer)"
      ],
      "metadata": {
        "id": "c9RJ6Qm-MHdQ"
      }
    },
    {
      "cell_type": "code",
      "source": [
        "\"\"\" short time fourier transform of audio signal \"\"\"\n",
        "def stft(sig, frameSize, overlapFac=0.5, window=np.hanning):\n",
        "    win = window(frameSize)\n",
        "    hopSize = int(frameSize - np.floor(overlapFac * frameSize))\n",
        "\n",
        "    # zeros at beginning (thus center of 1st window should be for sample nr. 0)   \n",
        "    samples = np.append(np.zeros(int(np.floor(frameSize/2.0))), sig)    \n",
        "    # cols for windowing\n",
        "    cols = np.ceil( (len(samples) - frameSize) / float(hopSize)) + 1\n",
        "    # zeros at end (thus samples can be fully covered by frames)\n",
        "    samples = np.append(samples, np.zeros(frameSize))\n",
        "\n",
        "    frames = stride_tricks.as_strided(samples, shape=(int(cols), frameSize), strides=(samples.strides[0]*hopSize, samples.strides[0])).copy()\n",
        "    frames *= win\n",
        "\n",
        "    return np.fft.rfft(frames)    \n",
        "\n",
        "\"\"\" scale frequency axis logarithmically \"\"\"    \n",
        "def logscale_spec(spec, sr=44100, factor=20.):\n",
        "    timebins, freqbins = np.shape(spec)\n",
        "\n",
        "    scale = np.linspace(0, 1, freqbins) ** factor\n",
        "    scale *= (freqbins-1)/max(scale)\n",
        "    scale = np.unique(np.round(scale))\n",
        "\n",
        "    # create spectrogram with new freq bins\n",
        "    newspec = np.complex128(np.zeros([timebins, len(scale)]))\n",
        "    for i in range(0, len(scale)):        \n",
        "        if i == len(scale)-1:\n",
        "            newspec[:,i] = np.sum(spec[:,int(scale[i]):], axis=1)\n",
        "        else:        \n",
        "            newspec[:,i] = np.sum(spec[:,int(scale[i]):int(scale[i+1])], axis=1)\n",
        "\n",
        "    # list center freq of bins\n",
        "    allfreqs = np.abs(np.fft.fftfreq(freqbins*2, 1./sr)[:freqbins+1])\n",
        "    freqs = []\n",
        "    for i in range(0, len(scale)):\n",
        "        if i == len(scale)-1:\n",
        "            freqs += [np.mean(allfreqs[int(scale[i]):])]\n",
        "        else:\n",
        "            freqs += [np.mean(allfreqs[int(scale[i]):int(scale[i+1])])]\n",
        "\n",
        "    return newspec, freqs\n",
        "\n",
        "\"\"\" plot spectrogram\"\"\"\n",
        "def plotstft(audiopath, audio_num=None, binsize=2**10, plotpath=None, colormap=\"jet\"):\n",
        "    try:\n",
        "      samplerate, samples = wav.read(audiopath)\n",
        "    except:\n",
        "      print('skipped:', audiopath)\n",
        "      return\n",
        "\n",
        "    s = stft(samples, binsize)\n",
        "\n",
        "    sshow, freq = logscale_spec(s, factor=1.0, sr=samplerate)\n",
        "\n",
        "    ims = 20.*np.log10(np.abs(sshow)/10e-6) # amplitude to decibel\n",
        "\n",
        "    timebins, freqbins = np.shape(ims)\n",
        "\n",
        "    print(\"timebins: \", timebins)\n",
        "    print(\"freqbins: \", freqbins)\n",
        "\n",
        "    plt.figure(figsize=(15, 7.5))\n",
        "    plt.imshow(np.transpose(ims), origin=\"lower\", aspect=\"auto\", cmap=colormap, interpolation=\"none\")\n",
        "    plt.colorbar()\n",
        "\n",
        "    plt.xlabel(\"time (s)\")\n",
        "    plt.ylabel(\"frequency (hz)\")\n",
        "    plt.xlim([0, timebins-1])\n",
        "    plt.ylim([0, freqbins])\n",
        "\n",
        "    xlocs = np.float32(np.linspace(0, timebins-1, 5))\n",
        "    plt.xticks(xlocs, [\"%.02f\" % l for l in ((xlocs*len(samples)/timebins)+(0.5*binsize))/samplerate])\n",
        "    ylocs = np.int16(np.round(np.linspace(0, freqbins-1, 10)))\n",
        "    plt.yticks(ylocs, [\"%.02f\" % freq[i] for i in ylocs])\n",
        "\n",
        "    if plotpath:\n",
        "        plt.savefig(os.path.join(plotpath, audio_num.split('.')[0]), bbox_inches=\"tight\")\n",
        "    else:\n",
        "        plt.show()\n",
        "\n",
        "    plt.clf()\n",
        "\n",
        "    return ims\n",
        "\n",
        "#re-iterate the base and destination paths we are getting the audio from\n",
        "audio_base_path = '/content/drive/My Drive/Colab Notebooks/Deep Learning/ChiroVox_Bat_Data/' \n",
        "destination_base_path = '/content/drive/My Drive/Colab Notebooks/Deep Learning/ChiroVox_Bat_Spectrograms_Folders/'\n",
        "\n",
        "#for each specie inside each genus, get teh audio file and plot it as a spectrogram using the above functions\n",
        "#save the spectrograms to the designated destination genus folder\n",
        "for genus_dir in os.listdir(audio_base_path):\n",
        "  genus_path = os.path.join(audio_base_path, genus_dir)\n",
        "  if os.path.isdir(genus_path):\n",
        "    for specie_dir in os.listdir(genus_path):\n",
        "      specie_path = os.path.join(genus_path, specie_dir)\n",
        "      for audio_file in os.listdir(specie_path):\n",
        "        if audio_file.endswith('.wav'):\n",
        "          ims = plotstft(os.path.join(os.path.join(audio_base_path, specie_path), audio_file), audio_num = audio_file, plotpath = os.path.join(destination_base_path, genus_dir)) \n"
      ],
      "metadata": {
        "colab": {
          "base_uri": "https://localhost:8080/",
          "height": 1000
        },
        "id": "-8n0fNZJZ_yD",
        "outputId": "d5ea6b51-08a3-45cb-9b6e-4626f6deaa89"
      },
      "execution_count": null,
      "outputs": [
        {
          "output_type": "stream",
          "name": "stdout",
          "text": [
            "timebins:  2659\n",
            "freqbins:  513\n",
            "timebins:  1195\n",
            "freqbins:  513\n",
            "timebins:  5860\n",
            "freqbins:  513\n"
          ]
        },
        {
          "output_type": "stream",
          "name": "stderr",
          "text": [
            "/usr/local/lib/python3.7/dist-packages/ipykernel_launcher.py:55: WavFileWarning: Chunk (non-data) not understood, skipping it.\n"
          ]
        },
        {
          "output_type": "stream",
          "name": "stdout",
          "text": [
            "timebins:  3219\n",
            "freqbins:  513\n",
            "timebins:  5860\n",
            "freqbins:  513\n",
            "timebins:  2634\n",
            "freqbins:  513\n",
            "timebins:  5860\n",
            "freqbins:  513\n",
            "timebins:  5860\n",
            "freqbins:  513\n",
            "timebins:  5860\n",
            "freqbins:  513\n",
            "timebins:  586\n",
            "freqbins:  513\n",
            "timebins:  1634\n",
            "freqbins:  513\n",
            "timebins:  545\n",
            "freqbins:  513\n",
            "timebins:  933\n",
            "freqbins:  513\n",
            "timebins:  3354\n",
            "freqbins:  513\n",
            "timebins:  1554\n",
            "freqbins:  513\n",
            "timebins:  1440\n",
            "freqbins:  513\n"
          ]
        },
        {
          "output_type": "stream",
          "name": "stderr",
          "text": [
            "/usr/local/lib/python3.7/dist-packages/ipykernel_launcher.py:55: WavFileWarning: Reached EOF prematurely; finished at 2621440 bytes, expected 2621448 bytes from header.\n",
            "/usr/local/lib/python3.7/dist-packages/ipykernel_launcher.py:64: RuntimeWarning: divide by zero encountered in log10\n"
          ]
        },
        {
          "output_type": "stream",
          "name": "stdout",
          "text": [
            "timebins:  2560\n",
            "freqbins:  513\n"
          ]
        },
        {
          "output_type": "stream",
          "name": "stderr",
          "text": [
            "/usr/local/lib/python3.7/dist-packages/ipykernel_launcher.py:55: WavFileWarning: Reached EOF prematurely; finished at 2228224 bytes, expected 2228232 bytes from header.\n"
          ]
        },
        {
          "output_type": "stream",
          "name": "stdout",
          "text": [
            "timebins:  2176\n",
            "freqbins:  513\n"
          ]
        },
        {
          "output_type": "stream",
          "name": "stderr",
          "text": [
            "/usr/local/lib/python3.7/dist-packages/ipykernel_launcher.py:55: WavFileWarning: Reached EOF prematurely; finished at 2614312 bytes, expected 2614320 bytes from header.\n"
          ]
        },
        {
          "output_type": "stream",
          "name": "stdout",
          "text": [
            "timebins:  2553\n",
            "freqbins:  513\n"
          ]
        },
        {
          "output_type": "stream",
          "name": "stderr",
          "text": [
            "/usr/local/lib/python3.7/dist-packages/ipykernel_launcher.py:55: WavFileWarning: Reached EOF prematurely; finished at 10747904 bytes, expected 10747912 bytes from header.\n"
          ]
        },
        {
          "output_type": "stream",
          "name": "stdout",
          "text": [
            "timebins:  10496\n",
            "freqbins:  513\n"
          ]
        },
        {
          "output_type": "stream",
          "name": "stderr",
          "text": [
            "/usr/local/lib/python3.7/dist-packages/ipykernel_launcher.py:55: WavFileWarning: Reached EOF prematurely; finished at 16646144 bytes, expected 16646152 bytes from header.\n"
          ]
        },
        {
          "output_type": "stream",
          "name": "stdout",
          "text": [
            "timebins:  16256\n",
            "freqbins:  513\n"
          ]
        },
        {
          "output_type": "stream",
          "name": "stderr",
          "text": [
            "/usr/local/lib/python3.7/dist-packages/ipykernel_launcher.py:71: RuntimeWarning: More than 20 figures have been opened. Figures created through the pyplot interface (`matplotlib.pyplot.figure`) are retained until explicitly closed and may consume too much memory. (To control this warning, see the rcParam `figure.max_open_warning`).\n",
            "/usr/local/lib/python3.7/dist-packages/ipykernel_launcher.py:55: WavFileWarning: Reached EOF prematurely; finished at 10616832 bytes, expected 10616840 bytes from header.\n"
          ]
        },
        {
          "output_type": "stream",
          "name": "stdout",
          "text": [
            "timebins:  10368\n",
            "freqbins:  513\n",
            "timebins:  5860\n",
            "freqbins:  513\n",
            "timebins:  5737\n",
            "freqbins:  513\n",
            "timebins:  5860\n",
            "freqbins:  513\n",
            "timebins:  5860\n",
            "freqbins:  513\n",
            "timebins:  5860\n",
            "freqbins:  513\n",
            "timebins:  5860\n",
            "freqbins:  513\n",
            "timebins:  5860\n",
            "freqbins:  513\n",
            "timebins:  2042\n",
            "freqbins:  513\n",
            "timebins:  5860\n",
            "freqbins:  513\n",
            "timebins:  5860\n",
            "freqbins:  513\n",
            "timebins:  5860\n",
            "freqbins:  513\n",
            "timebins:  5860\n",
            "freqbins:  513\n",
            "timebins:  5860\n",
            "freqbins:  513\n",
            "timebins:  5860\n",
            "freqbins:  513\n",
            "timebins:  5860\n",
            "freqbins:  513\n",
            "timebins:  5860\n",
            "freqbins:  513\n",
            "timebins:  5860\n",
            "freqbins:  513\n",
            "timebins:  5860\n",
            "freqbins:  513\n",
            "timebins:  5860\n",
            "freqbins:  513\n",
            "timebins:  5860\n",
            "freqbins:  513\n",
            "timebins:  5860\n",
            "freqbins:  513\n",
            "timebins:  5860\n",
            "freqbins:  513\n",
            "timebins:  5860\n",
            "freqbins:  513\n",
            "timebins:  2610\n",
            "freqbins:  513\n",
            "timebins:  5860\n",
            "freqbins:  513\n",
            "timebins:  1407\n",
            "freqbins:  513\n",
            "timebins:  335\n",
            "freqbins:  513\n",
            "timebins:  1903\n",
            "freqbins:  513\n",
            "timebins:  3511\n",
            "freqbins:  513\n",
            "timebins:  4198\n",
            "freqbins:  513\n",
            "timebins:  2703\n",
            "freqbins:  513\n",
            "timebins:  2930\n",
            "freqbins:  513\n",
            "timebins:  3070\n",
            "freqbins:  513\n",
            "timebins:  1477\n",
            "freqbins:  513\n",
            "timebins:  2179\n",
            "freqbins:  513\n",
            "timebins:  670\n",
            "freqbins:  513\n",
            "timebins:  5860\n",
            "freqbins:  513\n",
            "timebins:  5860\n",
            "freqbins:  513\n",
            "timebins:  5860\n",
            "freqbins:  513\n",
            "timebins:  5860\n",
            "freqbins:  513\n",
            "timebins:  5860\n",
            "freqbins:  513\n",
            "timebins:  5860\n",
            "freqbins:  513\n",
            "timebins:  5860\n",
            "freqbins:  513\n",
            "timebins:  5860\n",
            "freqbins:  513\n",
            "timebins:  5860\n",
            "freqbins:  513\n",
            "timebins:  1641\n",
            "freqbins:  513\n",
            "timebins:  5860\n",
            "freqbins:  513\n",
            "timebins:  2641\n",
            "freqbins:  513\n",
            "timebins:  1612\n",
            "freqbins:  513\n",
            "timebins:  3072\n",
            "freqbins:  513\n",
            "timebins:  1570\n",
            "freqbins:  513\n",
            "timebins:  1265\n",
            "freqbins:  513\n",
            "timebins:  4000\n",
            "freqbins:  513\n",
            "timebins:  1172\n",
            "freqbins:  513\n",
            "timebins:  2048\n",
            "freqbins:  513\n",
            "timebins:  2944\n",
            "freqbins:  513\n",
            "timebins:  5860\n",
            "freqbins:  513\n",
            "timebins:  1623\n",
            "freqbins:  513\n",
            "timebins:  2084\n",
            "freqbins:  513\n",
            "timebins:  1931\n",
            "freqbins:  513\n",
            "timebins:  1407\n",
            "freqbins:  513\n",
            "timebins:  2930\n",
            "freqbins:  513\n",
            "timebins:  917\n",
            "freqbins:  513\n",
            "timebins:  800\n",
            "freqbins:  513\n",
            "timebins:  517\n",
            "freqbins:  513\n",
            "timebins:  893\n",
            "freqbins:  513\n",
            "timebins:  5860\n",
            "freqbins:  513\n",
            "timebins:  5860\n",
            "freqbins:  513\n",
            "timebins:  2784\n",
            "freqbins:  513\n",
            "timebins:  5860\n",
            "freqbins:  513\n",
            "timebins:  1930\n",
            "freqbins:  513\n",
            "timebins:  5860\n",
            "freqbins:  513\n",
            "timebins:  5860\n",
            "freqbins:  513\n",
            "timebins:  5860\n",
            "freqbins:  513\n",
            "timebins:  5860\n",
            "freqbins:  513\n",
            "timebins:  1935\n",
            "freqbins:  513\n",
            "timebins:  4365\n",
            "freqbins:  513\n",
            "timebins:  782\n",
            "freqbins:  513\n",
            "timebins:  3295\n",
            "freqbins:  513\n",
            "timebins:  5860\n",
            "freqbins:  513\n",
            "timebins:  5860\n",
            "freqbins:  513\n",
            "timebins:  1276\n",
            "freqbins:  513\n",
            "timebins:  2735\n",
            "freqbins:  513\n",
            "timebins:  5860\n",
            "freqbins:  513\n",
            "timebins:  5860\n",
            "freqbins:  513\n",
            "timebins:  5860\n",
            "freqbins:  513\n",
            "timebins:  5860\n",
            "freqbins:  513\n",
            "timebins:  5860\n",
            "freqbins:  513\n",
            "timebins:  5860\n",
            "freqbins:  513\n",
            "timebins:  3067\n",
            "freqbins:  513\n",
            "timebins:  1212\n",
            "freqbins:  513\n",
            "timebins:  2037\n",
            "freqbins:  513\n",
            "timebins:  5860\n",
            "freqbins:  513\n",
            "timebins:  5860\n",
            "freqbins:  513\n",
            "timebins:  5860\n",
            "freqbins:  513\n",
            "timebins:  5860\n",
            "freqbins:  513\n",
            "timebins:  5860\n",
            "freqbins:  513\n",
            "timebins:  5860\n",
            "freqbins:  513\n",
            "timebins:  2813\n",
            "freqbins:  513\n",
            "timebins:  5860\n",
            "freqbins:  513\n",
            "timebins:  3516\n",
            "freqbins:  513\n",
            "timebins:  3165\n",
            "freqbins:  513\n",
            "timebins:  5860\n",
            "freqbins:  513\n",
            "timebins:  5860\n",
            "freqbins:  513\n",
            "timebins:  2657\n",
            "freqbins:  513\n",
            "timebins:  5860\n",
            "freqbins:  513\n",
            "timebins:  5860\n",
            "freqbins:  513\n",
            "timebins:  5860\n",
            "freqbins:  513\n",
            "timebins:  5860\n",
            "freqbins:  513\n",
            "timebins:  5860\n",
            "freqbins:  513\n",
            "timebins:  831\n",
            "freqbins:  513\n",
            "timebins:  977\n",
            "freqbins:  513\n",
            "timebins:  1585\n",
            "freqbins:  513\n",
            "timebins:  1387\n",
            "freqbins:  513\n",
            "timebins:  819\n",
            "freqbins:  513\n",
            "timebins:  1785\n",
            "freqbins:  513\n",
            "timebins:  10368\n",
            "freqbins:  513\n"
          ]
        },
        {
          "output_type": "stream",
          "name": "stderr",
          "text": [
            "/usr/local/lib/python3.7/dist-packages/ipykernel_launcher.py:55: WavFileWarning: Reached EOF prematurely; finished at 3801088 bytes, expected 3801096 bytes from header.\n"
          ]
        },
        {
          "output_type": "stream",
          "name": "stdout",
          "text": [
            "timebins:  3712\n",
            "freqbins:  513\n"
          ]
        },
        {
          "output_type": "stream",
          "name": "stderr",
          "text": [
            "/usr/local/lib/python3.7/dist-packages/ipykernel_launcher.py:55: WavFileWarning: Reached EOF prematurely; finished at 8781824 bytes, expected 8781832 bytes from header.\n"
          ]
        },
        {
          "output_type": "stream",
          "name": "stdout",
          "text": [
            "timebins:  8576\n",
            "freqbins:  513\n"
          ]
        },
        {
          "output_type": "stream",
          "name": "stderr",
          "text": [
            "/usr/local/lib/python3.7/dist-packages/ipykernel_launcher.py:55: WavFileWarning: Reached EOF prematurely; finished at 14155776 bytes, expected 14155784 bytes from header.\n"
          ]
        },
        {
          "output_type": "stream",
          "name": "stdout",
          "text": [
            "timebins:  13824\n",
            "freqbins:  513\n",
            "timebins:  39104\n",
            "freqbins:  513\n",
            "timebins:  39104\n",
            "freqbins:  513\n",
            "timebins:  39104\n",
            "freqbins:  513\n",
            "timebins:  39104\n",
            "freqbins:  513\n",
            "timebins:  39104\n",
            "freqbins:  513\n",
            "timebins:  39104\n",
            "freqbins:  513\n",
            "timebins:  21568\n",
            "freqbins:  513\n",
            "timebins:  39104\n",
            "freqbins:  513\n",
            "timebins:  39104\n",
            "freqbins:  513\n",
            "timebins:  5936\n",
            "freqbins:  513\n",
            "timebins:  5936\n",
            "freqbins:  513\n",
            "timebins:  5936\n",
            "freqbins:  513\n",
            "timebins:  9760\n",
            "freqbins:  513\n",
            "timebins:  9760\n",
            "freqbins:  513\n",
            "timebins:  78144\n",
            "freqbins:  513\n",
            "timebins:  39104\n",
            "freqbins:  513\n",
            "timebins:  10048\n",
            "freqbins:  513\n",
            "timebins:  23472\n",
            "freqbins:  513\n",
            "timebins:  39104\n",
            "freqbins:  513\n",
            "timebins:  39104\n",
            "freqbins:  513\n",
            "timebins:  39104\n",
            "freqbins:  513\n",
            "timebins:  39104\n",
            "freqbins:  513\n",
            "timebins:  78144\n",
            "freqbins:  513\n",
            "timebins:  4912\n",
            "freqbins:  513\n"
          ]
        },
        {
          "output_type": "stream",
          "name": "stderr",
          "text": [
            "/usr/local/lib/python3.7/dist-packages/ipykernel_launcher.py:55: WavFileWarning: Reached EOF prematurely; finished at 4980736 bytes, expected 4980744 bytes from header.\n"
          ]
        },
        {
          "output_type": "stream",
          "name": "stdout",
          "text": [
            "timebins:  4864\n",
            "freqbins:  513\n"
          ]
        },
        {
          "output_type": "stream",
          "name": "stderr",
          "text": [
            "/usr/local/lib/python3.7/dist-packages/ipykernel_launcher.py:55: WavFileWarning: Reached EOF prematurely; finished at 4456448 bytes, expected 4456456 bytes from header.\n"
          ]
        },
        {
          "output_type": "stream",
          "name": "stdout",
          "text": [
            "timebins:  4352\n",
            "freqbins:  513\n"
          ]
        },
        {
          "output_type": "stream",
          "name": "stderr",
          "text": [
            "/usr/local/lib/python3.7/dist-packages/ipykernel_launcher.py:55: WavFileWarning: Reached EOF prematurely; finished at 175605 bytes, expected 175613 bytes from header.\n"
          ]
        },
        {
          "output_type": "stream",
          "name": "stdout",
          "text": [
            "timebins:  171\n",
            "freqbins:  513\n",
            "timebins:  4352\n",
            "freqbins:  513\n",
            "timebins:  39104\n",
            "freqbins:  513\n",
            "timebins:  5243\n",
            "freqbins:  513\n"
          ]
        },
        {
          "output_type": "stream",
          "name": "stderr",
          "text": [
            "/usr/local/lib/python3.7/dist-packages/ipykernel_launcher.py:55: WavFileWarning: Reached EOF prematurely; finished at 4895659 bytes, expected 4895667 bytes from header.\n"
          ]
        },
        {
          "output_type": "stream",
          "name": "stdout",
          "text": [
            "timebins:  4781\n",
            "freqbins:  513\n",
            "timebins:  39104\n",
            "freqbins:  513\n",
            "timebins:  505\n",
            "freqbins:  513\n",
            "timebins:  567\n",
            "freqbins:  513\n",
            "timebins:  360\n",
            "freqbins:  513\n",
            "timebins:  1162\n",
            "freqbins:  513\n",
            "timebins:  481\n",
            "freqbins:  513\n",
            "timebins:  731\n",
            "freqbins:  513\n",
            "timebins:  2073\n",
            "freqbins:  513\n",
            "timebins:  2018\n",
            "freqbins:  513\n",
            "timebins:  467\n",
            "freqbins:  513\n",
            "timebins:  450\n",
            "freqbins:  513\n",
            "timebins:  821\n",
            "freqbins:  513\n"
          ]
        },
        {
          "output_type": "stream",
          "name": "stderr",
          "text": [
            "/usr/local/lib/python3.7/dist-packages/ipykernel_launcher.py:55: WavFileWarning: Reached EOF prematurely; finished at 5000044 bytes, expected 5000052 bytes from header.\n"
          ]
        },
        {
          "output_type": "stream",
          "name": "stdout",
          "text": [
            "timebins:  4883\n",
            "freqbins:  513\n",
            "timebins:  4883\n",
            "freqbins:  513\n",
            "timebins:  1122\n",
            "freqbins:  513\n",
            "timebins:  2351\n",
            "freqbins:  513\n",
            "timebins:  5184\n",
            "freqbins:  513\n",
            "timebins:  9492\n",
            "freqbins:  513\n",
            "timebins:  12741\n",
            "freqbins:  513\n",
            "timebins:  6764\n",
            "freqbins:  513\n",
            "timebins:  2706\n",
            "freqbins:  513\n",
            "timebins:  3880\n",
            "freqbins:  513\n",
            "timebins:  19638\n",
            "freqbins:  513\n",
            "timebins:  14352\n",
            "freqbins:  513\n",
            "timebins:  924\n",
            "freqbins:  513\n",
            "timebins:  525\n",
            "freqbins:  513\n",
            "timebins:  36496\n",
            "freqbins:  513\n",
            "timebins:  3296\n",
            "freqbins:  513\n",
            "timebins:  26002\n",
            "freqbins:  513\n",
            "timebins:  12561\n",
            "freqbins:  513\n",
            "timebins:  17342\n",
            "freqbins:  513\n",
            "timebins:  15897\n",
            "freqbins:  513\n",
            "timebins:  15635\n",
            "freqbins:  513\n",
            "timebins:  16209\n",
            "freqbins:  513\n",
            "timebins:  11592\n",
            "freqbins:  513\n",
            "timebins:  11355\n",
            "freqbins:  513\n",
            "timebins:  7478\n",
            "freqbins:  513\n",
            "timebins:  11653\n",
            "freqbins:  513\n",
            "timebins:  12889\n",
            "freqbins:  513\n",
            "timebins:  5303\n",
            "freqbins:  513\n",
            "timebins:  13978\n",
            "freqbins:  513\n",
            "timebins:  138400\n",
            "freqbins:  513\n",
            "timebins:  9159\n",
            "freqbins:  513\n",
            "timebins:  21749\n",
            "freqbins:  513\n",
            "timebins:  9618\n",
            "freqbins:  513\n",
            "timebins:  23336\n",
            "freqbins:  513\n",
            "timebins:  15342\n",
            "freqbins:  513\n",
            "timebins:  2653\n",
            "freqbins:  513\n",
            "timebins:  58432\n",
            "freqbins:  513\n",
            "timebins:  2280\n",
            "freqbins:  513\n",
            "timebins:  3693\n",
            "freqbins:  513\n",
            "timebins:  11219\n",
            "freqbins:  513\n",
            "timebins:  9859\n",
            "freqbins:  513\n",
            "timebins:  49126\n",
            "freqbins:  513\n",
            "timebins:  150368\n",
            "freqbins:  513\n"
          ]
        },
        {
          "output_type": "stream",
          "name": "stderr",
          "text": [
            "/usr/local/lib/python3.7/dist-packages/ipykernel_launcher.py:55: WavFileWarning: Reached EOF prematurely; finished at 29753344 bytes, expected 29753352 bytes from header.\n"
          ]
        },
        {
          "output_type": "stream",
          "name": "stdout",
          "text": [
            "timebins:  29056\n",
            "freqbins:  513\n",
            "timebins:  6177\n",
            "freqbins:  513\n",
            "timebins:  1589\n",
            "freqbins:  513\n",
            "timebins:  2009\n",
            "freqbins:  513\n",
            "timebins:  1618\n",
            "freqbins:  513\n",
            "timebins:  3124\n",
            "freqbins:  513\n",
            "timebins:  12077\n",
            "freqbins:  513\n",
            "timebins:  4821\n",
            "freqbins:  513\n",
            "timebins:  1935\n",
            "freqbins:  513\n",
            "timebins:  1086\n",
            "freqbins:  513\n",
            "timebins:  33957\n",
            "freqbins:  513\n",
            "timebins:  19616\n",
            "freqbins:  513\n",
            "timebins:  57552\n",
            "freqbins:  513\n",
            "timebins:  68256\n",
            "freqbins:  513\n",
            "timebins:  113536\n",
            "freqbins:  513\n",
            "timebins:  2021\n",
            "freqbins:  513\n",
            "timebins:  2532\n",
            "freqbins:  513\n",
            "timebins:  1303\n",
            "freqbins:  513\n",
            "timebins:  2035\n",
            "freqbins:  513\n",
            "timebins:  6302\n",
            "freqbins:  513\n",
            "timebins:  2983\n",
            "freqbins:  513\n",
            "timebins:  6143\n",
            "freqbins:  513\n",
            "timebins:  1525\n",
            "freqbins:  513\n",
            "timebins:  1173\n",
            "freqbins:  513\n",
            "timebins:  2328\n",
            "freqbins:  513\n",
            "timebins:  1125\n",
            "freqbins:  513\n",
            "timebins:  2209\n",
            "freqbins:  513\n",
            "timebins:  2357\n",
            "freqbins:  513\n",
            "timebins:  2314\n",
            "freqbins:  513\n",
            "timebins:  1607\n",
            "freqbins:  513\n",
            "timebins:  13203\n",
            "freqbins:  513\n",
            "timebins:  6754\n",
            "freqbins:  513\n",
            "timebins:  1783\n",
            "freqbins:  513\n",
            "timebins:  3207\n",
            "freqbins:  513\n",
            "timebins:  5648\n",
            "freqbins:  513\n",
            "timebins:  4145\n",
            "freqbins:  513\n",
            "timebins:  1755\n",
            "freqbins:  513\n",
            "timebins:  1862\n",
            "freqbins:  513\n",
            "timebins:  6292\n",
            "freqbins:  513\n",
            "timebins:  4388\n",
            "freqbins:  513\n",
            "timebins:  3907\n",
            "freqbins:  513\n",
            "timebins:  2696\n",
            "freqbins:  513\n",
            "timebins:  1142\n",
            "freqbins:  513\n",
            "timebins:  10039\n",
            "freqbins:  513\n"
          ]
        },
        {
          "output_type": "stream",
          "name": "stderr",
          "text": [
            "/usr/local/lib/python3.7/dist-packages/ipykernel_launcher.py:55: WavFileWarning: Reached EOF prematurely; finished at 5300044 bytes, expected 5300052 bytes from header.\n"
          ]
        },
        {
          "output_type": "stream",
          "name": "stdout",
          "text": [
            "timebins:  5176\n",
            "freqbins:  513\n",
            "timebins:  2637\n",
            "freqbins:  513\n",
            "timebins:  34864\n",
            "freqbins:  513\n",
            "timebins:  3147\n",
            "freqbins:  513\n",
            "timebins:  2067\n",
            "freqbins:  513\n",
            "timebins:  5497\n",
            "freqbins:  513\n",
            "timebins:  8261\n",
            "freqbins:  513\n",
            "timebins:  4010\n",
            "freqbins:  513\n",
            "timebins:  17788\n",
            "freqbins:  513\n",
            "timebins:  80096\n",
            "freqbins:  513\n",
            "timebins:  2495\n",
            "freqbins:  513\n",
            "timebins:  8019\n",
            "freqbins:  513\n",
            "timebins:  1581\n",
            "freqbins:  513\n",
            "timebins:  2957\n",
            "freqbins:  513\n",
            "timebins:  914\n",
            "freqbins:  513\n",
            "timebins:  1968\n",
            "freqbins:  513\n",
            "timebins:  1313\n",
            "freqbins:  513\n",
            "timebins:  670\n",
            "freqbins:  513\n",
            "timebins:  97952\n",
            "freqbins:  513\n",
            "timebins:  774\n",
            "freqbins:  513\n",
            "timebins:  1148\n",
            "freqbins:  513\n",
            "timebins:  983\n",
            "freqbins:  513\n",
            "timebins:  832\n",
            "freqbins:  513\n",
            "timebins:  1043\n",
            "freqbins:  513\n",
            "timebins:  1142\n",
            "freqbins:  513\n",
            "timebins:  697\n",
            "freqbins:  513\n",
            "timebins:  732\n",
            "freqbins:  513\n",
            "timebins:  563\n",
            "freqbins:  513\n",
            "timebins:  3838\n",
            "freqbins:  513\n",
            "timebins:  4257\n",
            "freqbins:  513\n",
            "timebins:  11250\n",
            "freqbins:  513\n",
            "timebins:  4227\n",
            "freqbins:  513\n",
            "timebins:  971\n",
            "freqbins:  513\n",
            "timebins:  1220\n",
            "freqbins:  513\n",
            "timebins:  3118\n",
            "freqbins:  513\n",
            "timebins:  1057\n",
            "freqbins:  513\n",
            "timebins:  912\n",
            "freqbins:  513\n",
            "timebins:  1434\n",
            "freqbins:  513\n",
            "timebins:  1221\n",
            "freqbins:  513\n",
            "timebins:  831\n",
            "freqbins:  513\n",
            "timebins:  757\n",
            "freqbins:  513\n",
            "timebins:  1883\n",
            "freqbins:  513\n",
            "timebins:  7305\n",
            "freqbins:  513\n",
            "timebins:  4124\n",
            "freqbins:  513\n",
            "timebins:  4305\n",
            "freqbins:  513\n",
            "timebins:  7908\n",
            "freqbins:  513\n",
            "timebins:  1155\n",
            "freqbins:  513\n",
            "timebins:  7363\n",
            "freqbins:  513\n",
            "timebins:  3750\n",
            "freqbins:  513\n",
            "timebins:  763\n",
            "freqbins:  513\n",
            "timebins:  452\n",
            "freqbins:  513\n",
            "timebins:  437\n",
            "freqbins:  513\n",
            "timebins:  939\n",
            "freqbins:  513\n",
            "timebins:  6142\n",
            "freqbins:  513\n",
            "timebins:  5580\n",
            "freqbins:  513\n",
            "skipped: /content/drive/My Drive/Colab Notebooks/Deep Learning/ChiroVox_Bat_Data/kerivoula_250/pellucida_25/A003804_EFJNSOANPH.wav\n",
            "timebins:  4024\n",
            "freqbins:  513\n",
            "timebins:  488\n",
            "freqbins:  513\n",
            "timebins:  3547\n",
            "freqbins:  513\n",
            "timebins:  848\n",
            "freqbins:  513\n",
            "timebins:  595\n",
            "freqbins:  513\n",
            "timebins:  729\n",
            "freqbins:  513\n",
            "timebins:  667\n",
            "freqbins:  513\n",
            "timebins:  5276\n",
            "freqbins:  513\n",
            "timebins:  9260\n",
            "freqbins:  513\n",
            "timebins:  8511\n",
            "freqbins:  513\n",
            "timebins:  6838\n",
            "freqbins:  513\n",
            "timebins:  5913\n",
            "freqbins:  513\n",
            "timebins:  7093\n",
            "freqbins:  513\n",
            "timebins:  6949\n",
            "freqbins:  513\n",
            "timebins:  7953\n",
            "freqbins:  513\n",
            "timebins:  9499\n",
            "freqbins:  513\n"
          ]
        },
        {
          "output_type": "stream",
          "name": "stderr",
          "text": [
            "/usr/local/lib/python3.7/dist-packages/ipykernel_launcher.py:55: WavFileWarning: Reached EOF prematurely; finished at 3407872 bytes, expected 3407880 bytes from header.\n"
          ]
        },
        {
          "output_type": "stream",
          "name": "stdout",
          "text": [
            "timebins:  3328\n",
            "freqbins:  513\n"
          ]
        },
        {
          "output_type": "stream",
          "name": "stderr",
          "text": [
            "/usr/local/lib/python3.7/dist-packages/ipykernel_launcher.py:55: WavFileWarning: Reached EOF prematurely; finished at 2359296 bytes, expected 2359304 bytes from header.\n"
          ]
        },
        {
          "output_type": "stream",
          "name": "stdout",
          "text": [
            "timebins:  2304\n",
            "freqbins:  513\n"
          ]
        },
        {
          "output_type": "stream",
          "name": "stderr",
          "text": [
            "/usr/local/lib/python3.7/dist-packages/ipykernel_launcher.py:55: WavFileWarning: Reached EOF prematurely; finished at 524288 bytes, expected 524296 bytes from header.\n"
          ]
        },
        {
          "output_type": "stream",
          "name": "stdout",
          "text": [
            "timebins:  512\n",
            "freqbins:  513\n"
          ]
        },
        {
          "output_type": "stream",
          "name": "stderr",
          "text": [
            "/usr/local/lib/python3.7/dist-packages/ipykernel_launcher.py:55: WavFileWarning: Reached EOF prematurely; finished at 1966080 bytes, expected 1966088 bytes from header.\n"
          ]
        },
        {
          "output_type": "stream",
          "name": "stdout",
          "text": [
            "timebins:  1920\n",
            "freqbins:  513\n"
          ]
        },
        {
          "output_type": "stream",
          "name": "stderr",
          "text": [
            "/usr/local/lib/python3.7/dist-packages/ipykernel_launcher.py:55: WavFileWarning: Reached EOF prematurely; finished at 4325376 bytes, expected 4325384 bytes from header.\n"
          ]
        },
        {
          "output_type": "stream",
          "name": "stdout",
          "text": [
            "timebins:  4224\n",
            "freqbins:  513\n"
          ]
        },
        {
          "output_type": "stream",
          "name": "stderr",
          "text": [
            "/usr/local/lib/python3.7/dist-packages/ipykernel_launcher.py:55: WavFileWarning: Reached EOF prematurely; finished at 5767168 bytes, expected 5767176 bytes from header.\n"
          ]
        },
        {
          "output_type": "stream",
          "name": "stdout",
          "text": [
            "timebins:  5632\n",
            "freqbins:  513\n",
            "timebins:  3712\n",
            "freqbins:  513\n"
          ]
        },
        {
          "output_type": "stream",
          "name": "stderr",
          "text": [
            "/usr/local/lib/python3.7/dist-packages/ipykernel_launcher.py:55: WavFileWarning: Reached EOF prematurely; finished at 655360 bytes, expected 655368 bytes from header.\n"
          ]
        },
        {
          "output_type": "stream",
          "name": "stdout",
          "text": [
            "timebins:  640\n",
            "freqbins:  513\n"
          ]
        },
        {
          "output_type": "stream",
          "name": "stderr",
          "text": [
            "/usr/local/lib/python3.7/dist-packages/ipykernel_launcher.py:55: WavFileWarning: Reached EOF prematurely; finished at 1179648 bytes, expected 1179656 bytes from header.\n"
          ]
        },
        {
          "output_type": "stream",
          "name": "stdout",
          "text": [
            "timebins:  1152\n",
            "freqbins:  513\n"
          ]
        },
        {
          "output_type": "stream",
          "name": "stderr",
          "text": [
            "/usr/local/lib/python3.7/dist-packages/ipykernel_launcher.py:55: WavFileWarning: Reached EOF prematurely; finished at 5636096 bytes, expected 5636104 bytes from header.\n"
          ]
        },
        {
          "output_type": "stream",
          "name": "stdout",
          "text": [
            "timebins:  5504\n",
            "freqbins:  513\n"
          ]
        },
        {
          "output_type": "stream",
          "name": "stderr",
          "text": [
            "/usr/local/lib/python3.7/dist-packages/ipykernel_launcher.py:55: WavFileWarning: Reached EOF prematurely; finished at 1572864 bytes, expected 1572872 bytes from header.\n"
          ]
        },
        {
          "output_type": "stream",
          "name": "stdout",
          "text": [
            "timebins:  1536\n",
            "freqbins:  513\n"
          ]
        },
        {
          "output_type": "stream",
          "name": "stderr",
          "text": [
            "/usr/local/lib/python3.7/dist-packages/ipykernel_launcher.py:55: WavFileWarning: Reached EOF prematurely; finished at 5898240 bytes, expected 5898248 bytes from header.\n"
          ]
        },
        {
          "output_type": "stream",
          "name": "stdout",
          "text": [
            "timebins:  5760\n",
            "freqbins:  513\n",
            "timebins:  3712\n",
            "freqbins:  513\n"
          ]
        },
        {
          "output_type": "stream",
          "name": "stderr",
          "text": [
            "/usr/local/lib/python3.7/dist-packages/ipykernel_launcher.py:55: WavFileWarning: Reached EOF prematurely; finished at 3014656 bytes, expected 3014664 bytes from header.\n"
          ]
        },
        {
          "output_type": "stream",
          "name": "stdout",
          "text": [
            "timebins:  2944\n",
            "freqbins:  513\n",
            "timebins:  2944\n",
            "freqbins:  513\n"
          ]
        },
        {
          "output_type": "stream",
          "name": "stderr",
          "text": [
            "/usr/local/lib/python3.7/dist-packages/ipykernel_launcher.py:55: WavFileWarning: Reached EOF prematurely; finished at 917504 bytes, expected 917512 bytes from header.\n"
          ]
        },
        {
          "output_type": "stream",
          "name": "stdout",
          "text": [
            "timebins:  896\n",
            "freqbins:  513\n",
            "timebins:  1536\n",
            "freqbins:  513\n",
            "timebins:  2944\n",
            "freqbins:  513\n",
            "timebins:  2560\n",
            "freqbins:  513\n",
            "timebins:  896\n",
            "freqbins:  513\n"
          ]
        },
        {
          "output_type": "stream",
          "name": "stderr",
          "text": [
            "/usr/local/lib/python3.7/dist-packages/ipykernel_launcher.py:55: WavFileWarning: Reached EOF prematurely; finished at 786432 bytes, expected 786440 bytes from header.\n"
          ]
        },
        {
          "output_type": "stream",
          "name": "stdout",
          "text": [
            "timebins:  768\n",
            "freqbins:  513\n",
            "timebins:  640\n",
            "freqbins:  513\n"
          ]
        },
        {
          "output_type": "stream",
          "name": "stderr",
          "text": [
            "/usr/local/lib/python3.7/dist-packages/ipykernel_launcher.py:55: WavFileWarning: Reached EOF prematurely; finished at 1703936 bytes, expected 1703944 bytes from header.\n"
          ]
        },
        {
          "output_type": "stream",
          "name": "stdout",
          "text": [
            "timebins:  1664\n",
            "freqbins:  513\n"
          ]
        },
        {
          "output_type": "stream",
          "name": "stderr",
          "text": [
            "/usr/local/lib/python3.7/dist-packages/ipykernel_launcher.py:55: WavFileWarning: Reached EOF prematurely; finished at 3932160 bytes, expected 3932168 bytes from header.\n"
          ]
        },
        {
          "output_type": "stream",
          "name": "stdout",
          "text": [
            "timebins:  3840\n",
            "freqbins:  513\n",
            "timebins:  1920\n",
            "freqbins:  513\n",
            "timebins:  1536\n",
            "freqbins:  513\n",
            "timebins:  1664\n",
            "freqbins:  513\n"
          ]
        },
        {
          "output_type": "stream",
          "name": "stderr",
          "text": [
            "/usr/local/lib/python3.7/dist-packages/ipykernel_launcher.py:55: WavFileWarning: Reached EOF prematurely; finished at 2097152 bytes, expected 2097160 bytes from header.\n"
          ]
        },
        {
          "output_type": "stream",
          "name": "stdout",
          "text": [
            "timebins:  2048\n",
            "freqbins:  513\n",
            "timebins:  927\n",
            "freqbins:  513\n",
            "timebins:  701\n",
            "freqbins:  513\n",
            "timebins:  918\n",
            "freqbins:  513\n",
            "timebins:  735\n",
            "freqbins:  513\n",
            "timebins:  612\n",
            "freqbins:  513\n",
            "timebins:  495\n",
            "freqbins:  513\n",
            "timebins:  4688\n",
            "freqbins:  513\n",
            "timebins:  7475\n",
            "freqbins:  513\n",
            "timebins:  5706\n",
            "freqbins:  513\n"
          ]
        },
        {
          "output_type": "stream",
          "name": "stderr",
          "text": [
            "/usr/local/lib/python3.7/dist-packages/ipykernel_launcher.py:55: WavFileWarning: Reached EOF prematurely; finished at 1048576 bytes, expected 1048584 bytes from header.\n"
          ]
        },
        {
          "output_type": "stream",
          "name": "stdout",
          "text": [
            "timebins:  1024\n",
            "freqbins:  513\n"
          ]
        },
        {
          "output_type": "stream",
          "name": "stderr",
          "text": [
            "/usr/local/lib/python3.7/dist-packages/ipykernel_launcher.py:55: WavFileWarning: Reached EOF prematurely; finished at 4063232 bytes, expected 4063240 bytes from header.\n"
          ]
        },
        {
          "output_type": "stream",
          "name": "stdout",
          "text": [
            "timebins:  3968\n",
            "freqbins:  513\n",
            "timebins:  4688\n",
            "freqbins:  513\n",
            "timebins:  4688\n",
            "freqbins:  513\n",
            "timebins:  4688\n",
            "freqbins:  513\n",
            "timebins:  4688\n",
            "freqbins:  513\n",
            "timebins:  4688\n",
            "freqbins:  513\n",
            "timebins:  4688\n",
            "freqbins:  513\n",
            "timebins:  4688\n",
            "freqbins:  513\n",
            "timebins:  4688\n",
            "freqbins:  513\n",
            "timebins:  4688\n",
            "freqbins:  513\n",
            "timebins:  2301\n",
            "freqbins:  513\n",
            "timebins:  1460\n",
            "freqbins:  513\n",
            "timebins:  1935\n",
            "freqbins:  513\n",
            "timebins:  2080\n",
            "freqbins:  513\n",
            "timebins:  4883\n",
            "freqbins:  513\n",
            "timebins:  4883\n",
            "freqbins:  513\n",
            "timebins:  4883\n",
            "freqbins:  513\n",
            "timebins:  3553\n",
            "freqbins:  513\n",
            "timebins:  1307\n",
            "freqbins:  513\n",
            "timebins:  855\n",
            "freqbins:  513\n",
            "timebins:  1483\n",
            "freqbins:  513\n",
            "timebins:  2368\n",
            "freqbins:  513\n",
            "timebins:  598\n",
            "freqbins:  513\n",
            "timebins:  1235\n",
            "freqbins:  513\n",
            "timebins:  674\n",
            "freqbins:  513\n",
            "timebins:  1794\n",
            "freqbins:  513\n",
            "timebins:  1822\n",
            "freqbins:  513\n",
            "timebins:  6500\n",
            "freqbins:  513\n",
            "timebins:  4386\n",
            "freqbins:  513\n",
            "timebins:  3718\n",
            "freqbins:  513\n"
          ]
        },
        {
          "output_type": "stream",
          "name": "stderr",
          "text": [
            "/usr/local/lib/python3.7/dist-packages/ipykernel_launcher.py:55: WavFileWarning: Reached EOF prematurely; finished at 767989 bytes, expected 767997 bytes from header.\n"
          ]
        },
        {
          "output_type": "stream",
          "name": "stdout",
          "text": [
            "timebins:  750\n",
            "freqbins:  513\n"
          ]
        },
        {
          "output_type": "stream",
          "name": "stderr",
          "text": [
            "/usr/local/lib/python3.7/dist-packages/ipykernel_launcher.py:55: WavFileWarning: Reached EOF prematurely; finished at 488045 bytes, expected 488053 bytes from header.\n"
          ]
        },
        {
          "output_type": "stream",
          "name": "stdout",
          "text": [
            "timebins:  474\n",
            "freqbins:  513\n"
          ]
        },
        {
          "output_type": "stream",
          "name": "stderr",
          "text": [
            "/usr/local/lib/python3.7/dist-packages/ipykernel_launcher.py:55: WavFileWarning: Reached EOF prematurely; finished at 1261367 bytes, expected 1261375 bytes from header.\n"
          ]
        },
        {
          "output_type": "stream",
          "name": "stdout",
          "text": [
            "timebins:  1230\n",
            "freqbins:  513\n",
            "timebins:  4688\n",
            "freqbins:  513\n",
            "timebins:  4688\n",
            "freqbins:  513\n",
            "timebins:  4688\n",
            "freqbins:  513\n",
            "timebins:  4688\n",
            "freqbins:  513\n",
            "timebins:  4688\n",
            "freqbins:  513\n",
            "timebins:  8250\n",
            "freqbins:  513\n",
            "timebins:  4688\n",
            "freqbins:  513\n",
            "timebins:  4688\n",
            "freqbins:  513\n",
            "timebins:  6375\n",
            "freqbins:  513\n",
            "timebins:  4688\n",
            "freqbins:  513\n",
            "timebins:  4688\n",
            "freqbins:  513\n",
            "timebins:  4688\n",
            "freqbins:  513\n",
            "timebins:  4688\n",
            "freqbins:  513\n",
            "timebins:  4688\n",
            "freqbins:  513\n",
            "timebins:  4688\n",
            "freqbins:  513\n",
            "timebins:  4688\n",
            "freqbins:  513\n",
            "timebins:  10917\n",
            "freqbins:  513\n",
            "timebins:  10419\n",
            "freqbins:  513\n",
            "timebins:  9919\n",
            "freqbins:  513\n",
            "timebins:  5237\n",
            "freqbins:  513\n",
            "timebins:  14088\n",
            "freqbins:  513\n",
            "timebins:  13629\n",
            "freqbins:  513\n",
            "timebins:  13908\n",
            "freqbins:  513\n",
            "timebins:  12088\n",
            "freqbins:  513\n",
            "timebins:  9760\n",
            "freqbins:  513\n",
            "timebins:  5936\n",
            "freqbins:  513\n",
            "timebins:  2176\n",
            "freqbins:  513\n",
            "timebins:  9760\n",
            "freqbins:  513\n",
            "timebins:  2304\n",
            "freqbins:  513\n",
            "timebins:  2304\n",
            "freqbins:  513\n",
            "timebins:  2304\n",
            "freqbins:  513\n",
            "timebins:  2560\n",
            "freqbins:  513\n",
            "timebins:  2304\n",
            "freqbins:  513\n",
            "skipped: /content/drive/My Drive/Colab Notebooks/Deep Learning/ChiroVox_Bat_Data/hipposideros_785/armigerTerasensis_32/A002716_THOLEIAYRO.wav\n",
            "skipped: /content/drive/My Drive/Colab Notebooks/Deep Learning/ChiroVox_Bat_Data/hipposideros_785/armigerTerasensis_32/A002717_VLHUSSHWGJ.wav\n",
            "timebins:  3328\n",
            "freqbins:  513\n"
          ]
        },
        {
          "output_type": "stream",
          "name": "stderr",
          "text": [
            "/usr/local/lib/python3.7/dist-packages/ipykernel_launcher.py:55: WavFileWarning: Reached EOF prematurely; finished at 4194304 bytes, expected 4194312 bytes from header.\n"
          ]
        },
        {
          "output_type": "stream",
          "name": "stdout",
          "text": [
            "timebins:  4096\n",
            "freqbins:  513\n",
            "timebins:  2304\n",
            "freqbins:  513\n",
            "timebins:  4096\n",
            "freqbins:  513\n",
            "timebins:  2304\n",
            "freqbins:  513\n",
            "timebins:  2560\n",
            "freqbins:  513\n",
            "skipped: /content/drive/My Drive/Colab Notebooks/Deep Learning/ChiroVox_Bat_Data/hipposideros_785/armigerTerasensis_32/A002724_KETBCPCEGD.wav\n",
            "timebins:  2304\n",
            "freqbins:  513\n",
            "timebins:  4096\n",
            "freqbins:  513\n",
            "timebins:  2304\n",
            "freqbins:  513\n",
            "timebins:  2304\n",
            "freqbins:  513\n",
            "timebins:  2304\n",
            "freqbins:  513\n",
            "timebins:  2304\n",
            "freqbins:  513\n",
            "timebins:  4096\n",
            "freqbins:  513\n",
            "timebins:  2304\n",
            "freqbins:  513\n",
            "timebins:  2304\n",
            "freqbins:  513\n",
            "timebins:  2560\n",
            "freqbins:  513\n",
            "timebins:  3328\n",
            "freqbins:  513\n"
          ]
        },
        {
          "output_type": "stream",
          "name": "stderr",
          "text": [
            "/usr/local/lib/python3.7/dist-packages/ipykernel_launcher.py:55: WavFileWarning: Reached EOF prematurely; finished at 5047159 bytes, expected 5047167 bytes from header.\n"
          ]
        },
        {
          "output_type": "stream",
          "name": "stdout",
          "text": [
            "timebins:  4929\n",
            "freqbins:  513\n"
          ]
        },
        {
          "output_type": "stream",
          "name": "stderr",
          "text": [
            "/usr/local/lib/python3.7/dist-packages/ipykernel_launcher.py:55: WavFileWarning: Reached EOF prematurely; finished at 5058087 bytes, expected 5058095 bytes from header.\n"
          ]
        },
        {
          "output_type": "stream",
          "name": "stdout",
          "text": [
            "timebins:  4939\n",
            "freqbins:  513\n"
          ]
        },
        {
          "output_type": "stream",
          "name": "stderr",
          "text": [
            "/usr/local/lib/python3.7/dist-packages/ipykernel_launcher.py:55: WavFileWarning: Reached EOF prematurely; finished at 3926546 bytes, expected 3926554 bytes from header.\n"
          ]
        },
        {
          "output_type": "stream",
          "name": "stdout",
          "text": [
            "timebins:  3834\n",
            "freqbins:  513\n",
            "timebins:  2557\n",
            "freqbins:  513\n",
            "timebins:  1595\n",
            "freqbins:  513\n",
            "timebins:  2704\n",
            "freqbins:  513\n",
            "timebins:  2662\n",
            "freqbins:  513\n",
            "timebins:  782\n",
            "freqbins:  513\n",
            "timebins:  810\n",
            "freqbins:  513\n",
            "timebins:  845\n",
            "freqbins:  513\n",
            "timebins:  803\n",
            "freqbins:  513\n",
            "timebins:  3888\n",
            "freqbins:  513\n",
            "timebins:  5751\n",
            "freqbins:  513\n"
          ]
        },
        {
          "output_type": "stream",
          "name": "stderr",
          "text": [
            "/usr/local/lib/python3.7/dist-packages/ipykernel_launcher.py:55: WavFileWarning: Reached EOF prematurely; finished at 15335424 bytes, expected 15335432 bytes from header.\n"
          ]
        },
        {
          "output_type": "stream",
          "name": "stdout",
          "text": [
            "timebins:  14976\n",
            "freqbins:  513\n"
          ]
        },
        {
          "output_type": "stream",
          "name": "stderr",
          "text": [
            "/usr/local/lib/python3.7/dist-packages/ipykernel_launcher.py:55: WavFileWarning: Reached EOF prematurely; finished at 20054016 bytes, expected 20054024 bytes from header.\n"
          ]
        },
        {
          "output_type": "stream",
          "name": "stdout",
          "text": [
            "timebins:  19584\n",
            "freqbins:  513\n",
            "timebins:  5632\n",
            "freqbins:  513\n",
            "timebins:  14291\n",
            "freqbins:  513\n",
            "timebins:  2390\n",
            "freqbins:  513\n",
            "timebins:  2720\n",
            "freqbins:  513\n",
            "timebins:  2283\n",
            "freqbins:  513\n",
            "timebins:  4763\n",
            "freqbins:  513\n",
            "timebins:  1484\n",
            "freqbins:  513\n",
            "timebins:  1233\n",
            "freqbins:  513\n",
            "timebins:  1722\n",
            "freqbins:  513\n",
            "timebins:  1226\n",
            "freqbins:  513\n",
            "timebins:  1455\n",
            "freqbins:  513\n",
            "timebins:  2885\n",
            "freqbins:  513\n",
            "timebins:  10713\n",
            "freqbins:  513\n",
            "timebins:  5085\n",
            "freqbins:  513\n",
            "timebins:  5201\n",
            "freqbins:  513\n",
            "timebins:  12627\n",
            "freqbins:  513\n",
            "timebins:  8917\n",
            "freqbins:  513\n",
            "timebins:  6790\n",
            "freqbins:  513\n",
            "timebins:  2567\n",
            "freqbins:  513\n",
            "timebins:  2218\n",
            "freqbins:  513\n",
            "timebins:  3582\n",
            "freqbins:  513\n",
            "timebins:  3582\n",
            "freqbins:  513\n",
            "timebins:  1635\n",
            "freqbins:  513\n",
            "timebins:  2943\n",
            "freqbins:  513\n",
            "timebins:  1609\n",
            "freqbins:  513\n",
            "timebins:  2532\n",
            "freqbins:  513\n",
            "timebins:  2697\n",
            "freqbins:  513\n",
            "timebins:  20866\n",
            "freqbins:  513\n",
            "timebins:  2238\n",
            "freqbins:  513\n",
            "timebins:  2225\n",
            "freqbins:  513\n",
            "timebins:  20866\n",
            "freqbins:  513\n",
            "timebins:  4923\n",
            "freqbins:  513\n",
            "timebins:  1682\n",
            "freqbins:  513\n",
            "timebins:  7899\n",
            "freqbins:  513\n",
            "timebins:  2348\n",
            "freqbins:  513\n",
            "timebins:  4371\n",
            "freqbins:  513\n",
            "timebins:  2403\n",
            "freqbins:  513\n",
            "timebins:  9943\n",
            "freqbins:  513\n",
            "timebins:  9660\n",
            "freqbins:  513\n",
            "timebins:  7589\n",
            "freqbins:  513\n",
            "timebins:  5098\n",
            "freqbins:  513\n",
            "timebins:  11727\n",
            "freqbins:  513\n",
            "timebins:  9167\n",
            "freqbins:  513\n",
            "timebins:  11328\n",
            "freqbins:  513\n",
            "timebins:  4098\n",
            "freqbins:  513\n",
            "timebins:  7820\n",
            "freqbins:  513\n",
            "timebins:  4787\n",
            "freqbins:  513\n",
            "timebins:  2842\n",
            "freqbins:  513\n",
            "timebins:  1851\n",
            "freqbins:  513\n",
            "timebins:  3261\n",
            "freqbins:  513\n",
            "timebins:  5040\n",
            "freqbins:  513\n",
            "timebins:  7125\n",
            "freqbins:  513\n",
            "timebins:  1541\n",
            "freqbins:  513\n",
            "timebins:  5905\n",
            "freqbins:  513\n",
            "timebins:  4144\n",
            "freqbins:  513\n",
            "timebins:  6536\n",
            "freqbins:  513\n",
            "timebins:  2268\n",
            "freqbins:  513\n",
            "timebins:  5694\n",
            "freqbins:  513\n",
            "timebins:  514\n",
            "freqbins:  513\n",
            "timebins:  4703\n",
            "freqbins:  513\n",
            "timebins:  2634\n",
            "freqbins:  513\n",
            "timebins:  5187\n",
            "freqbins:  513\n",
            "timebins:  3173\n",
            "freqbins:  513\n",
            "timebins:  7114\n",
            "freqbins:  513\n",
            "timebins:  3894\n",
            "freqbins:  513\n",
            "timebins:  3043\n",
            "freqbins:  513\n",
            "timebins:  4045\n",
            "freqbins:  513\n",
            "timebins:  14896\n",
            "freqbins:  513\n",
            "timebins:  2899\n",
            "freqbins:  513\n",
            "timebins:  1676\n",
            "freqbins:  513\n",
            "timebins:  2440\n",
            "freqbins:  513\n",
            "timebins:  2078\n",
            "freqbins:  513\n",
            "timebins:  7558\n",
            "freqbins:  513\n",
            "timebins:  3795\n",
            "freqbins:  513\n",
            "timebins:  5706\n",
            "freqbins:  513\n",
            "timebins:  8042\n",
            "freqbins:  513\n",
            "timebins:  8532\n",
            "freqbins:  513\n",
            "timebins:  7517\n",
            "freqbins:  513\n",
            "timebins:  2644\n",
            "freqbins:  513\n",
            "timebins:  11198\n",
            "freqbins:  513\n",
            "timebins:  1283\n",
            "freqbins:  513\n",
            "timebins:  1604\n",
            "freqbins:  513\n",
            "timebins:  17647\n",
            "freqbins:  513\n",
            "timebins:  1923\n",
            "freqbins:  513\n",
            "timebins:  1203\n",
            "freqbins:  513\n",
            "timebins:  1019\n",
            "freqbins:  513\n",
            "timebins:  8063\n",
            "freqbins:  513\n",
            "timebins:  3685\n",
            "freqbins:  513\n",
            "timebins:  6376\n",
            "freqbins:  513\n",
            "timebins:  1831\n",
            "freqbins:  513\n",
            "timebins:  2330\n",
            "freqbins:  513\n",
            "timebins:  914\n",
            "freqbins:  513\n",
            "timebins:  796\n",
            "freqbins:  513\n",
            "timebins:  820\n",
            "freqbins:  513\n",
            "skipped: /content/drive/My Drive/Colab Notebooks/Deep Learning/ChiroVox_Bat_Data/hipposideros_785/cervinus_157/A000532_PNYIMBJQMG.wav\n",
            "timebins:  2369\n",
            "freqbins:  513\n",
            "timebins:  6250\n",
            "freqbins:  513\n",
            "timebins:  6796\n",
            "freqbins:  513\n",
            "timebins:  6202\n",
            "freqbins:  513\n",
            "timebins:  9280\n",
            "freqbins:  513\n",
            "timebins:  5717\n",
            "freqbins:  513\n",
            "timebins:  3390\n",
            "freqbins:  513\n",
            "timebins:  11295\n",
            "freqbins:  513\n",
            "timebins:  9635\n",
            "freqbins:  513\n",
            "timebins:  13068\n",
            "freqbins:  513\n",
            "timebins:  5090\n",
            "freqbins:  513\n",
            "timebins:  3213\n",
            "freqbins:  513\n",
            "timebins:  4529\n",
            "freqbins:  513\n",
            "timebins:  3590\n",
            "freqbins:  513\n",
            "timebins:  4341\n",
            "freqbins:  513\n",
            "timebins:  3865\n",
            "freqbins:  513\n",
            "timebins:  4041\n",
            "freqbins:  513\n",
            "timebins:  6444\n",
            "freqbins:  513\n",
            "timebins:  5052\n",
            "freqbins:  513\n",
            "timebins:  4499\n",
            "freqbins:  513\n",
            "timebins:  9408\n",
            "freqbins:  513\n",
            "timebins:  5449\n",
            "freqbins:  513\n",
            "timebins:  3889\n",
            "freqbins:  513\n",
            "timebins:  4266\n",
            "freqbins:  513\n",
            "timebins:  2989\n",
            "freqbins:  513\n",
            "timebins:  3110\n",
            "freqbins:  513\n",
            "timebins:  2557\n",
            "freqbins:  513\n",
            "timebins:  2611\n",
            "freqbins:  513\n",
            "timebins:  7196\n",
            "freqbins:  513\n",
            "timebins:  11436\n",
            "freqbins:  513\n",
            "timebins:  3277\n",
            "freqbins:  513\n",
            "skipped: /content/drive/My Drive/Colab Notebooks/Deep Learning/ChiroVox_Bat_Data/hipposideros_785/cervinus_157/A000957_PDBKXTJPMP.wav\n",
            "timebins:  5595\n",
            "freqbins:  513\n",
            "timebins:  3836\n",
            "freqbins:  513\n",
            "timebins:  22072\n",
            "freqbins:  513\n",
            "timebins:  7500\n",
            "freqbins:  513\n",
            "timebins:  6793\n",
            "freqbins:  513\n",
            "timebins:  7500\n",
            "freqbins:  513\n",
            "timebins:  7500\n",
            "freqbins:  513\n",
            "timebins:  7500\n",
            "freqbins:  513\n",
            "timebins:  7500\n",
            "freqbins:  513\n",
            "timebins:  9903\n",
            "freqbins:  513\n",
            "timebins:  6000\n",
            "freqbins:  513\n",
            "timebins:  3750\n",
            "freqbins:  513\n",
            "timebins:  9405\n",
            "freqbins:  513\n",
            "timebins:  3750\n",
            "freqbins:  513\n",
            "timebins:  3750\n",
            "freqbins:  513\n",
            "timebins:  2361\n",
            "freqbins:  513\n",
            "timebins:  7500\n",
            "freqbins:  513\n",
            "timebins:  1311\n",
            "freqbins:  513\n",
            "timebins:  492\n",
            "freqbins:  513\n",
            "timebins:  2661\n",
            "freqbins:  513\n",
            "timebins:  599\n",
            "freqbins:  513\n",
            "timebins:  1086\n",
            "freqbins:  513\n",
            "timebins:  583\n",
            "freqbins:  513\n",
            "timebins:  5000\n",
            "freqbins:  513\n",
            "timebins:  3869\n",
            "freqbins:  513\n",
            "timebins:  7500\n",
            "freqbins:  513\n",
            "timebins:  4333\n",
            "freqbins:  513\n",
            "skipped: /content/drive/My Drive/Colab Notebooks/Deep Learning/ChiroVox_Bat_Data/hipposideros_785/cervinus_157/A003788_NKZTWNSSLM.wav\n",
            "timebins:  3956\n",
            "freqbins:  513\n",
            "timebins:  3859\n",
            "freqbins:  513\n",
            "skipped: /content/drive/My Drive/Colab Notebooks/Deep Learning/ChiroVox_Bat_Data/hipposideros_785/cervinus_157/A003795_NFONHKSRBY.wav\n",
            "timebins:  26288\n",
            "freqbins:  513\n",
            "timebins:  17792\n",
            "freqbins:  513\n",
            "timebins:  23648\n",
            "freqbins:  513\n",
            "timebins:  17072\n",
            "freqbins:  513\n",
            "timebins:  50464\n",
            "freqbins:  513\n",
            "timebins:  21136\n",
            "freqbins:  513\n",
            "timebins:  20864\n",
            "freqbins:  513\n",
            "timebins:  28800\n",
            "freqbins:  513\n",
            "timebins:  18480\n",
            "freqbins:  513\n",
            "timebins:  24128\n",
            "freqbins:  513\n",
            "timebins:  31360\n",
            "freqbins:  513\n",
            "timebins:  29392\n",
            "freqbins:  513\n",
            "timebins:  20016\n",
            "freqbins:  513\n",
            "timebins:  18320\n",
            "freqbins:  513\n",
            "timebins:  23984\n",
            "freqbins:  513\n",
            "timebins:  26672\n",
            "freqbins:  513\n",
            "timebins:  33776\n",
            "freqbins:  513\n",
            "timebins:  22960\n",
            "freqbins:  513\n",
            "timebins:  21392\n",
            "freqbins:  513\n",
            "timebins:  32784\n",
            "freqbins:  513\n",
            "timebins:  40000\n",
            "freqbins:  513\n",
            "timebins:  27232\n",
            "freqbins:  513\n",
            "timebins:  26784\n",
            "freqbins:  513\n",
            "timebins:  44592\n",
            "freqbins:  513\n",
            "timebins:  71248\n",
            "freqbins:  513\n",
            "timebins:  68928\n",
            "freqbins:  513\n",
            "timebins:  36384\n",
            "freqbins:  513\n",
            "timebins:  32704\n",
            "freqbins:  513\n",
            "timebins:  23984\n",
            "freqbins:  513\n",
            "timebins:  51344\n",
            "freqbins:  513\n",
            "timebins:  45424\n",
            "freqbins:  513\n",
            "timebins:  39488\n",
            "freqbins:  513\n",
            "timebins:  91296\n",
            "freqbins:  513\n",
            "timebins:  43568\n",
            "freqbins:  513\n",
            "timebins:  31696\n",
            "freqbins:  513\n",
            "timebins:  32992\n",
            "freqbins:  513\n",
            "timebins:  25200\n",
            "freqbins:  513\n",
            "timebins:  35824\n",
            "freqbins:  513\n",
            "timebins:  37440\n",
            "freqbins:  513\n",
            "timebins:  127152\n",
            "freqbins:  513\n",
            "timebins:  96816\n",
            "freqbins:  513\n",
            "timebins:  34896\n",
            "freqbins:  513\n",
            "timebins:  41327\n",
            "freqbins:  513\n",
            "timebins:  44928\n",
            "freqbins:  513\n",
            "timebins:  32128\n",
            "freqbins:  513\n",
            "timebins:  36272\n",
            "freqbins:  513\n",
            "skipped: /content/drive/My Drive/Colab Notebooks/Deep Learning/ChiroVox_Bat_Data/hipposideros_785/cervinus_157/A003899_EGNWNFXFVF.wav\n",
            "timebins:  58832\n",
            "freqbins:  513\n",
            "timebins:  68608\n",
            "freqbins:  513\n",
            "timebins:  82464\n",
            "freqbins:  513\n",
            "skipped: /content/drive/My Drive/Colab Notebooks/Deep Learning/ChiroVox_Bat_Data/hipposideros_785/cervinus_157/A003904_XTAKZXFQQF.wav\n",
            "skipped: /content/drive/My Drive/Colab Notebooks/Deep Learning/ChiroVox_Bat_Data/hipposideros_785/cervinus_157/A003897_LXAXYVNBPF.wav\n",
            "timebins:  179776\n",
            "freqbins:  513\n",
            "timebins:  58594\n",
            "freqbins:  513\n",
            "timebins:  58594\n",
            "freqbins:  513\n",
            "timebins:  58594\n",
            "freqbins:  513\n",
            "timebins:  51424\n",
            "freqbins:  513\n",
            "timebins:  4540\n",
            "freqbins:  513\n",
            "skipped: /content/drive/My Drive/Colab Notebooks/Deep Learning/ChiroVox_Bat_Data/hipposideros_785/cervinus_157/A003908_TRNIBTAJWO.wav\n",
            "skipped: /content/drive/My Drive/Colab Notebooks/Deep Learning/ChiroVox_Bat_Data/hipposideros_785/cervinus_157/A003907_QZVQLTIHLP.wav\n",
            "timebins:  23163\n",
            "freqbins:  513\n",
            "timebins:  3361\n",
            "freqbins:  513\n",
            "timebins:  4890\n",
            "freqbins:  513\n",
            "timebins:  3962\n",
            "freqbins:  513\n",
            "timebins:  1715\n",
            "freqbins:  513\n",
            "timebins:  11250\n",
            "freqbins:  513\n",
            "timebins:  56992\n",
            "freqbins:  513\n",
            "timebins:  7500\n",
            "freqbins:  513\n",
            "timebins:  7500\n",
            "freqbins:  513\n",
            "timebins:  7500\n",
            "freqbins:  513\n",
            "timebins:  7500\n",
            "freqbins:  513\n",
            "timebins:  7500\n",
            "freqbins:  513\n",
            "timebins:  6881\n",
            "freqbins:  513\n",
            "timebins:  3810\n",
            "freqbins:  513\n",
            "timebins:  96\n",
            "freqbins:  513\n",
            "timebins:  7376\n",
            "freqbins:  513\n"
          ]
        },
        {
          "output_type": "stream",
          "name": "stderr",
          "text": [
            "/usr/local/lib/python3.7/dist-packages/ipykernel_launcher.py:55: WavFileWarning: Reached EOF prematurely; finished at 934150 bytes, expected 934158 bytes from header.\n"
          ]
        },
        {
          "output_type": "stream",
          "name": "stdout",
          "text": [
            "timebins:  912\n",
            "freqbins:  513\n"
          ]
        },
        {
          "output_type": "stream",
          "name": "stderr",
          "text": [
            "/usr/local/lib/python3.7/dist-packages/ipykernel_launcher.py:55: WavFileWarning: Reached EOF prematurely; finished at 216247 bytes, expected 216255 bytes from header.\n"
          ]
        },
        {
          "output_type": "stream",
          "name": "stdout",
          "text": [
            "timebins:  211\n",
            "freqbins:  513\n"
          ]
        },
        {
          "output_type": "stream",
          "name": "stderr",
          "text": [
            "/usr/local/lib/python3.7/dist-packages/ipykernel_launcher.py:55: WavFileWarning: Reached EOF prematurely; finished at 1328114 bytes, expected 1328122 bytes from header.\n"
          ]
        },
        {
          "output_type": "stream",
          "name": "stdout",
          "text": [
            "timebins:  1297\n",
            "freqbins:  513\n"
          ]
        },
        {
          "output_type": "stream",
          "name": "stderr",
          "text": [
            "/usr/local/lib/python3.7/dist-packages/ipykernel_launcher.py:55: WavFileWarning: Reached EOF prematurely; finished at 901651 bytes, expected 901659 bytes from header.\n"
          ]
        },
        {
          "output_type": "stream",
          "name": "stdout",
          "text": [
            "timebins:  881\n",
            "freqbins:  513\n"
          ]
        },
        {
          "output_type": "stream",
          "name": "stderr",
          "text": [
            "/usr/local/lib/python3.7/dist-packages/ipykernel_launcher.py:55: WavFileWarning: Reached EOF prematurely; finished at 364231 bytes, expected 364239 bytes from header.\n"
          ]
        },
        {
          "output_type": "stream",
          "name": "stdout",
          "text": [
            "timebins:  356\n",
            "freqbins:  513\n"
          ]
        },
        {
          "output_type": "stream",
          "name": "stderr",
          "text": [
            "/usr/local/lib/python3.7/dist-packages/ipykernel_launcher.py:55: WavFileWarning: Reached EOF prematurely; finished at 2337825 bytes, expected 2337833 bytes from header.\n"
          ]
        },
        {
          "output_type": "stream",
          "name": "stdout",
          "text": [
            "timebins:  2283\n",
            "freqbins:  513\n"
          ]
        },
        {
          "output_type": "stream",
          "name": "stderr",
          "text": [
            "/usr/local/lib/python3.7/dist-packages/ipykernel_launcher.py:55: WavFileWarning: Reached EOF prematurely; finished at 2337827 bytes, expected 2337835 bytes from header.\n"
          ]
        },
        {
          "output_type": "stream",
          "name": "stdout",
          "text": [
            "timebins:  2283\n",
            "freqbins:  513\n"
          ]
        },
        {
          "output_type": "stream",
          "name": "stderr",
          "text": [
            "/usr/local/lib/python3.7/dist-packages/ipykernel_launcher.py:55: WavFileWarning: Reached EOF prematurely; finished at 1199929 bytes, expected 1199937 bytes from header.\n"
          ]
        },
        {
          "output_type": "stream",
          "name": "stdout",
          "text": [
            "timebins:  1172\n",
            "freqbins:  513\n"
          ]
        },
        {
          "output_type": "stream",
          "name": "stderr",
          "text": [
            "/usr/local/lib/python3.7/dist-packages/ipykernel_launcher.py:55: WavFileWarning: Reached EOF prematurely; finished at 5010739 bytes, expected 5010747 bytes from header.\n"
          ]
        },
        {
          "output_type": "stream",
          "name": "stdout",
          "text": [
            "timebins:  4893\n",
            "freqbins:  513\n"
          ]
        },
        {
          "output_type": "stream",
          "name": "stderr",
          "text": [
            "/usr/local/lib/python3.7/dist-packages/ipykernel_launcher.py:55: WavFileWarning: Reached EOF prematurely; finished at 1451805 bytes, expected 1451813 bytes from header.\n"
          ]
        },
        {
          "output_type": "stream",
          "name": "stdout",
          "text": [
            "timebins:  1418\n",
            "freqbins:  513\n"
          ]
        },
        {
          "output_type": "stream",
          "name": "stderr",
          "text": [
            "/usr/local/lib/python3.7/dist-packages/ipykernel_launcher.py:55: WavFileWarning: Reached EOF prematurely; finished at 991763 bytes, expected 991771 bytes from header.\n"
          ]
        },
        {
          "output_type": "stream",
          "name": "stdout",
          "text": [
            "timebins:  969\n",
            "freqbins:  513\n"
          ]
        },
        {
          "output_type": "stream",
          "name": "stderr",
          "text": [
            "/usr/local/lib/python3.7/dist-packages/ipykernel_launcher.py:55: WavFileWarning: Reached EOF prematurely; finished at 991767 bytes, expected 991775 bytes from header.\n"
          ]
        },
        {
          "output_type": "stream",
          "name": "stdout",
          "text": [
            "timebins:  969\n",
            "freqbins:  513\n",
            "timebins:  1139\n",
            "freqbins:  513\n",
            "timebins:  538\n",
            "freqbins:  513\n",
            "timebins:  2597\n",
            "freqbins:  513\n",
            "timebins:  1693\n",
            "freqbins:  513\n",
            "timebins:  7500\n",
            "freqbins:  513\n",
            "timebins:  7500\n",
            "freqbins:  513\n"
          ]
        },
        {
          "output_type": "stream",
          "name": "stderr",
          "text": [
            "/usr/local/lib/python3.7/dist-packages/ipykernel_launcher.py:55: WavFileWarning: Reached EOF prematurely; finished at 780101 bytes, expected 780109 bytes from header.\n"
          ]
        },
        {
          "output_type": "stream",
          "name": "stdout",
          "text": [
            "timebins:  762\n",
            "freqbins:  513\n"
          ]
        },
        {
          "output_type": "stream",
          "name": "stderr",
          "text": [
            "/usr/local/lib/python3.7/dist-packages/ipykernel_launcher.py:55: WavFileWarning: Reached EOF prematurely; finished at 901649 bytes, expected 901657 bytes from header.\n"
          ]
        },
        {
          "output_type": "stream",
          "name": "stdout",
          "text": [
            "timebins:  881\n",
            "freqbins:  513\n",
            "timebins:  881\n",
            "freqbins:  513\n",
            "timebins:  881\n",
            "freqbins:  513\n"
          ]
        },
        {
          "output_type": "stream",
          "name": "stderr",
          "text": [
            "/usr/local/lib/python3.7/dist-packages/ipykernel_launcher.py:55: WavFileWarning: Reached EOF prematurely; finished at 2260847 bytes, expected 2260855 bytes from header.\n"
          ]
        },
        {
          "output_type": "stream",
          "name": "stdout",
          "text": [
            "timebins:  2206\n",
            "freqbins:  513\n"
          ]
        },
        {
          "output_type": "stream",
          "name": "stderr",
          "text": [
            "/usr/local/lib/python3.7/dist-packages/ipykernel_launcher.py:55: WavFileWarning: Reached EOF prematurely; finished at 2260856 bytes, expected 2260864 bytes from header.\n"
          ]
        },
        {
          "output_type": "stream",
          "name": "stdout",
          "text": [
            "timebins:  2206\n",
            "freqbins:  513\n"
          ]
        },
        {
          "output_type": "stream",
          "name": "stderr",
          "text": [
            "/usr/local/lib/python3.7/dist-packages/ipykernel_launcher.py:55: WavFileWarning: Reached EOF prematurely; finished at 474826 bytes, expected 474834 bytes from header.\n"
          ]
        },
        {
          "output_type": "stream",
          "name": "stdout",
          "text": [
            "timebins:  461\n",
            "freqbins:  513\n"
          ]
        },
        {
          "output_type": "stream",
          "name": "stderr",
          "text": [
            "/usr/local/lib/python3.7/dist-packages/ipykernel_launcher.py:55: WavFileWarning: Reached EOF prematurely; finished at 510666 bytes, expected 510674 bytes from header.\n"
          ]
        },
        {
          "output_type": "stream",
          "name": "stdout",
          "text": [
            "timebins:  496\n",
            "freqbins:  513\n",
            "timebins:  17915\n",
            "freqbins:  513\n",
            "timebins:  28459\n",
            "freqbins:  513\n",
            "timebins:  521\n",
            "freqbins:  513\n",
            "timebins:  687\n",
            "freqbins:  513\n",
            "timebins:  281\n",
            "freqbins:  513\n"
          ]
        },
        {
          "output_type": "stream",
          "name": "stderr",
          "text": [
            "/usr/local/lib/python3.7/dist-packages/ipykernel_launcher.py:55: WavFileWarning: Reached EOF prematurely; finished at 677539 bytes, expected 677547 bytes from header.\n"
          ]
        },
        {
          "output_type": "stream",
          "name": "stdout",
          "text": [
            "timebins:  662\n",
            "freqbins:  513\n"
          ]
        },
        {
          "output_type": "stream",
          "name": "stderr",
          "text": [
            "/usr/local/lib/python3.7/dist-packages/ipykernel_launcher.py:55: WavFileWarning: Reached EOF prematurely; finished at 1535979 bytes, expected 1535987 bytes from header.\n"
          ]
        },
        {
          "output_type": "stream",
          "name": "stdout",
          "text": [
            "timebins:  1500\n",
            "freqbins:  513\n"
          ]
        },
        {
          "output_type": "stream",
          "name": "stderr",
          "text": [
            "/usr/local/lib/python3.7/dist-packages/ipykernel_launcher.py:55: WavFileWarning: Reached EOF prematurely; finished at 795433 bytes, expected 795441 bytes from header.\n"
          ]
        },
        {
          "output_type": "stream",
          "name": "stdout",
          "text": [
            "timebins:  777\n",
            "freqbins:  513\n",
            "timebins:  16245\n",
            "freqbins:  513\n"
          ]
        },
        {
          "output_type": "stream",
          "name": "stderr",
          "text": [
            "/usr/local/lib/python3.7/dist-packages/ipykernel_launcher.py:55: WavFileWarning: Reached EOF prematurely; finished at 1126830 bytes, expected 1126838 bytes from header.\n"
          ]
        },
        {
          "output_type": "stream",
          "name": "stdout",
          "text": [
            "timebins:  1098\n",
            "freqbins:  513\n",
            "timebins:  7500\n",
            "freqbins:  513\n",
            "timebins:  7500\n",
            "freqbins:  513\n",
            "timebins:  1418\n",
            "freqbins:  513\n",
            "timebins:  5653\n",
            "freqbins:  513\n",
            "timebins:  9766\n",
            "freqbins:  513\n",
            "timebins:  10147\n",
            "freqbins:  513\n",
            "timebins:  14227\n",
            "freqbins:  513\n",
            "timebins:  12840\n",
            "freqbins:  513\n",
            "timebins:  4689\n",
            "freqbins:  513\n",
            "timebins:  4688\n",
            "freqbins:  513\n",
            "timebins:  4688\n",
            "freqbins:  513\n",
            "timebins:  4688\n",
            "freqbins:  513\n",
            "timebins:  4688\n",
            "freqbins:  513\n",
            "timebins:  4688\n",
            "freqbins:  513\n",
            "timebins:  10706\n",
            "freqbins:  513\n",
            "timebins:  12896\n",
            "freqbins:  513\n",
            "timebins:  4075\n",
            "freqbins:  513\n",
            "timebins:  6390\n",
            "freqbins:  513\n",
            "timebins:  30286\n",
            "freqbins:  513\n",
            "timebins:  9248\n",
            "freqbins:  513\n",
            "timebins:  3721\n",
            "freqbins:  513\n",
            "timebins:  5211\n",
            "freqbins:  513\n",
            "timebins:  3744\n",
            "freqbins:  513\n",
            "timebins:  3439\n",
            "freqbins:  513\n",
            "timebins:  7525\n",
            "freqbins:  513\n",
            "timebins:  2712\n",
            "freqbins:  513\n",
            "skipped: /content/drive/My Drive/Colab Notebooks/Deep Learning/ChiroVox_Bat_Data/hipposideros_785/coxi_19/A003799_VAJSRHKUOA.wav\n",
            "timebins:  29520\n",
            "freqbins:  513\n",
            "timebins:  55984\n",
            "freqbins:  513\n",
            "timebins:  55376\n",
            "freqbins:  513\n",
            "timebins:  39584\n",
            "freqbins:  513\n",
            "timebins:  102112\n",
            "freqbins:  513\n",
            "skipped: /content/drive/My Drive/Colab Notebooks/Deep Learning/ChiroVox_Bat_Data/hipposideros_785/coxi_19/A003898_JPGAXHALGV.wav\n",
            "timebins:  7207\n",
            "freqbins:  513\n",
            "timebins:  19893\n",
            "freqbins:  513\n",
            "timebins:  7581\n",
            "freqbins:  513\n",
            "timebins:  7965\n",
            "freqbins:  513\n",
            "timebins:  51915\n",
            "freqbins:  513\n",
            "timebins:  2617\n",
            "freqbins:  513\n",
            "timebins:  13693\n",
            "freqbins:  513\n",
            "timebins:  2242\n",
            "freqbins:  513\n",
            "timebins:  14797\n",
            "freqbins:  513\n",
            "timebins:  25024\n",
            "freqbins:  513\n",
            "timebins:  23453\n",
            "freqbins:  513\n",
            "timebins:  94209\n",
            "freqbins:  513\n",
            "timebins:  4950\n",
            "freqbins:  513\n",
            "timebins:  19603\n",
            "freqbins:  513\n",
            "timebins:  31423\n",
            "freqbins:  513\n",
            "timebins:  25877\n",
            "freqbins:  513\n",
            "skipped: /content/drive/My Drive/Colab Notebooks/Deep Learning/ChiroVox_Bat_Data/hipposideros_785/diadema_40/A000991_ZFAWRFOTFR.wav\n",
            "timebins:  32447\n",
            "freqbins:  513\n",
            "skipped: /content/drive/My Drive/Colab Notebooks/Deep Learning/ChiroVox_Bat_Data/hipposideros_785/diadema_40/A001012_CDZJTCUFKS.wav\n",
            "skipped: /content/drive/My Drive/Colab Notebooks/Deep Learning/ChiroVox_Bat_Data/hipposideros_785/diadema_40/A000998_CZSVNNPMKO.wav\n",
            "timebins:  1810\n",
            "freqbins:  513\n",
            "timebins:  7031\n",
            "freqbins:  513\n",
            "timebins:  6790\n",
            "freqbins:  513\n",
            "timebins:  7500\n",
            "freqbins:  513\n",
            "timebins:  16183\n",
            "freqbins:  513\n",
            "timebins:  815\n",
            "freqbins:  513\n",
            "timebins:  30000\n",
            "freqbins:  513\n",
            "timebins:  706\n",
            "freqbins:  513\n",
            "timebins:  1270\n",
            "freqbins:  513\n",
            "timebins:  1522\n",
            "freqbins:  513\n",
            "timebins:  1913\n",
            "freqbins:  513\n",
            "timebins:  7500\n",
            "freqbins:  513\n",
            "timebins:  7500\n",
            "freqbins:  513\n",
            "timebins:  7500\n",
            "freqbins:  513\n",
            "timebins:  9919\n",
            "freqbins:  513\n",
            "timebins:  10894\n",
            "freqbins:  513\n",
            "timebins:  4780\n",
            "freqbins:  513\n",
            "timebins:  16143\n",
            "freqbins:  513\n",
            "timebins:  6781\n",
            "freqbins:  513\n",
            "timebins:  11250\n",
            "freqbins:  513\n",
            "timebins:  4279\n",
            "freqbins:  513\n",
            "skipped: /content/drive/My Drive/Colab Notebooks/Deep Learning/ChiroVox_Bat_Data/hipposideros_785/dyacorum_54/A000497_MOIYKACDYJ.wav\n",
            "timebins:  2845\n",
            "freqbins:  513\n",
            "timebins:  1176\n",
            "freqbins:  513\n",
            "timebins:  2944\n",
            "freqbins:  513\n",
            "timebins:  22300\n",
            "freqbins:  513\n",
            "timebins:  42728\n",
            "freqbins:  513\n",
            "timebins:  4185\n",
            "freqbins:  513\n",
            "timebins:  12753\n",
            "freqbins:  513\n",
            "timebins:  7841\n",
            "freqbins:  513\n",
            "timebins:  19345\n",
            "freqbins:  513\n",
            "timebins:  2855\n",
            "freqbins:  513\n",
            "timebins:  9387\n",
            "freqbins:  513\n",
            "timebins:  6102\n",
            "freqbins:  513\n",
            "timebins:  2051\n",
            "freqbins:  513\n",
            "timebins:  10839\n",
            "freqbins:  513\n",
            "timebins:  1807\n",
            "freqbins:  513\n",
            "timebins:  16108\n",
            "freqbins:  513\n",
            "timebins:  6490\n",
            "freqbins:  513\n",
            "timebins:  31664\n",
            "freqbins:  513\n",
            "timebins:  36720\n",
            "freqbins:  513\n",
            "timebins:  4733\n",
            "freqbins:  513\n",
            "timebins:  2685\n",
            "freqbins:  513\n",
            "timebins:  29904\n",
            "freqbins:  513\n",
            "skipped: /content/drive/My Drive/Colab Notebooks/Deep Learning/ChiroVox_Bat_Data/hipposideros_785/dyacorum_54/A000984_YAPIJFJXJA.wav\n",
            "timebins:  46528\n",
            "freqbins:  513\n",
            "timebins:  2780\n",
            "freqbins:  513\n",
            "timebins:  19604\n",
            "freqbins:  513\n",
            "timebins:  3768\n",
            "freqbins:  513\n",
            "timebins:  36576\n",
            "freqbins:  513\n",
            "timebins:  43504\n",
            "freqbins:  513\n",
            "timebins:  42848\n",
            "freqbins:  513\n",
            "timebins:  2391\n",
            "freqbins:  513\n",
            "timebins:  83744\n",
            "freqbins:  513\n",
            "timebins:  11965\n",
            "freqbins:  513\n",
            "timebins:  3750\n",
            "freqbins:  513\n",
            "timebins:  1715\n",
            "freqbins:  513\n",
            "timebins:  3750\n",
            "freqbins:  513\n",
            "timebins:  4903\n",
            "freqbins:  513\n",
            "timebins:  1407\n",
            "freqbins:  513\n",
            "timebins:  2153\n",
            "freqbins:  513\n",
            "timebins:  1482\n",
            "freqbins:  513\n",
            "timebins:  1004\n",
            "freqbins:  513\n",
            "timebins:  1163\n",
            "freqbins:  513\n",
            "timebins:  1043\n",
            "freqbins:  513\n",
            "timebins:  600\n",
            "freqbins:  513\n",
            "timebins:  870\n",
            "freqbins:  513\n",
            "skipped: /content/drive/My Drive/Colab Notebooks/Deep Learning/ChiroVox_Bat_Data/hipposideros_785/dyacorum_54/A003801_WTCAYMEDQK.wav\n",
            "timebins:  9461\n",
            "freqbins:  513\n",
            "skipped: /content/drive/My Drive/Colab Notebooks/Deep Learning/ChiroVox_Bat_Data/hipposideros_785/dyacorum_54/A003802_OFGAJBMCRX.wav\n",
            "timebins:  13404\n",
            "freqbins:  513\n",
            "timebins:  11105\n",
            "freqbins:  513\n",
            "timebins:  8860\n",
            "freqbins:  513\n",
            "skipped: /content/drive/My Drive/Colab Notebooks/Deep Learning/ChiroVox_Bat_Data/hipposideros_785/dyacorum_54/A003917_YMLYTFAGXK.wav\n",
            "timebins:  4883\n",
            "freqbins:  513\n",
            "timebins:  4883\n",
            "freqbins:  513\n"
          ]
        },
        {
          "output_type": "stream",
          "name": "stderr",
          "text": [
            "/usr/local/lib/python3.7/dist-packages/ipykernel_launcher.py:55: WavFileWarning: Reached EOF prematurely; finished at 3555372 bytes, expected 3555380 bytes from header.\n"
          ]
        },
        {
          "output_type": "stream",
          "name": "stdout",
          "text": [
            "timebins:  3472\n",
            "freqbins:  513\n",
            "timebins:  4883\n",
            "freqbins:  513\n",
            "timebins:  4883\n",
            "freqbins:  513\n",
            "timebins:  4883\n",
            "freqbins:  513\n",
            "timebins:  2154\n",
            "freqbins:  513\n",
            "timebins:  1983\n",
            "freqbins:  513\n",
            "timebins:  4883\n",
            "freqbins:  513\n",
            "timebins:  1550\n",
            "freqbins:  513\n",
            "timebins:  1811\n",
            "freqbins:  513\n",
            "timebins:  24821\n",
            "freqbins:  513\n",
            "timebins:  1661\n",
            "freqbins:  513\n",
            "timebins:  2282\n",
            "freqbins:  513\n",
            "timebins:  2536\n",
            "freqbins:  513\n",
            "timebins:  4504\n",
            "freqbins:  513\n",
            "timebins:  2457\n",
            "freqbins:  513\n",
            "timebins:  41674\n",
            "freqbins:  513\n",
            "timebins:  1732\n",
            "freqbins:  513\n",
            "timebins:  1256\n",
            "freqbins:  513\n",
            "timebins:  1139\n",
            "freqbins:  513\n",
            "timebins:  2389\n",
            "freqbins:  513\n",
            "timebins:  16983\n",
            "freqbins:  513\n",
            "timebins:  13657\n",
            "freqbins:  513\n",
            "timebins:  5518\n",
            "freqbins:  513\n",
            "timebins:  1678\n",
            "freqbins:  513\n",
            "timebins:  6176\n",
            "freqbins:  513\n",
            "timebins:  2331\n",
            "freqbins:  513\n",
            "timebins:  3316\n",
            "freqbins:  513\n",
            "timebins:  2252\n",
            "freqbins:  513\n",
            "timebins:  8124\n",
            "freqbins:  513\n",
            "timebins:  2187\n",
            "freqbins:  513\n",
            "timebins:  1689\n",
            "freqbins:  513\n",
            "timebins:  4637\n",
            "freqbins:  513\n",
            "timebins:  8850\n",
            "freqbins:  513\n",
            "timebins:  3942\n",
            "freqbins:  513\n",
            "timebins:  2234\n",
            "freqbins:  513\n",
            "timebins:  8212\n",
            "freqbins:  513\n",
            "timebins:  2394\n",
            "freqbins:  513\n",
            "timebins:  3570\n",
            "freqbins:  513\n",
            "skipped: /content/drive/My Drive/Colab Notebooks/Deep Learning/ChiroVox_Bat_Data/hipposideros_785/galeritus_112/A000954_CQLSPRGYIM.wav\n",
            "skipped: /content/drive/My Drive/Colab Notebooks/Deep Learning/ChiroVox_Bat_Data/hipposideros_785/galeritus_112/A000962_NSCJITLWQR.wav\n",
            "skipped: /content/drive/My Drive/Colab Notebooks/Deep Learning/ChiroVox_Bat_Data/hipposideros_785/galeritus_112/A000963_DQLXLLPFZJ.wav\n",
            "skipped: /content/drive/My Drive/Colab Notebooks/Deep Learning/ChiroVox_Bat_Data/hipposideros_785/galeritus_112/A000964_MOPRXSQWRJ.wav\n",
            "timebins:  4099\n",
            "freqbins:  513\n",
            "timebins:  9786\n",
            "freqbins:  513\n",
            "skipped: /content/drive/My Drive/Colab Notebooks/Deep Learning/ChiroVox_Bat_Data/hipposideros_785/galeritus_112/A000975_DKNPXMTEKR.wav\n",
            "timebins:  5176\n",
            "freqbins:  513\n",
            "timebins:  5176\n",
            "freqbins:  513\n",
            "timebins:  5176\n",
            "freqbins:  513\n",
            "timebins:  14855\n",
            "freqbins:  513\n",
            "timebins:  4883\n",
            "freqbins:  513\n",
            "timebins:  5176\n",
            "freqbins:  513\n",
            "timebins:  3261\n",
            "freqbins:  513\n",
            "timebins:  7500\n",
            "freqbins:  513\n",
            "timebins:  6365\n",
            "freqbins:  513\n",
            "timebins:  15805\n",
            "freqbins:  513\n",
            "timebins:  13044\n",
            "freqbins:  513\n",
            "timebins:  4929\n",
            "freqbins:  513\n",
            "timebins:  5494\n",
            "freqbins:  513\n",
            "timebins:  13217\n",
            "freqbins:  513\n",
            "timebins:  20398\n",
            "freqbins:  513\n",
            "timebins:  15416\n",
            "freqbins:  513\n",
            "timebins:  9414\n",
            "freqbins:  513\n",
            "timebins:  14542\n",
            "freqbins:  513\n",
            "timebins:  16521\n",
            "freqbins:  513\n",
            "timebins:  15797\n",
            "freqbins:  513\n",
            "timebins:  13052\n",
            "freqbins:  513\n",
            "timebins:  15579\n",
            "freqbins:  513\n",
            "timebins:  2281\n",
            "freqbins:  513\n",
            "timebins:  817\n",
            "freqbins:  513\n",
            "timebins:  25165\n",
            "freqbins:  513\n"
          ]
        },
        {
          "output_type": "stream",
          "name": "stderr",
          "text": [
            "/usr/local/lib/python3.7/dist-packages/ipykernel_launcher.py:55: WavFileWarning: Reached EOF prematurely; finished at 1541022 bytes, expected 1541030 bytes from header.\n"
          ]
        },
        {
          "output_type": "stream",
          "name": "stdout",
          "text": [
            "timebins:  1505\n",
            "freqbins:  513\n",
            "timebins:  5527\n",
            "freqbins:  513\n",
            "timebins:  1115\n",
            "freqbins:  513\n",
            "timebins:  8271\n",
            "freqbins:  513\n",
            "timebins:  2501\n",
            "freqbins:  513\n",
            "timebins:  6092\n",
            "freqbins:  513\n",
            "timebins:  7500\n",
            "freqbins:  513\n"
          ]
        },
        {
          "output_type": "stream",
          "name": "stderr",
          "text": [
            "/usr/local/lib/python3.7/dist-packages/ipykernel_launcher.py:55: WavFileWarning: Reached EOF prematurely; finished at 1531636 bytes, expected 1531644 bytes from header.\n"
          ]
        },
        {
          "output_type": "stream",
          "name": "stdout",
          "text": [
            "timebins:  1496\n",
            "freqbins:  513\n",
            "timebins:  3728\n",
            "freqbins:  513\n",
            "timebins:  500\n",
            "freqbins:  513\n",
            "timebins:  3718\n",
            "freqbins:  513\n"
          ]
        },
        {
          "output_type": "stream",
          "name": "stderr",
          "text": [
            "/usr/local/lib/python3.7/dist-packages/ipykernel_launcher.py:55: WavFileWarning: Reached EOF prematurely; finished at 677580 bytes, expected 677588 bytes from header.\n"
          ]
        },
        {
          "output_type": "stream",
          "name": "stdout",
          "text": [
            "timebins:  662\n",
            "freqbins:  513\n",
            "timebins:  662\n",
            "freqbins:  513\n"
          ]
        },
        {
          "output_type": "stream",
          "name": "stderr",
          "text": [
            "/usr/local/lib/python3.7/dist-packages/ipykernel_launcher.py:55: WavFileWarning: Reached EOF prematurely; finished at 2104491 bytes, expected 2104499 bytes from header.\n"
          ]
        },
        {
          "output_type": "stream",
          "name": "stdout",
          "text": [
            "timebins:  2055\n",
            "freqbins:  513\n"
          ]
        },
        {
          "output_type": "stream",
          "name": "stderr",
          "text": [
            "/usr/local/lib/python3.7/dist-packages/ipykernel_launcher.py:55: WavFileWarning: Reached EOF prematurely; finished at 554581 bytes, expected 554589 bytes from header.\n"
          ]
        },
        {
          "output_type": "stream",
          "name": "stdout",
          "text": [
            "timebins:  542\n",
            "freqbins:  513\n",
            "timebins:  4688\n",
            "freqbins:  513\n",
            "timebins:  5949\n",
            "freqbins:  513\n",
            "timebins:  908\n",
            "freqbins:  513\n",
            "timebins:  3872\n",
            "freqbins:  513\n",
            "skipped: /content/drive/My Drive/Colab Notebooks/Deep Learning/ChiroVox_Bat_Data/hipposideros_785/galeritus_112/A003786_BPYEQETAZU.wav\n",
            "skipped: /content/drive/My Drive/Colab Notebooks/Deep Learning/ChiroVox_Bat_Data/hipposideros_785/galeritus_112/A003791_JBCHAVBLTZ.wav\n",
            "skipped: /content/drive/My Drive/Colab Notebooks/Deep Learning/ChiroVox_Bat_Data/hipposideros_785/galeritus_112/A003792_TRLQSRGBKD.wav\n",
            "skipped: /content/drive/My Drive/Colab Notebooks/Deep Learning/ChiroVox_Bat_Data/hipposideros_785/galeritus_112/A003793_SNINQZDXBN.wav\n",
            "timebins:  7591\n",
            "freqbins:  513\n",
            "skipped: /content/drive/My Drive/Colab Notebooks/Deep Learning/ChiroVox_Bat_Data/hipposideros_785/galeritus_112/A003796_WWSHTACAFQ.wav\n",
            "skipped: /content/drive/My Drive/Colab Notebooks/Deep Learning/ChiroVox_Bat_Data/hipposideros_785/galeritus_112/A003797_TFXNWAOLHG.wav\n",
            "timebins:  18768\n",
            "freqbins:  513\n",
            "timebins:  17280\n",
            "freqbins:  513\n",
            "timebins:  21568\n",
            "freqbins:  513\n",
            "timebins:  59856\n",
            "freqbins:  513\n",
            "timebins:  38928\n",
            "freqbins:  513\n",
            "timebins:  32640\n",
            "freqbins:  513\n",
            "timebins:  24912\n",
            "freqbins:  513\n",
            "timebins:  3763\n",
            "freqbins:  513\n",
            "timebins:  33645\n",
            "freqbins:  513\n",
            "timebins:  7014\n",
            "freqbins:  513\n",
            "skipped: /content/drive/My Drive/Colab Notebooks/Deep Learning/ChiroVox_Bat_Data/hipposideros_785/galeritus_112/A003900_ZBKBMUSFLY.wav\n",
            "timebins:  58594\n",
            "freqbins:  513\n",
            "timebins:  44832\n",
            "freqbins:  513\n",
            "timebins:  78064\n",
            "freqbins:  513\n",
            "timebins:  3539\n",
            "freqbins:  513\n",
            "timebins:  7109\n",
            "freqbins:  513\n",
            "timebins:  8591\n",
            "freqbins:  513\n",
            "timebins:  579\n",
            "freqbins:  513\n",
            "timebins:  8160\n",
            "freqbins:  513\n",
            "timebins:  626\n",
            "freqbins:  513\n",
            "timebins:  374\n",
            "freqbins:  513\n"
          ]
        },
        {
          "output_type": "stream",
          "name": "stderr",
          "text": [
            "/usr/local/lib/python3.7/dist-packages/ipykernel_launcher.py:55: WavFileWarning: Reached EOF prematurely; finished at 1596991 bytes, expected 1596999 bytes from header.\n"
          ]
        },
        {
          "output_type": "stream",
          "name": "stdout",
          "text": [
            "timebins:  1559\n",
            "freqbins:  513\n"
          ]
        },
        {
          "output_type": "stream",
          "name": "stderr",
          "text": [
            "/usr/local/lib/python3.7/dist-packages/ipykernel_launcher.py:55: WavFileWarning: Reached EOF prematurely; finished at 991825 bytes, expected 991833 bytes from header.\n"
          ]
        },
        {
          "output_type": "stream",
          "name": "stdout",
          "text": [
            "timebins:  969\n",
            "freqbins:  513\n"
          ]
        },
        {
          "output_type": "stream",
          "name": "stderr",
          "text": [
            "/usr/local/lib/python3.7/dist-packages/ipykernel_launcher.py:55: WavFileWarning: Reached EOF prematurely; finished at 1913311 bytes, expected 1913319 bytes from header.\n"
          ]
        },
        {
          "output_type": "stream",
          "name": "stdout",
          "text": [
            "timebins:  1868\n",
            "freqbins:  513\n"
          ]
        },
        {
          "output_type": "stream",
          "name": "stderr",
          "text": [
            "/usr/local/lib/python3.7/dist-packages/ipykernel_launcher.py:55: WavFileWarning: Reached EOF prematurely; finished at 1038321 bytes, expected 1038329 bytes from header.\n"
          ]
        },
        {
          "output_type": "stream",
          "name": "stdout",
          "text": [
            "timebins:  1014\n",
            "freqbins:  513\n"
          ]
        },
        {
          "output_type": "stream",
          "name": "stderr",
          "text": [
            "/usr/local/lib/python3.7/dist-packages/ipykernel_launcher.py:55: WavFileWarning: Reached EOF prematurely; finished at 971573 bytes, expected 971581 bytes from header.\n"
          ]
        },
        {
          "output_type": "stream",
          "name": "stdout",
          "text": [
            "timebins:  949\n",
            "freqbins:  513\n",
            "timebins:  356\n",
            "freqbins:  513\n"
          ]
        },
        {
          "output_type": "stream",
          "name": "stderr",
          "text": [
            "/usr/local/lib/python3.7/dist-packages/ipykernel_launcher.py:55: WavFileWarning: Reached EOF prematurely; finished at 2560623 bytes, expected 2560631 bytes from header.\n"
          ]
        },
        {
          "output_type": "stream",
          "name": "stdout",
          "text": [
            "timebins:  2498\n",
            "freqbins:  513\n"
          ]
        },
        {
          "output_type": "stream",
          "name": "stderr",
          "text": [
            "/usr/local/lib/python3.7/dist-packages/ipykernel_launcher.py:55: WavFileWarning: Reached EOF prematurely; finished at 84147 bytes, expected 84155 bytes from header.\n"
          ]
        },
        {
          "output_type": "stream",
          "name": "stdout",
          "text": [
            "timebins:  80\n",
            "freqbins:  513\n",
            "timebins:  4688\n",
            "freqbins:  513\n",
            "timebins:  6375\n",
            "freqbins:  513\n",
            "timebins:  4688\n",
            "freqbins:  513\n",
            "timebins:  4688\n",
            "freqbins:  513\n",
            "timebins:  4688\n",
            "freqbins:  513\n",
            "timebins:  4688\n",
            "freqbins:  513\n",
            "timebins:  4688\n",
            "freqbins:  513\n",
            "timebins:  4688\n",
            "freqbins:  513\n",
            "timebins:  4688\n",
            "freqbins:  513\n",
            "timebins:  4688\n",
            "freqbins:  513\n",
            "timebins:  4688\n",
            "freqbins:  513\n",
            "timebins:  4688\n",
            "freqbins:  513\n",
            "timebins:  4688\n",
            "freqbins:  513\n",
            "timebins:  4688\n",
            "freqbins:  513\n",
            "timebins:  4688\n",
            "freqbins:  513\n",
            "timebins:  4688\n",
            "freqbins:  513\n",
            "timebins:  4688\n",
            "freqbins:  513\n"
          ]
        },
        {
          "output_type": "stream",
          "name": "stderr",
          "text": [
            "/usr/local/lib/python3.7/dist-packages/ipykernel_launcher.py:55: WavFileWarning: Reached EOF prematurely; finished at 811187 bytes, expected 811195 bytes from header.\n"
          ]
        },
        {
          "output_type": "stream",
          "name": "stdout",
          "text": [
            "timebins:  792\n",
            "freqbins:  513\n"
          ]
        },
        {
          "output_type": "stream",
          "name": "stderr",
          "text": [
            "/usr/local/lib/python3.7/dist-packages/ipykernel_launcher.py:55: WavFileWarning: Reached EOF prematurely; finished at 1518410 bytes, expected 1518418 bytes from header.\n"
          ]
        },
        {
          "output_type": "stream",
          "name": "stdout",
          "text": [
            "timebins:  1483\n",
            "freqbins:  513\n"
          ]
        },
        {
          "output_type": "stream",
          "name": "stderr",
          "text": [
            "/usr/local/lib/python3.7/dist-packages/ipykernel_launcher.py:55: WavFileWarning: Reached EOF prematurely; finished at 556629 bytes, expected 556637 bytes from header.\n"
          ]
        },
        {
          "output_type": "stream",
          "name": "stdout",
          "text": [
            "timebins:  541\n",
            "freqbins:  513\n"
          ]
        },
        {
          "output_type": "stream",
          "name": "stderr",
          "text": [
            "/usr/local/lib/python3.7/dist-packages/ipykernel_launcher.py:55: WavFileWarning: Reached EOF prematurely; finished at 813693 bytes, expected 813701 bytes from header.\n"
          ]
        },
        {
          "output_type": "stream",
          "name": "stdout",
          "text": [
            "timebins:  792\n",
            "freqbins:  513\n"
          ]
        },
        {
          "output_type": "stream",
          "name": "stderr",
          "text": [
            "/usr/local/lib/python3.7/dist-packages/ipykernel_launcher.py:55: WavFileWarning: Reached EOF prematurely; finished at 739971 bytes, expected 739979 bytes from header.\n"
          ]
        },
        {
          "output_type": "stream",
          "name": "stdout",
          "text": [
            "timebins:  720\n",
            "freqbins:  513\n",
            "timebins:  4688\n",
            "freqbins:  513\n",
            "timebins:  4688\n",
            "freqbins:  513\n",
            "timebins:  4688\n",
            "freqbins:  513\n",
            "timebins:  4688\n",
            "freqbins:  513\n",
            "timebins:  4688\n",
            "freqbins:  513\n",
            "timebins:  4688\n",
            "freqbins:  513\n",
            "timebins:  4688\n",
            "freqbins:  513\n",
            "timebins:  4688\n",
            "freqbins:  513\n",
            "timebins:  6375\n",
            "freqbins:  513\n",
            "timebins:  6375\n",
            "freqbins:  513\n",
            "timebins:  4688\n",
            "freqbins:  513\n",
            "timebins:  4688\n",
            "freqbins:  513\n",
            "timebins:  4688\n",
            "freqbins:  513\n",
            "timebins:  4688\n",
            "freqbins:  513\n",
            "timebins:  4688\n",
            "freqbins:  513\n",
            "timebins:  4180\n",
            "freqbins:  513\n",
            "timebins:  4180\n",
            "freqbins:  513\n",
            "timebins:  4458\n",
            "freqbins:  513\n",
            "timebins:  4458\n",
            "freqbins:  513\n",
            "timebins:  11056\n",
            "freqbins:  513\n",
            "timebins:  19532\n",
            "freqbins:  513\n",
            "timebins:  791\n",
            "freqbins:  513\n",
            "timebins:  881\n",
            "freqbins:  513\n",
            "timebins:  649\n",
            "freqbins:  513\n",
            "timebins:  559\n",
            "freqbins:  513\n",
            "timebins:  841\n",
            "freqbins:  513\n",
            "timebins:  1568\n",
            "freqbins:  513\n",
            "timebins:  1480\n",
            "freqbins:  513\n",
            "timebins:  8928\n",
            "freqbins:  513\n",
            "timebins:  17717\n",
            "freqbins:  513\n",
            "timebins:  14726\n",
            "freqbins:  513\n",
            "timebins:  15760\n",
            "freqbins:  513\n",
            "timebins:  12146\n",
            "freqbins:  513\n",
            "timebins:  15946\n",
            "freqbins:  513\n",
            "timebins:  8093\n",
            "freqbins:  513\n",
            "timebins:  12993\n",
            "freqbins:  513\n",
            "timebins:  11463\n",
            "freqbins:  513\n",
            "timebins:  10437\n",
            "freqbins:  513\n",
            "timebins:  9180\n",
            "freqbins:  513\n",
            "timebins:  12299\n",
            "freqbins:  513\n",
            "timebins:  8092\n",
            "freqbins:  513\n",
            "timebins:  6668\n",
            "freqbins:  513\n",
            "timebins:  9766\n",
            "freqbins:  513\n",
            "timebins:  6917\n",
            "freqbins:  513\n",
            "timebins:  9241\n",
            "freqbins:  513\n",
            "timebins:  710\n",
            "freqbins:  513\n",
            "timebins:  7507\n",
            "freqbins:  513\n",
            "timebins:  1064\n",
            "freqbins:  513\n",
            "timebins:  986\n",
            "freqbins:  513\n",
            "timebins:  587\n",
            "freqbins:  513\n",
            "timebins:  711\n",
            "freqbins:  513\n",
            "timebins:  899\n",
            "freqbins:  513\n",
            "timebins:  654\n",
            "freqbins:  513\n",
            "timebins:  729\n",
            "freqbins:  513\n",
            "timebins:  1091\n",
            "freqbins:  513\n",
            "timebins:  7500\n",
            "freqbins:  513\n",
            "timebins:  3498\n",
            "freqbins:  513\n",
            "timebins:  7500\n",
            "freqbins:  513\n",
            "timebins:  7500\n",
            "freqbins:  513\n",
            "timebins:  7500\n",
            "freqbins:  513\n",
            "timebins:  5791\n",
            "freqbins:  513\n",
            "timebins:  7500\n",
            "freqbins:  513\n",
            "timebins:  4688\n",
            "freqbins:  513\n",
            "timebins:  6375\n",
            "freqbins:  513\n",
            "timebins:  4688\n",
            "freqbins:  513\n",
            "timebins:  4688\n",
            "freqbins:  513\n",
            "timebins:  4688\n",
            "freqbins:  513\n",
            "timebins:  4688\n",
            "freqbins:  513\n",
            "timebins:  4688\n",
            "freqbins:  513\n",
            "timebins:  4688\n",
            "freqbins:  513\n",
            "timebins:  2198\n",
            "freqbins:  513\n",
            "timebins:  4702\n",
            "freqbins:  513\n",
            "timebins:  9213\n",
            "freqbins:  513\n",
            "timebins:  3990\n",
            "freqbins:  513\n",
            "timebins:  3567\n",
            "freqbins:  513\n",
            "timebins:  8514\n",
            "freqbins:  513\n",
            "timebins:  6444\n",
            "freqbins:  513\n",
            "timebins:  7656\n",
            "freqbins:  513\n",
            "timebins:  7989\n",
            "freqbins:  513\n",
            "timebins:  13567\n",
            "freqbins:  513\n",
            "timebins:  11253\n",
            "freqbins:  513\n",
            "timebins:  12670\n",
            "freqbins:  513\n",
            "timebins:  11252\n",
            "freqbins:  513\n",
            "timebins:  25454\n",
            "freqbins:  513\n",
            "timebins:  8416\n",
            "freqbins:  513\n",
            "timebins:  11109\n",
            "freqbins:  513\n",
            "timebins:  10463\n",
            "freqbins:  513\n",
            "timebins:  14199\n",
            "freqbins:  513\n",
            "timebins:  13613\n",
            "freqbins:  513\n",
            "timebins:  10123\n",
            "freqbins:  513\n",
            "timebins:  16024\n",
            "freqbins:  513\n",
            "timebins:  16331\n",
            "freqbins:  513\n",
            "timebins:  9873\n",
            "freqbins:  513\n",
            "skipped: /content/drive/My Drive/Colab Notebooks/Deep Learning/ChiroVox_Bat_Data/hipposideros_785/larvatus_67/A003803_PIBIPAYMFJ.wav\n",
            "skipped: /content/drive/My Drive/Colab Notebooks/Deep Learning/ChiroVox_Bat_Data/hipposideros_785/larvatus_67/A003807_EBKWRWWYUX.wav\n",
            "timebins:  11725\n",
            "freqbins:  513\n",
            "timebins:  1625\n",
            "freqbins:  513\n",
            "timebins:  1501\n",
            "freqbins:  513\n",
            "skipped: /content/drive/My Drive/Colab Notebooks/Deep Learning/ChiroVox_Bat_Data/hipposideros_785/larvatus_67/A003811_BOIKXKTIBY.wav\n",
            "timebins:  6941\n",
            "freqbins:  513\n",
            "timebins:  21312\n",
            "freqbins:  513\n",
            "timebins:  19216\n",
            "freqbins:  513\n",
            "timebins:  24928\n",
            "freqbins:  513\n",
            "timebins:  25072\n",
            "freqbins:  513\n",
            "timebins:  37664\n",
            "freqbins:  513\n",
            "timebins:  38784\n",
            "freqbins:  513\n",
            "timebins:  25520\n",
            "freqbins:  513\n",
            "skipped: /content/drive/My Drive/Colab Notebooks/Deep Learning/ChiroVox_Bat_Data/hipposideros_785/larvatus_67/A003901_NEYMGOGBMN.wav\n",
            "skipped: /content/drive/My Drive/Colab Notebooks/Deep Learning/ChiroVox_Bat_Data/hipposideros_785/larvatus_67/A003909_ULXAYYAOLK.wav\n",
            "timebins:  53264\n",
            "freqbins:  513\n",
            "timebins:  7648\n",
            "freqbins:  513\n",
            "timebins:  15382\n",
            "freqbins:  513\n",
            "timebins:  11918\n",
            "freqbins:  513\n",
            "timebins:  3386\n",
            "freqbins:  513\n",
            "timebins:  10494\n",
            "freqbins:  513\n",
            "timebins:  3859\n",
            "freqbins:  513\n",
            "timebins:  4688\n",
            "freqbins:  513\n",
            "timebins:  7500\n",
            "freqbins:  513\n",
            "timebins:  4688\n",
            "freqbins:  513\n",
            "timebins:  4688\n",
            "freqbins:  513\n",
            "timebins:  7500\n",
            "freqbins:  513\n",
            "timebins:  2232\n",
            "freqbins:  513\n",
            "timebins:  3436\n",
            "freqbins:  513\n",
            "timebins:  2841\n",
            "freqbins:  513\n",
            "timebins:  7500\n",
            "freqbins:  513\n"
          ]
        },
        {
          "output_type": "stream",
          "name": "stderr",
          "text": [
            "/usr/local/lib/python3.7/dist-packages/ipykernel_launcher.py:55: WavFileWarning: Reached EOF prematurely; finished at 10223616 bytes, expected 10223624 bytes from header.\n"
          ]
        },
        {
          "output_type": "stream",
          "name": "stdout",
          "text": [
            "timebins:  9984\n",
            "freqbins:  513\n"
          ]
        },
        {
          "output_type": "stream",
          "name": "stderr",
          "text": [
            "/usr/local/lib/python3.7/dist-packages/ipykernel_launcher.py:55: WavFileWarning: Reached EOF prematurely; finished at 13369344 bytes, expected 13369352 bytes from header.\n"
          ]
        },
        {
          "output_type": "stream",
          "name": "stdout",
          "text": [
            "timebins:  13056\n",
            "freqbins:  513\n"
          ]
        },
        {
          "output_type": "stream",
          "name": "stderr",
          "text": [
            "/usr/local/lib/python3.7/dist-packages/ipykernel_launcher.py:55: WavFileWarning: Reached EOF prematurely; finished at 15073280 bytes, expected 15073288 bytes from header.\n"
          ]
        },
        {
          "output_type": "stream",
          "name": "stdout",
          "text": [
            "timebins:  14720\n",
            "freqbins:  513\n",
            "timebins:  1727\n",
            "freqbins:  513\n",
            "skipped: /content/drive/My Drive/Colab Notebooks/Deep Learning/ChiroVox_Bat_Data/hipposideros_785/scutinares_11/A002665_TPVWLSLKKB.wav\n",
            "timebins:  6153\n",
            "freqbins:  513\n",
            "timebins:  6157\n",
            "freqbins:  513\n",
            "timebins:  3183\n",
            "freqbins:  513\n",
            "skipped: /content/drive/My Drive/Colab Notebooks/Deep Learning/ChiroVox_Bat_Data/hipposideros_785/scutinares_11/A002669_NNTBSYAIMD.wav\n",
            "timebins:  4688\n",
            "freqbins:  513\n",
            "timebins:  4688\n",
            "freqbins:  513\n",
            "timebins:  4688\n",
            "freqbins:  513\n",
            "timebins:  4688\n",
            "freqbins:  513\n",
            "timebins:  4688\n",
            "freqbins:  513\n",
            "timebins:  3098\n",
            "freqbins:  513\n",
            "timebins:  2461\n",
            "freqbins:  513\n",
            "timebins:  5860\n",
            "freqbins:  513\n",
            "timebins:  5860\n",
            "freqbins:  513\n",
            "timebins:  5860\n",
            "freqbins:  513\n",
            "timebins:  5157\n",
            "freqbins:  513\n",
            "timebins:  5860\n",
            "freqbins:  513\n",
            "timebins:  4805\n",
            "freqbins:  513\n",
            "timebins:  4688\n",
            "freqbins:  513\n",
            "timebins:  851\n",
            "freqbins:  513\n",
            "timebins:  1430\n",
            "freqbins:  513\n",
            "timebins:  1234\n",
            "freqbins:  513\n",
            "timebins:  1160\n",
            "freqbins:  513\n",
            "timebins:  7961\n",
            "freqbins:  513\n",
            "timebins:  834\n",
            "freqbins:  513\n",
            "timebins:  4688\n",
            "freqbins:  513\n",
            "timebins:  4688\n",
            "freqbins:  513\n",
            "timebins:  1239\n",
            "freqbins:  513\n",
            "timebins:  2662\n",
            "freqbins:  513\n",
            "timebins:  3656\n",
            "freqbins:  513\n",
            "timebins:  3939\n",
            "freqbins:  513\n",
            "timebins:  1164\n",
            "freqbins:  513\n",
            "timebins:  846\n",
            "freqbins:  513\n",
            "timebins:  1393\n",
            "freqbins:  513\n",
            "timebins:  552\n",
            "freqbins:  513\n",
            "timebins:  2322\n",
            "freqbins:  513\n",
            "timebins:  2139\n",
            "freqbins:  513\n",
            "timebins:  1434\n",
            "freqbins:  513\n",
            "timebins:  1308\n",
            "freqbins:  513\n",
            "timebins:  1919\n",
            "freqbins:  513\n",
            "timebins:  790\n",
            "freqbins:  513\n",
            "timebins:  1184\n",
            "freqbins:  513\n",
            "timebins:  1212\n",
            "freqbins:  513\n",
            "timebins:  1036\n",
            "freqbins:  513\n",
            "timebins:  1834\n",
            "freqbins:  513\n",
            "timebins:  2118\n",
            "freqbins:  513\n",
            "timebins:  851\n",
            "freqbins:  513\n",
            "timebins:  587\n",
            "freqbins:  513\n",
            "timebins:  1447\n",
            "freqbins:  513\n",
            "timebins:  1847\n",
            "freqbins:  513\n",
            "timebins:  1242\n",
            "freqbins:  513\n",
            "timebins:  1239\n",
            "freqbins:  513\n"
          ]
        },
        {
          "output_type": "stream",
          "name": "stderr",
          "text": [
            "/usr/local/lib/python3.7/dist-packages/ipykernel_launcher.py:55: WavFileWarning: Reached EOF prematurely; finished at 13893632 bytes, expected 13893640 bytes from header.\n"
          ]
        },
        {
          "output_type": "stream",
          "name": "stdout",
          "text": [
            "timebins:  13568\n",
            "freqbins:  513\n"
          ]
        },
        {
          "output_type": "stream",
          "name": "stderr",
          "text": [
            "/usr/local/lib/python3.7/dist-packages/ipykernel_launcher.py:55: WavFileWarning: Reached EOF prematurely; finished at 12189696 bytes, expected 12189704 bytes from header.\n"
          ]
        },
        {
          "output_type": "stream",
          "name": "stdout",
          "text": [
            "timebins:  11904\n",
            "freqbins:  513\n"
          ]
        },
        {
          "output_type": "stream",
          "name": "stderr",
          "text": [
            "/usr/local/lib/python3.7/dist-packages/ipykernel_launcher.py:55: WavFileWarning: Reached EOF prematurely; finished at 11796480 bytes, expected 11796488 bytes from header.\n"
          ]
        },
        {
          "output_type": "stream",
          "name": "stdout",
          "text": [
            "timebins:  11520\n",
            "freqbins:  513\n",
            "timebins:  14976\n",
            "freqbins:  513\n",
            "timebins:  1458\n",
            "freqbins:  513\n",
            "timebins:  945\n",
            "freqbins:  513\n",
            "timebins:  5860\n",
            "freqbins:  513\n",
            "timebins:  1257\n",
            "freqbins:  513\n",
            "timebins:  1480\n",
            "freqbins:  513\n",
            "timebins:  1186\n",
            "freqbins:  513\n",
            "timebins:  2034\n",
            "freqbins:  513\n",
            "timebins:  995\n",
            "freqbins:  513\n",
            "timebins:  1026\n",
            "freqbins:  513\n",
            "timebins:  1178\n",
            "freqbins:  513\n",
            "timebins:  972\n",
            "freqbins:  513\n",
            "timebins:  729\n",
            "freqbins:  513\n",
            "timebins:  803\n",
            "freqbins:  513\n"
          ]
        },
        {
          "output_type": "stream",
          "name": "stderr",
          "text": [
            "/usr/local/lib/python3.7/dist-packages/ipykernel_launcher.py:55: WavFileWarning: Reached EOF prematurely; finished at 1756571 bytes, expected 1756579 bytes from header.\n"
          ]
        },
        {
          "output_type": "stream",
          "name": "stdout",
          "text": [
            "timebins:  1715\n",
            "freqbins:  513\n"
          ]
        },
        {
          "output_type": "stream",
          "name": "stderr",
          "text": [
            "/usr/local/lib/python3.7/dist-packages/ipykernel_launcher.py:55: WavFileWarning: Reached EOF prematurely; finished at 1838927 bytes, expected 1838935 bytes from header.\n"
          ]
        },
        {
          "output_type": "stream",
          "name": "stdout",
          "text": [
            "timebins:  1796\n",
            "freqbins:  513\n"
          ]
        },
        {
          "output_type": "stream",
          "name": "stderr",
          "text": [
            "/usr/local/lib/python3.7/dist-packages/ipykernel_launcher.py:55: WavFileWarning: Reached EOF prematurely; finished at 1838925 bytes, expected 1838933 bytes from header.\n"
          ]
        },
        {
          "output_type": "stream",
          "name": "stdout",
          "text": [
            "timebins:  1796\n",
            "freqbins:  513\n"
          ]
        },
        {
          "output_type": "stream",
          "name": "stderr",
          "text": [
            "/usr/local/lib/python3.7/dist-packages/ipykernel_launcher.py:55: WavFileWarning: Reached EOF prematurely; finished at 2961289 bytes, expected 2961297 bytes from header.\n"
          ]
        },
        {
          "output_type": "stream",
          "name": "stdout",
          "text": [
            "timebins:  2892\n",
            "freqbins:  513\n"
          ]
        },
        {
          "output_type": "stream",
          "name": "stderr",
          "text": [
            "/usr/local/lib/python3.7/dist-packages/ipykernel_launcher.py:55: WavFileWarning: Reached EOF prematurely; finished at 2022767 bytes, expected 2022775 bytes from header.\n"
          ]
        },
        {
          "output_type": "stream",
          "name": "stdout",
          "text": [
            "timebins:  1975\n",
            "freqbins:  513\n",
            "timebins:  595\n",
            "freqbins:  513\n"
          ]
        },
        {
          "output_type": "stream",
          "name": "stderr",
          "text": [
            "/usr/local/lib/python3.7/dist-packages/ipykernel_launcher.py:55: WavFileWarning: Reached EOF prematurely; finished at 409266 bytes, expected 409274 bytes from header.\n"
          ]
        },
        {
          "output_type": "stream",
          "name": "stdout",
          "text": [
            "timebins:  397\n",
            "freqbins:  513\n"
          ]
        },
        {
          "output_type": "stream",
          "name": "stderr",
          "text": [
            "/usr/local/lib/python3.7/dist-packages/ipykernel_launcher.py:55: WavFileWarning: Reached EOF prematurely; finished at 4523178 bytes, expected 4523186 bytes from header.\n"
          ]
        },
        {
          "output_type": "stream",
          "name": "stdout",
          "text": [
            "timebins:  4415\n",
            "freqbins:  513\n",
            "timebins:  5000\n",
            "freqbins:  513\n",
            "timebins:  5000\n",
            "freqbins:  513\n",
            "timebins:  5000\n",
            "freqbins:  513\n",
            "timebins:  1944\n",
            "freqbins:  513\n",
            "timebins:  773\n",
            "freqbins:  513\n",
            "timebins:  1795\n",
            "freqbins:  513\n",
            "timebins:  1327\n",
            "freqbins:  513\n",
            "timebins:  899\n",
            "freqbins:  513\n",
            "timebins:  312\n",
            "freqbins:  513\n",
            "timebins:  1386\n",
            "freqbins:  513\n",
            "timebins:  1363\n",
            "freqbins:  513\n",
            "timebins:  1698\n",
            "freqbins:  513\n",
            "timebins:  912\n",
            "freqbins:  513\n",
            "timebins:  1199\n",
            "freqbins:  513\n",
            "timebins:  710\n",
            "freqbins:  513\n",
            "timebins:  622\n",
            "freqbins:  513\n",
            "timebins:  908\n",
            "freqbins:  513\n",
            "timebins:  728\n",
            "freqbins:  513\n",
            "timebins:  922\n",
            "freqbins:  513\n",
            "timebins:  711\n",
            "freqbins:  513\n",
            "timebins:  1012\n",
            "freqbins:  513\n",
            "timebins:  938\n",
            "freqbins:  513\n",
            "timebins:  1137\n",
            "freqbins:  513\n",
            "timebins:  2147\n",
            "freqbins:  513\n",
            "timebins:  2034\n",
            "freqbins:  513\n",
            "timebins:  1897\n",
            "freqbins:  513\n",
            "timebins:  2793\n",
            "freqbins:  513\n",
            "timebins:  4131\n",
            "freqbins:  513\n",
            "timebins:  3436\n",
            "freqbins:  513\n"
          ]
        },
        {
          "output_type": "stream",
          "name": "stderr",
          "text": [
            "/usr/local/lib/python3.7/dist-packages/ipykernel_launcher.py:55: WavFileWarning: Reached EOF prematurely; finished at 3929692 bytes, expected 3929700 bytes from header.\n"
          ]
        },
        {
          "output_type": "stream",
          "name": "stdout",
          "text": [
            "timebins:  3837\n",
            "freqbins:  513\n",
            "timebins:  3837\n",
            "freqbins:  513\n",
            "timebins:  905\n",
            "freqbins:  513\n",
            "timebins:  853\n",
            "freqbins:  513\n",
            "timebins:  579\n",
            "freqbins:  513\n",
            "timebins:  924\n",
            "freqbins:  513\n",
            "timebins:  991\n",
            "freqbins:  513\n",
            "timebins:  831\n",
            "freqbins:  513\n",
            "timebins:  1173\n",
            "freqbins:  513\n",
            "timebins:  577\n",
            "freqbins:  513\n",
            "timebins:  734\n",
            "freqbins:  513\n",
            "timebins:  685\n",
            "freqbins:  513\n",
            "timebins:  848\n",
            "freqbins:  513\n",
            "timebins:  718\n",
            "freqbins:  513\n",
            "timebins:  1270\n",
            "freqbins:  513\n",
            "timebins:  881\n",
            "freqbins:  513\n",
            "timebins:  393\n",
            "freqbins:  513\n",
            "timebins:  1108\n",
            "freqbins:  513\n",
            "timebins:  490\n",
            "freqbins:  513\n",
            "timebins:  2261\n",
            "freqbins:  513\n",
            "timebins:  817\n",
            "freqbins:  513\n",
            "timebins:  881\n",
            "freqbins:  513\n",
            "timebins:  929\n",
            "freqbins:  513\n",
            "timebins:  2700\n",
            "freqbins:  513\n",
            "timebins:  912\n",
            "freqbins:  513\n",
            "timebins:  1134\n",
            "freqbins:  513\n",
            "timebins:  935\n",
            "freqbins:  513\n",
            "timebins:  612\n",
            "freqbins:  513\n",
            "timebins:  1358\n",
            "freqbins:  513\n",
            "timebins:  817\n",
            "freqbins:  513\n",
            "timebins:  501\n",
            "freqbins:  513\n",
            "timebins:  523\n",
            "freqbins:  513\n",
            "timebins:  539\n",
            "freqbins:  513\n",
            "timebins:  1281\n",
            "freqbins:  513\n",
            "timebins:  658\n",
            "freqbins:  513\n",
            "timebins:  556\n",
            "freqbins:  513\n",
            "timebins:  929\n",
            "freqbins:  513\n",
            "timebins:  891\n",
            "freqbins:  513\n",
            "timebins:  703\n",
            "freqbins:  513\n",
            "timebins:  878\n",
            "freqbins:  513\n",
            "timebins:  1284\n",
            "freqbins:  513\n",
            "timebins:  724\n",
            "freqbins:  513\n",
            "timebins:  520\n",
            "freqbins:  513\n",
            "timebins:  419\n",
            "freqbins:  513\n",
            "timebins:  886\n",
            "freqbins:  513\n",
            "timebins:  420\n",
            "freqbins:  513\n",
            "timebins:  498\n",
            "freqbins:  513\n",
            "timebins:  938\n",
            "freqbins:  513\n",
            "timebins:  330\n",
            "freqbins:  513\n",
            "timebins:  468\n",
            "freqbins:  513\n",
            "timebins:  1001\n",
            "freqbins:  513\n",
            "timebins:  2586\n",
            "freqbins:  513\n",
            "timebins:  960\n",
            "freqbins:  513\n",
            "timebins:  702\n",
            "freqbins:  513\n",
            "timebins:  1272\n",
            "freqbins:  513\n",
            "timebins:  1295\n",
            "freqbins:  513\n",
            "timebins:  748\n",
            "freqbins:  513\n",
            "timebins:  1124\n",
            "freqbins:  513\n",
            "timebins:  633\n",
            "freqbins:  513\n",
            "timebins:  923\n",
            "freqbins:  513\n",
            "timebins:  894\n",
            "freqbins:  513\n",
            "timebins:  938\n",
            "freqbins:  513\n",
            "timebins:  1295\n",
            "freqbins:  513\n",
            "timebins:  1473\n",
            "freqbins:  513\n",
            "timebins:  1126\n",
            "freqbins:  513\n",
            "timebins:  563\n",
            "freqbins:  513\n",
            "timebins:  546\n",
            "freqbins:  513\n",
            "timebins:  435\n",
            "freqbins:  513\n",
            "timebins:  1304\n",
            "freqbins:  513\n",
            "timebins:  566\n",
            "freqbins:  513\n",
            "timebins:  1192\n",
            "freqbins:  513\n",
            "timebins:  815\n",
            "freqbins:  513\n",
            "timebins:  766\n",
            "freqbins:  513\n",
            "timebins:  821\n",
            "freqbins:  513\n",
            "timebins:  381\n",
            "freqbins:  513\n",
            "timebins:  700\n",
            "freqbins:  513\n",
            "timebins:  573\n",
            "freqbins:  513\n",
            "timebins:  427\n",
            "freqbins:  513\n",
            "timebins:  1030\n",
            "freqbins:  513\n",
            "timebins:  996\n",
            "freqbins:  513\n",
            "timebins:  1399\n",
            "freqbins:  513\n",
            "timebins:  394\n",
            "freqbins:  513\n",
            "timebins:  891\n",
            "freqbins:  513\n",
            "timebins:  814\n",
            "freqbins:  513\n",
            "timebins:  3088\n",
            "freqbins:  513\n"
          ]
        },
        {
          "output_type": "stream",
          "name": "stderr",
          "text": [
            "/usr/local/lib/python3.7/dist-packages/ipykernel_launcher.py:55: WavFileWarning: Reached EOF prematurely; finished at 5084240 bytes, expected 5084248 bytes from header.\n"
          ]
        },
        {
          "output_type": "stream",
          "name": "stdout",
          "text": [
            "timebins:  4965\n",
            "freqbins:  513\n"
          ]
        },
        {
          "output_type": "stream",
          "name": "stderr",
          "text": [
            "/usr/local/lib/python3.7/dist-packages/ipykernel_launcher.py:55: WavFileWarning: Reached EOF prematurely; finished at 5046235 bytes, expected 5046243 bytes from header.\n"
          ]
        },
        {
          "output_type": "stream",
          "name": "stdout",
          "text": [
            "timebins:  4928\n",
            "freqbins:  513\n"
          ]
        },
        {
          "output_type": "stream",
          "name": "stderr",
          "text": [
            "/usr/local/lib/python3.7/dist-packages/ipykernel_launcher.py:55: WavFileWarning: Reached EOF prematurely; finished at 2728569 bytes, expected 2728577 bytes from header.\n"
          ]
        },
        {
          "output_type": "stream",
          "name": "stdout",
          "text": [
            "timebins:  2665\n",
            "freqbins:  513\n",
            "timebins:  623\n",
            "freqbins:  513\n"
          ]
        },
        {
          "output_type": "stream",
          "name": "stderr",
          "text": [
            "/usr/local/lib/python3.7/dist-packages/ipykernel_launcher.py:55: WavFileWarning: Reached EOF prematurely; finished at 6980265 bytes, expected 6980273 bytes from header.\n"
          ]
        },
        {
          "output_type": "stream",
          "name": "stdout",
          "text": [
            "timebins:  6816\n",
            "freqbins:  513\n"
          ]
        },
        {
          "output_type": "stream",
          "name": "stderr",
          "text": [
            "/usr/local/lib/python3.7/dist-packages/ipykernel_launcher.py:55: WavFileWarning: Reached EOF prematurely; finished at 5104295 bytes, expected 5104303 bytes from header.\n"
          ]
        },
        {
          "output_type": "stream",
          "name": "stdout",
          "text": [
            "timebins:  4984\n",
            "freqbins:  513\n"
          ]
        },
        {
          "output_type": "stream",
          "name": "stderr",
          "text": [
            "/usr/local/lib/python3.7/dist-packages/ipykernel_launcher.py:55: WavFileWarning: Reached EOF prematurely; finished at 5759659 bytes, expected 5759667 bytes from header.\n"
          ]
        },
        {
          "output_type": "stream",
          "name": "stdout",
          "text": [
            "timebins:  5624\n",
            "freqbins:  513\n"
          ]
        },
        {
          "output_type": "stream",
          "name": "stderr",
          "text": [
            "/usr/local/lib/python3.7/dist-packages/ipykernel_launcher.py:55: WavFileWarning: Reached EOF prematurely; finished at 400680 bytes, expected 400688 bytes from header.\n"
          ]
        },
        {
          "output_type": "stream",
          "name": "stdout",
          "text": [
            "timebins:  391\n",
            "freqbins:  513\n",
            "timebins:  11250\n",
            "freqbins:  513\n"
          ]
        },
        {
          "output_type": "stream",
          "name": "stderr",
          "text": [
            "/usr/local/lib/python3.7/dist-packages/ipykernel_launcher.py:55: WavFileWarning: Reached EOF prematurely; finished at 2580728 bytes, expected 2580736 bytes from header.\n"
          ]
        },
        {
          "output_type": "stream",
          "name": "stdout",
          "text": [
            "timebins:  2520\n",
            "freqbins:  513\n"
          ]
        },
        {
          "output_type": "stream",
          "name": "stderr",
          "text": [
            "/usr/local/lib/python3.7/dist-packages/ipykernel_launcher.py:55: WavFileWarning: Reached EOF prematurely; finished at 2862373 bytes, expected 2862381 bytes from header.\n"
          ]
        },
        {
          "output_type": "stream",
          "name": "stdout",
          "text": [
            "timebins:  2795\n",
            "freqbins:  513\n"
          ]
        },
        {
          "output_type": "stream",
          "name": "stderr",
          "text": [
            "/usr/local/lib/python3.7/dist-packages/ipykernel_launcher.py:55: WavFileWarning: Reached EOF prematurely; finished at 2614233 bytes, expected 2614241 bytes from header.\n"
          ]
        },
        {
          "output_type": "stream",
          "name": "stdout",
          "text": [
            "timebins:  2552\n",
            "freqbins:  513\n"
          ]
        },
        {
          "output_type": "stream",
          "name": "stderr",
          "text": [
            "/usr/local/lib/python3.7/dist-packages/ipykernel_launcher.py:55: WavFileWarning: Reached EOF prematurely; finished at 2815567 bytes, expected 2815575 bytes from header.\n"
          ]
        },
        {
          "output_type": "stream",
          "name": "stdout",
          "text": [
            "timebins:  2749\n",
            "freqbins:  513\n",
            "timebins:  7500\n",
            "freqbins:  513\n",
            "timebins:  7500\n",
            "freqbins:  513\n",
            "timebins:  7061\n",
            "freqbins:  513\n",
            "timebins:  4925\n",
            "freqbins:  513\n",
            "timebins:  8910\n",
            "freqbins:  513\n",
            "timebins:  3754\n",
            "freqbins:  513\n",
            "timebins:  4537\n",
            "freqbins:  513\n",
            "timebins:  9712\n",
            "freqbins:  513\n",
            "timebins:  2990\n",
            "freqbins:  513\n",
            "timebins:  4914\n",
            "freqbins:  513\n",
            "timebins:  1109\n",
            "freqbins:  513\n",
            "timebins:  758\n",
            "freqbins:  513\n",
            "timebins:  2795\n",
            "freqbins:  513\n",
            "timebins:  550\n",
            "freqbins:  513\n"
          ]
        },
        {
          "output_type": "stream",
          "name": "stderr",
          "text": [
            "/usr/local/lib/python3.7/dist-packages/ipykernel_launcher.py:55: WavFileWarning: Reached EOF prematurely; finished at 25690112 bytes, expected 25690120 bytes from header.\n"
          ]
        },
        {
          "output_type": "stream",
          "name": "stdout",
          "text": [
            "timebins:  25088\n",
            "freqbins:  513\n"
          ]
        },
        {
          "output_type": "stream",
          "name": "stderr",
          "text": [
            "/usr/local/lib/python3.7/dist-packages/ipykernel_launcher.py:55: WavFileWarning: Reached EOF prematurely; finished at 6684672 bytes, expected 6684680 bytes from header.\n"
          ]
        },
        {
          "output_type": "stream",
          "name": "stdout",
          "text": [
            "timebins:  6528\n",
            "freqbins:  513\n",
            "timebins:  1017\n",
            "freqbins:  513\n",
            "timebins:  5860\n",
            "freqbins:  513\n",
            "timebins:  4454\n",
            "freqbins:  513\n",
            "timebins:  3313\n",
            "freqbins:  513\n",
            "timebins:  1122\n",
            "freqbins:  513\n",
            "timebins:  5274\n",
            "freqbins:  513\n",
            "timebins:  5860\n",
            "freqbins:  513\n",
            "timebins:  855\n",
            "freqbins:  513\n",
            "timebins:  3399\n",
            "freqbins:  513\n",
            "timebins:  1099\n",
            "freqbins:  513\n",
            "timebins:  1134\n",
            "freqbins:  513\n",
            "timebins:  1103\n",
            "freqbins:  513\n",
            "timebins:  725\n",
            "freqbins:  513\n",
            "timebins:  3114\n",
            "freqbins:  513\n",
            "timebins:  1897\n",
            "freqbins:  513\n",
            "timebins:  5860\n",
            "freqbins:  513\n",
            "timebins:  5860\n",
            "freqbins:  513\n",
            "timebins:  876\n",
            "freqbins:  513\n",
            "timebins:  981\n",
            "freqbins:  513\n",
            "timebins:  958\n",
            "freqbins:  513\n",
            "timebins:  197\n",
            "freqbins:  513\n",
            "timebins:  365\n",
            "freqbins:  513\n",
            "timebins:  255\n",
            "freqbins:  513\n",
            "timebins:  2048\n",
            "freqbins:  513\n",
            "timebins:  778\n",
            "freqbins:  513\n",
            "timebins:  7527\n",
            "freqbins:  513\n",
            "timebins:  10205\n",
            "freqbins:  513\n",
            "timebins:  2217\n",
            "freqbins:  513\n",
            "timebins:  1914\n",
            "freqbins:  513\n",
            "timebins:  1373\n",
            "freqbins:  513\n",
            "timebins:  775\n",
            "freqbins:  513\n",
            "timebins:  9760\n",
            "freqbins:  513\n",
            "timebins:  3328\n",
            "freqbins:  513\n",
            "timebins:  9760\n",
            "freqbins:  513\n",
            "timebins:  20651\n",
            "freqbins:  513\n",
            "timebins:  24204\n",
            "freqbins:  513\n",
            "timebins:  21203\n",
            "freqbins:  513\n",
            "timebins:  22731\n",
            "freqbins:  513\n",
            "timebins:  26013\n",
            "freqbins:  513\n",
            "timebins:  9760\n",
            "freqbins:  513\n",
            "timebins:  9424\n",
            "freqbins:  513\n",
            "timebins:  1850\n",
            "freqbins:  513\n",
            "timebins:  2871\n",
            "freqbins:  513\n",
            "timebins:  2344\n",
            "freqbins:  513\n",
            "timebins:  3414\n",
            "freqbins:  513\n",
            "timebins:  4883\n",
            "freqbins:  513\n",
            "timebins:  4883\n",
            "freqbins:  513\n",
            "timebins:  4883\n",
            "freqbins:  513\n",
            "timebins:  4883\n",
            "freqbins:  513\n",
            "timebins:  6311\n",
            "freqbins:  513\n",
            "timebins:  3542\n",
            "freqbins:  513\n",
            "timebins:  15158\n",
            "freqbins:  513\n",
            "timebins:  23549\n",
            "freqbins:  513\n",
            "timebins:  2433\n",
            "freqbins:  513\n",
            "timebins:  20560\n",
            "freqbins:  513\n",
            "timebins:  5315\n",
            "freqbins:  513\n",
            "timebins:  21561\n",
            "freqbins:  513\n",
            "timebins:  17760\n",
            "freqbins:  513\n",
            "timebins:  29888\n",
            "freqbins:  513\n",
            "timebins:  23072\n",
            "freqbins:  513\n",
            "timebins:  25648\n",
            "freqbins:  513\n",
            "timebins:  1240\n",
            "freqbins:  513\n",
            "timebins:  9107\n",
            "freqbins:  513\n",
            "timebins:  35184\n",
            "freqbins:  513\n",
            "timebins:  1357\n",
            "freqbins:  513\n",
            "timebins:  1783\n",
            "freqbins:  513\n",
            "timebins:  1465\n",
            "freqbins:  513\n",
            "timebins:  45808\n",
            "freqbins:  513\n",
            "timebins:  1334\n",
            "freqbins:  513\n",
            "timebins:  1733\n",
            "freqbins:  513\n"
          ]
        },
        {
          "output_type": "stream",
          "name": "stderr",
          "text": [
            "/usr/local/lib/python3.7/dist-packages/ipykernel_launcher.py:55: WavFileWarning: Reached EOF prematurely; finished at 6422528 bytes, expected 6422536 bytes from header.\n"
          ]
        },
        {
          "output_type": "stream",
          "name": "stdout",
          "text": [
            "timebins:  6272\n",
            "freqbins:  513\n",
            "timebins:  13824\n",
            "freqbins:  513\n"
          ]
        },
        {
          "output_type": "stream",
          "name": "stderr",
          "text": [
            "/usr/local/lib/python3.7/dist-packages/ipykernel_launcher.py:55: WavFileWarning: Reached EOF prematurely; finished at 9830400 bytes, expected 9830408 bytes from header.\n"
          ]
        },
        {
          "output_type": "stream",
          "name": "stdout",
          "text": [
            "timebins:  9600\n",
            "freqbins:  513\n",
            "timebins:  5632\n",
            "freqbins:  513\n"
          ]
        },
        {
          "output_type": "stream",
          "name": "stderr",
          "text": [
            "/usr/local/lib/python3.7/dist-packages/ipykernel_launcher.py:55: WavFileWarning: Reached EOF prematurely; finished at 12451840 bytes, expected 12451848 bytes from header.\n"
          ]
        },
        {
          "output_type": "stream",
          "name": "stdout",
          "text": [
            "timebins:  12160\n",
            "freqbins:  513\n",
            "timebins:  3708\n",
            "freqbins:  513\n",
            "timebins:  1514\n",
            "freqbins:  513\n",
            "timebins:  5518\n",
            "freqbins:  513\n",
            "timebins:  2202\n",
            "freqbins:  513\n",
            "timebins:  4674\n",
            "freqbins:  513\n",
            "timebins:  2058\n",
            "freqbins:  513\n",
            "timebins:  2286\n",
            "freqbins:  513\n",
            "timebins:  2201\n",
            "freqbins:  513\n",
            "timebins:  9151\n",
            "freqbins:  513\n",
            "timebins:  7353\n",
            "freqbins:  513\n",
            "timebins:  3750\n",
            "freqbins:  513\n",
            "timebins:  15011\n",
            "freqbins:  513\n",
            "timebins:  5880\n",
            "freqbins:  513\n",
            "timebins:  1581\n",
            "freqbins:  513\n",
            "timebins:  37040\n",
            "freqbins:  513\n",
            "timebins:  1384\n",
            "freqbins:  513\n",
            "timebins:  2595\n",
            "freqbins:  513\n",
            "timebins:  66240\n",
            "freqbins:  513\n",
            "timebins:  5936\n",
            "freqbins:  513\n",
            "timebins:  9760\n",
            "freqbins:  513\n",
            "timebins:  3559\n",
            "freqbins:  513\n",
            "timebins:  4864\n",
            "freqbins:  513\n",
            "timebins:  9760\n",
            "freqbins:  513\n",
            "timebins:  2560\n",
            "freqbins:  513\n"
          ]
        },
        {
          "output_type": "stream",
          "name": "stderr",
          "text": [
            "/usr/local/lib/python3.7/dist-packages/ipykernel_launcher.py:55: WavFileWarning: Reached EOF prematurely; finished at 5047165 bytes, expected 5047173 bytes from header.\n"
          ]
        },
        {
          "output_type": "stream",
          "name": "stdout",
          "text": [
            "timebins:  4929\n",
            "freqbins:  513\n"
          ]
        },
        {
          "output_type": "stream",
          "name": "stderr",
          "text": [
            "/usr/local/lib/python3.7/dist-packages/ipykernel_launcher.py:55: WavFileWarning: Reached EOF prematurely; finished at 5025319 bytes, expected 5025327 bytes from header.\n"
          ]
        },
        {
          "output_type": "stream",
          "name": "stdout",
          "text": [
            "timebins:  4907\n",
            "freqbins:  513\n",
            "timebins:  938\n",
            "freqbins:  513\n",
            "timebins:  1893\n",
            "freqbins:  513\n",
            "timebins:  2258\n",
            "freqbins:  513\n",
            "timebins:  1393\n",
            "freqbins:  513\n",
            "timebins:  4688\n",
            "freqbins:  513\n",
            "timebins:  4688\n",
            "freqbins:  513\n"
          ]
        },
        {
          "output_type": "stream",
          "name": "stderr",
          "text": [
            "/usr/local/lib/python3.7/dist-packages/ipykernel_launcher.py:55: WavFileWarning: Reached EOF prematurely; finished at 2490368 bytes, expected 2490376 bytes from header.\n"
          ]
        },
        {
          "output_type": "stream",
          "name": "stdout",
          "text": [
            "timebins:  2432\n",
            "freqbins:  513\n",
            "timebins:  2176\n",
            "freqbins:  513\n",
            "timebins:  3840\n",
            "freqbins:  513\n",
            "timebins:  1664\n",
            "freqbins:  513\n",
            "timebins:  5632\n",
            "freqbins:  513\n",
            "timebins:  2944\n",
            "freqbins:  513\n",
            "timebins:  2176\n",
            "freqbins:  513\n",
            "timebins:  1536\n",
            "freqbins:  513\n"
          ]
        },
        {
          "output_type": "stream",
          "name": "stderr",
          "text": [
            "/usr/local/lib/python3.7/dist-packages/ipykernel_launcher.py:55: WavFileWarning: Reached EOF prematurely; finished at 2752512 bytes, expected 2752520 bytes from header.\n"
          ]
        },
        {
          "output_type": "stream",
          "name": "stdout",
          "text": [
            "timebins:  2688\n",
            "freqbins:  513\n"
          ]
        },
        {
          "output_type": "stream",
          "name": "stderr",
          "text": [
            "/usr/local/lib/python3.7/dist-packages/ipykernel_launcher.py:55: WavFileWarning: Reached EOF prematurely; finished at 1835008 bytes, expected 1835016 bytes from header.\n"
          ]
        },
        {
          "output_type": "stream",
          "name": "stdout",
          "text": [
            "timebins:  1792\n",
            "freqbins:  513\n",
            "timebins:  2048\n",
            "freqbins:  513\n",
            "timebins:  2944\n",
            "freqbins:  513\n",
            "timebins:  1920\n",
            "freqbins:  513\n",
            "timebins:  4688\n",
            "freqbins:  513\n",
            "timebins:  7045\n",
            "freqbins:  513\n",
            "timebins:  1067\n",
            "freqbins:  513\n",
            "timebins:  7539\n",
            "freqbins:  513\n",
            "timebins:  727\n",
            "freqbins:  513\n",
            "timebins:  627\n",
            "freqbins:  513\n",
            "timebins:  1200\n",
            "freqbins:  513\n",
            "timebins:  2663\n",
            "freqbins:  513\n",
            "timebins:  1736\n",
            "freqbins:  513\n",
            "timebins:  1099\n",
            "freqbins:  513\n",
            "timebins:  4688\n",
            "freqbins:  513\n",
            "timebins:  5860\n",
            "freqbins:  513\n",
            "timebins:  5860\n",
            "freqbins:  513\n",
            "timebins:  5860\n",
            "freqbins:  513\n",
            "timebins:  5860\n",
            "freqbins:  513\n",
            "timebins:  5860\n",
            "freqbins:  513\n",
            "timebins:  5860\n",
            "freqbins:  513\n",
            "timebins:  5860\n",
            "freqbins:  513\n",
            "timebins:  5860\n",
            "freqbins:  513\n",
            "timebins:  5860\n",
            "freqbins:  513\n",
            "timebins:  5860\n",
            "freqbins:  513\n",
            "timebins:  5860\n",
            "freqbins:  513\n",
            "timebins:  5860\n",
            "freqbins:  513\n",
            "timebins:  5860\n",
            "freqbins:  513\n",
            "timebins:  5860\n",
            "freqbins:  513\n",
            "timebins:  5860\n",
            "freqbins:  513\n",
            "timebins:  5860\n",
            "freqbins:  513\n",
            "timebins:  5860\n",
            "freqbins:  513\n",
            "timebins:  5860\n",
            "freqbins:  513\n",
            "timebins:  5860\n",
            "freqbins:  513\n",
            "timebins:  5860\n",
            "freqbins:  513\n",
            "timebins:  5860\n",
            "freqbins:  513\n",
            "timebins:  5860\n",
            "freqbins:  513\n",
            "timebins:  5860\n",
            "freqbins:  513\n",
            "timebins:  5860\n",
            "freqbins:  513\n",
            "timebins:  5860\n",
            "freqbins:  513\n",
            "timebins:  5860\n",
            "freqbins:  513\n",
            "timebins:  5860\n",
            "freqbins:  513\n",
            "timebins:  5860\n",
            "freqbins:  513\n",
            "timebins:  5860\n",
            "freqbins:  513\n",
            "timebins:  5860\n",
            "freqbins:  513\n",
            "timebins:  5860\n",
            "freqbins:  513\n",
            "timebins:  5860\n",
            "freqbins:  513\n",
            "timebins:  5860\n",
            "freqbins:  513\n",
            "timebins:  5860\n",
            "freqbins:  513\n",
            "timebins:  5860\n",
            "freqbins:  513\n",
            "timebins:  5860\n",
            "freqbins:  513\n",
            "timebins:  5860\n",
            "freqbins:  513\n",
            "timebins:  5860\n",
            "freqbins:  513\n",
            "timebins:  5860\n",
            "freqbins:  513\n",
            "timebins:  5860\n",
            "freqbins:  513\n",
            "timebins:  5860\n",
            "freqbins:  513\n",
            "timebins:  5860\n",
            "freqbins:  513\n",
            "timebins:  5860\n",
            "freqbins:  513\n",
            "timebins:  5860\n",
            "freqbins:  513\n",
            "timebins:  5860\n",
            "freqbins:  513\n",
            "timebins:  5860\n",
            "freqbins:  513\n",
            "timebins:  5860\n",
            "freqbins:  513\n",
            "timebins:  5860\n",
            "freqbins:  513\n",
            "timebins:  5860\n",
            "freqbins:  513\n",
            "timebins:  5860\n",
            "freqbins:  513\n",
            "timebins:  5860\n",
            "freqbins:  513\n",
            "timebins:  5860\n",
            "freqbins:  513\n",
            "timebins:  5860\n",
            "freqbins:  513\n",
            "timebins:  17842\n",
            "freqbins:  513\n"
          ]
        },
        {
          "output_type": "stream",
          "name": "stderr",
          "text": [
            "/usr/local/lib/python3.7/dist-packages/ipykernel_launcher.py:55: WavFileWarning: Reached EOF prematurely; finished at 7407906 bytes, expected 7407914 bytes from header.\n"
          ]
        },
        {
          "output_type": "stream",
          "name": "stdout",
          "text": [
            "timebins:  7234\n",
            "freqbins:  513\n",
            "timebins:  3390\n",
            "freqbins:  513\n",
            "timebins:  1704\n",
            "freqbins:  513\n"
          ]
        },
        {
          "output_type": "stream",
          "name": "stderr",
          "text": [
            "/usr/local/lib/python3.7/dist-packages/ipykernel_launcher.py:55: WavFileWarning: Reached EOF prematurely; finished at 4100733 bytes, expected 4100741 bytes from header.\n"
          ]
        },
        {
          "output_type": "stream",
          "name": "stdout",
          "text": [
            "timebins:  4005\n",
            "freqbins:  513\n",
            "timebins:  2341\n",
            "freqbins:  513\n",
            "timebins:  3721\n",
            "freqbins:  513\n"
          ]
        },
        {
          "output_type": "stream",
          "name": "stderr",
          "text": [
            "/usr/local/lib/python3.7/dist-packages/ipykernel_launcher.py:55: WavFileWarning: Reached EOF prematurely; finished at 1187915 bytes, expected 1187923 bytes from header.\n"
          ]
        },
        {
          "output_type": "stream",
          "name": "stdout",
          "text": [
            "timebins:  1160\n",
            "freqbins:  513\n",
            "timebins:  2000\n",
            "freqbins:  513\n",
            "timebins:  4036\n",
            "freqbins:  513\n",
            "timebins:  5732\n",
            "freqbins:  513\n",
            "timebins:  1187\n",
            "freqbins:  513\n",
            "timebins:  994\n",
            "freqbins:  513\n",
            "timebins:  5816\n",
            "freqbins:  513\n",
            "timebins:  1299\n",
            "freqbins:  513\n",
            "timebins:  1518\n",
            "freqbins:  513\n",
            "timebins:  1422\n",
            "freqbins:  513\n",
            "timebins:  1311\n",
            "freqbins:  513\n",
            "timebins:  1439\n",
            "freqbins:  513\n",
            "timebins:  1966\n",
            "freqbins:  513\n",
            "timebins:  2014\n",
            "freqbins:  513\n",
            "timebins:  1802\n",
            "freqbins:  513\n",
            "timebins:  881\n",
            "freqbins:  513\n"
          ]
        },
        {
          "output_type": "stream",
          "name": "stderr",
          "text": [
            "/usr/local/lib/python3.7/dist-packages/ipykernel_launcher.py:55: WavFileWarning: Reached EOF prematurely; finished at 2227439 bytes, expected 2227447 bytes from header.\n"
          ]
        },
        {
          "output_type": "stream",
          "name": "stdout",
          "text": [
            "timebins:  2173\n",
            "freqbins:  513\n",
            "timebins:  4688\n",
            "freqbins:  513\n",
            "timebins:  2173\n",
            "freqbins:  513\n",
            "timebins:  881\n",
            "freqbins:  513\n",
            "timebins:  3124\n",
            "freqbins:  513\n",
            "timebins:  4688\n",
            "freqbins:  513\n",
            "timebins:  4963\n",
            "freqbins:  513\n",
            "timebins:  2283\n",
            "freqbins:  513\n",
            "timebins:  4688\n",
            "freqbins:  513\n",
            "timebins:  4649\n",
            "freqbins:  513\n",
            "timebins:  4688\n",
            "freqbins:  513\n"
          ]
        },
        {
          "output_type": "stream",
          "name": "stderr",
          "text": [
            "/usr/local/lib/python3.7/dist-packages/ipykernel_launcher.py:55: WavFileWarning: Reached EOF prematurely; finished at 1564619 bytes, expected 1564627 bytes from header.\n"
          ]
        },
        {
          "output_type": "stream",
          "name": "stdout",
          "text": [
            "timebins:  1528\n",
            "freqbins:  513\n",
            "timebins:  1563\n",
            "freqbins:  513\n",
            "timebins:  1093\n",
            "freqbins:  513\n",
            "timebins:  907\n",
            "freqbins:  513\n",
            "timebins:  1577\n",
            "freqbins:  513\n",
            "timebins:  1616\n",
            "freqbins:  513\n",
            "timebins:  1171\n",
            "freqbins:  513\n",
            "timebins:  1987\n",
            "freqbins:  513\n",
            "timebins:  1314\n",
            "freqbins:  513\n",
            "timebins:  1138\n",
            "freqbins:  513\n",
            "timebins:  1894\n",
            "freqbins:  513\n",
            "timebins:  1834\n",
            "freqbins:  513\n",
            "timebins:  1132\n",
            "freqbins:  513\n",
            "timebins:  2072\n",
            "freqbins:  513\n",
            "timebins:  1563\n",
            "freqbins:  513\n",
            "timebins:  1609\n",
            "freqbins:  513\n",
            "timebins:  1739\n",
            "freqbins:  513\n",
            "timebins:  2531\n",
            "freqbins:  513\n",
            "timebins:  2165\n",
            "freqbins:  513\n",
            "timebins:  2344\n",
            "freqbins:  513\n",
            "timebins:  1501\n",
            "freqbins:  513\n",
            "timebins:  1661\n",
            "freqbins:  513\n",
            "timebins:  2192\n",
            "freqbins:  513\n",
            "timebins:  473\n",
            "freqbins:  513\n",
            "timebins:  2546\n",
            "freqbins:  513\n",
            "timebins:  1201\n",
            "freqbins:  513\n",
            "timebins:  4688\n",
            "freqbins:  513\n",
            "timebins:  1963\n",
            "freqbins:  513\n",
            "timebins:  1518\n",
            "freqbins:  513\n",
            "timebins:  1149\n",
            "freqbins:  513\n",
            "timebins:  935\n",
            "freqbins:  513\n",
            "timebins:  1954\n",
            "freqbins:  513\n",
            "timebins:  4688\n",
            "freqbins:  513\n",
            "timebins:  4688\n",
            "freqbins:  513\n",
            "timebins:  4688\n",
            "freqbins:  513\n",
            "timebins:  4688\n",
            "freqbins:  513\n",
            "timebins:  4688\n",
            "freqbins:  513\n",
            "timebins:  2939\n",
            "freqbins:  513\n",
            "timebins:  5618\n",
            "freqbins:  513\n",
            "timebins:  1775\n",
            "freqbins:  513\n",
            "timebins:  4860\n",
            "freqbins:  513\n",
            "timebins:  6660\n",
            "freqbins:  513\n",
            "timebins:  6118\n",
            "freqbins:  513\n",
            "timebins:  5512\n",
            "freqbins:  513\n",
            "timebins:  6792\n",
            "freqbins:  513\n",
            "timebins:  4097\n",
            "freqbins:  513\n",
            "timebins:  2627\n",
            "freqbins:  513\n",
            "timebins:  6292\n",
            "freqbins:  513\n",
            "timebins:  3945\n",
            "freqbins:  513\n",
            "timebins:  2070\n",
            "freqbins:  513\n",
            "timebins:  5600\n",
            "freqbins:  513\n",
            "timebins:  16668\n",
            "freqbins:  513\n",
            "timebins:  7535\n",
            "freqbins:  513\n",
            "timebins:  5926\n",
            "freqbins:  513\n",
            "timebins:  5527\n",
            "freqbins:  513\n",
            "timebins:  32432\n",
            "freqbins:  513\n",
            "timebins:  4455\n",
            "freqbins:  513\n",
            "timebins:  5389\n",
            "freqbins:  513\n",
            "timebins:  7283\n",
            "freqbins:  513\n",
            "timebins:  3115\n",
            "freqbins:  513\n",
            "timebins:  5508\n",
            "freqbins:  513\n",
            "timebins:  16388\n",
            "freqbins:  513\n",
            "timebins:  6447\n",
            "freqbins:  513\n",
            "timebins:  5464\n",
            "freqbins:  513\n",
            "timebins:  9151\n",
            "freqbins:  513\n",
            "timebins:  10412\n",
            "freqbins:  513\n",
            "timebins:  12425\n",
            "freqbins:  513\n",
            "timebins:  2275\n",
            "freqbins:  513\n",
            "timebins:  9612\n",
            "freqbins:  513\n",
            "timebins:  4601\n",
            "freqbins:  513\n",
            "timebins:  9212\n",
            "freqbins:  513\n",
            "timebins:  10764\n",
            "freqbins:  513\n",
            "timebins:  8951\n",
            "freqbins:  513\n",
            "timebins:  3307\n",
            "freqbins:  513\n",
            "timebins:  4489\n",
            "freqbins:  513\n",
            "timebins:  8603\n",
            "freqbins:  513\n",
            "timebins:  20791\n",
            "freqbins:  513\n",
            "timebins:  9798\n",
            "freqbins:  513\n",
            "timebins:  7003\n",
            "freqbins:  513\n",
            "timebins:  13637\n",
            "freqbins:  513\n",
            "timebins:  11250\n",
            "freqbins:  513\n",
            "timebins:  9962\n",
            "freqbins:  513\n",
            "timebins:  16322\n",
            "freqbins:  513\n",
            "timebins:  6836\n",
            "freqbins:  513\n",
            "timebins:  8969\n",
            "freqbins:  513\n",
            "timebins:  6498\n",
            "freqbins:  513\n",
            "timebins:  10184\n",
            "freqbins:  513\n",
            "timebins:  8138\n",
            "freqbins:  513\n",
            "timebins:  11104\n",
            "freqbins:  513\n",
            "timebins:  5639\n",
            "freqbins:  513\n",
            "timebins:  11591\n",
            "freqbins:  513\n",
            "timebins:  7627\n",
            "freqbins:  513\n",
            "timebins:  1160\n",
            "freqbins:  513\n",
            "timebins:  1160\n",
            "freqbins:  513\n",
            "timebins:  2249\n",
            "freqbins:  513\n"
          ]
        },
        {
          "output_type": "stream",
          "name": "stderr",
          "text": [
            "/usr/local/lib/python3.7/dist-packages/ipykernel_launcher.py:55: WavFileWarning: Reached EOF prematurely; finished at 1049277 bytes, expected 1049285 bytes from header.\n"
          ]
        },
        {
          "output_type": "stream",
          "name": "stdout",
          "text": [
            "timebins:  1025\n",
            "freqbins:  513\n",
            "timebins:  2215\n",
            "freqbins:  513\n",
            "timebins:  2056\n",
            "freqbins:  513\n",
            "timebins:  4286\n",
            "freqbins:  513\n",
            "timebins:  5169\n",
            "freqbins:  513\n"
          ]
        },
        {
          "output_type": "stream",
          "name": "stderr",
          "text": [
            "/usr/local/lib/python3.7/dist-packages/ipykernel_launcher.py:55: WavFileWarning: Reached EOF prematurely; finished at 1188201 bytes, expected 1188209 bytes from header.\n"
          ]
        },
        {
          "output_type": "stream",
          "name": "stdout",
          "text": [
            "timebins:  1160\n",
            "freqbins:  513\n"
          ]
        },
        {
          "output_type": "stream",
          "name": "stderr",
          "text": [
            "/usr/local/lib/python3.7/dist-packages/ipykernel_launcher.py:55: WavFileWarning: Reached EOF prematurely; finished at 3761160 bytes, expected 3761168 bytes from header.\n"
          ]
        },
        {
          "output_type": "stream",
          "name": "stdout",
          "text": [
            "timebins:  3673\n",
            "freqbins:  513\n",
            "timebins:  6541\n",
            "freqbins:  513\n",
            "timebins:  5451\n",
            "freqbins:  513\n",
            "timebins:  7061\n",
            "freqbins:  513\n",
            "timebins:  8001\n",
            "freqbins:  513\n",
            "timebins:  6694\n",
            "freqbins:  513\n",
            "timebins:  8017\n",
            "freqbins:  513\n"
          ]
        },
        {
          "output_type": "stream",
          "name": "stderr",
          "text": [
            "/usr/local/lib/python3.7/dist-packages/ipykernel_launcher.py:55: WavFileWarning: Reached EOF prematurely; finished at 1451807 bytes, expected 1451815 bytes from header.\n"
          ]
        },
        {
          "output_type": "stream",
          "name": "stdout",
          "text": [
            "timebins:  1418\n",
            "freqbins:  513\n"
          ]
        },
        {
          "output_type": "stream",
          "name": "stderr",
          "text": [
            "/usr/local/lib/python3.7/dist-packages/ipykernel_launcher.py:55: WavFileWarning: Reached EOF prematurely; finished at 2125339 bytes, expected 2125347 bytes from header.\n"
          ]
        },
        {
          "output_type": "stream",
          "name": "stdout",
          "text": [
            "timebins:  2076\n",
            "freqbins:  513\n"
          ]
        },
        {
          "output_type": "stream",
          "name": "stderr",
          "text": [
            "/usr/local/lib/python3.7/dist-packages/ipykernel_launcher.py:55: WavFileWarning: Reached EOF prematurely; finished at 901657 bytes, expected 901665 bytes from header.\n"
          ]
        },
        {
          "output_type": "stream",
          "name": "stdout",
          "text": [
            "timebins:  881\n",
            "freqbins:  513\n",
            "timebins:  14647\n",
            "freqbins:  513\n"
          ]
        },
        {
          "output_type": "stream",
          "name": "stderr",
          "text": [
            "/usr/local/lib/python3.7/dist-packages/ipykernel_launcher.py:55: WavFileWarning: Reached EOF prematurely; finished at 1090891 bytes, expected 1090899 bytes from header.\n"
          ]
        },
        {
          "output_type": "stream",
          "name": "stdout",
          "text": [
            "timebins:  1065\n",
            "freqbins:  513\n",
            "timebins:  881\n",
            "freqbins:  513\n"
          ]
        },
        {
          "output_type": "stream",
          "name": "stderr",
          "text": [
            "/usr/local/lib/python3.7/dist-packages/ipykernel_launcher.py:55: WavFileWarning: Reached EOF prematurely; finished at 1451801 bytes, expected 1451809 bytes from header.\n"
          ]
        },
        {
          "output_type": "stream",
          "name": "stdout",
          "text": [
            "timebins:  1418\n",
            "freqbins:  513\n",
            "skipped: /content/drive/My Drive/Colab Notebooks/Deep Learning/ChiroVox_Bat_Data/rhinolophus_907/Malayanus_23/A002671_SPWUZLOVYJ.wav\n",
            "timebins:  4688\n",
            "freqbins:  513\n",
            "timebins:  4883\n",
            "freqbins:  513\n",
            "timebins:  4688\n",
            "freqbins:  513\n",
            "timebins:  10811\n",
            "freqbins:  513\n",
            "timebins:  13603\n",
            "freqbins:  513\n",
            "timebins:  5723\n",
            "freqbins:  513\n",
            "timebins:  9461\n",
            "freqbins:  513\n",
            "timebins:  8305\n",
            "freqbins:  513\n",
            "timebins:  8555\n",
            "freqbins:  513\n",
            "timebins:  7761\n",
            "freqbins:  513\n",
            "timebins:  2748\n",
            "freqbins:  513\n",
            "timebins:  4004\n",
            "freqbins:  513\n",
            "timebins:  2893\n",
            "freqbins:  513\n",
            "timebins:  1007\n",
            "freqbins:  513\n",
            "timebins:  1427\n",
            "freqbins:  513\n",
            "timebins:  3397\n",
            "freqbins:  513\n",
            "timebins:  3691\n",
            "freqbins:  513\n",
            "timebins:  1581\n",
            "freqbins:  513\n",
            "timebins:  1399\n",
            "freqbins:  513\n",
            "timebins:  14768\n",
            "freqbins:  513\n",
            "timebins:  4850\n",
            "freqbins:  513\n",
            "timebins:  4864\n",
            "freqbins:  513\n"
          ]
        },
        {
          "output_type": "stream",
          "name": "stderr",
          "text": [
            "/usr/local/lib/python3.7/dist-packages/ipykernel_launcher.py:55: WavFileWarning: Reached EOF prematurely; finished at 8160818 bytes, expected 8160822 bytes from header.\n"
          ]
        },
        {
          "output_type": "stream",
          "name": "stdout",
          "text": [
            "timebins:  7500\n",
            "freqbins:  513\n",
            "timebins:  14768\n",
            "freqbins:  513\n"
          ]
        },
        {
          "output_type": "stream",
          "name": "stderr",
          "text": [
            "/usr/local/lib/python3.7/dist-packages/ipykernel_launcher.py:55: WavFileWarning: Reached EOF prematurely; finished at 6467135 bytes, expected 6467143 bytes from header.\n"
          ]
        },
        {
          "output_type": "stream",
          "name": "stdout",
          "text": [
            "timebins:  6315\n",
            "freqbins:  513\n"
          ]
        },
        {
          "output_type": "stream",
          "name": "stderr",
          "text": [
            "/usr/local/lib/python3.7/dist-packages/ipykernel_launcher.py:55: WavFileWarning: Reached EOF prematurely; finished at 10000547 bytes, expected 10000555 bytes from header.\n"
          ]
        },
        {
          "output_type": "stream",
          "name": "stdout",
          "text": [
            "timebins:  9766\n",
            "freqbins:  513\n"
          ]
        },
        {
          "output_type": "stream",
          "name": "stderr",
          "text": [
            "/usr/local/lib/python3.7/dist-packages/ipykernel_launcher.py:55: WavFileWarning: Reached EOF prematurely; finished at 13010788 bytes, expected 13010796 bytes from header.\n"
          ]
        },
        {
          "output_type": "stream",
          "name": "stdout",
          "text": [
            "timebins:  12705\n",
            "freqbins:  513\n",
            "timebins:  7140\n",
            "freqbins:  513\n",
            "timebins:  1674\n",
            "freqbins:  513\n",
            "timebins:  6407\n",
            "freqbins:  513\n",
            "timebins:  2237\n",
            "freqbins:  513\n",
            "timebins:  6822\n",
            "freqbins:  513\n",
            "timebins:  3336\n",
            "freqbins:  513\n",
            "timebins:  1459\n",
            "freqbins:  513\n",
            "timebins:  1364\n",
            "freqbins:  513\n",
            "timebins:  2293\n",
            "freqbins:  513\n",
            "timebins:  4688\n",
            "freqbins:  513\n"
          ]
        },
        {
          "output_type": "stream",
          "name": "stderr",
          "text": [
            "/usr/local/lib/python3.7/dist-packages/ipykernel_launcher.py:55: WavFileWarning: Reached EOF prematurely; finished at 7995392 bytes, expected 7995400 bytes from header.\n"
          ]
        },
        {
          "output_type": "stream",
          "name": "stdout",
          "text": [
            "timebins:  7808\n",
            "freqbins:  513\n",
            "timebins:  7500\n",
            "freqbins:  513\n",
            "timebins:  3226\n",
            "freqbins:  513\n",
            "timebins:  2895\n",
            "freqbins:  513\n",
            "timebins:  1336\n",
            "freqbins:  513\n",
            "timebins:  7029\n",
            "freqbins:  513\n",
            "timebins:  7109\n",
            "freqbins:  513\n",
            "timebins:  5706\n",
            "freqbins:  513\n",
            "timebins:  5196\n",
            "freqbins:  513\n",
            "timebins:  2582\n",
            "freqbins:  513\n",
            "timebins:  7619\n",
            "freqbins:  513\n",
            "timebins:  7427\n",
            "freqbins:  513\n",
            "timebins:  7316\n",
            "freqbins:  513\n",
            "timebins:  7411\n",
            "freqbins:  513\n",
            "timebins:  8575\n",
            "freqbins:  513\n"
          ]
        },
        {
          "output_type": "stream",
          "name": "stderr",
          "text": [
            "/usr/local/lib/python3.7/dist-packages/ipykernel_launcher.py:55: WavFileWarning: Reached EOF prematurely; finished at 1038264 bytes, expected 1038272 bytes from header.\n"
          ]
        },
        {
          "output_type": "stream",
          "name": "stdout",
          "text": [
            "timebins:  1014\n",
            "freqbins:  513\n"
          ]
        },
        {
          "output_type": "stream",
          "name": "stderr",
          "text": [
            "/usr/local/lib/python3.7/dist-packages/ipykernel_launcher.py:55: WavFileWarning: Reached EOF prematurely; finished at 1306891 bytes, expected 1306899 bytes from header.\n"
          ]
        },
        {
          "output_type": "stream",
          "name": "stdout",
          "text": [
            "timebins:  1276\n",
            "freqbins:  513\n"
          ]
        },
        {
          "output_type": "stream",
          "name": "stderr",
          "text": [
            "/usr/local/lib/python3.7/dist-packages/ipykernel_launcher.py:55: WavFileWarning: Reached EOF prematurely; finished at 651724 bytes, expected 651732 bytes from header.\n"
          ]
        },
        {
          "output_type": "stream",
          "name": "stdout",
          "text": [
            "timebins:  636\n",
            "freqbins:  513\n",
            "timebins:  4648\n",
            "freqbins:  513\n",
            "timebins:  762\n",
            "freqbins:  513\n",
            "timebins:  4688\n",
            "freqbins:  513\n",
            "timebins:  3293\n",
            "freqbins:  513\n",
            "timebins:  4688\n",
            "freqbins:  513\n",
            "timebins:  4688\n",
            "freqbins:  513\n",
            "timebins:  4688\n",
            "freqbins:  513\n",
            "timebins:  4688\n",
            "freqbins:  513\n",
            "timebins:  4688\n",
            "freqbins:  513\n",
            "timebins:  4688\n",
            "freqbins:  513\n",
            "timebins:  4688\n",
            "freqbins:  513\n",
            "timebins:  4688\n",
            "freqbins:  513\n",
            "timebins:  4688\n",
            "freqbins:  513\n",
            "timebins:  8097\n",
            "freqbins:  513\n",
            "timebins:  3463\n",
            "freqbins:  513\n",
            "timebins:  1278\n",
            "freqbins:  513\n",
            "timebins:  9254\n",
            "freqbins:  513\n"
          ]
        },
        {
          "output_type": "stream",
          "name": "stderr",
          "text": [
            "/usr/local/lib/python3.7/dist-packages/ipykernel_launcher.py:55: WavFileWarning: Reached EOF prematurely; finished at 2721872 bytes, expected 2721880 bytes from header.\n"
          ]
        },
        {
          "output_type": "stream",
          "name": "stdout",
          "text": [
            "timebins:  2658\n",
            "freqbins:  513\n",
            "timebins:  4890\n",
            "freqbins:  513\n",
            "timebins:  4688\n",
            "freqbins:  513\n",
            "timebins:  4688\n",
            "freqbins:  513\n",
            "timebins:  8063\n",
            "freqbins:  513\n",
            "timebins:  4688\n",
            "freqbins:  513\n",
            "timebins:  4688\n",
            "freqbins:  513\n",
            "timebins:  4688\n",
            "freqbins:  513\n",
            "timebins:  3262\n",
            "freqbins:  513\n",
            "timebins:  1109\n",
            "freqbins:  513\n",
            "timebins:  1118\n",
            "freqbins:  513\n",
            "timebins:  1455\n",
            "freqbins:  513\n",
            "timebins:  2638\n",
            "freqbins:  513\n",
            "timebins:  1441\n",
            "freqbins:  513\n",
            "timebins:  1026\n",
            "freqbins:  513\n",
            "timebins:  1368\n",
            "freqbins:  513\n",
            "timebins:  1899\n",
            "freqbins:  513\n",
            "timebins:  1987\n",
            "freqbins:  513\n"
          ]
        },
        {
          "output_type": "stream",
          "name": "stderr",
          "text": [
            "/usr/local/lib/python3.7/dist-packages/ipykernel_launcher.py:55: WavFileWarning: Reached EOF prematurely; finished at 1519833 bytes, expected 1519841 bytes from header.\n"
          ]
        },
        {
          "output_type": "stream",
          "name": "stdout",
          "text": [
            "timebins:  1484\n",
            "freqbins:  513\n",
            "timebins:  2473\n",
            "freqbins:  513\n",
            "timebins:  3479\n",
            "freqbins:  513\n",
            "timebins:  7500\n",
            "freqbins:  513\n",
            "timebins:  5572\n",
            "freqbins:  513\n",
            "timebins:  5451\n",
            "freqbins:  513\n",
            "timebins:  3252\n",
            "freqbins:  513\n",
            "timebins:  3867\n",
            "freqbins:  513\n"
          ]
        },
        {
          "output_type": "stream",
          "name": "stderr",
          "text": [
            "/usr/local/lib/python3.7/dist-packages/ipykernel_launcher.py:55: WavFileWarning: Reached EOF prematurely; finished at 1596911 bytes, expected 1596919 bytes from header.\n"
          ]
        },
        {
          "output_type": "stream",
          "name": "stdout",
          "text": [
            "timebins:  1559\n",
            "freqbins:  513\n"
          ]
        },
        {
          "output_type": "stream",
          "name": "stderr",
          "text": [
            "/usr/local/lib/python3.7/dist-packages/ipykernel_launcher.py:55: WavFileWarning: Reached EOF prematurely; finished at 3111479 bytes, expected 3111487 bytes from header.\n"
          ]
        },
        {
          "output_type": "stream",
          "name": "stdout",
          "text": [
            "timebins:  3039\n",
            "freqbins:  513\n"
          ]
        },
        {
          "output_type": "stream",
          "name": "stderr",
          "text": [
            "/usr/local/lib/python3.7/dist-packages/ipykernel_launcher.py:55: WavFileWarning: Reached EOF prematurely; finished at 2337805 bytes, expected 2337813 bytes from header.\n"
          ]
        },
        {
          "output_type": "stream",
          "name": "stdout",
          "text": [
            "timebins:  2283\n",
            "freqbins:  513\n"
          ]
        },
        {
          "output_type": "stream",
          "name": "stderr",
          "text": [
            "/usr/local/lib/python3.7/dist-packages/ipykernel_launcher.py:55: WavFileWarning: Reached EOF prematurely; finished at 1319865 bytes, expected 1319873 bytes from header.\n"
          ]
        },
        {
          "output_type": "stream",
          "name": "stdout",
          "text": [
            "timebins:  1289\n",
            "freqbins:  513\n"
          ]
        },
        {
          "output_type": "stream",
          "name": "stderr",
          "text": [
            "/usr/local/lib/python3.7/dist-packages/ipykernel_launcher.py:55: WavFileWarning: Reached EOF prematurely; finished at 2337778 bytes, expected 2337786 bytes from header.\n"
          ]
        },
        {
          "output_type": "stream",
          "name": "stdout",
          "text": [
            "timebins:  2283\n",
            "freqbins:  513\n",
            "timebins:  3376\n",
            "freqbins:  513\n",
            "timebins:  6375\n",
            "freqbins:  513\n",
            "timebins:  4688\n",
            "freqbins:  513\n"
          ]
        },
        {
          "output_type": "stream",
          "name": "stderr",
          "text": [
            "/usr/local/lib/python3.7/dist-packages/ipykernel_launcher.py:55: WavFileWarning: Reached EOF prematurely; finished at 795427 bytes, expected 795435 bytes from header.\n"
          ]
        },
        {
          "output_type": "stream",
          "name": "stdout",
          "text": [
            "timebins:  777\n",
            "freqbins:  513\n",
            "timebins:  4688\n",
            "freqbins:  513\n",
            "timebins:  4688\n",
            "freqbins:  513\n",
            "timebins:  4688\n",
            "freqbins:  513\n",
            "timebins:  4688\n",
            "freqbins:  513\n",
            "timebins:  4688\n",
            "freqbins:  513\n",
            "timebins:  4688\n",
            "freqbins:  513\n",
            "timebins:  4688\n",
            "freqbins:  513\n",
            "timebins:  1563\n",
            "freqbins:  513\n",
            "timebins:  4688\n",
            "freqbins:  513\n",
            "timebins:  1517\n",
            "freqbins:  513\n",
            "timebins:  1262\n",
            "freqbins:  513\n",
            "timebins:  4688\n",
            "freqbins:  513\n",
            "timebins:  1585\n",
            "freqbins:  513\n",
            "timebins:  1490\n",
            "freqbins:  513\n",
            "timebins:  4012\n",
            "freqbins:  513\n",
            "timebins:  5754\n",
            "freqbins:  513\n",
            "timebins:  6129\n",
            "freqbins:  513\n",
            "timebins:  4688\n",
            "freqbins:  513\n",
            "timebins:  4688\n",
            "freqbins:  513\n",
            "timebins:  6669\n",
            "freqbins:  513\n",
            "timebins:  879\n",
            "freqbins:  513\n",
            "timebins:  105136\n",
            "freqbins:  513\n",
            "timebins:  2719\n",
            "freqbins:  513\n",
            "timebins:  9634\n",
            "freqbins:  513\n",
            "timebins:  43136\n",
            "freqbins:  513\n",
            "timebins:  19792\n",
            "freqbins:  513\n",
            "timebins:  38474\n",
            "freqbins:  513\n"
          ]
        },
        {
          "output_type": "stream",
          "name": "stderr",
          "text": [
            "/usr/local/lib/python3.7/dist-packages/ipykernel_launcher.py:55: WavFileWarning: Reached EOF prematurely; finished at 11665408 bytes, expected 11665416 bytes from header.\n"
          ]
        },
        {
          "output_type": "stream",
          "name": "stdout",
          "text": [
            "timebins:  11392\n",
            "freqbins:  513\n"
          ]
        },
        {
          "output_type": "stream",
          "name": "stderr",
          "text": [
            "/usr/local/lib/python3.7/dist-packages/ipykernel_launcher.py:55: WavFileWarning: Reached EOF prematurely; finished at 16515072 bytes, expected 16515080 bytes from header.\n"
          ]
        },
        {
          "output_type": "stream",
          "name": "stdout",
          "text": [
            "timebins:  16128\n",
            "freqbins:  513\n"
          ]
        },
        {
          "output_type": "stream",
          "name": "stderr",
          "text": [
            "/usr/local/lib/python3.7/dist-packages/ipykernel_launcher.py:55: WavFileWarning: Reached EOF prematurely; finished at 18219008 bytes, expected 18219016 bytes from header.\n"
          ]
        },
        {
          "output_type": "stream",
          "name": "stdout",
          "text": [
            "timebins:  17792\n",
            "freqbins:  513\n",
            "timebins:  5749\n",
            "freqbins:  513\n",
            "timebins:  6787\n",
            "freqbins:  513\n",
            "timebins:  3095\n",
            "freqbins:  513\n",
            "timebins:  1046\n",
            "freqbins:  513\n",
            "timebins:  1732\n",
            "freqbins:  513\n",
            "timebins:  6801\n",
            "freqbins:  513\n",
            "timebins:  2124\n",
            "freqbins:  513\n",
            "timebins:  2195\n",
            "freqbins:  513\n",
            "timebins:  1497\n",
            "freqbins:  513\n",
            "timebins:  1077\n",
            "freqbins:  513\n",
            "timebins:  2177\n",
            "freqbins:  513\n",
            "timebins:  4216\n",
            "freqbins:  513\n",
            "timebins:  733\n",
            "freqbins:  513\n",
            "timebins:  3005\n",
            "freqbins:  513\n",
            "timebins:  2627\n",
            "freqbins:  513\n",
            "timebins:  4039\n",
            "freqbins:  513\n",
            "timebins:  2338\n",
            "freqbins:  513\n",
            "timebins:  3072\n",
            "freqbins:  513\n",
            "timebins:  1016\n",
            "freqbins:  513\n",
            "timebins:  1080\n",
            "freqbins:  513\n",
            "timebins:  14768\n",
            "freqbins:  513\n",
            "timebins:  3328\n",
            "freqbins:  513\n"
          ]
        },
        {
          "output_type": "stream",
          "name": "stderr",
          "text": [
            "/usr/local/lib/python3.7/dist-packages/ipykernel_launcher.py:55: WavFileWarning: Reached EOF prematurely; finished at 2614164 bytes, expected 2614172 bytes from header.\n"
          ]
        },
        {
          "output_type": "stream",
          "name": "stdout",
          "text": [
            "timebins:  2552\n",
            "freqbins:  513\n",
            "timebins:  4096\n",
            "freqbins:  513\n",
            "timebins:  2304\n",
            "freqbins:  513\n",
            "timebins:  4688\n",
            "freqbins:  513\n",
            "timebins:  4688\n",
            "freqbins:  513\n",
            "timebins:  4688\n",
            "freqbins:  513\n",
            "timebins:  4688\n",
            "freqbins:  513\n",
            "timebins:  4688\n",
            "freqbins:  513\n",
            "timebins:  4688\n",
            "freqbins:  513\n",
            "timebins:  4688\n",
            "freqbins:  513\n",
            "timebins:  4688\n",
            "freqbins:  513\n",
            "timebins:  5860\n",
            "freqbins:  513\n",
            "timebins:  5860\n",
            "freqbins:  513\n",
            "timebins:  1226\n",
            "freqbins:  513\n",
            "timebins:  2461\n",
            "freqbins:  513\n",
            "timebins:  1921\n",
            "freqbins:  513\n",
            "timebins:  5860\n",
            "freqbins:  513\n",
            "timebins:  5860\n",
            "freqbins:  513\n",
            "timebins:  5860\n",
            "freqbins:  513\n",
            "timebins:  5860\n",
            "freqbins:  513\n",
            "timebins:  5860\n",
            "freqbins:  513\n",
            "timebins:  5860\n",
            "freqbins:  513\n",
            "timebins:  5860\n",
            "freqbins:  513\n",
            "timebins:  5860\n",
            "freqbins:  513\n",
            "timebins:  5860\n",
            "freqbins:  513\n",
            "timebins:  5860\n",
            "freqbins:  513\n",
            "timebins:  7500\n",
            "freqbins:  513\n",
            "timebins:  6091\n",
            "freqbins:  513\n",
            "timebins:  4883\n",
            "freqbins:  513\n",
            "timebins:  4050\n",
            "freqbins:  513\n",
            "timebins:  3609\n",
            "freqbins:  513\n",
            "timebins:  6501\n",
            "freqbins:  513\n",
            "timebins:  7500\n",
            "freqbins:  513\n",
            "skipped: /content/drive/My Drive/Colab Notebooks/Deep Learning/ChiroVox_Bat_Data/rhinolophus_907/stheno_8/A003331_CJQCQBGLBR.wav\n",
            "skipped: /content/drive/My Drive/Colab Notebooks/Deep Learning/ChiroVox_Bat_Data/rhinolophus_907/stheno_8/A003327_BBYCOPADNE.wav\n"
          ]
        },
        {
          "output_type": "stream",
          "name": "stderr",
          "text": [
            "/usr/local/lib/python3.7/dist-packages/ipykernel_launcher.py:55: WavFileWarning: Reached EOF prematurely; finished at 15859712 bytes, expected 15859720 bytes from header.\n"
          ]
        },
        {
          "output_type": "stream",
          "name": "stdout",
          "text": [
            "timebins:  15488\n",
            "freqbins:  513\n",
            "timebins:  24320\n",
            "freqbins:  513\n",
            "timebins:  4756\n",
            "freqbins:  513\n",
            "timebins:  5263\n",
            "freqbins:  513\n",
            "timebins:  7216\n",
            "freqbins:  513\n",
            "timebins:  614\n",
            "freqbins:  513\n",
            "timebins:  1557\n",
            "freqbins:  513\n",
            "timebins:  1609\n",
            "freqbins:  513\n",
            "timebins:  1450\n",
            "freqbins:  513\n"
          ]
        },
        {
          "output_type": "stream",
          "name": "stderr",
          "text": [
            "/usr/local/lib/python3.7/dist-packages/ipykernel_launcher.py:55: WavFileWarning: Reached EOF prematurely; finished at 2926042 bytes, expected 2926050 bytes from header.\n"
          ]
        },
        {
          "output_type": "stream",
          "name": "stdout",
          "text": [
            "timebins:  2858\n",
            "freqbins:  513\n"
          ]
        },
        {
          "output_type": "stream",
          "name": "stderr",
          "text": [
            "/usr/local/lib/python3.7/dist-packages/ipykernel_launcher.py:55: WavFileWarning: Reached EOF prematurely; finished at 2672390 bytes, expected 2672398 bytes from header.\n"
          ]
        },
        {
          "output_type": "stream",
          "name": "stdout",
          "text": [
            "timebins:  2610\n",
            "freqbins:  513\n",
            "timebins:  352\n",
            "freqbins:  513\n"
          ]
        },
        {
          "output_type": "stream",
          "name": "stderr",
          "text": [
            "/usr/local/lib/python3.7/dist-packages/ipykernel_launcher.py:55: WavFileWarning: Reached EOF prematurely; finished at 934152 bytes, expected 934160 bytes from header.\n"
          ]
        },
        {
          "output_type": "stream",
          "name": "stdout",
          "text": [
            "timebins:  912\n",
            "freqbins:  513\n",
            "timebins:  2501\n",
            "freqbins:  513\n"
          ]
        },
        {
          "output_type": "stream",
          "name": "stderr",
          "text": [
            "/usr/local/lib/python3.7/dist-packages/ipykernel_launcher.py:55: WavFileWarning: Reached EOF prematurely; finished at 2418258 bytes, expected 2418266 bytes from header.\n"
          ]
        },
        {
          "output_type": "stream",
          "name": "stdout",
          "text": [
            "timebins:  2362\n",
            "freqbins:  513\n",
            "timebins:  1637\n",
            "freqbins:  513\n",
            "timebins:  3533\n",
            "freqbins:  513\n"
          ]
        },
        {
          "output_type": "stream",
          "name": "stderr",
          "text": [
            "/usr/local/lib/python3.7/dist-packages/ipykernel_launcher.py:55: WavFileWarning: Reached EOF prematurely; finished at 2376522 bytes, expected 2376530 bytes from header.\n"
          ]
        },
        {
          "output_type": "stream",
          "name": "stdout",
          "text": [
            "timebins:  2321\n",
            "freqbins:  513\n"
          ]
        },
        {
          "output_type": "stream",
          "name": "stderr",
          "text": [
            "/usr/local/lib/python3.7/dist-packages/ipykernel_launcher.py:55: WavFileWarning: Reached EOF prematurely; finished at 2601942 bytes, expected 2601950 bytes from header.\n"
          ]
        },
        {
          "output_type": "stream",
          "name": "stdout",
          "text": [
            "timebins:  2541\n",
            "freqbins:  513\n",
            "timebins:  917\n",
            "freqbins:  513\n",
            "timebins:  1148\n",
            "freqbins:  513\n",
            "timebins:  4688\n",
            "freqbins:  513\n",
            "timebins:  4688\n",
            "freqbins:  513\n",
            "timebins:  817\n",
            "freqbins:  513\n",
            "timebins:  4688\n",
            "freqbins:  513\n",
            "skipped: /content/drive/My Drive/Colab Notebooks/Deep Learning/ChiroVox_Bat_Data/rhinolophus_907/thomasi_35/A002668_IEDLTIXLVZ.wav\n",
            "timebins:  4881\n",
            "freqbins:  513\n",
            "timebins:  1565\n",
            "freqbins:  513\n",
            "timebins:  4688\n",
            "freqbins:  513\n",
            "timebins:  4688\n",
            "freqbins:  513\n",
            "timebins:  1953\n",
            "freqbins:  513\n",
            "timebins:  4688\n",
            "freqbins:  513\n",
            "timebins:  4688\n",
            "freqbins:  513\n",
            "timebins:  4688\n",
            "freqbins:  513\n",
            "timebins:  2471\n",
            "freqbins:  513\n",
            "timebins:  2059\n",
            "freqbins:  513\n",
            "timebins:  787\n",
            "freqbins:  513\n",
            "timebins:  879\n",
            "freqbins:  513\n",
            "timebins:  2230\n",
            "freqbins:  513\n",
            "timebins:  1022\n",
            "freqbins:  513\n",
            "timebins:  1625\n",
            "freqbins:  513\n",
            "timebins:  3279\n",
            "freqbins:  513\n",
            "timebins:  1011\n",
            "freqbins:  513\n",
            "timebins:  7500\n",
            "freqbins:  513\n",
            "timebins:  1766\n",
            "freqbins:  513\n",
            "timebins:  281\n",
            "freqbins:  513\n",
            "timebins:  2051\n",
            "freqbins:  513\n",
            "timebins:  5427\n",
            "freqbins:  513\n",
            "timebins:  3956\n",
            "freqbins:  513\n",
            "timebins:  2999\n",
            "freqbins:  513\n",
            "timebins:  4044\n",
            "freqbins:  513\n",
            "timebins:  6901\n",
            "freqbins:  513\n",
            "timebins:  6901\n",
            "freqbins:  513\n",
            "timebins:  7236\n",
            "freqbins:  513\n",
            "timebins:  7125\n",
            "freqbins:  513\n",
            "timebins:  4688\n",
            "freqbins:  513\n",
            "timebins:  4688\n",
            "freqbins:  513\n",
            "timebins:  4688\n",
            "freqbins:  513\n",
            "timebins:  4688\n",
            "freqbins:  513\n",
            "timebins:  4688\n",
            "freqbins:  513\n",
            "timebins:  4688\n",
            "freqbins:  513\n",
            "timebins:  4688\n",
            "freqbins:  513\n",
            "timebins:  4688\n",
            "freqbins:  513\n",
            "timebins:  4688\n",
            "freqbins:  513\n",
            "timebins:  4688\n",
            "freqbins:  513\n",
            "timebins:  4688\n",
            "freqbins:  513\n",
            "timebins:  4688\n",
            "freqbins:  513\n",
            "timebins:  4688\n",
            "freqbins:  513\n",
            "timebins:  4688\n",
            "freqbins:  513\n",
            "timebins:  2225\n",
            "freqbins:  513\n",
            "timebins:  1588\n",
            "freqbins:  513\n",
            "timebins:  4688\n",
            "freqbins:  513\n",
            "timebins:  4688\n",
            "freqbins:  513\n",
            "timebins:  1035\n",
            "freqbins:  513\n",
            "timebins:  4688\n",
            "freqbins:  513\n",
            "timebins:  1686\n",
            "freqbins:  513\n",
            "timebins:  4688\n",
            "freqbins:  513\n",
            "timebins:  1034\n",
            "freqbins:  513\n",
            "timebins:  4688\n",
            "freqbins:  513\n",
            "timebins:  533\n",
            "freqbins:  513\n",
            "timebins:  1504\n",
            "freqbins:  513\n",
            "timebins:  4688\n",
            "freqbins:  513\n",
            "timebins:  563\n",
            "freqbins:  513\n",
            "timebins:  1245\n",
            "freqbins:  513\n",
            "timebins:  2284\n",
            "freqbins:  513\n",
            "timebins:  1657\n",
            "freqbins:  513\n",
            "timebins:  1699\n",
            "freqbins:  513\n",
            "timebins:  5992\n",
            "freqbins:  513\n",
            "skipped: /content/drive/My Drive/Colab Notebooks/Deep Learning/ChiroVox_Bat_Data/rhinolophus_907/pusillus_59/A002498_QSTNVCLIWH.wav\n",
            "timebins:  7500\n",
            "freqbins:  513\n",
            "timebins:  7500\n",
            "freqbins:  513\n",
            "timebins:  4688\n",
            "freqbins:  513\n",
            "timebins:  7156\n",
            "freqbins:  513\n",
            "timebins:  7500\n",
            "freqbins:  513\n",
            "timebins:  1659\n",
            "freqbins:  513\n",
            "timebins:  7500\n",
            "freqbins:  513\n",
            "timebins:  6981\n",
            "freqbins:  513\n",
            "timebins:  7500\n",
            "freqbins:  513\n",
            "timebins:  5310\n",
            "freqbins:  513\n",
            "timebins:  7364\n",
            "freqbins:  513\n",
            "timebins:  4413\n",
            "freqbins:  513\n",
            "timebins:  4688\n",
            "freqbins:  513\n",
            "timebins:  6758\n",
            "freqbins:  513\n",
            "timebins:  4883\n",
            "freqbins:  513\n",
            "timebins:  3564\n",
            "freqbins:  513\n",
            "timebins:  4883\n",
            "freqbins:  513\n",
            "timebins:  7236\n",
            "freqbins:  513\n",
            "timebins:  4883\n",
            "freqbins:  513\n",
            "timebins:  6826\n",
            "freqbins:  513\n",
            "timebins:  9375\n",
            "freqbins:  513\n",
            "timebins:  7635\n",
            "freqbins:  513\n",
            "timebins:  4844\n",
            "freqbins:  513\n",
            "timebins:  8097\n",
            "freqbins:  513\n",
            "timebins:  7500\n",
            "freqbins:  513\n",
            "timebins:  3715\n",
            "freqbins:  513\n",
            "timebins:  5851\n",
            "freqbins:  513\n",
            "timebins:  8827\n",
            "freqbins:  513\n",
            "timebins:  7330\n",
            "freqbins:  513\n",
            "timebins:  12241\n",
            "freqbins:  513\n",
            "timebins:  11058\n",
            "freqbins:  513\n",
            "timebins:  11080\n",
            "freqbins:  513\n",
            "timebins:  6047\n",
            "freqbins:  513\n",
            "timebins:  8846\n",
            "freqbins:  513\n",
            "timebins:  12916\n",
            "freqbins:  513\n",
            "timebins:  12396\n",
            "freqbins:  513\n",
            "timebins:  8952\n",
            "freqbins:  513\n",
            "timebins:  12574\n",
            "freqbins:  513\n",
            "timebins:  11818\n",
            "freqbins:  513\n",
            "timebins:  10518\n",
            "freqbins:  513\n",
            "timebins:  10313\n",
            "freqbins:  513\n",
            "timebins:  9766\n",
            "freqbins:  513\n",
            "timebins:  10455\n",
            "freqbins:  513\n",
            "timebins:  9568\n",
            "freqbins:  513\n",
            "timebins:  10400\n",
            "freqbins:  513\n",
            "timebins:  16982\n",
            "freqbins:  513\n",
            "timebins:  8627\n",
            "freqbins:  513\n",
            "timebins:  13307\n",
            "freqbins:  513\n",
            "timebins:  8271\n",
            "freqbins:  513\n",
            "timebins:  5846\n",
            "freqbins:  513\n",
            "timebins:  6352\n",
            "freqbins:  513\n",
            "timebins:  10015\n",
            "freqbins:  513\n",
            "timebins:  6716\n",
            "freqbins:  513\n",
            "timebins:  8843\n",
            "freqbins:  513\n",
            "timebins:  15048\n",
            "freqbins:  513\n",
            "timebins:  9432\n",
            "freqbins:  513\n",
            "timebins:  11239\n",
            "freqbins:  513\n",
            "timebins:  12791\n",
            "freqbins:  513\n",
            "timebins:  13118\n",
            "freqbins:  513\n"
          ]
        },
        {
          "output_type": "stream",
          "name": "stderr",
          "text": [
            "/usr/local/lib/python3.7/dist-packages/ipykernel_launcher.py:55: WavFileWarning: Reached EOF prematurely; finished at 1038219 bytes, expected 1038227 bytes from header.\n"
          ]
        },
        {
          "output_type": "stream",
          "name": "stdout",
          "text": [
            "timebins:  1014\n",
            "freqbins:  513\n",
            "timebins:  2419\n",
            "freqbins:  513\n",
            "timebins:  4688\n",
            "freqbins:  513\n"
          ]
        },
        {
          "output_type": "stream",
          "name": "stderr",
          "text": [
            "/usr/local/lib/python3.7/dist-packages/ipykernel_launcher.py:55: WavFileWarning: Reached EOF prematurely; finished at 2463023 bytes, expected 2463031 bytes from header.\n"
          ]
        },
        {
          "output_type": "stream",
          "name": "stdout",
          "text": [
            "timebins:  2405\n",
            "freqbins:  513\n",
            "timebins:  4688\n",
            "freqbins:  513\n",
            "timebins:  1918\n",
            "freqbins:  513\n",
            "timebins:  4688\n",
            "freqbins:  513\n"
          ]
        },
        {
          "output_type": "stream",
          "name": "stderr",
          "text": [
            "/usr/local/lib/python3.7/dist-packages/ipykernel_launcher.py:55: WavFileWarning: Reached EOF prematurely; finished at 2692049 bytes, expected 2692057 bytes from header.\n"
          ]
        },
        {
          "output_type": "stream",
          "name": "stdout",
          "text": [
            "timebins:  2629\n",
            "freqbins:  513\n",
            "timebins:  4688\n",
            "freqbins:  513\n",
            "timebins:  4898\n",
            "freqbins:  513\n"
          ]
        },
        {
          "output_type": "stream",
          "name": "stderr",
          "text": [
            "/usr/local/lib/python3.7/dist-packages/ipykernel_launcher.py:55: WavFileWarning: Reached EOF prematurely; finished at 1038169 bytes, expected 1038177 bytes from header.\n"
          ]
        },
        {
          "output_type": "stream",
          "name": "stdout",
          "text": [
            "timebins:  1014\n",
            "freqbins:  513\n",
            "timebins:  3347\n",
            "freqbins:  513\n",
            "timebins:  3750\n",
            "freqbins:  513\n",
            "timebins:  6066\n",
            "freqbins:  513\n",
            "timebins:  7500\n",
            "freqbins:  513\n",
            "timebins:  5786\n",
            "freqbins:  513\n",
            "timebins:  7500\n",
            "freqbins:  513\n",
            "timebins:  25216\n",
            "freqbins:  513\n",
            "timebins:  37600\n",
            "freqbins:  513\n",
            "timebins:  58594\n",
            "freqbins:  513\n",
            "timebins:  1738\n",
            "freqbins:  513\n",
            "timebins:  5536\n",
            "freqbins:  513\n",
            "timebins:  3866\n",
            "freqbins:  513\n",
            "timebins:  2400\n",
            "freqbins:  513\n",
            "timebins:  12666\n",
            "freqbins:  513\n",
            "timebins:  4621\n",
            "freqbins:  513\n",
            "timebins:  3915\n",
            "freqbins:  513\n",
            "timebins:  3154\n",
            "freqbins:  513\n",
            "timebins:  3465\n",
            "freqbins:  513\n",
            "timebins:  2070\n",
            "freqbins:  513\n",
            "timebins:  5713\n",
            "freqbins:  513\n",
            "timebins:  4221\n",
            "freqbins:  513\n",
            "skipped: /content/drive/My Drive/Colab Notebooks/Deep Learning/ChiroVox_Bat_Data/rhinolophus_907/creaghi_119/A000979_NEACDPSLHA.wav\n",
            "timebins:  6989\n",
            "freqbins:  513\n",
            "timebins:  4231\n",
            "freqbins:  513\n",
            "timebins:  25826\n",
            "freqbins:  513\n",
            "timebins:  9937\n",
            "freqbins:  513\n",
            "timebins:  7487\n",
            "freqbins:  513\n",
            "timebins:  3222\n",
            "freqbins:  513\n",
            "timebins:  6565\n",
            "freqbins:  513\n",
            "timebins:  5909\n",
            "freqbins:  513\n",
            "timebins:  15618\n",
            "freqbins:  513\n",
            "timebins:  4864\n",
            "freqbins:  513\n",
            "timebins:  23596\n",
            "freqbins:  513\n",
            "timebins:  3461\n",
            "freqbins:  513\n",
            "timebins:  8590\n",
            "freqbins:  513\n",
            "timebins:  6443\n",
            "freqbins:  513\n",
            "timebins:  3177\n",
            "freqbins:  513\n",
            "timebins:  16365\n",
            "freqbins:  513\n",
            "timebins:  15827\n",
            "freqbins:  513\n",
            "timebins:  3289\n",
            "freqbins:  513\n",
            "timebins:  13052\n",
            "freqbins:  513\n",
            "timebins:  10665\n",
            "freqbins:  513\n",
            "timebins:  10909\n",
            "freqbins:  513\n",
            "timebins:  2140\n",
            "freqbins:  513\n",
            "timebins:  21084\n",
            "freqbins:  513\n",
            "timebins:  6866\n",
            "freqbins:  513\n",
            "timebins:  21763\n",
            "freqbins:  513\n",
            "timebins:  5769\n",
            "freqbins:  513\n",
            "timebins:  5672\n",
            "freqbins:  513\n",
            "timebins:  7060\n",
            "freqbins:  513\n",
            "timebins:  24326\n",
            "freqbins:  513\n",
            "timebins:  15059\n",
            "freqbins:  513\n",
            "timebins:  12240\n",
            "freqbins:  513\n",
            "timebins:  8292\n",
            "freqbins:  513\n",
            "timebins:  10039\n",
            "freqbins:  513\n",
            "timebins:  13001\n",
            "freqbins:  513\n",
            "timebins:  4926\n",
            "freqbins:  513\n",
            "timebins:  29341\n",
            "freqbins:  513\n",
            "timebins:  8183\n",
            "freqbins:  513\n",
            "timebins:  8993\n",
            "freqbins:  513\n",
            "timebins:  18606\n",
            "freqbins:  513\n",
            "timebins:  37099\n",
            "freqbins:  513\n",
            "timebins:  8172\n",
            "freqbins:  513\n",
            "timebins:  7560\n",
            "freqbins:  513\n",
            "timebins:  2233\n",
            "freqbins:  513\n",
            "timebins:  5865\n",
            "freqbins:  513\n",
            "timebins:  22358\n",
            "freqbins:  513\n",
            "timebins:  8832\n",
            "freqbins:  513\n",
            "timebins:  5350\n",
            "freqbins:  513\n",
            "timebins:  8133\n",
            "freqbins:  513\n",
            "timebins:  7537\n",
            "freqbins:  513\n",
            "timebins:  3690\n",
            "freqbins:  513\n",
            "timebins:  7896\n",
            "freqbins:  513\n",
            "timebins:  5241\n",
            "freqbins:  513\n",
            "timebins:  4650\n",
            "freqbins:  513\n",
            "timebins:  18211\n",
            "freqbins:  513\n",
            "timebins:  10308\n",
            "freqbins:  513\n",
            "timebins:  11956\n",
            "freqbins:  513\n",
            "timebins:  3718\n",
            "freqbins:  513\n",
            "timebins:  10363\n",
            "freqbins:  513\n",
            "timebins:  5784\n",
            "freqbins:  513\n",
            "timebins:  13192\n",
            "freqbins:  513\n",
            "timebins:  2854\n",
            "freqbins:  513\n",
            "timebins:  7123\n",
            "freqbins:  513\n",
            "timebins:  9427\n",
            "freqbins:  513\n",
            "timebins:  14787\n",
            "freqbins:  513\n",
            "timebins:  11164\n",
            "freqbins:  513\n",
            "timebins:  6656\n",
            "freqbins:  513\n",
            "timebins:  8032\n",
            "freqbins:  513\n",
            "timebins:  7160\n",
            "freqbins:  513\n",
            "timebins:  1787\n",
            "freqbins:  513\n",
            "timebins:  1947\n",
            "freqbins:  513\n",
            "timebins:  3031\n",
            "freqbins:  513\n",
            "timebins:  1682\n",
            "freqbins:  513\n",
            "timebins:  11235\n",
            "freqbins:  513\n",
            "timebins:  4711\n",
            "freqbins:  513\n",
            "timebins:  4631\n",
            "freqbins:  513\n",
            "timebins:  7803\n",
            "freqbins:  513\n",
            "timebins:  6243\n",
            "freqbins:  513\n",
            "timebins:  22539\n",
            "freqbins:  513\n",
            "timebins:  5154\n",
            "freqbins:  513\n",
            "timebins:  15707\n",
            "freqbins:  513\n",
            "timebins:  4075\n",
            "freqbins:  513\n",
            "timebins:  8137\n",
            "freqbins:  513\n",
            "timebins:  3260\n",
            "freqbins:  513\n",
            "timebins:  2027\n",
            "freqbins:  513\n",
            "timebins:  16453\n",
            "freqbins:  513\n",
            "timebins:  10774\n",
            "freqbins:  513\n",
            "timebins:  5063\n",
            "freqbins:  513\n",
            "timebins:  9027\n",
            "freqbins:  513\n",
            "timebins:  12272\n",
            "freqbins:  513\n",
            "timebins:  12078\n",
            "freqbins:  513\n",
            "timebins:  10619\n",
            "freqbins:  513\n",
            "timebins:  5194\n",
            "freqbins:  513\n",
            "timebins:  7596\n",
            "freqbins:  513\n",
            "timebins:  5268\n",
            "freqbins:  513\n",
            "timebins:  15799\n",
            "freqbins:  513\n",
            "timebins:  8569\n",
            "freqbins:  513\n",
            "timebins:  18783\n",
            "freqbins:  513\n",
            "timebins:  7184\n",
            "freqbins:  513\n",
            "timebins:  7887\n",
            "freqbins:  513\n",
            "timebins:  13210\n",
            "freqbins:  513\n",
            "timebins:  8747\n",
            "freqbins:  513\n",
            "timebins:  15107\n",
            "freqbins:  513\n",
            "timebins:  7630\n",
            "freqbins:  513\n",
            "timebins:  8133\n",
            "freqbins:  513\n",
            "timebins:  8037\n",
            "freqbins:  513\n",
            "timebins:  13179\n",
            "freqbins:  513\n"
          ]
        },
        {
          "output_type": "display_data",
          "data": {
            "text/plain": [
              "<Figure size 1080x540 with 0 Axes>"
            ]
          },
          "metadata": {}
        },
        {
          "output_type": "display_data",
          "data": {
            "text/plain": [
              "<Figure size 1080x540 with 0 Axes>"
            ]
          },
          "metadata": {}
        },
        {
          "output_type": "display_data",
          "data": {
            "text/plain": [
              "<Figure size 1080x540 with 0 Axes>"
            ]
          },
          "metadata": {}
        },
        {
          "output_type": "display_data",
          "data": {
            "text/plain": [
              "<Figure size 1080x540 with 0 Axes>"
            ]
          },
          "metadata": {}
        },
        {
          "output_type": "display_data",
          "data": {
            "text/plain": [
              "<Figure size 1080x540 with 0 Axes>"
            ]
          },
          "metadata": {}
        },
        {
          "output_type": "display_data",
          "data": {
            "text/plain": [
              "<Figure size 1080x540 with 0 Axes>"
            ]
          },
          "metadata": {}
        },
        {
          "output_type": "display_data",
          "data": {
            "text/plain": [
              "<Figure size 1080x540 with 0 Axes>"
            ]
          },
          "metadata": {}
        },
        {
          "output_type": "display_data",
          "data": {
            "text/plain": [
              "<Figure size 1080x540 with 0 Axes>"
            ]
          },
          "metadata": {}
        },
        {
          "output_type": "display_data",
          "data": {
            "text/plain": [
              "<Figure size 1080x540 with 0 Axes>"
            ]
          },
          "metadata": {}
        },
        {
          "output_type": "display_data",
          "data": {
            "text/plain": [
              "<Figure size 1080x540 with 0 Axes>"
            ]
          },
          "metadata": {}
        },
        {
          "output_type": "display_data",
          "data": {
            "text/plain": [
              "<Figure size 1080x540 with 0 Axes>"
            ]
          },
          "metadata": {}
        },
        {
          "output_type": "display_data",
          "data": {
            "text/plain": [
              "<Figure size 1080x540 with 0 Axes>"
            ]
          },
          "metadata": {}
        },
        {
          "output_type": "display_data",
          "data": {
            "text/plain": [
              "<Figure size 1080x540 with 0 Axes>"
            ]
          },
          "metadata": {}
        },
        {
          "output_type": "display_data",
          "data": {
            "text/plain": [
              "<Figure size 1080x540 with 0 Axes>"
            ]
          },
          "metadata": {}
        },
        {
          "output_type": "display_data",
          "data": {
            "text/plain": [
              "<Figure size 1080x540 with 0 Axes>"
            ]
          },
          "metadata": {}
        },
        {
          "output_type": "display_data",
          "data": {
            "text/plain": [
              "<Figure size 1080x540 with 0 Axes>"
            ]
          },
          "metadata": {}
        },
        {
          "output_type": "display_data",
          "data": {
            "text/plain": [
              "<Figure size 1080x540 with 0 Axes>"
            ]
          },
          "metadata": {}
        },
        {
          "output_type": "display_data",
          "data": {
            "text/plain": [
              "<Figure size 1080x540 with 0 Axes>"
            ]
          },
          "metadata": {}
        },
        {
          "output_type": "display_data",
          "data": {
            "text/plain": [
              "<Figure size 1080x540 with 0 Axes>"
            ]
          },
          "metadata": {}
        },
        {
          "output_type": "display_data",
          "data": {
            "text/plain": [
              "<Figure size 1080x540 with 0 Axes>"
            ]
          },
          "metadata": {}
        },
        {
          "output_type": "display_data",
          "data": {
            "text/plain": [
              "<Figure size 1080x540 with 0 Axes>"
            ]
          },
          "metadata": {}
        },
        {
          "output_type": "display_data",
          "data": {
            "text/plain": [
              "<Figure size 1080x540 with 0 Axes>"
            ]
          },
          "metadata": {}
        },
        {
          "output_type": "display_data",
          "data": {
            "text/plain": [
              "<Figure size 1080x540 with 0 Axes>"
            ]
          },
          "metadata": {}
        },
        {
          "output_type": "display_data",
          "data": {
            "text/plain": [
              "<Figure size 1080x540 with 0 Axes>"
            ]
          },
          "metadata": {}
        },
        {
          "output_type": "display_data",
          "data": {
            "text/plain": [
              "<Figure size 1080x540 with 0 Axes>"
            ]
          },
          "metadata": {}
        },
        {
          "output_type": "display_data",
          "data": {
            "text/plain": [
              "<Figure size 1080x540 with 0 Axes>"
            ]
          },
          "metadata": {}
        },
        {
          "output_type": "display_data",
          "data": {
            "text/plain": [
              "<Figure size 1080x540 with 0 Axes>"
            ]
          },
          "metadata": {}
        },
        {
          "output_type": "display_data",
          "data": {
            "text/plain": [
              "<Figure size 1080x540 with 0 Axes>"
            ]
          },
          "metadata": {}
        },
        {
          "output_type": "display_data",
          "data": {
            "text/plain": [
              "<Figure size 1080x540 with 0 Axes>"
            ]
          },
          "metadata": {}
        },
        {
          "output_type": "display_data",
          "data": {
            "text/plain": [
              "<Figure size 1080x540 with 0 Axes>"
            ]
          },
          "metadata": {}
        },
        {
          "output_type": "display_data",
          "data": {
            "text/plain": [
              "<Figure size 1080x540 with 0 Axes>"
            ]
          },
          "metadata": {}
        },
        {
          "output_type": "display_data",
          "data": {
            "text/plain": [
              "<Figure size 1080x540 with 0 Axes>"
            ]
          },
          "metadata": {}
        },
        {
          "output_type": "display_data",
          "data": {
            "text/plain": [
              "<Figure size 1080x540 with 0 Axes>"
            ]
          },
          "metadata": {}
        },
        {
          "output_type": "display_data",
          "data": {
            "text/plain": [
              "<Figure size 1080x540 with 0 Axes>"
            ]
          },
          "metadata": {}
        },
        {
          "output_type": "display_data",
          "data": {
            "text/plain": [
              "<Figure size 1080x540 with 0 Axes>"
            ]
          },
          "metadata": {}
        },
        {
          "output_type": "display_data",
          "data": {
            "text/plain": [
              "<Figure size 1080x540 with 0 Axes>"
            ]
          },
          "metadata": {}
        },
        {
          "output_type": "display_data",
          "data": {
            "text/plain": [
              "<Figure size 1080x540 with 0 Axes>"
            ]
          },
          "metadata": {}
        },
        {
          "output_type": "display_data",
          "data": {
            "text/plain": [
              "<Figure size 1080x540 with 0 Axes>"
            ]
          },
          "metadata": {}
        },
        {
          "output_type": "display_data",
          "data": {
            "text/plain": [
              "<Figure size 1080x540 with 0 Axes>"
            ]
          },
          "metadata": {}
        },
        {
          "output_type": "display_data",
          "data": {
            "text/plain": [
              "<Figure size 1080x540 with 0 Axes>"
            ]
          },
          "metadata": {}
        },
        {
          "output_type": "display_data",
          "data": {
            "text/plain": [
              "<Figure size 1080x540 with 0 Axes>"
            ]
          },
          "metadata": {}
        },
        {
          "output_type": "display_data",
          "data": {
            "text/plain": [
              "<Figure size 1080x540 with 0 Axes>"
            ]
          },
          "metadata": {}
        },
        {
          "output_type": "display_data",
          "data": {
            "text/plain": [
              "<Figure size 1080x540 with 0 Axes>"
            ]
          },
          "metadata": {}
        },
        {
          "output_type": "display_data",
          "data": {
            "text/plain": [
              "<Figure size 1080x540 with 0 Axes>"
            ]
          },
          "metadata": {}
        },
        {
          "output_type": "display_data",
          "data": {
            "text/plain": [
              "<Figure size 1080x540 with 0 Axes>"
            ]
          },
          "metadata": {}
        },
        {
          "output_type": "display_data",
          "data": {
            "text/plain": [
              "<Figure size 1080x540 with 0 Axes>"
            ]
          },
          "metadata": {}
        },
        {
          "output_type": "display_data",
          "data": {
            "text/plain": [
              "<Figure size 1080x540 with 0 Axes>"
            ]
          },
          "metadata": {}
        },
        {
          "output_type": "display_data",
          "data": {
            "text/plain": [
              "<Figure size 1080x540 with 0 Axes>"
            ]
          },
          "metadata": {}
        },
        {
          "output_type": "display_data",
          "data": {
            "text/plain": [
              "<Figure size 1080x540 with 0 Axes>"
            ]
          },
          "metadata": {}
        },
        {
          "output_type": "display_data",
          "data": {
            "text/plain": [
              "<Figure size 1080x540 with 0 Axes>"
            ]
          },
          "metadata": {}
        },
        {
          "output_type": "display_data",
          "data": {
            "text/plain": [
              "<Figure size 1080x540 with 0 Axes>"
            ]
          },
          "metadata": {}
        },
        {
          "output_type": "display_data",
          "data": {
            "text/plain": [
              "<Figure size 1080x540 with 0 Axes>"
            ]
          },
          "metadata": {}
        },
        {
          "output_type": "display_data",
          "data": {
            "text/plain": [
              "<Figure size 1080x540 with 0 Axes>"
            ]
          },
          "metadata": {}
        },
        {
          "output_type": "display_data",
          "data": {
            "text/plain": [
              "<Figure size 1080x540 with 0 Axes>"
            ]
          },
          "metadata": {}
        },
        {
          "output_type": "display_data",
          "data": {
            "text/plain": [
              "<Figure size 1080x540 with 0 Axes>"
            ]
          },
          "metadata": {}
        },
        {
          "output_type": "display_data",
          "data": {
            "text/plain": [
              "<Figure size 1080x540 with 0 Axes>"
            ]
          },
          "metadata": {}
        },
        {
          "output_type": "display_data",
          "data": {
            "text/plain": [
              "<Figure size 1080x540 with 0 Axes>"
            ]
          },
          "metadata": {}
        },
        {
          "output_type": "display_data",
          "data": {
            "text/plain": [
              "<Figure size 1080x540 with 0 Axes>"
            ]
          },
          "metadata": {}
        },
        {
          "output_type": "display_data",
          "data": {
            "text/plain": [
              "<Figure size 1080x540 with 0 Axes>"
            ]
          },
          "metadata": {}
        },
        {
          "output_type": "display_data",
          "data": {
            "text/plain": [
              "<Figure size 1080x540 with 0 Axes>"
            ]
          },
          "metadata": {}
        },
        {
          "output_type": "display_data",
          "data": {
            "text/plain": [
              "<Figure size 1080x540 with 0 Axes>"
            ]
          },
          "metadata": {}
        },
        {
          "output_type": "display_data",
          "data": {
            "text/plain": [
              "<Figure size 1080x540 with 0 Axes>"
            ]
          },
          "metadata": {}
        },
        {
          "output_type": "display_data",
          "data": {
            "text/plain": [
              "<Figure size 1080x540 with 0 Axes>"
            ]
          },
          "metadata": {}
        },
        {
          "output_type": "display_data",
          "data": {
            "text/plain": [
              "<Figure size 1080x540 with 0 Axes>"
            ]
          },
          "metadata": {}
        },
        {
          "output_type": "display_data",
          "data": {
            "text/plain": [
              "<Figure size 1080x540 with 0 Axes>"
            ]
          },
          "metadata": {}
        },
        {
          "output_type": "display_data",
          "data": {
            "text/plain": [
              "<Figure size 1080x540 with 0 Axes>"
            ]
          },
          "metadata": {}
        },
        {
          "output_type": "display_data",
          "data": {
            "text/plain": [
              "<Figure size 1080x540 with 0 Axes>"
            ]
          },
          "metadata": {}
        },
        {
          "output_type": "display_data",
          "data": {
            "text/plain": [
              "<Figure size 1080x540 with 0 Axes>"
            ]
          },
          "metadata": {}
        },
        {
          "output_type": "display_data",
          "data": {
            "text/plain": [
              "<Figure size 1080x540 with 0 Axes>"
            ]
          },
          "metadata": {}
        },
        {
          "output_type": "display_data",
          "data": {
            "text/plain": [
              "<Figure size 1080x540 with 0 Axes>"
            ]
          },
          "metadata": {}
        },
        {
          "output_type": "display_data",
          "data": {
            "text/plain": [
              "<Figure size 1080x540 with 0 Axes>"
            ]
          },
          "metadata": {}
        },
        {
          "output_type": "display_data",
          "data": {
            "text/plain": [
              "<Figure size 1080x540 with 0 Axes>"
            ]
          },
          "metadata": {}
        },
        {
          "output_type": "display_data",
          "data": {
            "text/plain": [
              "<Figure size 1080x540 with 0 Axes>"
            ]
          },
          "metadata": {}
        },
        {
          "output_type": "display_data",
          "data": {
            "text/plain": [
              "<Figure size 1080x540 with 0 Axes>"
            ]
          },
          "metadata": {}
        },
        {
          "output_type": "display_data",
          "data": {
            "text/plain": [
              "<Figure size 1080x540 with 0 Axes>"
            ]
          },
          "metadata": {}
        },
        {
          "output_type": "display_data",
          "data": {
            "text/plain": [
              "<Figure size 1080x540 with 0 Axes>"
            ]
          },
          "metadata": {}
        },
        {
          "output_type": "display_data",
          "data": {
            "text/plain": [
              "<Figure size 1080x540 with 0 Axes>"
            ]
          },
          "metadata": {}
        },
        {
          "output_type": "display_data",
          "data": {
            "text/plain": [
              "<Figure size 1080x540 with 0 Axes>"
            ]
          },
          "metadata": {}
        },
        {
          "output_type": "display_data",
          "data": {
            "text/plain": [
              "<Figure size 1080x540 with 0 Axes>"
            ]
          },
          "metadata": {}
        },
        {
          "output_type": "display_data",
          "data": {
            "text/plain": [
              "<Figure size 1080x540 with 0 Axes>"
            ]
          },
          "metadata": {}
        },
        {
          "output_type": "display_data",
          "data": {
            "text/plain": [
              "<Figure size 1080x540 with 0 Axes>"
            ]
          },
          "metadata": {}
        },
        {
          "output_type": "display_data",
          "data": {
            "text/plain": [
              "<Figure size 1080x540 with 0 Axes>"
            ]
          },
          "metadata": {}
        },
        {
          "output_type": "display_data",
          "data": {
            "text/plain": [
              "<Figure size 1080x540 with 0 Axes>"
            ]
          },
          "metadata": {}
        },
        {
          "output_type": "display_data",
          "data": {
            "text/plain": [
              "<Figure size 1080x540 with 0 Axes>"
            ]
          },
          "metadata": {}
        },
        {
          "output_type": "display_data",
          "data": {
            "text/plain": [
              "<Figure size 1080x540 with 0 Axes>"
            ]
          },
          "metadata": {}
        },
        {
          "output_type": "display_data",
          "data": {
            "text/plain": [
              "<Figure size 1080x540 with 0 Axes>"
            ]
          },
          "metadata": {}
        },
        {
          "output_type": "display_data",
          "data": {
            "text/plain": [
              "<Figure size 1080x540 with 0 Axes>"
            ]
          },
          "metadata": {}
        },
        {
          "output_type": "display_data",
          "data": {
            "text/plain": [
              "<Figure size 1080x540 with 0 Axes>"
            ]
          },
          "metadata": {}
        },
        {
          "output_type": "display_data",
          "data": {
            "text/plain": [
              "<Figure size 1080x540 with 0 Axes>"
            ]
          },
          "metadata": {}
        },
        {
          "output_type": "display_data",
          "data": {
            "text/plain": [
              "<Figure size 1080x540 with 0 Axes>"
            ]
          },
          "metadata": {}
        },
        {
          "output_type": "display_data",
          "data": {
            "text/plain": [
              "<Figure size 1080x540 with 0 Axes>"
            ]
          },
          "metadata": {}
        },
        {
          "output_type": "display_data",
          "data": {
            "text/plain": [
              "<Figure size 1080x540 with 0 Axes>"
            ]
          },
          "metadata": {}
        },
        {
          "output_type": "display_data",
          "data": {
            "text/plain": [
              "<Figure size 1080x540 with 0 Axes>"
            ]
          },
          "metadata": {}
        },
        {
          "output_type": "display_data",
          "data": {
            "text/plain": [
              "<Figure size 1080x540 with 0 Axes>"
            ]
          },
          "metadata": {}
        },
        {
          "output_type": "display_data",
          "data": {
            "text/plain": [
              "<Figure size 1080x540 with 0 Axes>"
            ]
          },
          "metadata": {}
        },
        {
          "output_type": "display_data",
          "data": {
            "text/plain": [
              "<Figure size 1080x540 with 0 Axes>"
            ]
          },
          "metadata": {}
        },
        {
          "output_type": "display_data",
          "data": {
            "text/plain": [
              "<Figure size 1080x540 with 0 Axes>"
            ]
          },
          "metadata": {}
        },
        {
          "output_type": "display_data",
          "data": {
            "text/plain": [
              "<Figure size 1080x540 with 0 Axes>"
            ]
          },
          "metadata": {}
        },
        {
          "output_type": "display_data",
          "data": {
            "text/plain": [
              "<Figure size 1080x540 with 0 Axes>"
            ]
          },
          "metadata": {}
        },
        {
          "output_type": "display_data",
          "data": {
            "text/plain": [
              "<Figure size 1080x540 with 0 Axes>"
            ]
          },
          "metadata": {}
        },
        {
          "output_type": "display_data",
          "data": {
            "text/plain": [
              "<Figure size 1080x540 with 0 Axes>"
            ]
          },
          "metadata": {}
        },
        {
          "output_type": "display_data",
          "data": {
            "text/plain": [
              "<Figure size 1080x540 with 0 Axes>"
            ]
          },
          "metadata": {}
        },
        {
          "output_type": "display_data",
          "data": {
            "text/plain": [
              "<Figure size 1080x540 with 0 Axes>"
            ]
          },
          "metadata": {}
        },
        {
          "output_type": "display_data",
          "data": {
            "text/plain": [
              "<Figure size 1080x540 with 0 Axes>"
            ]
          },
          "metadata": {}
        },
        {
          "output_type": "display_data",
          "data": {
            "text/plain": [
              "<Figure size 1080x540 with 0 Axes>"
            ]
          },
          "metadata": {}
        },
        {
          "output_type": "display_data",
          "data": {
            "text/plain": [
              "<Figure size 1080x540 with 0 Axes>"
            ]
          },
          "metadata": {}
        },
        {
          "output_type": "display_data",
          "data": {
            "text/plain": [
              "<Figure size 1080x540 with 0 Axes>"
            ]
          },
          "metadata": {}
        },
        {
          "output_type": "display_data",
          "data": {
            "text/plain": [
              "<Figure size 1080x540 with 0 Axes>"
            ]
          },
          "metadata": {}
        },
        {
          "output_type": "display_data",
          "data": {
            "text/plain": [
              "<Figure size 1080x540 with 0 Axes>"
            ]
          },
          "metadata": {}
        },
        {
          "output_type": "display_data",
          "data": {
            "text/plain": [
              "<Figure size 1080x540 with 0 Axes>"
            ]
          },
          "metadata": {}
        },
        {
          "output_type": "display_data",
          "data": {
            "text/plain": [
              "<Figure size 1080x540 with 0 Axes>"
            ]
          },
          "metadata": {}
        },
        {
          "output_type": "display_data",
          "data": {
            "text/plain": [
              "<Figure size 1080x540 with 0 Axes>"
            ]
          },
          "metadata": {}
        },
        {
          "output_type": "display_data",
          "data": {
            "text/plain": [
              "<Figure size 1080x540 with 0 Axes>"
            ]
          },
          "metadata": {}
        },
        {
          "output_type": "display_data",
          "data": {
            "text/plain": [
              "<Figure size 1080x540 with 0 Axes>"
            ]
          },
          "metadata": {}
        },
        {
          "output_type": "display_data",
          "data": {
            "text/plain": [
              "<Figure size 1080x540 with 0 Axes>"
            ]
          },
          "metadata": {}
        },
        {
          "output_type": "display_data",
          "data": {
            "text/plain": [
              "<Figure size 1080x540 with 0 Axes>"
            ]
          },
          "metadata": {}
        },
        {
          "output_type": "display_data",
          "data": {
            "text/plain": [
              "<Figure size 1080x540 with 0 Axes>"
            ]
          },
          "metadata": {}
        },
        {
          "output_type": "display_data",
          "data": {
            "text/plain": [
              "<Figure size 1080x540 with 0 Axes>"
            ]
          },
          "metadata": {}
        },
        {
          "output_type": "display_data",
          "data": {
            "text/plain": [
              "<Figure size 1080x540 with 0 Axes>"
            ]
          },
          "metadata": {}
        },
        {
          "output_type": "display_data",
          "data": {
            "text/plain": [
              "<Figure size 1080x540 with 0 Axes>"
            ]
          },
          "metadata": {}
        },
        {
          "output_type": "display_data",
          "data": {
            "text/plain": [
              "<Figure size 1080x540 with 0 Axes>"
            ]
          },
          "metadata": {}
        },
        {
          "output_type": "display_data",
          "data": {
            "text/plain": [
              "<Figure size 1080x540 with 0 Axes>"
            ]
          },
          "metadata": {}
        },
        {
          "output_type": "display_data",
          "data": {
            "text/plain": [
              "<Figure size 1080x540 with 0 Axes>"
            ]
          },
          "metadata": {}
        },
        {
          "output_type": "display_data",
          "data": {
            "text/plain": [
              "<Figure size 1080x540 with 0 Axes>"
            ]
          },
          "metadata": {}
        },
        {
          "output_type": "display_data",
          "data": {
            "text/plain": [
              "<Figure size 1080x540 with 0 Axes>"
            ]
          },
          "metadata": {}
        },
        {
          "output_type": "display_data",
          "data": {
            "text/plain": [
              "<Figure size 1080x540 with 0 Axes>"
            ]
          },
          "metadata": {}
        },
        {
          "output_type": "display_data",
          "data": {
            "text/plain": [
              "<Figure size 1080x540 with 0 Axes>"
            ]
          },
          "metadata": {}
        },
        {
          "output_type": "display_data",
          "data": {
            "text/plain": [
              "<Figure size 1080x540 with 0 Axes>"
            ]
          },
          "metadata": {}
        },
        {
          "output_type": "display_data",
          "data": {
            "text/plain": [
              "<Figure size 1080x540 with 0 Axes>"
            ]
          },
          "metadata": {}
        },
        {
          "output_type": "display_data",
          "data": {
            "text/plain": [
              "<Figure size 1080x540 with 0 Axes>"
            ]
          },
          "metadata": {}
        },
        {
          "output_type": "display_data",
          "data": {
            "text/plain": [
              "<Figure size 1080x540 with 0 Axes>"
            ]
          },
          "metadata": {}
        },
        {
          "output_type": "display_data",
          "data": {
            "text/plain": [
              "<Figure size 1080x540 with 0 Axes>"
            ]
          },
          "metadata": {}
        },
        {
          "output_type": "display_data",
          "data": {
            "text/plain": [
              "<Figure size 1080x540 with 0 Axes>"
            ]
          },
          "metadata": {}
        },
        {
          "output_type": "display_data",
          "data": {
            "text/plain": [
              "<Figure size 1080x540 with 0 Axes>"
            ]
          },
          "metadata": {}
        },
        {
          "output_type": "display_data",
          "data": {
            "text/plain": [
              "<Figure size 1080x540 with 0 Axes>"
            ]
          },
          "metadata": {}
        },
        {
          "output_type": "display_data",
          "data": {
            "text/plain": [
              "<Figure size 1080x540 with 0 Axes>"
            ]
          },
          "metadata": {}
        },
        {
          "output_type": "display_data",
          "data": {
            "text/plain": [
              "<Figure size 1080x540 with 0 Axes>"
            ]
          },
          "metadata": {}
        },
        {
          "output_type": "display_data",
          "data": {
            "text/plain": [
              "<Figure size 1080x540 with 0 Axes>"
            ]
          },
          "metadata": {}
        },
        {
          "output_type": "display_data",
          "data": {
            "text/plain": [
              "<Figure size 1080x540 with 0 Axes>"
            ]
          },
          "metadata": {}
        },
        {
          "output_type": "display_data",
          "data": {
            "text/plain": [
              "<Figure size 1080x540 with 0 Axes>"
            ]
          },
          "metadata": {}
        },
        {
          "output_type": "display_data",
          "data": {
            "text/plain": [
              "<Figure size 1080x540 with 0 Axes>"
            ]
          },
          "metadata": {}
        },
        {
          "output_type": "display_data",
          "data": {
            "text/plain": [
              "<Figure size 1080x540 with 0 Axes>"
            ]
          },
          "metadata": {}
        },
        {
          "output_type": "display_data",
          "data": {
            "text/plain": [
              "<Figure size 1080x540 with 0 Axes>"
            ]
          },
          "metadata": {}
        },
        {
          "output_type": "display_data",
          "data": {
            "text/plain": [
              "<Figure size 1080x540 with 0 Axes>"
            ]
          },
          "metadata": {}
        },
        {
          "output_type": "display_data",
          "data": {
            "text/plain": [
              "<Figure size 1080x540 with 0 Axes>"
            ]
          },
          "metadata": {}
        },
        {
          "output_type": "display_data",
          "data": {
            "text/plain": [
              "<Figure size 1080x540 with 0 Axes>"
            ]
          },
          "metadata": {}
        },
        {
          "output_type": "display_data",
          "data": {
            "text/plain": [
              "<Figure size 1080x540 with 0 Axes>"
            ]
          },
          "metadata": {}
        },
        {
          "output_type": "display_data",
          "data": {
            "text/plain": [
              "<Figure size 1080x540 with 0 Axes>"
            ]
          },
          "metadata": {}
        },
        {
          "output_type": "display_data",
          "data": {
            "text/plain": [
              "<Figure size 1080x540 with 0 Axes>"
            ]
          },
          "metadata": {}
        },
        {
          "output_type": "display_data",
          "data": {
            "text/plain": [
              "<Figure size 1080x540 with 0 Axes>"
            ]
          },
          "metadata": {}
        },
        {
          "output_type": "display_data",
          "data": {
            "text/plain": [
              "<Figure size 1080x540 with 0 Axes>"
            ]
          },
          "metadata": {}
        },
        {
          "output_type": "display_data",
          "data": {
            "text/plain": [
              "<Figure size 1080x540 with 0 Axes>"
            ]
          },
          "metadata": {}
        },
        {
          "output_type": "display_data",
          "data": {
            "text/plain": [
              "<Figure size 1080x540 with 0 Axes>"
            ]
          },
          "metadata": {}
        },
        {
          "output_type": "display_data",
          "data": {
            "text/plain": [
              "<Figure size 1080x540 with 0 Axes>"
            ]
          },
          "metadata": {}
        },
        {
          "output_type": "display_data",
          "data": {
            "text/plain": [
              "<Figure size 1080x540 with 0 Axes>"
            ]
          },
          "metadata": {}
        },
        {
          "output_type": "display_data",
          "data": {
            "text/plain": [
              "<Figure size 1080x540 with 0 Axes>"
            ]
          },
          "metadata": {}
        },
        {
          "output_type": "display_data",
          "data": {
            "text/plain": [
              "<Figure size 1080x540 with 0 Axes>"
            ]
          },
          "metadata": {}
        },
        {
          "output_type": "display_data",
          "data": {
            "text/plain": [
              "<Figure size 1080x540 with 0 Axes>"
            ]
          },
          "metadata": {}
        },
        {
          "output_type": "display_data",
          "data": {
            "text/plain": [
              "<Figure size 1080x540 with 0 Axes>"
            ]
          },
          "metadata": {}
        },
        {
          "output_type": "display_data",
          "data": {
            "text/plain": [
              "<Figure size 1080x540 with 0 Axes>"
            ]
          },
          "metadata": {}
        },
        {
          "output_type": "display_data",
          "data": {
            "text/plain": [
              "<Figure size 1080x540 with 0 Axes>"
            ]
          },
          "metadata": {}
        },
        {
          "output_type": "display_data",
          "data": {
            "text/plain": [
              "<Figure size 1080x540 with 0 Axes>"
            ]
          },
          "metadata": {}
        },
        {
          "output_type": "display_data",
          "data": {
            "text/plain": [
              "<Figure size 1080x540 with 0 Axes>"
            ]
          },
          "metadata": {}
        },
        {
          "output_type": "display_data",
          "data": {
            "text/plain": [
              "<Figure size 1080x540 with 0 Axes>"
            ]
          },
          "metadata": {}
        },
        {
          "output_type": "display_data",
          "data": {
            "text/plain": [
              "<Figure size 1080x540 with 0 Axes>"
            ]
          },
          "metadata": {}
        },
        {
          "output_type": "display_data",
          "data": {
            "text/plain": [
              "<Figure size 1080x540 with 0 Axes>"
            ]
          },
          "metadata": {}
        },
        {
          "output_type": "display_data",
          "data": {
            "text/plain": [
              "<Figure size 1080x540 with 0 Axes>"
            ]
          },
          "metadata": {}
        },
        {
          "output_type": "display_data",
          "data": {
            "text/plain": [
              "<Figure size 1080x540 with 0 Axes>"
            ]
          },
          "metadata": {}
        },
        {
          "output_type": "display_data",
          "data": {
            "text/plain": [
              "<Figure size 1080x540 with 0 Axes>"
            ]
          },
          "metadata": {}
        },
        {
          "output_type": "display_data",
          "data": {
            "text/plain": [
              "<Figure size 1080x540 with 0 Axes>"
            ]
          },
          "metadata": {}
        },
        {
          "output_type": "display_data",
          "data": {
            "text/plain": [
              "<Figure size 1080x540 with 0 Axes>"
            ]
          },
          "metadata": {}
        },
        {
          "output_type": "display_data",
          "data": {
            "text/plain": [
              "<Figure size 1080x540 with 0 Axes>"
            ]
          },
          "metadata": {}
        },
        {
          "output_type": "display_data",
          "data": {
            "text/plain": [
              "<Figure size 1080x540 with 0 Axes>"
            ]
          },
          "metadata": {}
        },
        {
          "output_type": "display_data",
          "data": {
            "text/plain": [
              "<Figure size 1080x540 with 0 Axes>"
            ]
          },
          "metadata": {}
        },
        {
          "output_type": "display_data",
          "data": {
            "text/plain": [
              "<Figure size 1080x540 with 0 Axes>"
            ]
          },
          "metadata": {}
        },
        {
          "output_type": "display_data",
          "data": {
            "text/plain": [
              "<Figure size 1080x540 with 0 Axes>"
            ]
          },
          "metadata": {}
        },
        {
          "output_type": "display_data",
          "data": {
            "text/plain": [
              "<Figure size 1080x540 with 0 Axes>"
            ]
          },
          "metadata": {}
        },
        {
          "output_type": "display_data",
          "data": {
            "text/plain": [
              "<Figure size 1080x540 with 0 Axes>"
            ]
          },
          "metadata": {}
        },
        {
          "output_type": "display_data",
          "data": {
            "text/plain": [
              "<Figure size 1080x540 with 0 Axes>"
            ]
          },
          "metadata": {}
        },
        {
          "output_type": "display_data",
          "data": {
            "text/plain": [
              "<Figure size 1080x540 with 0 Axes>"
            ]
          },
          "metadata": {}
        },
        {
          "output_type": "display_data",
          "data": {
            "text/plain": [
              "<Figure size 1080x540 with 0 Axes>"
            ]
          },
          "metadata": {}
        },
        {
          "output_type": "display_data",
          "data": {
            "text/plain": [
              "<Figure size 1080x540 with 0 Axes>"
            ]
          },
          "metadata": {}
        },
        {
          "output_type": "display_data",
          "data": {
            "text/plain": [
              "<Figure size 1080x540 with 0 Axes>"
            ]
          },
          "metadata": {}
        },
        {
          "output_type": "display_data",
          "data": {
            "text/plain": [
              "<Figure size 1080x540 with 0 Axes>"
            ]
          },
          "metadata": {}
        },
        {
          "output_type": "display_data",
          "data": {
            "text/plain": [
              "<Figure size 1080x540 with 0 Axes>"
            ]
          },
          "metadata": {}
        },
        {
          "output_type": "display_data",
          "data": {
            "text/plain": [
              "<Figure size 1080x540 with 0 Axes>"
            ]
          },
          "metadata": {}
        },
        {
          "output_type": "display_data",
          "data": {
            "text/plain": [
              "<Figure size 1080x540 with 0 Axes>"
            ]
          },
          "metadata": {}
        },
        {
          "output_type": "display_data",
          "data": {
            "text/plain": [
              "<Figure size 1080x540 with 0 Axes>"
            ]
          },
          "metadata": {}
        },
        {
          "output_type": "display_data",
          "data": {
            "text/plain": [
              "<Figure size 1080x540 with 0 Axes>"
            ]
          },
          "metadata": {}
        },
        {
          "output_type": "display_data",
          "data": {
            "text/plain": [
              "<Figure size 1080x540 with 0 Axes>"
            ]
          },
          "metadata": {}
        },
        {
          "output_type": "display_data",
          "data": {
            "text/plain": [
              "<Figure size 1080x540 with 0 Axes>"
            ]
          },
          "metadata": {}
        },
        {
          "output_type": "display_data",
          "data": {
            "text/plain": [
              "<Figure size 1080x540 with 0 Axes>"
            ]
          },
          "metadata": {}
        },
        {
          "output_type": "display_data",
          "data": {
            "text/plain": [
              "<Figure size 1080x540 with 0 Axes>"
            ]
          },
          "metadata": {}
        },
        {
          "output_type": "display_data",
          "data": {
            "text/plain": [
              "<Figure size 1080x540 with 0 Axes>"
            ]
          },
          "metadata": {}
        },
        {
          "output_type": "display_data",
          "data": {
            "text/plain": [
              "<Figure size 1080x540 with 0 Axes>"
            ]
          },
          "metadata": {}
        },
        {
          "output_type": "display_data",
          "data": {
            "text/plain": [
              "<Figure size 1080x540 with 0 Axes>"
            ]
          },
          "metadata": {}
        },
        {
          "output_type": "display_data",
          "data": {
            "text/plain": [
              "<Figure size 1080x540 with 0 Axes>"
            ]
          },
          "metadata": {}
        },
        {
          "output_type": "display_data",
          "data": {
            "text/plain": [
              "<Figure size 1080x540 with 0 Axes>"
            ]
          },
          "metadata": {}
        },
        {
          "output_type": "display_data",
          "data": {
            "text/plain": [
              "<Figure size 1080x540 with 0 Axes>"
            ]
          },
          "metadata": {}
        },
        {
          "output_type": "display_data",
          "data": {
            "text/plain": [
              "<Figure size 1080x540 with 0 Axes>"
            ]
          },
          "metadata": {}
        },
        {
          "output_type": "display_data",
          "data": {
            "text/plain": [
              "<Figure size 1080x540 with 0 Axes>"
            ]
          },
          "metadata": {}
        },
        {
          "output_type": "display_data",
          "data": {
            "text/plain": [
              "<Figure size 1080x540 with 0 Axes>"
            ]
          },
          "metadata": {}
        },
        {
          "output_type": "display_data",
          "data": {
            "text/plain": [
              "<Figure size 1080x540 with 0 Axes>"
            ]
          },
          "metadata": {}
        },
        {
          "output_type": "display_data",
          "data": {
            "text/plain": [
              "<Figure size 1080x540 with 0 Axes>"
            ]
          },
          "metadata": {}
        },
        {
          "output_type": "display_data",
          "data": {
            "text/plain": [
              "<Figure size 1080x540 with 0 Axes>"
            ]
          },
          "metadata": {}
        },
        {
          "output_type": "display_data",
          "data": {
            "text/plain": [
              "<Figure size 1080x540 with 0 Axes>"
            ]
          },
          "metadata": {}
        },
        {
          "output_type": "display_data",
          "data": {
            "text/plain": [
              "<Figure size 1080x540 with 0 Axes>"
            ]
          },
          "metadata": {}
        },
        {
          "output_type": "display_data",
          "data": {
            "text/plain": [
              "<Figure size 1080x540 with 0 Axes>"
            ]
          },
          "metadata": {}
        },
        {
          "output_type": "display_data",
          "data": {
            "text/plain": [
              "<Figure size 1080x540 with 0 Axes>"
            ]
          },
          "metadata": {}
        },
        {
          "output_type": "display_data",
          "data": {
            "text/plain": [
              "<Figure size 1080x540 with 0 Axes>"
            ]
          },
          "metadata": {}
        },
        {
          "output_type": "display_data",
          "data": {
            "text/plain": [
              "<Figure size 1080x540 with 0 Axes>"
            ]
          },
          "metadata": {}
        },
        {
          "output_type": "display_data",
          "data": {
            "text/plain": [
              "<Figure size 1080x540 with 0 Axes>"
            ]
          },
          "metadata": {}
        },
        {
          "output_type": "display_data",
          "data": {
            "text/plain": [
              "<Figure size 1080x540 with 0 Axes>"
            ]
          },
          "metadata": {}
        },
        {
          "output_type": "display_data",
          "data": {
            "text/plain": [
              "<Figure size 1080x540 with 0 Axes>"
            ]
          },
          "metadata": {}
        },
        {
          "output_type": "display_data",
          "data": {
            "text/plain": [
              "<Figure size 1080x540 with 0 Axes>"
            ]
          },
          "metadata": {}
        },
        {
          "output_type": "display_data",
          "data": {
            "text/plain": [
              "<Figure size 1080x540 with 0 Axes>"
            ]
          },
          "metadata": {}
        },
        {
          "output_type": "display_data",
          "data": {
            "text/plain": [
              "<Figure size 1080x540 with 0 Axes>"
            ]
          },
          "metadata": {}
        },
        {
          "output_type": "display_data",
          "data": {
            "text/plain": [
              "<Figure size 1080x540 with 0 Axes>"
            ]
          },
          "metadata": {}
        },
        {
          "output_type": "display_data",
          "data": {
            "text/plain": [
              "<Figure size 1080x540 with 0 Axes>"
            ]
          },
          "metadata": {}
        },
        {
          "output_type": "display_data",
          "data": {
            "text/plain": [
              "<Figure size 1080x540 with 0 Axes>"
            ]
          },
          "metadata": {}
        },
        {
          "output_type": "display_data",
          "data": {
            "text/plain": [
              "<Figure size 1080x540 with 0 Axes>"
            ]
          },
          "metadata": {}
        },
        {
          "output_type": "display_data",
          "data": {
            "text/plain": [
              "<Figure size 1080x540 with 0 Axes>"
            ]
          },
          "metadata": {}
        },
        {
          "output_type": "display_data",
          "data": {
            "text/plain": [
              "<Figure size 1080x540 with 0 Axes>"
            ]
          },
          "metadata": {}
        },
        {
          "output_type": "display_data",
          "data": {
            "text/plain": [
              "<Figure size 1080x540 with 0 Axes>"
            ]
          },
          "metadata": {}
        },
        {
          "output_type": "display_data",
          "data": {
            "text/plain": [
              "<Figure size 1080x540 with 0 Axes>"
            ]
          },
          "metadata": {}
        },
        {
          "output_type": "display_data",
          "data": {
            "text/plain": [
              "<Figure size 1080x540 with 0 Axes>"
            ]
          },
          "metadata": {}
        },
        {
          "output_type": "display_data",
          "data": {
            "text/plain": [
              "<Figure size 1080x540 with 0 Axes>"
            ]
          },
          "metadata": {}
        },
        {
          "output_type": "display_data",
          "data": {
            "text/plain": [
              "<Figure size 1080x540 with 0 Axes>"
            ]
          },
          "metadata": {}
        },
        {
          "output_type": "display_data",
          "data": {
            "text/plain": [
              "<Figure size 1080x540 with 0 Axes>"
            ]
          },
          "metadata": {}
        },
        {
          "output_type": "display_data",
          "data": {
            "text/plain": [
              "<Figure size 1080x540 with 0 Axes>"
            ]
          },
          "metadata": {}
        },
        {
          "output_type": "display_data",
          "data": {
            "text/plain": [
              "<Figure size 1080x540 with 0 Axes>"
            ]
          },
          "metadata": {}
        },
        {
          "output_type": "display_data",
          "data": {
            "text/plain": [
              "<Figure size 1080x540 with 0 Axes>"
            ]
          },
          "metadata": {}
        },
        {
          "output_type": "display_data",
          "data": {
            "text/plain": [
              "<Figure size 1080x540 with 0 Axes>"
            ]
          },
          "metadata": {}
        },
        {
          "output_type": "display_data",
          "data": {
            "text/plain": [
              "<Figure size 1080x540 with 0 Axes>"
            ]
          },
          "metadata": {}
        },
        {
          "output_type": "display_data",
          "data": {
            "text/plain": [
              "<Figure size 1080x540 with 0 Axes>"
            ]
          },
          "metadata": {}
        },
        {
          "output_type": "display_data",
          "data": {
            "text/plain": [
              "<Figure size 1080x540 with 0 Axes>"
            ]
          },
          "metadata": {}
        },
        {
          "output_type": "display_data",
          "data": {
            "text/plain": [
              "<Figure size 1080x540 with 0 Axes>"
            ]
          },
          "metadata": {}
        },
        {
          "output_type": "display_data",
          "data": {
            "text/plain": [
              "<Figure size 1080x540 with 0 Axes>"
            ]
          },
          "metadata": {}
        },
        {
          "output_type": "display_data",
          "data": {
            "text/plain": [
              "<Figure size 1080x540 with 0 Axes>"
            ]
          },
          "metadata": {}
        },
        {
          "output_type": "display_data",
          "data": {
            "text/plain": [
              "<Figure size 1080x540 with 0 Axes>"
            ]
          },
          "metadata": {}
        },
        {
          "output_type": "display_data",
          "data": {
            "text/plain": [
              "<Figure size 1080x540 with 0 Axes>"
            ]
          },
          "metadata": {}
        },
        {
          "output_type": "display_data",
          "data": {
            "text/plain": [
              "<Figure size 1080x540 with 0 Axes>"
            ]
          },
          "metadata": {}
        },
        {
          "output_type": "display_data",
          "data": {
            "text/plain": [
              "<Figure size 1080x540 with 0 Axes>"
            ]
          },
          "metadata": {}
        },
        {
          "output_type": "display_data",
          "data": {
            "text/plain": [
              "<Figure size 1080x540 with 0 Axes>"
            ]
          },
          "metadata": {}
        },
        {
          "output_type": "display_data",
          "data": {
            "text/plain": [
              "<Figure size 1080x540 with 0 Axes>"
            ]
          },
          "metadata": {}
        },
        {
          "output_type": "display_data",
          "data": {
            "text/plain": [
              "<Figure size 1080x540 with 0 Axes>"
            ]
          },
          "metadata": {}
        },
        {
          "output_type": "display_data",
          "data": {
            "text/plain": [
              "<Figure size 1080x540 with 0 Axes>"
            ]
          },
          "metadata": {}
        },
        {
          "output_type": "display_data",
          "data": {
            "text/plain": [
              "<Figure size 1080x540 with 0 Axes>"
            ]
          },
          "metadata": {}
        },
        {
          "output_type": "display_data",
          "data": {
            "text/plain": [
              "<Figure size 1080x540 with 0 Axes>"
            ]
          },
          "metadata": {}
        },
        {
          "output_type": "display_data",
          "data": {
            "text/plain": [
              "<Figure size 1080x540 with 0 Axes>"
            ]
          },
          "metadata": {}
        },
        {
          "output_type": "display_data",
          "data": {
            "text/plain": [
              "<Figure size 1080x540 with 0 Axes>"
            ]
          },
          "metadata": {}
        },
        {
          "output_type": "display_data",
          "data": {
            "text/plain": [
              "<Figure size 1080x540 with 0 Axes>"
            ]
          },
          "metadata": {}
        },
        {
          "output_type": "display_data",
          "data": {
            "text/plain": [
              "<Figure size 1080x540 with 0 Axes>"
            ]
          },
          "metadata": {}
        },
        {
          "output_type": "display_data",
          "data": {
            "text/plain": [
              "<Figure size 1080x540 with 0 Axes>"
            ]
          },
          "metadata": {}
        },
        {
          "output_type": "display_data",
          "data": {
            "text/plain": [
              "<Figure size 1080x540 with 0 Axes>"
            ]
          },
          "metadata": {}
        },
        {
          "output_type": "display_data",
          "data": {
            "text/plain": [
              "<Figure size 1080x540 with 0 Axes>"
            ]
          },
          "metadata": {}
        },
        {
          "output_type": "display_data",
          "data": {
            "text/plain": [
              "<Figure size 1080x540 with 0 Axes>"
            ]
          },
          "metadata": {}
        },
        {
          "output_type": "display_data",
          "data": {
            "text/plain": [
              "<Figure size 1080x540 with 0 Axes>"
            ]
          },
          "metadata": {}
        },
        {
          "output_type": "display_data",
          "data": {
            "text/plain": [
              "<Figure size 1080x540 with 0 Axes>"
            ]
          },
          "metadata": {}
        },
        {
          "output_type": "display_data",
          "data": {
            "text/plain": [
              "<Figure size 1080x540 with 0 Axes>"
            ]
          },
          "metadata": {}
        },
        {
          "output_type": "display_data",
          "data": {
            "text/plain": [
              "<Figure size 1080x540 with 0 Axes>"
            ]
          },
          "metadata": {}
        },
        {
          "output_type": "display_data",
          "data": {
            "text/plain": [
              "<Figure size 1080x540 with 0 Axes>"
            ]
          },
          "metadata": {}
        },
        {
          "output_type": "display_data",
          "data": {
            "text/plain": [
              "<Figure size 1080x540 with 0 Axes>"
            ]
          },
          "metadata": {}
        },
        {
          "output_type": "display_data",
          "data": {
            "text/plain": [
              "<Figure size 1080x540 with 0 Axes>"
            ]
          },
          "metadata": {}
        },
        {
          "output_type": "display_data",
          "data": {
            "text/plain": [
              "<Figure size 1080x540 with 0 Axes>"
            ]
          },
          "metadata": {}
        },
        {
          "output_type": "display_data",
          "data": {
            "text/plain": [
              "<Figure size 1080x540 with 0 Axes>"
            ]
          },
          "metadata": {}
        },
        {
          "output_type": "display_data",
          "data": {
            "text/plain": [
              "<Figure size 1080x540 with 0 Axes>"
            ]
          },
          "metadata": {}
        },
        {
          "output_type": "display_data",
          "data": {
            "text/plain": [
              "<Figure size 1080x540 with 0 Axes>"
            ]
          },
          "metadata": {}
        },
        {
          "output_type": "display_data",
          "data": {
            "text/plain": [
              "<Figure size 1080x540 with 0 Axes>"
            ]
          },
          "metadata": {}
        },
        {
          "output_type": "display_data",
          "data": {
            "text/plain": [
              "<Figure size 1080x540 with 0 Axes>"
            ]
          },
          "metadata": {}
        },
        {
          "output_type": "display_data",
          "data": {
            "text/plain": [
              "<Figure size 1080x540 with 0 Axes>"
            ]
          },
          "metadata": {}
        },
        {
          "output_type": "display_data",
          "data": {
            "text/plain": [
              "<Figure size 1080x540 with 0 Axes>"
            ]
          },
          "metadata": {}
        },
        {
          "output_type": "display_data",
          "data": {
            "text/plain": [
              "<Figure size 1080x540 with 0 Axes>"
            ]
          },
          "metadata": {}
        },
        {
          "output_type": "display_data",
          "data": {
            "text/plain": [
              "<Figure size 1080x540 with 0 Axes>"
            ]
          },
          "metadata": {}
        },
        {
          "output_type": "display_data",
          "data": {
            "text/plain": [
              "<Figure size 1080x540 with 0 Axes>"
            ]
          },
          "metadata": {}
        },
        {
          "output_type": "display_data",
          "data": {
            "text/plain": [
              "<Figure size 1080x540 with 0 Axes>"
            ]
          },
          "metadata": {}
        },
        {
          "output_type": "display_data",
          "data": {
            "text/plain": [
              "<Figure size 1080x540 with 0 Axes>"
            ]
          },
          "metadata": {}
        },
        {
          "output_type": "display_data",
          "data": {
            "text/plain": [
              "<Figure size 1080x540 with 0 Axes>"
            ]
          },
          "metadata": {}
        },
        {
          "output_type": "display_data",
          "data": {
            "text/plain": [
              "<Figure size 1080x540 with 0 Axes>"
            ]
          },
          "metadata": {}
        },
        {
          "output_type": "display_data",
          "data": {
            "text/plain": [
              "<Figure size 1080x540 with 0 Axes>"
            ]
          },
          "metadata": {}
        },
        {
          "output_type": "display_data",
          "data": {
            "text/plain": [
              "<Figure size 1080x540 with 0 Axes>"
            ]
          },
          "metadata": {}
        },
        {
          "output_type": "display_data",
          "data": {
            "text/plain": [
              "<Figure size 1080x540 with 0 Axes>"
            ]
          },
          "metadata": {}
        },
        {
          "output_type": "display_data",
          "data": {
            "text/plain": [
              "<Figure size 1080x540 with 0 Axes>"
            ]
          },
          "metadata": {}
        },
        {
          "output_type": "display_data",
          "data": {
            "text/plain": [
              "<Figure size 1080x540 with 0 Axes>"
            ]
          },
          "metadata": {}
        },
        {
          "output_type": "display_data",
          "data": {
            "text/plain": [
              "<Figure size 1080x540 with 0 Axes>"
            ]
          },
          "metadata": {}
        },
        {
          "output_type": "display_data",
          "data": {
            "text/plain": [
              "<Figure size 1080x540 with 0 Axes>"
            ]
          },
          "metadata": {}
        },
        {
          "output_type": "display_data",
          "data": {
            "text/plain": [
              "<Figure size 1080x540 with 0 Axes>"
            ]
          },
          "metadata": {}
        },
        {
          "output_type": "display_data",
          "data": {
            "text/plain": [
              "<Figure size 1080x540 with 0 Axes>"
            ]
          },
          "metadata": {}
        },
        {
          "output_type": "display_data",
          "data": {
            "text/plain": [
              "<Figure size 1080x540 with 0 Axes>"
            ]
          },
          "metadata": {}
        },
        {
          "output_type": "display_data",
          "data": {
            "text/plain": [
              "<Figure size 1080x540 with 0 Axes>"
            ]
          },
          "metadata": {}
        },
        {
          "output_type": "display_data",
          "data": {
            "text/plain": [
              "<Figure size 1080x540 with 0 Axes>"
            ]
          },
          "metadata": {}
        },
        {
          "output_type": "display_data",
          "data": {
            "text/plain": [
              "<Figure size 1080x540 with 0 Axes>"
            ]
          },
          "metadata": {}
        },
        {
          "output_type": "display_data",
          "data": {
            "text/plain": [
              "<Figure size 1080x540 with 0 Axes>"
            ]
          },
          "metadata": {}
        },
        {
          "output_type": "display_data",
          "data": {
            "text/plain": [
              "<Figure size 1080x540 with 0 Axes>"
            ]
          },
          "metadata": {}
        },
        {
          "output_type": "display_data",
          "data": {
            "text/plain": [
              "<Figure size 1080x540 with 0 Axes>"
            ]
          },
          "metadata": {}
        },
        {
          "output_type": "display_data",
          "data": {
            "text/plain": [
              "<Figure size 1080x540 with 0 Axes>"
            ]
          },
          "metadata": {}
        },
        {
          "output_type": "display_data",
          "data": {
            "text/plain": [
              "<Figure size 1080x540 with 0 Axes>"
            ]
          },
          "metadata": {}
        },
        {
          "output_type": "display_data",
          "data": {
            "text/plain": [
              "<Figure size 1080x540 with 0 Axes>"
            ]
          },
          "metadata": {}
        },
        {
          "output_type": "display_data",
          "data": {
            "text/plain": [
              "<Figure size 1080x540 with 0 Axes>"
            ]
          },
          "metadata": {}
        },
        {
          "output_type": "display_data",
          "data": {
            "text/plain": [
              "<Figure size 1080x540 with 0 Axes>"
            ]
          },
          "metadata": {}
        },
        {
          "output_type": "display_data",
          "data": {
            "text/plain": [
              "<Figure size 1080x540 with 0 Axes>"
            ]
          },
          "metadata": {}
        },
        {
          "output_type": "display_data",
          "data": {
            "text/plain": [
              "<Figure size 1080x540 with 0 Axes>"
            ]
          },
          "metadata": {}
        },
        {
          "output_type": "display_data",
          "data": {
            "text/plain": [
              "<Figure size 1080x540 with 0 Axes>"
            ]
          },
          "metadata": {}
        },
        {
          "output_type": "display_data",
          "data": {
            "text/plain": [
              "<Figure size 1080x540 with 0 Axes>"
            ]
          },
          "metadata": {}
        },
        {
          "output_type": "display_data",
          "data": {
            "text/plain": [
              "<Figure size 1080x540 with 0 Axes>"
            ]
          },
          "metadata": {}
        },
        {
          "output_type": "display_data",
          "data": {
            "text/plain": [
              "<Figure size 1080x540 with 0 Axes>"
            ]
          },
          "metadata": {}
        },
        {
          "output_type": "display_data",
          "data": {
            "text/plain": [
              "<Figure size 1080x540 with 0 Axes>"
            ]
          },
          "metadata": {}
        },
        {
          "output_type": "display_data",
          "data": {
            "text/plain": [
              "<Figure size 1080x540 with 0 Axes>"
            ]
          },
          "metadata": {}
        },
        {
          "output_type": "display_data",
          "data": {
            "text/plain": [
              "<Figure size 1080x540 with 0 Axes>"
            ]
          },
          "metadata": {}
        },
        {
          "output_type": "display_data",
          "data": {
            "text/plain": [
              "<Figure size 1080x540 with 0 Axes>"
            ]
          },
          "metadata": {}
        },
        {
          "output_type": "display_data",
          "data": {
            "text/plain": [
              "<Figure size 1080x540 with 0 Axes>"
            ]
          },
          "metadata": {}
        },
        {
          "output_type": "display_data",
          "data": {
            "text/plain": [
              "<Figure size 1080x540 with 0 Axes>"
            ]
          },
          "metadata": {}
        },
        {
          "output_type": "display_data",
          "data": {
            "text/plain": [
              "<Figure size 1080x540 with 0 Axes>"
            ]
          },
          "metadata": {}
        },
        {
          "output_type": "display_data",
          "data": {
            "text/plain": [
              "<Figure size 1080x540 with 0 Axes>"
            ]
          },
          "metadata": {}
        },
        {
          "output_type": "display_data",
          "data": {
            "text/plain": [
              "<Figure size 1080x540 with 0 Axes>"
            ]
          },
          "metadata": {}
        },
        {
          "output_type": "display_data",
          "data": {
            "text/plain": [
              "<Figure size 1080x540 with 0 Axes>"
            ]
          },
          "metadata": {}
        },
        {
          "output_type": "display_data",
          "data": {
            "text/plain": [
              "<Figure size 1080x540 with 0 Axes>"
            ]
          },
          "metadata": {}
        },
        {
          "output_type": "display_data",
          "data": {
            "text/plain": [
              "<Figure size 1080x540 with 0 Axes>"
            ]
          },
          "metadata": {}
        },
        {
          "output_type": "display_data",
          "data": {
            "text/plain": [
              "<Figure size 1080x540 with 0 Axes>"
            ]
          },
          "metadata": {}
        },
        {
          "output_type": "display_data",
          "data": {
            "text/plain": [
              "<Figure size 1080x540 with 0 Axes>"
            ]
          },
          "metadata": {}
        },
        {
          "output_type": "display_data",
          "data": {
            "text/plain": [
              "<Figure size 1080x540 with 0 Axes>"
            ]
          },
          "metadata": {}
        },
        {
          "output_type": "display_data",
          "data": {
            "text/plain": [
              "<Figure size 1080x540 with 0 Axes>"
            ]
          },
          "metadata": {}
        },
        {
          "output_type": "display_data",
          "data": {
            "text/plain": [
              "<Figure size 1080x540 with 0 Axes>"
            ]
          },
          "metadata": {}
        },
        {
          "output_type": "display_data",
          "data": {
            "text/plain": [
              "<Figure size 1080x540 with 0 Axes>"
            ]
          },
          "metadata": {}
        },
        {
          "output_type": "display_data",
          "data": {
            "text/plain": [
              "<Figure size 1080x540 with 0 Axes>"
            ]
          },
          "metadata": {}
        },
        {
          "output_type": "display_data",
          "data": {
            "text/plain": [
              "<Figure size 1080x540 with 0 Axes>"
            ]
          },
          "metadata": {}
        },
        {
          "output_type": "display_data",
          "data": {
            "text/plain": [
              "<Figure size 1080x540 with 0 Axes>"
            ]
          },
          "metadata": {}
        },
        {
          "output_type": "display_data",
          "data": {
            "text/plain": [
              "<Figure size 1080x540 with 0 Axes>"
            ]
          },
          "metadata": {}
        },
        {
          "output_type": "display_data",
          "data": {
            "text/plain": [
              "<Figure size 1080x540 with 0 Axes>"
            ]
          },
          "metadata": {}
        },
        {
          "output_type": "display_data",
          "data": {
            "text/plain": [
              "<Figure size 1080x540 with 0 Axes>"
            ]
          },
          "metadata": {}
        },
        {
          "output_type": "display_data",
          "data": {
            "text/plain": [
              "<Figure size 1080x540 with 0 Axes>"
            ]
          },
          "metadata": {}
        },
        {
          "output_type": "display_data",
          "data": {
            "text/plain": [
              "<Figure size 1080x540 with 0 Axes>"
            ]
          },
          "metadata": {}
        },
        {
          "output_type": "display_data",
          "data": {
            "text/plain": [
              "<Figure size 1080x540 with 0 Axes>"
            ]
          },
          "metadata": {}
        },
        {
          "output_type": "display_data",
          "data": {
            "text/plain": [
              "<Figure size 1080x540 with 0 Axes>"
            ]
          },
          "metadata": {}
        },
        {
          "output_type": "display_data",
          "data": {
            "text/plain": [
              "<Figure size 1080x540 with 0 Axes>"
            ]
          },
          "metadata": {}
        },
        {
          "output_type": "display_data",
          "data": {
            "text/plain": [
              "<Figure size 1080x540 with 0 Axes>"
            ]
          },
          "metadata": {}
        },
        {
          "output_type": "display_data",
          "data": {
            "text/plain": [
              "<Figure size 1080x540 with 0 Axes>"
            ]
          },
          "metadata": {}
        },
        {
          "output_type": "display_data",
          "data": {
            "text/plain": [
              "<Figure size 1080x540 with 0 Axes>"
            ]
          },
          "metadata": {}
        },
        {
          "output_type": "display_data",
          "data": {
            "text/plain": [
              "<Figure size 1080x540 with 0 Axes>"
            ]
          },
          "metadata": {}
        },
        {
          "output_type": "display_data",
          "data": {
            "text/plain": [
              "<Figure size 1080x540 with 0 Axes>"
            ]
          },
          "metadata": {}
        },
        {
          "output_type": "display_data",
          "data": {
            "text/plain": [
              "<Figure size 1080x540 with 0 Axes>"
            ]
          },
          "metadata": {}
        },
        {
          "output_type": "display_data",
          "data": {
            "text/plain": [
              "<Figure size 1080x540 with 0 Axes>"
            ]
          },
          "metadata": {}
        },
        {
          "output_type": "display_data",
          "data": {
            "text/plain": [
              "<Figure size 1080x540 with 0 Axes>"
            ]
          },
          "metadata": {}
        },
        {
          "output_type": "display_data",
          "data": {
            "text/plain": [
              "<Figure size 1080x540 with 0 Axes>"
            ]
          },
          "metadata": {}
        },
        {
          "output_type": "display_data",
          "data": {
            "text/plain": [
              "<Figure size 1080x540 with 0 Axes>"
            ]
          },
          "metadata": {}
        },
        {
          "output_type": "display_data",
          "data": {
            "text/plain": [
              "<Figure size 1080x540 with 0 Axes>"
            ]
          },
          "metadata": {}
        },
        {
          "output_type": "display_data",
          "data": {
            "text/plain": [
              "<Figure size 1080x540 with 0 Axes>"
            ]
          },
          "metadata": {}
        },
        {
          "output_type": "display_data",
          "data": {
            "text/plain": [
              "<Figure size 1080x540 with 0 Axes>"
            ]
          },
          "metadata": {}
        },
        {
          "output_type": "display_data",
          "data": {
            "text/plain": [
              "<Figure size 1080x540 with 0 Axes>"
            ]
          },
          "metadata": {}
        },
        {
          "output_type": "display_data",
          "data": {
            "text/plain": [
              "<Figure size 1080x540 with 0 Axes>"
            ]
          },
          "metadata": {}
        },
        {
          "output_type": "display_data",
          "data": {
            "text/plain": [
              "<Figure size 1080x540 with 0 Axes>"
            ]
          },
          "metadata": {}
        },
        {
          "output_type": "display_data",
          "data": {
            "text/plain": [
              "<Figure size 1080x540 with 0 Axes>"
            ]
          },
          "metadata": {}
        },
        {
          "output_type": "display_data",
          "data": {
            "text/plain": [
              "<Figure size 1080x540 with 0 Axes>"
            ]
          },
          "metadata": {}
        },
        {
          "output_type": "display_data",
          "data": {
            "text/plain": [
              "<Figure size 1080x540 with 0 Axes>"
            ]
          },
          "metadata": {}
        },
        {
          "output_type": "display_data",
          "data": {
            "text/plain": [
              "<Figure size 1080x540 with 0 Axes>"
            ]
          },
          "metadata": {}
        },
        {
          "output_type": "display_data",
          "data": {
            "text/plain": [
              "<Figure size 1080x540 with 0 Axes>"
            ]
          },
          "metadata": {}
        },
        {
          "output_type": "display_data",
          "data": {
            "text/plain": [
              "<Figure size 1080x540 with 0 Axes>"
            ]
          },
          "metadata": {}
        },
        {
          "output_type": "display_data",
          "data": {
            "text/plain": [
              "<Figure size 1080x540 with 0 Axes>"
            ]
          },
          "metadata": {}
        },
        {
          "output_type": "display_data",
          "data": {
            "text/plain": [
              "<Figure size 1080x540 with 0 Axes>"
            ]
          },
          "metadata": {}
        },
        {
          "output_type": "display_data",
          "data": {
            "text/plain": [
              "<Figure size 1080x540 with 0 Axes>"
            ]
          },
          "metadata": {}
        },
        {
          "output_type": "display_data",
          "data": {
            "text/plain": [
              "<Figure size 1080x540 with 0 Axes>"
            ]
          },
          "metadata": {}
        },
        {
          "output_type": "display_data",
          "data": {
            "text/plain": [
              "<Figure size 1080x540 with 0 Axes>"
            ]
          },
          "metadata": {}
        },
        {
          "output_type": "display_data",
          "data": {
            "text/plain": [
              "<Figure size 1080x540 with 0 Axes>"
            ]
          },
          "metadata": {}
        },
        {
          "output_type": "display_data",
          "data": {
            "text/plain": [
              "<Figure size 1080x540 with 0 Axes>"
            ]
          },
          "metadata": {}
        },
        {
          "output_type": "display_data",
          "data": {
            "text/plain": [
              "<Figure size 1080x540 with 0 Axes>"
            ]
          },
          "metadata": {}
        },
        {
          "output_type": "display_data",
          "data": {
            "text/plain": [
              "<Figure size 1080x540 with 0 Axes>"
            ]
          },
          "metadata": {}
        },
        {
          "output_type": "display_data",
          "data": {
            "text/plain": [
              "<Figure size 1080x540 with 0 Axes>"
            ]
          },
          "metadata": {}
        },
        {
          "output_type": "display_data",
          "data": {
            "text/plain": [
              "<Figure size 1080x540 with 0 Axes>"
            ]
          },
          "metadata": {}
        },
        {
          "output_type": "display_data",
          "data": {
            "text/plain": [
              "<Figure size 1080x540 with 0 Axes>"
            ]
          },
          "metadata": {}
        },
        {
          "output_type": "display_data",
          "data": {
            "text/plain": [
              "<Figure size 1080x540 with 0 Axes>"
            ]
          },
          "metadata": {}
        },
        {
          "output_type": "display_data",
          "data": {
            "text/plain": [
              "<Figure size 1080x540 with 0 Axes>"
            ]
          },
          "metadata": {}
        },
        {
          "output_type": "display_data",
          "data": {
            "text/plain": [
              "<Figure size 1080x540 with 0 Axes>"
            ]
          },
          "metadata": {}
        },
        {
          "output_type": "display_data",
          "data": {
            "text/plain": [
              "<Figure size 1080x540 with 0 Axes>"
            ]
          },
          "metadata": {}
        },
        {
          "output_type": "display_data",
          "data": {
            "text/plain": [
              "<Figure size 1080x540 with 0 Axes>"
            ]
          },
          "metadata": {}
        },
        {
          "output_type": "display_data",
          "data": {
            "text/plain": [
              "<Figure size 1080x540 with 0 Axes>"
            ]
          },
          "metadata": {}
        },
        {
          "output_type": "display_data",
          "data": {
            "text/plain": [
              "<Figure size 1080x540 with 0 Axes>"
            ]
          },
          "metadata": {}
        },
        {
          "output_type": "display_data",
          "data": {
            "text/plain": [
              "<Figure size 1080x540 with 0 Axes>"
            ]
          },
          "metadata": {}
        },
        {
          "output_type": "display_data",
          "data": {
            "text/plain": [
              "<Figure size 1080x540 with 0 Axes>"
            ]
          },
          "metadata": {}
        },
        {
          "output_type": "display_data",
          "data": {
            "text/plain": [
              "<Figure size 1080x540 with 0 Axes>"
            ]
          },
          "metadata": {}
        },
        {
          "output_type": "display_data",
          "data": {
            "text/plain": [
              "<Figure size 1080x540 with 0 Axes>"
            ]
          },
          "metadata": {}
        },
        {
          "output_type": "display_data",
          "data": {
            "text/plain": [
              "<Figure size 1080x540 with 0 Axes>"
            ]
          },
          "metadata": {}
        },
        {
          "output_type": "display_data",
          "data": {
            "text/plain": [
              "<Figure size 1080x540 with 0 Axes>"
            ]
          },
          "metadata": {}
        },
        {
          "output_type": "display_data",
          "data": {
            "text/plain": [
              "<Figure size 1080x540 with 0 Axes>"
            ]
          },
          "metadata": {}
        },
        {
          "output_type": "display_data",
          "data": {
            "text/plain": [
              "<Figure size 1080x540 with 0 Axes>"
            ]
          },
          "metadata": {}
        },
        {
          "output_type": "display_data",
          "data": {
            "text/plain": [
              "<Figure size 1080x540 with 0 Axes>"
            ]
          },
          "metadata": {}
        },
        {
          "output_type": "display_data",
          "data": {
            "text/plain": [
              "<Figure size 1080x540 with 0 Axes>"
            ]
          },
          "metadata": {}
        },
        {
          "output_type": "display_data",
          "data": {
            "text/plain": [
              "<Figure size 1080x540 with 0 Axes>"
            ]
          },
          "metadata": {}
        },
        {
          "output_type": "display_data",
          "data": {
            "text/plain": [
              "<Figure size 1080x540 with 0 Axes>"
            ]
          },
          "metadata": {}
        },
        {
          "output_type": "display_data",
          "data": {
            "text/plain": [
              "<Figure size 1080x540 with 0 Axes>"
            ]
          },
          "metadata": {}
        },
        {
          "output_type": "display_data",
          "data": {
            "text/plain": [
              "<Figure size 1080x540 with 0 Axes>"
            ]
          },
          "metadata": {}
        },
        {
          "output_type": "display_data",
          "data": {
            "text/plain": [
              "<Figure size 1080x540 with 0 Axes>"
            ]
          },
          "metadata": {}
        },
        {
          "output_type": "display_data",
          "data": {
            "text/plain": [
              "<Figure size 1080x540 with 0 Axes>"
            ]
          },
          "metadata": {}
        },
        {
          "output_type": "display_data",
          "data": {
            "text/plain": [
              "<Figure size 1080x540 with 0 Axes>"
            ]
          },
          "metadata": {}
        },
        {
          "output_type": "display_data",
          "data": {
            "text/plain": [
              "<Figure size 1080x540 with 0 Axes>"
            ]
          },
          "metadata": {}
        },
        {
          "output_type": "display_data",
          "data": {
            "text/plain": [
              "<Figure size 1080x540 with 0 Axes>"
            ]
          },
          "metadata": {}
        },
        {
          "output_type": "display_data",
          "data": {
            "text/plain": [
              "<Figure size 1080x540 with 0 Axes>"
            ]
          },
          "metadata": {}
        },
        {
          "output_type": "display_data",
          "data": {
            "text/plain": [
              "<Figure size 1080x540 with 0 Axes>"
            ]
          },
          "metadata": {}
        },
        {
          "output_type": "display_data",
          "data": {
            "text/plain": [
              "<Figure size 1080x540 with 0 Axes>"
            ]
          },
          "metadata": {}
        },
        {
          "output_type": "display_data",
          "data": {
            "text/plain": [
              "<Figure size 1080x540 with 0 Axes>"
            ]
          },
          "metadata": {}
        },
        {
          "output_type": "display_data",
          "data": {
            "text/plain": [
              "<Figure size 1080x540 with 0 Axes>"
            ]
          },
          "metadata": {}
        },
        {
          "output_type": "display_data",
          "data": {
            "text/plain": [
              "<Figure size 1080x540 with 0 Axes>"
            ]
          },
          "metadata": {}
        },
        {
          "output_type": "display_data",
          "data": {
            "text/plain": [
              "<Figure size 1080x540 with 0 Axes>"
            ]
          },
          "metadata": {}
        },
        {
          "output_type": "display_data",
          "data": {
            "text/plain": [
              "<Figure size 1080x540 with 0 Axes>"
            ]
          },
          "metadata": {}
        },
        {
          "output_type": "display_data",
          "data": {
            "text/plain": [
              "<Figure size 1080x540 with 0 Axes>"
            ]
          },
          "metadata": {}
        },
        {
          "output_type": "display_data",
          "data": {
            "text/plain": [
              "<Figure size 1080x540 with 0 Axes>"
            ]
          },
          "metadata": {}
        },
        {
          "output_type": "display_data",
          "data": {
            "text/plain": [
              "<Figure size 1080x540 with 0 Axes>"
            ]
          },
          "metadata": {}
        },
        {
          "output_type": "display_data",
          "data": {
            "text/plain": [
              "<Figure size 1080x540 with 0 Axes>"
            ]
          },
          "metadata": {}
        },
        {
          "output_type": "display_data",
          "data": {
            "text/plain": [
              "<Figure size 1080x540 with 0 Axes>"
            ]
          },
          "metadata": {}
        },
        {
          "output_type": "display_data",
          "data": {
            "text/plain": [
              "<Figure size 1080x540 with 0 Axes>"
            ]
          },
          "metadata": {}
        },
        {
          "output_type": "display_data",
          "data": {
            "text/plain": [
              "<Figure size 1080x540 with 0 Axes>"
            ]
          },
          "metadata": {}
        },
        {
          "output_type": "display_data",
          "data": {
            "text/plain": [
              "<Figure size 1080x540 with 0 Axes>"
            ]
          },
          "metadata": {}
        },
        {
          "output_type": "display_data",
          "data": {
            "text/plain": [
              "<Figure size 1080x540 with 0 Axes>"
            ]
          },
          "metadata": {}
        },
        {
          "output_type": "display_data",
          "data": {
            "text/plain": [
              "<Figure size 1080x540 with 0 Axes>"
            ]
          },
          "metadata": {}
        },
        {
          "output_type": "display_data",
          "data": {
            "text/plain": [
              "<Figure size 1080x540 with 0 Axes>"
            ]
          },
          "metadata": {}
        },
        {
          "output_type": "display_data",
          "data": {
            "text/plain": [
              "<Figure size 1080x540 with 0 Axes>"
            ]
          },
          "metadata": {}
        },
        {
          "output_type": "display_data",
          "data": {
            "text/plain": [
              "<Figure size 1080x540 with 0 Axes>"
            ]
          },
          "metadata": {}
        },
        {
          "output_type": "display_data",
          "data": {
            "text/plain": [
              "<Figure size 1080x540 with 0 Axes>"
            ]
          },
          "metadata": {}
        },
        {
          "output_type": "display_data",
          "data": {
            "text/plain": [
              "<Figure size 1080x540 with 0 Axes>"
            ]
          },
          "metadata": {}
        },
        {
          "output_type": "display_data",
          "data": {
            "text/plain": [
              "<Figure size 1080x540 with 0 Axes>"
            ]
          },
          "metadata": {}
        },
        {
          "output_type": "display_data",
          "data": {
            "text/plain": [
              "<Figure size 1080x540 with 0 Axes>"
            ]
          },
          "metadata": {}
        },
        {
          "output_type": "display_data",
          "data": {
            "text/plain": [
              "<Figure size 1080x540 with 0 Axes>"
            ]
          },
          "metadata": {}
        },
        {
          "output_type": "display_data",
          "data": {
            "text/plain": [
              "<Figure size 1080x540 with 0 Axes>"
            ]
          },
          "metadata": {}
        },
        {
          "output_type": "display_data",
          "data": {
            "text/plain": [
              "<Figure size 1080x540 with 0 Axes>"
            ]
          },
          "metadata": {}
        },
        {
          "output_type": "display_data",
          "data": {
            "text/plain": [
              "<Figure size 1080x540 with 0 Axes>"
            ]
          },
          "metadata": {}
        },
        {
          "output_type": "display_data",
          "data": {
            "text/plain": [
              "<Figure size 1080x540 with 0 Axes>"
            ]
          },
          "metadata": {}
        },
        {
          "output_type": "display_data",
          "data": {
            "text/plain": [
              "<Figure size 1080x540 with 0 Axes>"
            ]
          },
          "metadata": {}
        },
        {
          "output_type": "display_data",
          "data": {
            "text/plain": [
              "<Figure size 1080x540 with 0 Axes>"
            ]
          },
          "metadata": {}
        },
        {
          "output_type": "display_data",
          "data": {
            "text/plain": [
              "<Figure size 1080x540 with 0 Axes>"
            ]
          },
          "metadata": {}
        },
        {
          "output_type": "display_data",
          "data": {
            "text/plain": [
              "<Figure size 1080x540 with 0 Axes>"
            ]
          },
          "metadata": {}
        },
        {
          "output_type": "display_data",
          "data": {
            "text/plain": [
              "<Figure size 1080x540 with 0 Axes>"
            ]
          },
          "metadata": {}
        },
        {
          "output_type": "display_data",
          "data": {
            "text/plain": [
              "<Figure size 1080x540 with 0 Axes>"
            ]
          },
          "metadata": {}
        },
        {
          "output_type": "display_data",
          "data": {
            "text/plain": [
              "<Figure size 1080x540 with 0 Axes>"
            ]
          },
          "metadata": {}
        },
        {
          "output_type": "display_data",
          "data": {
            "text/plain": [
              "<Figure size 1080x540 with 0 Axes>"
            ]
          },
          "metadata": {}
        },
        {
          "output_type": "display_data",
          "data": {
            "text/plain": [
              "<Figure size 1080x540 with 0 Axes>"
            ]
          },
          "metadata": {}
        },
        {
          "output_type": "display_data",
          "data": {
            "text/plain": [
              "<Figure size 1080x540 with 0 Axes>"
            ]
          },
          "metadata": {}
        },
        {
          "output_type": "display_data",
          "data": {
            "text/plain": [
              "<Figure size 1080x540 with 0 Axes>"
            ]
          },
          "metadata": {}
        },
        {
          "output_type": "display_data",
          "data": {
            "text/plain": [
              "<Figure size 1080x540 with 0 Axes>"
            ]
          },
          "metadata": {}
        },
        {
          "output_type": "display_data",
          "data": {
            "text/plain": [
              "<Figure size 1080x540 with 0 Axes>"
            ]
          },
          "metadata": {}
        },
        {
          "output_type": "display_data",
          "data": {
            "text/plain": [
              "<Figure size 1080x540 with 0 Axes>"
            ]
          },
          "metadata": {}
        },
        {
          "output_type": "display_data",
          "data": {
            "text/plain": [
              "<Figure size 1080x540 with 0 Axes>"
            ]
          },
          "metadata": {}
        },
        {
          "output_type": "display_data",
          "data": {
            "text/plain": [
              "<Figure size 1080x540 with 0 Axes>"
            ]
          },
          "metadata": {}
        },
        {
          "output_type": "display_data",
          "data": {
            "text/plain": [
              "<Figure size 1080x540 with 0 Axes>"
            ]
          },
          "metadata": {}
        },
        {
          "output_type": "display_data",
          "data": {
            "text/plain": [
              "<Figure size 1080x540 with 0 Axes>"
            ]
          },
          "metadata": {}
        },
        {
          "output_type": "display_data",
          "data": {
            "text/plain": [
              "<Figure size 1080x540 with 0 Axes>"
            ]
          },
          "metadata": {}
        },
        {
          "output_type": "display_data",
          "data": {
            "text/plain": [
              "<Figure size 1080x540 with 0 Axes>"
            ]
          },
          "metadata": {}
        },
        {
          "output_type": "display_data",
          "data": {
            "text/plain": [
              "<Figure size 1080x540 with 0 Axes>"
            ]
          },
          "metadata": {}
        },
        {
          "output_type": "display_data",
          "data": {
            "text/plain": [
              "<Figure size 1080x540 with 0 Axes>"
            ]
          },
          "metadata": {}
        },
        {
          "output_type": "display_data",
          "data": {
            "text/plain": [
              "<Figure size 1080x540 with 0 Axes>"
            ]
          },
          "metadata": {}
        },
        {
          "output_type": "display_data",
          "data": {
            "text/plain": [
              "<Figure size 1080x540 with 0 Axes>"
            ]
          },
          "metadata": {}
        },
        {
          "output_type": "display_data",
          "data": {
            "text/plain": [
              "<Figure size 1080x540 with 0 Axes>"
            ]
          },
          "metadata": {}
        },
        {
          "output_type": "display_data",
          "data": {
            "text/plain": [
              "<Figure size 1080x540 with 0 Axes>"
            ]
          },
          "metadata": {}
        },
        {
          "output_type": "display_data",
          "data": {
            "text/plain": [
              "<Figure size 1080x540 with 0 Axes>"
            ]
          },
          "metadata": {}
        },
        {
          "output_type": "display_data",
          "data": {
            "text/plain": [
              "<Figure size 1080x540 with 0 Axes>"
            ]
          },
          "metadata": {}
        },
        {
          "output_type": "display_data",
          "data": {
            "text/plain": [
              "<Figure size 1080x540 with 0 Axes>"
            ]
          },
          "metadata": {}
        },
        {
          "output_type": "display_data",
          "data": {
            "text/plain": [
              "<Figure size 1080x540 with 0 Axes>"
            ]
          },
          "metadata": {}
        },
        {
          "output_type": "display_data",
          "data": {
            "text/plain": [
              "<Figure size 1080x540 with 0 Axes>"
            ]
          },
          "metadata": {}
        },
        {
          "output_type": "display_data",
          "data": {
            "text/plain": [
              "<Figure size 1080x540 with 0 Axes>"
            ]
          },
          "metadata": {}
        },
        {
          "output_type": "display_data",
          "data": {
            "text/plain": [
              "<Figure size 1080x540 with 0 Axes>"
            ]
          },
          "metadata": {}
        },
        {
          "output_type": "display_data",
          "data": {
            "text/plain": [
              "<Figure size 1080x540 with 0 Axes>"
            ]
          },
          "metadata": {}
        },
        {
          "output_type": "display_data",
          "data": {
            "text/plain": [
              "<Figure size 1080x540 with 0 Axes>"
            ]
          },
          "metadata": {}
        },
        {
          "output_type": "display_data",
          "data": {
            "text/plain": [
              "<Figure size 1080x540 with 0 Axes>"
            ]
          },
          "metadata": {}
        },
        {
          "output_type": "display_data",
          "data": {
            "text/plain": [
              "<Figure size 1080x540 with 0 Axes>"
            ]
          },
          "metadata": {}
        },
        {
          "output_type": "display_data",
          "data": {
            "text/plain": [
              "<Figure size 1080x540 with 0 Axes>"
            ]
          },
          "metadata": {}
        },
        {
          "output_type": "display_data",
          "data": {
            "text/plain": [
              "<Figure size 1080x540 with 0 Axes>"
            ]
          },
          "metadata": {}
        },
        {
          "output_type": "display_data",
          "data": {
            "text/plain": [
              "<Figure size 1080x540 with 0 Axes>"
            ]
          },
          "metadata": {}
        },
        {
          "output_type": "display_data",
          "data": {
            "text/plain": [
              "<Figure size 1080x540 with 0 Axes>"
            ]
          },
          "metadata": {}
        },
        {
          "output_type": "display_data",
          "data": {
            "text/plain": [
              "<Figure size 1080x540 with 0 Axes>"
            ]
          },
          "metadata": {}
        },
        {
          "output_type": "display_data",
          "data": {
            "text/plain": [
              "<Figure size 1080x540 with 0 Axes>"
            ]
          },
          "metadata": {}
        },
        {
          "output_type": "display_data",
          "data": {
            "text/plain": [
              "<Figure size 1080x540 with 0 Axes>"
            ]
          },
          "metadata": {}
        },
        {
          "output_type": "display_data",
          "data": {
            "text/plain": [
              "<Figure size 1080x540 with 0 Axes>"
            ]
          },
          "metadata": {}
        },
        {
          "output_type": "display_data",
          "data": {
            "text/plain": [
              "<Figure size 1080x540 with 0 Axes>"
            ]
          },
          "metadata": {}
        },
        {
          "output_type": "display_data",
          "data": {
            "text/plain": [
              "<Figure size 1080x540 with 0 Axes>"
            ]
          },
          "metadata": {}
        },
        {
          "output_type": "display_data",
          "data": {
            "text/plain": [
              "<Figure size 1080x540 with 0 Axes>"
            ]
          },
          "metadata": {}
        },
        {
          "output_type": "display_data",
          "data": {
            "text/plain": [
              "<Figure size 1080x540 with 0 Axes>"
            ]
          },
          "metadata": {}
        },
        {
          "output_type": "display_data",
          "data": {
            "text/plain": [
              "<Figure size 1080x540 with 0 Axes>"
            ]
          },
          "metadata": {}
        },
        {
          "output_type": "display_data",
          "data": {
            "text/plain": [
              "<Figure size 1080x540 with 0 Axes>"
            ]
          },
          "metadata": {}
        },
        {
          "output_type": "display_data",
          "data": {
            "text/plain": [
              "<Figure size 1080x540 with 0 Axes>"
            ]
          },
          "metadata": {}
        },
        {
          "output_type": "display_data",
          "data": {
            "text/plain": [
              "<Figure size 1080x540 with 0 Axes>"
            ]
          },
          "metadata": {}
        },
        {
          "output_type": "display_data",
          "data": {
            "text/plain": [
              "<Figure size 1080x540 with 0 Axes>"
            ]
          },
          "metadata": {}
        },
        {
          "output_type": "display_data",
          "data": {
            "text/plain": [
              "<Figure size 1080x540 with 0 Axes>"
            ]
          },
          "metadata": {}
        },
        {
          "output_type": "display_data",
          "data": {
            "text/plain": [
              "<Figure size 1080x540 with 0 Axes>"
            ]
          },
          "metadata": {}
        },
        {
          "output_type": "display_data",
          "data": {
            "text/plain": [
              "<Figure size 1080x540 with 0 Axes>"
            ]
          },
          "metadata": {}
        },
        {
          "output_type": "display_data",
          "data": {
            "text/plain": [
              "<Figure size 1080x540 with 0 Axes>"
            ]
          },
          "metadata": {}
        },
        {
          "output_type": "display_data",
          "data": {
            "text/plain": [
              "<Figure size 1080x540 with 0 Axes>"
            ]
          },
          "metadata": {}
        },
        {
          "output_type": "display_data",
          "data": {
            "text/plain": [
              "<Figure size 1080x540 with 0 Axes>"
            ]
          },
          "metadata": {}
        },
        {
          "output_type": "display_data",
          "data": {
            "text/plain": [
              "<Figure size 1080x540 with 0 Axes>"
            ]
          },
          "metadata": {}
        },
        {
          "output_type": "display_data",
          "data": {
            "text/plain": [
              "<Figure size 1080x540 with 0 Axes>"
            ]
          },
          "metadata": {}
        },
        {
          "output_type": "display_data",
          "data": {
            "text/plain": [
              "<Figure size 1080x540 with 0 Axes>"
            ]
          },
          "metadata": {}
        },
        {
          "output_type": "display_data",
          "data": {
            "text/plain": [
              "<Figure size 1080x540 with 0 Axes>"
            ]
          },
          "metadata": {}
        },
        {
          "output_type": "display_data",
          "data": {
            "text/plain": [
              "<Figure size 1080x540 with 0 Axes>"
            ]
          },
          "metadata": {}
        },
        {
          "output_type": "display_data",
          "data": {
            "text/plain": [
              "<Figure size 1080x540 with 0 Axes>"
            ]
          },
          "metadata": {}
        },
        {
          "output_type": "display_data",
          "data": {
            "text/plain": [
              "<Figure size 1080x540 with 0 Axes>"
            ]
          },
          "metadata": {}
        },
        {
          "output_type": "display_data",
          "data": {
            "text/plain": [
              "<Figure size 1080x540 with 0 Axes>"
            ]
          },
          "metadata": {}
        },
        {
          "output_type": "display_data",
          "data": {
            "text/plain": [
              "<Figure size 1080x540 with 0 Axes>"
            ]
          },
          "metadata": {}
        },
        {
          "output_type": "display_data",
          "data": {
            "text/plain": [
              "<Figure size 1080x540 with 0 Axes>"
            ]
          },
          "metadata": {}
        },
        {
          "output_type": "display_data",
          "data": {
            "text/plain": [
              "<Figure size 1080x540 with 0 Axes>"
            ]
          },
          "metadata": {}
        },
        {
          "output_type": "display_data",
          "data": {
            "text/plain": [
              "<Figure size 1080x540 with 0 Axes>"
            ]
          },
          "metadata": {}
        },
        {
          "output_type": "display_data",
          "data": {
            "text/plain": [
              "<Figure size 1080x540 with 0 Axes>"
            ]
          },
          "metadata": {}
        },
        {
          "output_type": "display_data",
          "data": {
            "text/plain": [
              "<Figure size 1080x540 with 0 Axes>"
            ]
          },
          "metadata": {}
        },
        {
          "output_type": "display_data",
          "data": {
            "text/plain": [
              "<Figure size 1080x540 with 0 Axes>"
            ]
          },
          "metadata": {}
        },
        {
          "output_type": "display_data",
          "data": {
            "text/plain": [
              "<Figure size 1080x540 with 0 Axes>"
            ]
          },
          "metadata": {}
        },
        {
          "output_type": "display_data",
          "data": {
            "text/plain": [
              "<Figure size 1080x540 with 0 Axes>"
            ]
          },
          "metadata": {}
        },
        {
          "output_type": "display_data",
          "data": {
            "text/plain": [
              "<Figure size 1080x540 with 0 Axes>"
            ]
          },
          "metadata": {}
        },
        {
          "output_type": "display_data",
          "data": {
            "text/plain": [
              "<Figure size 1080x540 with 0 Axes>"
            ]
          },
          "metadata": {}
        },
        {
          "output_type": "display_data",
          "data": {
            "text/plain": [
              "<Figure size 1080x540 with 0 Axes>"
            ]
          },
          "metadata": {}
        },
        {
          "output_type": "display_data",
          "data": {
            "text/plain": [
              "<Figure size 1080x540 with 0 Axes>"
            ]
          },
          "metadata": {}
        },
        {
          "output_type": "display_data",
          "data": {
            "text/plain": [
              "<Figure size 1080x540 with 0 Axes>"
            ]
          },
          "metadata": {}
        },
        {
          "output_type": "display_data",
          "data": {
            "text/plain": [
              "<Figure size 1080x540 with 0 Axes>"
            ]
          },
          "metadata": {}
        },
        {
          "output_type": "display_data",
          "data": {
            "text/plain": [
              "<Figure size 1080x540 with 0 Axes>"
            ]
          },
          "metadata": {}
        },
        {
          "output_type": "display_data",
          "data": {
            "text/plain": [
              "<Figure size 1080x540 with 0 Axes>"
            ]
          },
          "metadata": {}
        },
        {
          "output_type": "display_data",
          "data": {
            "text/plain": [
              "<Figure size 1080x540 with 0 Axes>"
            ]
          },
          "metadata": {}
        },
        {
          "output_type": "display_data",
          "data": {
            "text/plain": [
              "<Figure size 1080x540 with 0 Axes>"
            ]
          },
          "metadata": {}
        },
        {
          "output_type": "display_data",
          "data": {
            "text/plain": [
              "<Figure size 1080x540 with 0 Axes>"
            ]
          },
          "metadata": {}
        },
        {
          "output_type": "display_data",
          "data": {
            "text/plain": [
              "<Figure size 1080x540 with 0 Axes>"
            ]
          },
          "metadata": {}
        },
        {
          "output_type": "display_data",
          "data": {
            "text/plain": [
              "<Figure size 1080x540 with 0 Axes>"
            ]
          },
          "metadata": {}
        },
        {
          "output_type": "display_data",
          "data": {
            "text/plain": [
              "<Figure size 1080x540 with 0 Axes>"
            ]
          },
          "metadata": {}
        },
        {
          "output_type": "display_data",
          "data": {
            "text/plain": [
              "<Figure size 1080x540 with 0 Axes>"
            ]
          },
          "metadata": {}
        },
        {
          "output_type": "display_data",
          "data": {
            "text/plain": [
              "<Figure size 1080x540 with 0 Axes>"
            ]
          },
          "metadata": {}
        },
        {
          "output_type": "display_data",
          "data": {
            "text/plain": [
              "<Figure size 1080x540 with 0 Axes>"
            ]
          },
          "metadata": {}
        },
        {
          "output_type": "display_data",
          "data": {
            "text/plain": [
              "<Figure size 1080x540 with 0 Axes>"
            ]
          },
          "metadata": {}
        },
        {
          "output_type": "display_data",
          "data": {
            "text/plain": [
              "<Figure size 1080x540 with 0 Axes>"
            ]
          },
          "metadata": {}
        },
        {
          "output_type": "display_data",
          "data": {
            "text/plain": [
              "<Figure size 1080x540 with 0 Axes>"
            ]
          },
          "metadata": {}
        },
        {
          "output_type": "display_data",
          "data": {
            "text/plain": [
              "<Figure size 1080x540 with 0 Axes>"
            ]
          },
          "metadata": {}
        },
        {
          "output_type": "display_data",
          "data": {
            "text/plain": [
              "<Figure size 1080x540 with 0 Axes>"
            ]
          },
          "metadata": {}
        },
        {
          "output_type": "display_data",
          "data": {
            "text/plain": [
              "<Figure size 1080x540 with 0 Axes>"
            ]
          },
          "metadata": {}
        },
        {
          "output_type": "display_data",
          "data": {
            "text/plain": [
              "<Figure size 1080x540 with 0 Axes>"
            ]
          },
          "metadata": {}
        },
        {
          "output_type": "display_data",
          "data": {
            "text/plain": [
              "<Figure size 1080x540 with 0 Axes>"
            ]
          },
          "metadata": {}
        },
        {
          "output_type": "display_data",
          "data": {
            "text/plain": [
              "<Figure size 1080x540 with 0 Axes>"
            ]
          },
          "metadata": {}
        },
        {
          "output_type": "display_data",
          "data": {
            "text/plain": [
              "<Figure size 1080x540 with 0 Axes>"
            ]
          },
          "metadata": {}
        },
        {
          "output_type": "display_data",
          "data": {
            "text/plain": [
              "<Figure size 1080x540 with 0 Axes>"
            ]
          },
          "metadata": {}
        },
        {
          "output_type": "display_data",
          "data": {
            "text/plain": [
              "<Figure size 1080x540 with 0 Axes>"
            ]
          },
          "metadata": {}
        },
        {
          "output_type": "display_data",
          "data": {
            "text/plain": [
              "<Figure size 1080x540 with 0 Axes>"
            ]
          },
          "metadata": {}
        },
        {
          "output_type": "display_data",
          "data": {
            "text/plain": [
              "<Figure size 1080x540 with 0 Axes>"
            ]
          },
          "metadata": {}
        },
        {
          "output_type": "display_data",
          "data": {
            "text/plain": [
              "<Figure size 1080x540 with 0 Axes>"
            ]
          },
          "metadata": {}
        },
        {
          "output_type": "display_data",
          "data": {
            "text/plain": [
              "<Figure size 1080x540 with 0 Axes>"
            ]
          },
          "metadata": {}
        },
        {
          "output_type": "display_data",
          "data": {
            "text/plain": [
              "<Figure size 1080x540 with 0 Axes>"
            ]
          },
          "metadata": {}
        },
        {
          "output_type": "display_data",
          "data": {
            "text/plain": [
              "<Figure size 1080x540 with 0 Axes>"
            ]
          },
          "metadata": {}
        },
        {
          "output_type": "display_data",
          "data": {
            "text/plain": [
              "<Figure size 1080x540 with 0 Axes>"
            ]
          },
          "metadata": {}
        },
        {
          "output_type": "display_data",
          "data": {
            "text/plain": [
              "<Figure size 1080x540 with 0 Axes>"
            ]
          },
          "metadata": {}
        },
        {
          "output_type": "display_data",
          "data": {
            "text/plain": [
              "<Figure size 1080x540 with 0 Axes>"
            ]
          },
          "metadata": {}
        },
        {
          "output_type": "display_data",
          "data": {
            "text/plain": [
              "<Figure size 1080x540 with 0 Axes>"
            ]
          },
          "metadata": {}
        },
        {
          "output_type": "display_data",
          "data": {
            "text/plain": [
              "<Figure size 1080x540 with 0 Axes>"
            ]
          },
          "metadata": {}
        },
        {
          "output_type": "display_data",
          "data": {
            "text/plain": [
              "<Figure size 1080x540 with 0 Axes>"
            ]
          },
          "metadata": {}
        },
        {
          "output_type": "display_data",
          "data": {
            "text/plain": [
              "<Figure size 1080x540 with 0 Axes>"
            ]
          },
          "metadata": {}
        },
        {
          "output_type": "display_data",
          "data": {
            "text/plain": [
              "<Figure size 1080x540 with 0 Axes>"
            ]
          },
          "metadata": {}
        },
        {
          "output_type": "display_data",
          "data": {
            "text/plain": [
              "<Figure size 1080x540 with 0 Axes>"
            ]
          },
          "metadata": {}
        },
        {
          "output_type": "display_data",
          "data": {
            "text/plain": [
              "<Figure size 1080x540 with 0 Axes>"
            ]
          },
          "metadata": {}
        },
        {
          "output_type": "display_data",
          "data": {
            "text/plain": [
              "<Figure size 1080x540 with 0 Axes>"
            ]
          },
          "metadata": {}
        },
        {
          "output_type": "display_data",
          "data": {
            "text/plain": [
              "<Figure size 1080x540 with 0 Axes>"
            ]
          },
          "metadata": {}
        },
        {
          "output_type": "display_data",
          "data": {
            "text/plain": [
              "<Figure size 1080x540 with 0 Axes>"
            ]
          },
          "metadata": {}
        },
        {
          "output_type": "display_data",
          "data": {
            "text/plain": [
              "<Figure size 1080x540 with 0 Axes>"
            ]
          },
          "metadata": {}
        },
        {
          "output_type": "display_data",
          "data": {
            "text/plain": [
              "<Figure size 1080x540 with 0 Axes>"
            ]
          },
          "metadata": {}
        },
        {
          "output_type": "display_data",
          "data": {
            "text/plain": [
              "<Figure size 1080x540 with 0 Axes>"
            ]
          },
          "metadata": {}
        },
        {
          "output_type": "display_data",
          "data": {
            "text/plain": [
              "<Figure size 1080x540 with 0 Axes>"
            ]
          },
          "metadata": {}
        },
        {
          "output_type": "display_data",
          "data": {
            "text/plain": [
              "<Figure size 1080x540 with 0 Axes>"
            ]
          },
          "metadata": {}
        },
        {
          "output_type": "display_data",
          "data": {
            "text/plain": [
              "<Figure size 1080x540 with 0 Axes>"
            ]
          },
          "metadata": {}
        },
        {
          "output_type": "display_data",
          "data": {
            "text/plain": [
              "<Figure size 1080x540 with 0 Axes>"
            ]
          },
          "metadata": {}
        },
        {
          "output_type": "display_data",
          "data": {
            "text/plain": [
              "<Figure size 1080x540 with 0 Axes>"
            ]
          },
          "metadata": {}
        },
        {
          "output_type": "display_data",
          "data": {
            "text/plain": [
              "<Figure size 1080x540 with 0 Axes>"
            ]
          },
          "metadata": {}
        },
        {
          "output_type": "display_data",
          "data": {
            "text/plain": [
              "<Figure size 1080x540 with 0 Axes>"
            ]
          },
          "metadata": {}
        },
        {
          "output_type": "display_data",
          "data": {
            "text/plain": [
              "<Figure size 1080x540 with 0 Axes>"
            ]
          },
          "metadata": {}
        },
        {
          "output_type": "display_data",
          "data": {
            "text/plain": [
              "<Figure size 1080x540 with 0 Axes>"
            ]
          },
          "metadata": {}
        },
        {
          "output_type": "display_data",
          "data": {
            "text/plain": [
              "<Figure size 1080x540 with 0 Axes>"
            ]
          },
          "metadata": {}
        },
        {
          "output_type": "display_data",
          "data": {
            "text/plain": [
              "<Figure size 1080x540 with 0 Axes>"
            ]
          },
          "metadata": {}
        },
        {
          "output_type": "display_data",
          "data": {
            "text/plain": [
              "<Figure size 1080x540 with 0 Axes>"
            ]
          },
          "metadata": {}
        },
        {
          "output_type": "display_data",
          "data": {
            "text/plain": [
              "<Figure size 1080x540 with 0 Axes>"
            ]
          },
          "metadata": {}
        },
        {
          "output_type": "display_data",
          "data": {
            "text/plain": [
              "<Figure size 1080x540 with 0 Axes>"
            ]
          },
          "metadata": {}
        },
        {
          "output_type": "display_data",
          "data": {
            "text/plain": [
              "<Figure size 1080x540 with 0 Axes>"
            ]
          },
          "metadata": {}
        },
        {
          "output_type": "display_data",
          "data": {
            "text/plain": [
              "<Figure size 1080x540 with 0 Axes>"
            ]
          },
          "metadata": {}
        },
        {
          "output_type": "display_data",
          "data": {
            "text/plain": [
              "<Figure size 1080x540 with 0 Axes>"
            ]
          },
          "metadata": {}
        },
        {
          "output_type": "display_data",
          "data": {
            "text/plain": [
              "<Figure size 1080x540 with 0 Axes>"
            ]
          },
          "metadata": {}
        },
        {
          "output_type": "display_data",
          "data": {
            "text/plain": [
              "<Figure size 1080x540 with 0 Axes>"
            ]
          },
          "metadata": {}
        },
        {
          "output_type": "display_data",
          "data": {
            "text/plain": [
              "<Figure size 1080x540 with 0 Axes>"
            ]
          },
          "metadata": {}
        },
        {
          "output_type": "display_data",
          "data": {
            "text/plain": [
              "<Figure size 1080x540 with 0 Axes>"
            ]
          },
          "metadata": {}
        },
        {
          "output_type": "display_data",
          "data": {
            "text/plain": [
              "<Figure size 1080x540 with 0 Axes>"
            ]
          },
          "metadata": {}
        },
        {
          "output_type": "display_data",
          "data": {
            "text/plain": [
              "<Figure size 1080x540 with 0 Axes>"
            ]
          },
          "metadata": {}
        },
        {
          "output_type": "display_data",
          "data": {
            "text/plain": [
              "<Figure size 1080x540 with 0 Axes>"
            ]
          },
          "metadata": {}
        },
        {
          "output_type": "display_data",
          "data": {
            "text/plain": [
              "<Figure size 1080x540 with 0 Axes>"
            ]
          },
          "metadata": {}
        },
        {
          "output_type": "display_data",
          "data": {
            "text/plain": [
              "<Figure size 1080x540 with 0 Axes>"
            ]
          },
          "metadata": {}
        },
        {
          "output_type": "display_data",
          "data": {
            "text/plain": [
              "<Figure size 1080x540 with 0 Axes>"
            ]
          },
          "metadata": {}
        },
        {
          "output_type": "display_data",
          "data": {
            "text/plain": [
              "<Figure size 1080x540 with 0 Axes>"
            ]
          },
          "metadata": {}
        },
        {
          "output_type": "display_data",
          "data": {
            "text/plain": [
              "<Figure size 1080x540 with 0 Axes>"
            ]
          },
          "metadata": {}
        },
        {
          "output_type": "display_data",
          "data": {
            "text/plain": [
              "<Figure size 1080x540 with 0 Axes>"
            ]
          },
          "metadata": {}
        },
        {
          "output_type": "display_data",
          "data": {
            "text/plain": [
              "<Figure size 1080x540 with 0 Axes>"
            ]
          },
          "metadata": {}
        },
        {
          "output_type": "display_data",
          "data": {
            "text/plain": [
              "<Figure size 1080x540 with 0 Axes>"
            ]
          },
          "metadata": {}
        },
        {
          "output_type": "display_data",
          "data": {
            "text/plain": [
              "<Figure size 1080x540 with 0 Axes>"
            ]
          },
          "metadata": {}
        },
        {
          "output_type": "display_data",
          "data": {
            "text/plain": [
              "<Figure size 1080x540 with 0 Axes>"
            ]
          },
          "metadata": {}
        },
        {
          "output_type": "display_data",
          "data": {
            "text/plain": [
              "<Figure size 1080x540 with 0 Axes>"
            ]
          },
          "metadata": {}
        },
        {
          "output_type": "display_data",
          "data": {
            "text/plain": [
              "<Figure size 1080x540 with 0 Axes>"
            ]
          },
          "metadata": {}
        },
        {
          "output_type": "display_data",
          "data": {
            "text/plain": [
              "<Figure size 1080x540 with 0 Axes>"
            ]
          },
          "metadata": {}
        },
        {
          "output_type": "display_data",
          "data": {
            "text/plain": [
              "<Figure size 1080x540 with 0 Axes>"
            ]
          },
          "metadata": {}
        },
        {
          "output_type": "display_data",
          "data": {
            "text/plain": [
              "<Figure size 1080x540 with 0 Axes>"
            ]
          },
          "metadata": {}
        },
        {
          "output_type": "display_data",
          "data": {
            "text/plain": [
              "<Figure size 1080x540 with 0 Axes>"
            ]
          },
          "metadata": {}
        },
        {
          "output_type": "display_data",
          "data": {
            "text/plain": [
              "<Figure size 1080x540 with 0 Axes>"
            ]
          },
          "metadata": {}
        },
        {
          "output_type": "display_data",
          "data": {
            "text/plain": [
              "<Figure size 1080x540 with 0 Axes>"
            ]
          },
          "metadata": {}
        },
        {
          "output_type": "display_data",
          "data": {
            "text/plain": [
              "<Figure size 1080x540 with 0 Axes>"
            ]
          },
          "metadata": {}
        },
        {
          "output_type": "display_data",
          "data": {
            "text/plain": [
              "<Figure size 1080x540 with 0 Axes>"
            ]
          },
          "metadata": {}
        },
        {
          "output_type": "display_data",
          "data": {
            "text/plain": [
              "<Figure size 1080x540 with 0 Axes>"
            ]
          },
          "metadata": {}
        },
        {
          "output_type": "display_data",
          "data": {
            "text/plain": [
              "<Figure size 1080x540 with 0 Axes>"
            ]
          },
          "metadata": {}
        },
        {
          "output_type": "display_data",
          "data": {
            "text/plain": [
              "<Figure size 1080x540 with 0 Axes>"
            ]
          },
          "metadata": {}
        },
        {
          "output_type": "display_data",
          "data": {
            "text/plain": [
              "<Figure size 1080x540 with 0 Axes>"
            ]
          },
          "metadata": {}
        },
        {
          "output_type": "display_data",
          "data": {
            "text/plain": [
              "<Figure size 1080x540 with 0 Axes>"
            ]
          },
          "metadata": {}
        },
        {
          "output_type": "display_data",
          "data": {
            "text/plain": [
              "<Figure size 1080x540 with 0 Axes>"
            ]
          },
          "metadata": {}
        },
        {
          "output_type": "display_data",
          "data": {
            "text/plain": [
              "<Figure size 1080x540 with 0 Axes>"
            ]
          },
          "metadata": {}
        },
        {
          "output_type": "display_data",
          "data": {
            "text/plain": [
              "<Figure size 1080x540 with 0 Axes>"
            ]
          },
          "metadata": {}
        },
        {
          "output_type": "display_data",
          "data": {
            "text/plain": [
              "<Figure size 1080x540 with 0 Axes>"
            ]
          },
          "metadata": {}
        },
        {
          "output_type": "display_data",
          "data": {
            "text/plain": [
              "<Figure size 1080x540 with 0 Axes>"
            ]
          },
          "metadata": {}
        },
        {
          "output_type": "display_data",
          "data": {
            "text/plain": [
              "<Figure size 1080x540 with 0 Axes>"
            ]
          },
          "metadata": {}
        },
        {
          "output_type": "display_data",
          "data": {
            "text/plain": [
              "<Figure size 1080x540 with 0 Axes>"
            ]
          },
          "metadata": {}
        },
        {
          "output_type": "display_data",
          "data": {
            "text/plain": [
              "<Figure size 1080x540 with 0 Axes>"
            ]
          },
          "metadata": {}
        },
        {
          "output_type": "display_data",
          "data": {
            "text/plain": [
              "<Figure size 1080x540 with 0 Axes>"
            ]
          },
          "metadata": {}
        },
        {
          "output_type": "display_data",
          "data": {
            "text/plain": [
              "<Figure size 1080x540 with 0 Axes>"
            ]
          },
          "metadata": {}
        },
        {
          "output_type": "display_data",
          "data": {
            "text/plain": [
              "<Figure size 1080x540 with 0 Axes>"
            ]
          },
          "metadata": {}
        },
        {
          "output_type": "display_data",
          "data": {
            "text/plain": [
              "<Figure size 1080x540 with 0 Axes>"
            ]
          },
          "metadata": {}
        },
        {
          "output_type": "display_data",
          "data": {
            "text/plain": [
              "<Figure size 1080x540 with 0 Axes>"
            ]
          },
          "metadata": {}
        },
        {
          "output_type": "display_data",
          "data": {
            "text/plain": [
              "<Figure size 1080x540 with 0 Axes>"
            ]
          },
          "metadata": {}
        },
        {
          "output_type": "display_data",
          "data": {
            "text/plain": [
              "<Figure size 1080x540 with 0 Axes>"
            ]
          },
          "metadata": {}
        },
        {
          "output_type": "display_data",
          "data": {
            "text/plain": [
              "<Figure size 1080x540 with 0 Axes>"
            ]
          },
          "metadata": {}
        },
        {
          "output_type": "display_data",
          "data": {
            "text/plain": [
              "<Figure size 1080x540 with 0 Axes>"
            ]
          },
          "metadata": {}
        },
        {
          "output_type": "display_data",
          "data": {
            "text/plain": [
              "<Figure size 1080x540 with 0 Axes>"
            ]
          },
          "metadata": {}
        },
        {
          "output_type": "display_data",
          "data": {
            "text/plain": [
              "<Figure size 1080x540 with 0 Axes>"
            ]
          },
          "metadata": {}
        },
        {
          "output_type": "display_data",
          "data": {
            "text/plain": [
              "<Figure size 1080x540 with 0 Axes>"
            ]
          },
          "metadata": {}
        },
        {
          "output_type": "display_data",
          "data": {
            "text/plain": [
              "<Figure size 1080x540 with 0 Axes>"
            ]
          },
          "metadata": {}
        },
        {
          "output_type": "display_data",
          "data": {
            "text/plain": [
              "<Figure size 1080x540 with 0 Axes>"
            ]
          },
          "metadata": {}
        },
        {
          "output_type": "display_data",
          "data": {
            "text/plain": [
              "<Figure size 1080x540 with 0 Axes>"
            ]
          },
          "metadata": {}
        },
        {
          "output_type": "display_data",
          "data": {
            "text/plain": [
              "<Figure size 1080x540 with 0 Axes>"
            ]
          },
          "metadata": {}
        },
        {
          "output_type": "display_data",
          "data": {
            "text/plain": [
              "<Figure size 1080x540 with 0 Axes>"
            ]
          },
          "metadata": {}
        },
        {
          "output_type": "display_data",
          "data": {
            "text/plain": [
              "<Figure size 1080x540 with 0 Axes>"
            ]
          },
          "metadata": {}
        },
        {
          "output_type": "display_data",
          "data": {
            "text/plain": [
              "<Figure size 1080x540 with 0 Axes>"
            ]
          },
          "metadata": {}
        },
        {
          "output_type": "display_data",
          "data": {
            "text/plain": [
              "<Figure size 1080x540 with 0 Axes>"
            ]
          },
          "metadata": {}
        },
        {
          "output_type": "display_data",
          "data": {
            "text/plain": [
              "<Figure size 1080x540 with 0 Axes>"
            ]
          },
          "metadata": {}
        },
        {
          "output_type": "display_data",
          "data": {
            "text/plain": [
              "<Figure size 1080x540 with 0 Axes>"
            ]
          },
          "metadata": {}
        },
        {
          "output_type": "display_data",
          "data": {
            "text/plain": [
              "<Figure size 1080x540 with 0 Axes>"
            ]
          },
          "metadata": {}
        },
        {
          "output_type": "display_data",
          "data": {
            "text/plain": [
              "<Figure size 1080x540 with 0 Axes>"
            ]
          },
          "metadata": {}
        },
        {
          "output_type": "display_data",
          "data": {
            "text/plain": [
              "<Figure size 1080x540 with 0 Axes>"
            ]
          },
          "metadata": {}
        },
        {
          "output_type": "display_data",
          "data": {
            "text/plain": [
              "<Figure size 1080x540 with 0 Axes>"
            ]
          },
          "metadata": {}
        },
        {
          "output_type": "display_data",
          "data": {
            "text/plain": [
              "<Figure size 1080x540 with 0 Axes>"
            ]
          },
          "metadata": {}
        },
        {
          "output_type": "display_data",
          "data": {
            "text/plain": [
              "<Figure size 1080x540 with 0 Axes>"
            ]
          },
          "metadata": {}
        },
        {
          "output_type": "display_data",
          "data": {
            "text/plain": [
              "<Figure size 1080x540 with 0 Axes>"
            ]
          },
          "metadata": {}
        },
        {
          "output_type": "display_data",
          "data": {
            "text/plain": [
              "<Figure size 1080x540 with 0 Axes>"
            ]
          },
          "metadata": {}
        },
        {
          "output_type": "display_data",
          "data": {
            "text/plain": [
              "<Figure size 1080x540 with 0 Axes>"
            ]
          },
          "metadata": {}
        },
        {
          "output_type": "display_data",
          "data": {
            "text/plain": [
              "<Figure size 1080x540 with 0 Axes>"
            ]
          },
          "metadata": {}
        },
        {
          "output_type": "display_data",
          "data": {
            "text/plain": [
              "<Figure size 1080x540 with 0 Axes>"
            ]
          },
          "metadata": {}
        },
        {
          "output_type": "display_data",
          "data": {
            "text/plain": [
              "<Figure size 1080x540 with 0 Axes>"
            ]
          },
          "metadata": {}
        },
        {
          "output_type": "display_data",
          "data": {
            "text/plain": [
              "<Figure size 1080x540 with 0 Axes>"
            ]
          },
          "metadata": {}
        },
        {
          "output_type": "display_data",
          "data": {
            "text/plain": [
              "<Figure size 1080x540 with 0 Axes>"
            ]
          },
          "metadata": {}
        },
        {
          "output_type": "display_data",
          "data": {
            "text/plain": [
              "<Figure size 1080x540 with 0 Axes>"
            ]
          },
          "metadata": {}
        },
        {
          "output_type": "display_data",
          "data": {
            "text/plain": [
              "<Figure size 1080x540 with 0 Axes>"
            ]
          },
          "metadata": {}
        },
        {
          "output_type": "display_data",
          "data": {
            "text/plain": [
              "<Figure size 1080x540 with 0 Axes>"
            ]
          },
          "metadata": {}
        },
        {
          "output_type": "display_data",
          "data": {
            "text/plain": [
              "<Figure size 1080x540 with 0 Axes>"
            ]
          },
          "metadata": {}
        },
        {
          "output_type": "display_data",
          "data": {
            "text/plain": [
              "<Figure size 1080x540 with 0 Axes>"
            ]
          },
          "metadata": {}
        },
        {
          "output_type": "display_data",
          "data": {
            "text/plain": [
              "<Figure size 1080x540 with 0 Axes>"
            ]
          },
          "metadata": {}
        },
        {
          "output_type": "display_data",
          "data": {
            "text/plain": [
              "<Figure size 1080x540 with 0 Axes>"
            ]
          },
          "metadata": {}
        },
        {
          "output_type": "display_data",
          "data": {
            "text/plain": [
              "<Figure size 1080x540 with 0 Axes>"
            ]
          },
          "metadata": {}
        },
        {
          "output_type": "display_data",
          "data": {
            "text/plain": [
              "<Figure size 1080x540 with 0 Axes>"
            ]
          },
          "metadata": {}
        },
        {
          "output_type": "display_data",
          "data": {
            "text/plain": [
              "<Figure size 1080x540 with 0 Axes>"
            ]
          },
          "metadata": {}
        },
        {
          "output_type": "display_data",
          "data": {
            "text/plain": [
              "<Figure size 1080x540 with 0 Axes>"
            ]
          },
          "metadata": {}
        },
        {
          "output_type": "display_data",
          "data": {
            "text/plain": [
              "<Figure size 1080x540 with 0 Axes>"
            ]
          },
          "metadata": {}
        },
        {
          "output_type": "display_data",
          "data": {
            "text/plain": [
              "<Figure size 1080x540 with 0 Axes>"
            ]
          },
          "metadata": {}
        },
        {
          "output_type": "display_data",
          "data": {
            "text/plain": [
              "<Figure size 1080x540 with 0 Axes>"
            ]
          },
          "metadata": {}
        },
        {
          "output_type": "display_data",
          "data": {
            "text/plain": [
              "<Figure size 1080x540 with 0 Axes>"
            ]
          },
          "metadata": {}
        },
        {
          "output_type": "display_data",
          "data": {
            "text/plain": [
              "<Figure size 1080x540 with 0 Axes>"
            ]
          },
          "metadata": {}
        },
        {
          "output_type": "display_data",
          "data": {
            "text/plain": [
              "<Figure size 1080x540 with 0 Axes>"
            ]
          },
          "metadata": {}
        },
        {
          "output_type": "display_data",
          "data": {
            "text/plain": [
              "<Figure size 1080x540 with 0 Axes>"
            ]
          },
          "metadata": {}
        },
        {
          "output_type": "display_data",
          "data": {
            "text/plain": [
              "<Figure size 1080x540 with 0 Axes>"
            ]
          },
          "metadata": {}
        },
        {
          "output_type": "display_data",
          "data": {
            "text/plain": [
              "<Figure size 1080x540 with 0 Axes>"
            ]
          },
          "metadata": {}
        },
        {
          "output_type": "display_data",
          "data": {
            "text/plain": [
              "<Figure size 1080x540 with 0 Axes>"
            ]
          },
          "metadata": {}
        },
        {
          "output_type": "display_data",
          "data": {
            "text/plain": [
              "<Figure size 1080x540 with 0 Axes>"
            ]
          },
          "metadata": {}
        },
        {
          "output_type": "display_data",
          "data": {
            "text/plain": [
              "<Figure size 1080x540 with 0 Axes>"
            ]
          },
          "metadata": {}
        },
        {
          "output_type": "display_data",
          "data": {
            "text/plain": [
              "<Figure size 1080x540 with 0 Axes>"
            ]
          },
          "metadata": {}
        },
        {
          "output_type": "display_data",
          "data": {
            "text/plain": [
              "<Figure size 1080x540 with 0 Axes>"
            ]
          },
          "metadata": {}
        },
        {
          "output_type": "display_data",
          "data": {
            "text/plain": [
              "<Figure size 1080x540 with 0 Axes>"
            ]
          },
          "metadata": {}
        },
        {
          "output_type": "display_data",
          "data": {
            "text/plain": [
              "<Figure size 1080x540 with 0 Axes>"
            ]
          },
          "metadata": {}
        },
        {
          "output_type": "display_data",
          "data": {
            "text/plain": [
              "<Figure size 1080x540 with 0 Axes>"
            ]
          },
          "metadata": {}
        },
        {
          "output_type": "display_data",
          "data": {
            "text/plain": [
              "<Figure size 1080x540 with 0 Axes>"
            ]
          },
          "metadata": {}
        },
        {
          "output_type": "display_data",
          "data": {
            "text/plain": [
              "<Figure size 1080x540 with 0 Axes>"
            ]
          },
          "metadata": {}
        },
        {
          "output_type": "display_data",
          "data": {
            "text/plain": [
              "<Figure size 1080x540 with 0 Axes>"
            ]
          },
          "metadata": {}
        },
        {
          "output_type": "display_data",
          "data": {
            "text/plain": [
              "<Figure size 1080x540 with 0 Axes>"
            ]
          },
          "metadata": {}
        },
        {
          "output_type": "display_data",
          "data": {
            "text/plain": [
              "<Figure size 1080x540 with 0 Axes>"
            ]
          },
          "metadata": {}
        },
        {
          "output_type": "display_data",
          "data": {
            "text/plain": [
              "<Figure size 1080x540 with 0 Axes>"
            ]
          },
          "metadata": {}
        },
        {
          "output_type": "display_data",
          "data": {
            "text/plain": [
              "<Figure size 1080x540 with 0 Axes>"
            ]
          },
          "metadata": {}
        },
        {
          "output_type": "display_data",
          "data": {
            "text/plain": [
              "<Figure size 1080x540 with 0 Axes>"
            ]
          },
          "metadata": {}
        },
        {
          "output_type": "display_data",
          "data": {
            "text/plain": [
              "<Figure size 1080x540 with 0 Axes>"
            ]
          },
          "metadata": {}
        },
        {
          "output_type": "display_data",
          "data": {
            "text/plain": [
              "<Figure size 1080x540 with 0 Axes>"
            ]
          },
          "metadata": {}
        },
        {
          "output_type": "display_data",
          "data": {
            "text/plain": [
              "<Figure size 1080x540 with 0 Axes>"
            ]
          },
          "metadata": {}
        },
        {
          "output_type": "display_data",
          "data": {
            "text/plain": [
              "<Figure size 1080x540 with 0 Axes>"
            ]
          },
          "metadata": {}
        },
        {
          "output_type": "display_data",
          "data": {
            "text/plain": [
              "<Figure size 1080x540 with 0 Axes>"
            ]
          },
          "metadata": {}
        },
        {
          "output_type": "display_data",
          "data": {
            "text/plain": [
              "<Figure size 1080x540 with 0 Axes>"
            ]
          },
          "metadata": {}
        },
        {
          "output_type": "display_data",
          "data": {
            "text/plain": [
              "<Figure size 1080x540 with 0 Axes>"
            ]
          },
          "metadata": {}
        },
        {
          "output_type": "display_data",
          "data": {
            "text/plain": [
              "<Figure size 1080x540 with 0 Axes>"
            ]
          },
          "metadata": {}
        },
        {
          "output_type": "display_data",
          "data": {
            "text/plain": [
              "<Figure size 1080x540 with 0 Axes>"
            ]
          },
          "metadata": {}
        },
        {
          "output_type": "display_data",
          "data": {
            "text/plain": [
              "<Figure size 1080x540 with 0 Axes>"
            ]
          },
          "metadata": {}
        },
        {
          "output_type": "display_data",
          "data": {
            "text/plain": [
              "<Figure size 1080x540 with 0 Axes>"
            ]
          },
          "metadata": {}
        },
        {
          "output_type": "display_data",
          "data": {
            "text/plain": [
              "<Figure size 1080x540 with 0 Axes>"
            ]
          },
          "metadata": {}
        },
        {
          "output_type": "display_data",
          "data": {
            "text/plain": [
              "<Figure size 1080x540 with 0 Axes>"
            ]
          },
          "metadata": {}
        },
        {
          "output_type": "display_data",
          "data": {
            "text/plain": [
              "<Figure size 1080x540 with 0 Axes>"
            ]
          },
          "metadata": {}
        },
        {
          "output_type": "display_data",
          "data": {
            "text/plain": [
              "<Figure size 1080x540 with 0 Axes>"
            ]
          },
          "metadata": {}
        },
        {
          "output_type": "display_data",
          "data": {
            "text/plain": [
              "<Figure size 1080x540 with 0 Axes>"
            ]
          },
          "metadata": {}
        },
        {
          "output_type": "display_data",
          "data": {
            "text/plain": [
              "<Figure size 1080x540 with 0 Axes>"
            ]
          },
          "metadata": {}
        },
        {
          "output_type": "display_data",
          "data": {
            "text/plain": [
              "<Figure size 1080x540 with 0 Axes>"
            ]
          },
          "metadata": {}
        },
        {
          "output_type": "display_data",
          "data": {
            "text/plain": [
              "<Figure size 1080x540 with 0 Axes>"
            ]
          },
          "metadata": {}
        },
        {
          "output_type": "display_data",
          "data": {
            "text/plain": [
              "<Figure size 1080x540 with 0 Axes>"
            ]
          },
          "metadata": {}
        },
        {
          "output_type": "display_data",
          "data": {
            "text/plain": [
              "<Figure size 1080x540 with 0 Axes>"
            ]
          },
          "metadata": {}
        },
        {
          "output_type": "display_data",
          "data": {
            "text/plain": [
              "<Figure size 1080x540 with 0 Axes>"
            ]
          },
          "metadata": {}
        },
        {
          "output_type": "display_data",
          "data": {
            "text/plain": [
              "<Figure size 1080x540 with 0 Axes>"
            ]
          },
          "metadata": {}
        },
        {
          "output_type": "display_data",
          "data": {
            "text/plain": [
              "<Figure size 1080x540 with 0 Axes>"
            ]
          },
          "metadata": {}
        },
        {
          "output_type": "display_data",
          "data": {
            "text/plain": [
              "<Figure size 1080x540 with 0 Axes>"
            ]
          },
          "metadata": {}
        },
        {
          "output_type": "display_data",
          "data": {
            "text/plain": [
              "<Figure size 1080x540 with 0 Axes>"
            ]
          },
          "metadata": {}
        },
        {
          "output_type": "display_data",
          "data": {
            "text/plain": [
              "<Figure size 1080x540 with 0 Axes>"
            ]
          },
          "metadata": {}
        },
        {
          "output_type": "display_data",
          "data": {
            "text/plain": [
              "<Figure size 1080x540 with 0 Axes>"
            ]
          },
          "metadata": {}
        },
        {
          "output_type": "display_data",
          "data": {
            "text/plain": [
              "<Figure size 1080x540 with 0 Axes>"
            ]
          },
          "metadata": {}
        },
        {
          "output_type": "display_data",
          "data": {
            "text/plain": [
              "<Figure size 1080x540 with 0 Axes>"
            ]
          },
          "metadata": {}
        },
        {
          "output_type": "display_data",
          "data": {
            "text/plain": [
              "<Figure size 1080x540 with 0 Axes>"
            ]
          },
          "metadata": {}
        },
        {
          "output_type": "display_data",
          "data": {
            "text/plain": [
              "<Figure size 1080x540 with 0 Axes>"
            ]
          },
          "metadata": {}
        },
        {
          "output_type": "display_data",
          "data": {
            "text/plain": [
              "<Figure size 1080x540 with 0 Axes>"
            ]
          },
          "metadata": {}
        },
        {
          "output_type": "display_data",
          "data": {
            "text/plain": [
              "<Figure size 1080x540 with 0 Axes>"
            ]
          },
          "metadata": {}
        },
        {
          "output_type": "display_data",
          "data": {
            "text/plain": [
              "<Figure size 1080x540 with 0 Axes>"
            ]
          },
          "metadata": {}
        },
        {
          "output_type": "display_data",
          "data": {
            "text/plain": [
              "<Figure size 1080x540 with 0 Axes>"
            ]
          },
          "metadata": {}
        },
        {
          "output_type": "display_data",
          "data": {
            "text/plain": [
              "<Figure size 1080x540 with 0 Axes>"
            ]
          },
          "metadata": {}
        },
        {
          "output_type": "display_data",
          "data": {
            "text/plain": [
              "<Figure size 1080x540 with 0 Axes>"
            ]
          },
          "metadata": {}
        },
        {
          "output_type": "display_data",
          "data": {
            "text/plain": [
              "<Figure size 1080x540 with 0 Axes>"
            ]
          },
          "metadata": {}
        },
        {
          "output_type": "display_data",
          "data": {
            "text/plain": [
              "<Figure size 1080x540 with 0 Axes>"
            ]
          },
          "metadata": {}
        },
        {
          "output_type": "display_data",
          "data": {
            "text/plain": [
              "<Figure size 1080x540 with 0 Axes>"
            ]
          },
          "metadata": {}
        },
        {
          "output_type": "display_data",
          "data": {
            "text/plain": [
              "<Figure size 1080x540 with 0 Axes>"
            ]
          },
          "metadata": {}
        },
        {
          "output_type": "display_data",
          "data": {
            "text/plain": [
              "<Figure size 1080x540 with 0 Axes>"
            ]
          },
          "metadata": {}
        },
        {
          "output_type": "display_data",
          "data": {
            "text/plain": [
              "<Figure size 1080x540 with 0 Axes>"
            ]
          },
          "metadata": {}
        },
        {
          "output_type": "display_data",
          "data": {
            "text/plain": [
              "<Figure size 1080x540 with 0 Axes>"
            ]
          },
          "metadata": {}
        },
        {
          "output_type": "display_data",
          "data": {
            "text/plain": [
              "<Figure size 1080x540 with 0 Axes>"
            ]
          },
          "metadata": {}
        },
        {
          "output_type": "display_data",
          "data": {
            "text/plain": [
              "<Figure size 1080x540 with 0 Axes>"
            ]
          },
          "metadata": {}
        },
        {
          "output_type": "display_data",
          "data": {
            "text/plain": [
              "<Figure size 1080x540 with 0 Axes>"
            ]
          },
          "metadata": {}
        },
        {
          "output_type": "display_data",
          "data": {
            "text/plain": [
              "<Figure size 1080x540 with 0 Axes>"
            ]
          },
          "metadata": {}
        },
        {
          "output_type": "display_data",
          "data": {
            "text/plain": [
              "<Figure size 1080x540 with 0 Axes>"
            ]
          },
          "metadata": {}
        },
        {
          "output_type": "display_data",
          "data": {
            "text/plain": [
              "<Figure size 1080x540 with 0 Axes>"
            ]
          },
          "metadata": {}
        },
        {
          "output_type": "display_data",
          "data": {
            "text/plain": [
              "<Figure size 1080x540 with 0 Axes>"
            ]
          },
          "metadata": {}
        },
        {
          "output_type": "display_data",
          "data": {
            "text/plain": [
              "<Figure size 1080x540 with 0 Axes>"
            ]
          },
          "metadata": {}
        },
        {
          "output_type": "display_data",
          "data": {
            "text/plain": [
              "<Figure size 1080x540 with 0 Axes>"
            ]
          },
          "metadata": {}
        },
        {
          "output_type": "display_data",
          "data": {
            "text/plain": [
              "<Figure size 1080x540 with 0 Axes>"
            ]
          },
          "metadata": {}
        },
        {
          "output_type": "display_data",
          "data": {
            "text/plain": [
              "<Figure size 1080x540 with 0 Axes>"
            ]
          },
          "metadata": {}
        },
        {
          "output_type": "display_data",
          "data": {
            "text/plain": [
              "<Figure size 1080x540 with 0 Axes>"
            ]
          },
          "metadata": {}
        },
        {
          "output_type": "display_data",
          "data": {
            "text/plain": [
              "<Figure size 1080x540 with 0 Axes>"
            ]
          },
          "metadata": {}
        },
        {
          "output_type": "display_data",
          "data": {
            "text/plain": [
              "<Figure size 1080x540 with 0 Axes>"
            ]
          },
          "metadata": {}
        },
        {
          "output_type": "display_data",
          "data": {
            "text/plain": [
              "<Figure size 1080x540 with 0 Axes>"
            ]
          },
          "metadata": {}
        },
        {
          "output_type": "display_data",
          "data": {
            "text/plain": [
              "<Figure size 1080x540 with 0 Axes>"
            ]
          },
          "metadata": {}
        },
        {
          "output_type": "display_data",
          "data": {
            "text/plain": [
              "<Figure size 1080x540 with 0 Axes>"
            ]
          },
          "metadata": {}
        },
        {
          "output_type": "display_data",
          "data": {
            "text/plain": [
              "<Figure size 1080x540 with 0 Axes>"
            ]
          },
          "metadata": {}
        },
        {
          "output_type": "display_data",
          "data": {
            "text/plain": [
              "<Figure size 1080x540 with 0 Axes>"
            ]
          },
          "metadata": {}
        },
        {
          "output_type": "display_data",
          "data": {
            "text/plain": [
              "<Figure size 1080x540 with 0 Axes>"
            ]
          },
          "metadata": {}
        },
        {
          "output_type": "display_data",
          "data": {
            "text/plain": [
              "<Figure size 1080x540 with 0 Axes>"
            ]
          },
          "metadata": {}
        },
        {
          "output_type": "display_data",
          "data": {
            "text/plain": [
              "<Figure size 1080x540 with 0 Axes>"
            ]
          },
          "metadata": {}
        },
        {
          "output_type": "display_data",
          "data": {
            "text/plain": [
              "<Figure size 1080x540 with 0 Axes>"
            ]
          },
          "metadata": {}
        },
        {
          "output_type": "display_data",
          "data": {
            "text/plain": [
              "<Figure size 1080x540 with 0 Axes>"
            ]
          },
          "metadata": {}
        },
        {
          "output_type": "display_data",
          "data": {
            "text/plain": [
              "<Figure size 1080x540 with 0 Axes>"
            ]
          },
          "metadata": {}
        },
        {
          "output_type": "display_data",
          "data": {
            "text/plain": [
              "<Figure size 1080x540 with 0 Axes>"
            ]
          },
          "metadata": {}
        },
        {
          "output_type": "display_data",
          "data": {
            "text/plain": [
              "<Figure size 1080x540 with 0 Axes>"
            ]
          },
          "metadata": {}
        },
        {
          "output_type": "display_data",
          "data": {
            "text/plain": [
              "<Figure size 1080x540 with 0 Axes>"
            ]
          },
          "metadata": {}
        },
        {
          "output_type": "display_data",
          "data": {
            "text/plain": [
              "<Figure size 1080x540 with 0 Axes>"
            ]
          },
          "metadata": {}
        },
        {
          "output_type": "display_data",
          "data": {
            "text/plain": [
              "<Figure size 1080x540 with 0 Axes>"
            ]
          },
          "metadata": {}
        },
        {
          "output_type": "display_data",
          "data": {
            "text/plain": [
              "<Figure size 1080x540 with 0 Axes>"
            ]
          },
          "metadata": {}
        },
        {
          "output_type": "display_data",
          "data": {
            "text/plain": [
              "<Figure size 1080x540 with 0 Axes>"
            ]
          },
          "metadata": {}
        },
        {
          "output_type": "display_data",
          "data": {
            "text/plain": [
              "<Figure size 1080x540 with 0 Axes>"
            ]
          },
          "metadata": {}
        },
        {
          "output_type": "display_data",
          "data": {
            "text/plain": [
              "<Figure size 1080x540 with 0 Axes>"
            ]
          },
          "metadata": {}
        },
        {
          "output_type": "display_data",
          "data": {
            "text/plain": [
              "<Figure size 1080x540 with 0 Axes>"
            ]
          },
          "metadata": {}
        },
        {
          "output_type": "display_data",
          "data": {
            "text/plain": [
              "<Figure size 1080x540 with 0 Axes>"
            ]
          },
          "metadata": {}
        },
        {
          "output_type": "display_data",
          "data": {
            "text/plain": [
              "<Figure size 1080x540 with 0 Axes>"
            ]
          },
          "metadata": {}
        },
        {
          "output_type": "display_data",
          "data": {
            "text/plain": [
              "<Figure size 1080x540 with 0 Axes>"
            ]
          },
          "metadata": {}
        },
        {
          "output_type": "display_data",
          "data": {
            "text/plain": [
              "<Figure size 1080x540 with 0 Axes>"
            ]
          },
          "metadata": {}
        },
        {
          "output_type": "display_data",
          "data": {
            "text/plain": [
              "<Figure size 1080x540 with 0 Axes>"
            ]
          },
          "metadata": {}
        },
        {
          "output_type": "display_data",
          "data": {
            "text/plain": [
              "<Figure size 1080x540 with 0 Axes>"
            ]
          },
          "metadata": {}
        },
        {
          "output_type": "display_data",
          "data": {
            "text/plain": [
              "<Figure size 1080x540 with 0 Axes>"
            ]
          },
          "metadata": {}
        },
        {
          "output_type": "display_data",
          "data": {
            "text/plain": [
              "<Figure size 1080x540 with 0 Axes>"
            ]
          },
          "metadata": {}
        },
        {
          "output_type": "display_data",
          "data": {
            "text/plain": [
              "<Figure size 1080x540 with 0 Axes>"
            ]
          },
          "metadata": {}
        },
        {
          "output_type": "display_data",
          "data": {
            "text/plain": [
              "<Figure size 1080x540 with 0 Axes>"
            ]
          },
          "metadata": {}
        },
        {
          "output_type": "display_data",
          "data": {
            "text/plain": [
              "<Figure size 1080x540 with 0 Axes>"
            ]
          },
          "metadata": {}
        },
        {
          "output_type": "display_data",
          "data": {
            "text/plain": [
              "<Figure size 1080x540 with 0 Axes>"
            ]
          },
          "metadata": {}
        },
        {
          "output_type": "display_data",
          "data": {
            "text/plain": [
              "<Figure size 1080x540 with 0 Axes>"
            ]
          },
          "metadata": {}
        },
        {
          "output_type": "display_data",
          "data": {
            "text/plain": [
              "<Figure size 1080x540 with 0 Axes>"
            ]
          },
          "metadata": {}
        },
        {
          "output_type": "display_data",
          "data": {
            "text/plain": [
              "<Figure size 1080x540 with 0 Axes>"
            ]
          },
          "metadata": {}
        },
        {
          "output_type": "display_data",
          "data": {
            "text/plain": [
              "<Figure size 1080x540 with 0 Axes>"
            ]
          },
          "metadata": {}
        },
        {
          "output_type": "display_data",
          "data": {
            "text/plain": [
              "<Figure size 1080x540 with 0 Axes>"
            ]
          },
          "metadata": {}
        },
        {
          "output_type": "display_data",
          "data": {
            "text/plain": [
              "<Figure size 1080x540 with 0 Axes>"
            ]
          },
          "metadata": {}
        },
        {
          "output_type": "display_data",
          "data": {
            "text/plain": [
              "<Figure size 1080x540 with 0 Axes>"
            ]
          },
          "metadata": {}
        },
        {
          "output_type": "display_data",
          "data": {
            "text/plain": [
              "<Figure size 1080x540 with 0 Axes>"
            ]
          },
          "metadata": {}
        },
        {
          "output_type": "display_data",
          "data": {
            "text/plain": [
              "<Figure size 1080x540 with 0 Axes>"
            ]
          },
          "metadata": {}
        },
        {
          "output_type": "display_data",
          "data": {
            "text/plain": [
              "<Figure size 1080x540 with 0 Axes>"
            ]
          },
          "metadata": {}
        },
        {
          "output_type": "display_data",
          "data": {
            "text/plain": [
              "<Figure size 1080x540 with 0 Axes>"
            ]
          },
          "metadata": {}
        },
        {
          "output_type": "display_data",
          "data": {
            "text/plain": [
              "<Figure size 1080x540 with 0 Axes>"
            ]
          },
          "metadata": {}
        },
        {
          "output_type": "display_data",
          "data": {
            "text/plain": [
              "<Figure size 1080x540 with 0 Axes>"
            ]
          },
          "metadata": {}
        },
        {
          "output_type": "display_data",
          "data": {
            "text/plain": [
              "<Figure size 1080x540 with 0 Axes>"
            ]
          },
          "metadata": {}
        },
        {
          "output_type": "display_data",
          "data": {
            "text/plain": [
              "<Figure size 1080x540 with 0 Axes>"
            ]
          },
          "metadata": {}
        },
        {
          "output_type": "display_data",
          "data": {
            "text/plain": [
              "<Figure size 1080x540 with 0 Axes>"
            ]
          },
          "metadata": {}
        },
        {
          "output_type": "display_data",
          "data": {
            "text/plain": [
              "<Figure size 1080x540 with 0 Axes>"
            ]
          },
          "metadata": {}
        },
        {
          "output_type": "display_data",
          "data": {
            "text/plain": [
              "<Figure size 1080x540 with 0 Axes>"
            ]
          },
          "metadata": {}
        },
        {
          "output_type": "display_data",
          "data": {
            "text/plain": [
              "<Figure size 1080x540 with 0 Axes>"
            ]
          },
          "metadata": {}
        },
        {
          "output_type": "display_data",
          "data": {
            "text/plain": [
              "<Figure size 1080x540 with 0 Axes>"
            ]
          },
          "metadata": {}
        },
        {
          "output_type": "display_data",
          "data": {
            "text/plain": [
              "<Figure size 1080x540 with 0 Axes>"
            ]
          },
          "metadata": {}
        },
        {
          "output_type": "display_data",
          "data": {
            "text/plain": [
              "<Figure size 1080x540 with 0 Axes>"
            ]
          },
          "metadata": {}
        },
        {
          "output_type": "display_data",
          "data": {
            "text/plain": [
              "<Figure size 1080x540 with 0 Axes>"
            ]
          },
          "metadata": {}
        },
        {
          "output_type": "display_data",
          "data": {
            "text/plain": [
              "<Figure size 1080x540 with 0 Axes>"
            ]
          },
          "metadata": {}
        },
        {
          "output_type": "display_data",
          "data": {
            "text/plain": [
              "<Figure size 1080x540 with 0 Axes>"
            ]
          },
          "metadata": {}
        },
        {
          "output_type": "display_data",
          "data": {
            "text/plain": [
              "<Figure size 1080x540 with 0 Axes>"
            ]
          },
          "metadata": {}
        },
        {
          "output_type": "display_data",
          "data": {
            "text/plain": [
              "<Figure size 1080x540 with 0 Axes>"
            ]
          },
          "metadata": {}
        },
        {
          "output_type": "display_data",
          "data": {
            "text/plain": [
              "<Figure size 1080x540 with 0 Axes>"
            ]
          },
          "metadata": {}
        },
        {
          "output_type": "display_data",
          "data": {
            "text/plain": [
              "<Figure size 1080x540 with 0 Axes>"
            ]
          },
          "metadata": {}
        },
        {
          "output_type": "display_data",
          "data": {
            "text/plain": [
              "<Figure size 1080x540 with 0 Axes>"
            ]
          },
          "metadata": {}
        },
        {
          "output_type": "display_data",
          "data": {
            "text/plain": [
              "<Figure size 1080x540 with 0 Axes>"
            ]
          },
          "metadata": {}
        },
        {
          "output_type": "display_data",
          "data": {
            "text/plain": [
              "<Figure size 1080x540 with 0 Axes>"
            ]
          },
          "metadata": {}
        },
        {
          "output_type": "display_data",
          "data": {
            "text/plain": [
              "<Figure size 1080x540 with 0 Axes>"
            ]
          },
          "metadata": {}
        },
        {
          "output_type": "display_data",
          "data": {
            "text/plain": [
              "<Figure size 1080x540 with 0 Axes>"
            ]
          },
          "metadata": {}
        },
        {
          "output_type": "display_data",
          "data": {
            "text/plain": [
              "<Figure size 1080x540 with 0 Axes>"
            ]
          },
          "metadata": {}
        },
        {
          "output_type": "display_data",
          "data": {
            "text/plain": [
              "<Figure size 1080x540 with 0 Axes>"
            ]
          },
          "metadata": {}
        },
        {
          "output_type": "display_data",
          "data": {
            "text/plain": [
              "<Figure size 1080x540 with 0 Axes>"
            ]
          },
          "metadata": {}
        },
        {
          "output_type": "display_data",
          "data": {
            "text/plain": [
              "<Figure size 1080x540 with 0 Axes>"
            ]
          },
          "metadata": {}
        },
        {
          "output_type": "display_data",
          "data": {
            "text/plain": [
              "<Figure size 1080x540 with 0 Axes>"
            ]
          },
          "metadata": {}
        },
        {
          "output_type": "display_data",
          "data": {
            "text/plain": [
              "<Figure size 1080x540 with 0 Axes>"
            ]
          },
          "metadata": {}
        },
        {
          "output_type": "display_data",
          "data": {
            "text/plain": [
              "<Figure size 1080x540 with 0 Axes>"
            ]
          },
          "metadata": {}
        },
        {
          "output_type": "display_data",
          "data": {
            "text/plain": [
              "<Figure size 1080x540 with 0 Axes>"
            ]
          },
          "metadata": {}
        },
        {
          "output_type": "display_data",
          "data": {
            "text/plain": [
              "<Figure size 1080x540 with 0 Axes>"
            ]
          },
          "metadata": {}
        },
        {
          "output_type": "display_data",
          "data": {
            "text/plain": [
              "<Figure size 1080x540 with 0 Axes>"
            ]
          },
          "metadata": {}
        },
        {
          "output_type": "display_data",
          "data": {
            "text/plain": [
              "<Figure size 1080x540 with 0 Axes>"
            ]
          },
          "metadata": {}
        },
        {
          "output_type": "display_data",
          "data": {
            "text/plain": [
              "<Figure size 1080x540 with 0 Axes>"
            ]
          },
          "metadata": {}
        },
        {
          "output_type": "display_data",
          "data": {
            "text/plain": [
              "<Figure size 1080x540 with 0 Axes>"
            ]
          },
          "metadata": {}
        },
        {
          "output_type": "display_data",
          "data": {
            "text/plain": [
              "<Figure size 1080x540 with 0 Axes>"
            ]
          },
          "metadata": {}
        },
        {
          "output_type": "display_data",
          "data": {
            "text/plain": [
              "<Figure size 1080x540 with 0 Axes>"
            ]
          },
          "metadata": {}
        },
        {
          "output_type": "display_data",
          "data": {
            "text/plain": [
              "<Figure size 1080x540 with 0 Axes>"
            ]
          },
          "metadata": {}
        },
        {
          "output_type": "display_data",
          "data": {
            "text/plain": [
              "<Figure size 1080x540 with 0 Axes>"
            ]
          },
          "metadata": {}
        },
        {
          "output_type": "display_data",
          "data": {
            "text/plain": [
              "<Figure size 1080x540 with 0 Axes>"
            ]
          },
          "metadata": {}
        },
        {
          "output_type": "display_data",
          "data": {
            "text/plain": [
              "<Figure size 1080x540 with 0 Axes>"
            ]
          },
          "metadata": {}
        },
        {
          "output_type": "display_data",
          "data": {
            "text/plain": [
              "<Figure size 1080x540 with 0 Axes>"
            ]
          },
          "metadata": {}
        },
        {
          "output_type": "display_data",
          "data": {
            "text/plain": [
              "<Figure size 1080x540 with 0 Axes>"
            ]
          },
          "metadata": {}
        },
        {
          "output_type": "display_data",
          "data": {
            "text/plain": [
              "<Figure size 1080x540 with 0 Axes>"
            ]
          },
          "metadata": {}
        },
        {
          "output_type": "display_data",
          "data": {
            "text/plain": [
              "<Figure size 1080x540 with 0 Axes>"
            ]
          },
          "metadata": {}
        },
        {
          "output_type": "display_data",
          "data": {
            "text/plain": [
              "<Figure size 1080x540 with 0 Axes>"
            ]
          },
          "metadata": {}
        },
        {
          "output_type": "display_data",
          "data": {
            "text/plain": [
              "<Figure size 1080x540 with 0 Axes>"
            ]
          },
          "metadata": {}
        },
        {
          "output_type": "display_data",
          "data": {
            "text/plain": [
              "<Figure size 1080x540 with 0 Axes>"
            ]
          },
          "metadata": {}
        },
        {
          "output_type": "display_data",
          "data": {
            "text/plain": [
              "<Figure size 1080x540 with 0 Axes>"
            ]
          },
          "metadata": {}
        },
        {
          "output_type": "display_data",
          "data": {
            "text/plain": [
              "<Figure size 1080x540 with 0 Axes>"
            ]
          },
          "metadata": {}
        },
        {
          "output_type": "display_data",
          "data": {
            "text/plain": [
              "<Figure size 1080x540 with 0 Axes>"
            ]
          },
          "metadata": {}
        },
        {
          "output_type": "display_data",
          "data": {
            "text/plain": [
              "<Figure size 1080x540 with 0 Axes>"
            ]
          },
          "metadata": {}
        },
        {
          "output_type": "display_data",
          "data": {
            "text/plain": [
              "<Figure size 1080x540 with 0 Axes>"
            ]
          },
          "metadata": {}
        },
        {
          "output_type": "display_data",
          "data": {
            "text/plain": [
              "<Figure size 1080x540 with 0 Axes>"
            ]
          },
          "metadata": {}
        },
        {
          "output_type": "display_data",
          "data": {
            "text/plain": [
              "<Figure size 1080x540 with 0 Axes>"
            ]
          },
          "metadata": {}
        },
        {
          "output_type": "display_data",
          "data": {
            "text/plain": [
              "<Figure size 1080x540 with 0 Axes>"
            ]
          },
          "metadata": {}
        },
        {
          "output_type": "display_data",
          "data": {
            "text/plain": [
              "<Figure size 1080x540 with 0 Axes>"
            ]
          },
          "metadata": {}
        },
        {
          "output_type": "display_data",
          "data": {
            "text/plain": [
              "<Figure size 1080x540 with 0 Axes>"
            ]
          },
          "metadata": {}
        },
        {
          "output_type": "display_data",
          "data": {
            "text/plain": [
              "<Figure size 1080x540 with 0 Axes>"
            ]
          },
          "metadata": {}
        },
        {
          "output_type": "display_data",
          "data": {
            "text/plain": [
              "<Figure size 1080x540 with 0 Axes>"
            ]
          },
          "metadata": {}
        },
        {
          "output_type": "display_data",
          "data": {
            "text/plain": [
              "<Figure size 1080x540 with 0 Axes>"
            ]
          },
          "metadata": {}
        },
        {
          "output_type": "display_data",
          "data": {
            "text/plain": [
              "<Figure size 1080x540 with 0 Axes>"
            ]
          },
          "metadata": {}
        },
        {
          "output_type": "display_data",
          "data": {
            "text/plain": [
              "<Figure size 1080x540 with 0 Axes>"
            ]
          },
          "metadata": {}
        },
        {
          "output_type": "display_data",
          "data": {
            "text/plain": [
              "<Figure size 1080x540 with 0 Axes>"
            ]
          },
          "metadata": {}
        },
        {
          "output_type": "display_data",
          "data": {
            "text/plain": [
              "<Figure size 1080x540 with 0 Axes>"
            ]
          },
          "metadata": {}
        },
        {
          "output_type": "display_data",
          "data": {
            "text/plain": [
              "<Figure size 1080x540 with 0 Axes>"
            ]
          },
          "metadata": {}
        },
        {
          "output_type": "display_data",
          "data": {
            "text/plain": [
              "<Figure size 1080x540 with 0 Axes>"
            ]
          },
          "metadata": {}
        },
        {
          "output_type": "display_data",
          "data": {
            "text/plain": [
              "<Figure size 1080x540 with 0 Axes>"
            ]
          },
          "metadata": {}
        },
        {
          "output_type": "display_data",
          "data": {
            "text/plain": [
              "<Figure size 1080x540 with 0 Axes>"
            ]
          },
          "metadata": {}
        },
        {
          "output_type": "display_data",
          "data": {
            "text/plain": [
              "<Figure size 1080x540 with 0 Axes>"
            ]
          },
          "metadata": {}
        },
        {
          "output_type": "display_data",
          "data": {
            "text/plain": [
              "<Figure size 1080x540 with 0 Axes>"
            ]
          },
          "metadata": {}
        },
        {
          "output_type": "display_data",
          "data": {
            "text/plain": [
              "<Figure size 1080x540 with 0 Axes>"
            ]
          },
          "metadata": {}
        },
        {
          "output_type": "display_data",
          "data": {
            "text/plain": [
              "<Figure size 1080x540 with 0 Axes>"
            ]
          },
          "metadata": {}
        },
        {
          "output_type": "display_data",
          "data": {
            "text/plain": [
              "<Figure size 1080x540 with 0 Axes>"
            ]
          },
          "metadata": {}
        },
        {
          "output_type": "display_data",
          "data": {
            "text/plain": [
              "<Figure size 1080x540 with 0 Axes>"
            ]
          },
          "metadata": {}
        },
        {
          "output_type": "display_data",
          "data": {
            "text/plain": [
              "<Figure size 1080x540 with 0 Axes>"
            ]
          },
          "metadata": {}
        },
        {
          "output_type": "display_data",
          "data": {
            "text/plain": [
              "<Figure size 1080x540 with 0 Axes>"
            ]
          },
          "metadata": {}
        },
        {
          "output_type": "display_data",
          "data": {
            "text/plain": [
              "<Figure size 1080x540 with 0 Axes>"
            ]
          },
          "metadata": {}
        },
        {
          "output_type": "display_data",
          "data": {
            "text/plain": [
              "<Figure size 1080x540 with 0 Axes>"
            ]
          },
          "metadata": {}
        },
        {
          "output_type": "display_data",
          "data": {
            "text/plain": [
              "<Figure size 1080x540 with 0 Axes>"
            ]
          },
          "metadata": {}
        },
        {
          "output_type": "display_data",
          "data": {
            "text/plain": [
              "<Figure size 1080x540 with 0 Axes>"
            ]
          },
          "metadata": {}
        },
        {
          "output_type": "display_data",
          "data": {
            "text/plain": [
              "<Figure size 1080x540 with 0 Axes>"
            ]
          },
          "metadata": {}
        },
        {
          "output_type": "display_data",
          "data": {
            "text/plain": [
              "<Figure size 1080x540 with 0 Axes>"
            ]
          },
          "metadata": {}
        },
        {
          "output_type": "display_data",
          "data": {
            "text/plain": [
              "<Figure size 1080x540 with 0 Axes>"
            ]
          },
          "metadata": {}
        },
        {
          "output_type": "display_data",
          "data": {
            "text/plain": [
              "<Figure size 1080x540 with 0 Axes>"
            ]
          },
          "metadata": {}
        },
        {
          "output_type": "display_data",
          "data": {
            "text/plain": [
              "<Figure size 1080x540 with 0 Axes>"
            ]
          },
          "metadata": {}
        },
        {
          "output_type": "display_data",
          "data": {
            "text/plain": [
              "<Figure size 1080x540 with 0 Axes>"
            ]
          },
          "metadata": {}
        },
        {
          "output_type": "display_data",
          "data": {
            "text/plain": [
              "<Figure size 1080x540 with 0 Axes>"
            ]
          },
          "metadata": {}
        },
        {
          "output_type": "display_data",
          "data": {
            "text/plain": [
              "<Figure size 1080x540 with 0 Axes>"
            ]
          },
          "metadata": {}
        },
        {
          "output_type": "display_data",
          "data": {
            "text/plain": [
              "<Figure size 1080x540 with 0 Axes>"
            ]
          },
          "metadata": {}
        },
        {
          "output_type": "display_data",
          "data": {
            "text/plain": [
              "<Figure size 1080x540 with 0 Axes>"
            ]
          },
          "metadata": {}
        },
        {
          "output_type": "display_data",
          "data": {
            "text/plain": [
              "<Figure size 1080x540 with 0 Axes>"
            ]
          },
          "metadata": {}
        },
        {
          "output_type": "display_data",
          "data": {
            "text/plain": [
              "<Figure size 1080x540 with 0 Axes>"
            ]
          },
          "metadata": {}
        },
        {
          "output_type": "display_data",
          "data": {
            "text/plain": [
              "<Figure size 1080x540 with 0 Axes>"
            ]
          },
          "metadata": {}
        },
        {
          "output_type": "display_data",
          "data": {
            "text/plain": [
              "<Figure size 1080x540 with 0 Axes>"
            ]
          },
          "metadata": {}
        },
        {
          "output_type": "display_data",
          "data": {
            "text/plain": [
              "<Figure size 1080x540 with 0 Axes>"
            ]
          },
          "metadata": {}
        },
        {
          "output_type": "display_data",
          "data": {
            "text/plain": [
              "<Figure size 1080x540 with 0 Axes>"
            ]
          },
          "metadata": {}
        },
        {
          "output_type": "display_data",
          "data": {
            "text/plain": [
              "<Figure size 1080x540 with 0 Axes>"
            ]
          },
          "metadata": {}
        },
        {
          "output_type": "display_data",
          "data": {
            "text/plain": [
              "<Figure size 1080x540 with 0 Axes>"
            ]
          },
          "metadata": {}
        },
        {
          "output_type": "display_data",
          "data": {
            "text/plain": [
              "<Figure size 1080x540 with 0 Axes>"
            ]
          },
          "metadata": {}
        },
        {
          "output_type": "display_data",
          "data": {
            "text/plain": [
              "<Figure size 1080x540 with 0 Axes>"
            ]
          },
          "metadata": {}
        },
        {
          "output_type": "display_data",
          "data": {
            "text/plain": [
              "<Figure size 1080x540 with 0 Axes>"
            ]
          },
          "metadata": {}
        },
        {
          "output_type": "display_data",
          "data": {
            "text/plain": [
              "<Figure size 1080x540 with 0 Axes>"
            ]
          },
          "metadata": {}
        },
        {
          "output_type": "display_data",
          "data": {
            "text/plain": [
              "<Figure size 1080x540 with 0 Axes>"
            ]
          },
          "metadata": {}
        },
        {
          "output_type": "display_data",
          "data": {
            "text/plain": [
              "<Figure size 1080x540 with 0 Axes>"
            ]
          },
          "metadata": {}
        },
        {
          "output_type": "display_data",
          "data": {
            "text/plain": [
              "<Figure size 1080x540 with 0 Axes>"
            ]
          },
          "metadata": {}
        },
        {
          "output_type": "display_data",
          "data": {
            "text/plain": [
              "<Figure size 1080x540 with 0 Axes>"
            ]
          },
          "metadata": {}
        },
        {
          "output_type": "display_data",
          "data": {
            "text/plain": [
              "<Figure size 1080x540 with 0 Axes>"
            ]
          },
          "metadata": {}
        },
        {
          "output_type": "display_data",
          "data": {
            "text/plain": [
              "<Figure size 1080x540 with 0 Axes>"
            ]
          },
          "metadata": {}
        },
        {
          "output_type": "display_data",
          "data": {
            "text/plain": [
              "<Figure size 1080x540 with 0 Axes>"
            ]
          },
          "metadata": {}
        },
        {
          "output_type": "display_data",
          "data": {
            "text/plain": [
              "<Figure size 1080x540 with 0 Axes>"
            ]
          },
          "metadata": {}
        },
        {
          "output_type": "display_data",
          "data": {
            "text/plain": [
              "<Figure size 1080x540 with 0 Axes>"
            ]
          },
          "metadata": {}
        },
        {
          "output_type": "display_data",
          "data": {
            "text/plain": [
              "<Figure size 1080x540 with 0 Axes>"
            ]
          },
          "metadata": {}
        },
        {
          "output_type": "display_data",
          "data": {
            "text/plain": [
              "<Figure size 1080x540 with 0 Axes>"
            ]
          },
          "metadata": {}
        },
        {
          "output_type": "display_data",
          "data": {
            "text/plain": [
              "<Figure size 1080x540 with 0 Axes>"
            ]
          },
          "metadata": {}
        },
        {
          "output_type": "display_data",
          "data": {
            "text/plain": [
              "<Figure size 1080x540 with 0 Axes>"
            ]
          },
          "metadata": {}
        },
        {
          "output_type": "display_data",
          "data": {
            "text/plain": [
              "<Figure size 1080x540 with 0 Axes>"
            ]
          },
          "metadata": {}
        },
        {
          "output_type": "display_data",
          "data": {
            "text/plain": [
              "<Figure size 1080x540 with 0 Axes>"
            ]
          },
          "metadata": {}
        },
        {
          "output_type": "display_data",
          "data": {
            "text/plain": [
              "<Figure size 1080x540 with 0 Axes>"
            ]
          },
          "metadata": {}
        },
        {
          "output_type": "display_data",
          "data": {
            "text/plain": [
              "<Figure size 1080x540 with 0 Axes>"
            ]
          },
          "metadata": {}
        },
        {
          "output_type": "display_data",
          "data": {
            "text/plain": [
              "<Figure size 1080x540 with 0 Axes>"
            ]
          },
          "metadata": {}
        },
        {
          "output_type": "display_data",
          "data": {
            "text/plain": [
              "<Figure size 1080x540 with 0 Axes>"
            ]
          },
          "metadata": {}
        },
        {
          "output_type": "display_data",
          "data": {
            "text/plain": [
              "<Figure size 1080x540 with 0 Axes>"
            ]
          },
          "metadata": {}
        },
        {
          "output_type": "display_data",
          "data": {
            "text/plain": [
              "<Figure size 1080x540 with 0 Axes>"
            ]
          },
          "metadata": {}
        },
        {
          "output_type": "display_data",
          "data": {
            "text/plain": [
              "<Figure size 1080x540 with 0 Axes>"
            ]
          },
          "metadata": {}
        },
        {
          "output_type": "display_data",
          "data": {
            "text/plain": [
              "<Figure size 1080x540 with 0 Axes>"
            ]
          },
          "metadata": {}
        },
        {
          "output_type": "display_data",
          "data": {
            "text/plain": [
              "<Figure size 1080x540 with 0 Axes>"
            ]
          },
          "metadata": {}
        },
        {
          "output_type": "display_data",
          "data": {
            "text/plain": [
              "<Figure size 1080x540 with 0 Axes>"
            ]
          },
          "metadata": {}
        },
        {
          "output_type": "display_data",
          "data": {
            "text/plain": [
              "<Figure size 1080x540 with 0 Axes>"
            ]
          },
          "metadata": {}
        },
        {
          "output_type": "display_data",
          "data": {
            "text/plain": [
              "<Figure size 1080x540 with 0 Axes>"
            ]
          },
          "metadata": {}
        },
        {
          "output_type": "display_data",
          "data": {
            "text/plain": [
              "<Figure size 1080x540 with 0 Axes>"
            ]
          },
          "metadata": {}
        },
        {
          "output_type": "display_data",
          "data": {
            "text/plain": [
              "<Figure size 1080x540 with 0 Axes>"
            ]
          },
          "metadata": {}
        },
        {
          "output_type": "display_data",
          "data": {
            "text/plain": [
              "<Figure size 1080x540 with 0 Axes>"
            ]
          },
          "metadata": {}
        },
        {
          "output_type": "display_data",
          "data": {
            "text/plain": [
              "<Figure size 1080x540 with 0 Axes>"
            ]
          },
          "metadata": {}
        },
        {
          "output_type": "display_data",
          "data": {
            "text/plain": [
              "<Figure size 1080x540 with 0 Axes>"
            ]
          },
          "metadata": {}
        },
        {
          "output_type": "display_data",
          "data": {
            "text/plain": [
              "<Figure size 1080x540 with 0 Axes>"
            ]
          },
          "metadata": {}
        },
        {
          "output_type": "display_data",
          "data": {
            "text/plain": [
              "<Figure size 1080x540 with 0 Axes>"
            ]
          },
          "metadata": {}
        },
        {
          "output_type": "display_data",
          "data": {
            "text/plain": [
              "<Figure size 1080x540 with 0 Axes>"
            ]
          },
          "metadata": {}
        },
        {
          "output_type": "display_data",
          "data": {
            "text/plain": [
              "<Figure size 1080x540 with 0 Axes>"
            ]
          },
          "metadata": {}
        },
        {
          "output_type": "display_data",
          "data": {
            "text/plain": [
              "<Figure size 1080x540 with 0 Axes>"
            ]
          },
          "metadata": {}
        },
        {
          "output_type": "display_data",
          "data": {
            "text/plain": [
              "<Figure size 1080x540 with 0 Axes>"
            ]
          },
          "metadata": {}
        },
        {
          "output_type": "display_data",
          "data": {
            "text/plain": [
              "<Figure size 1080x540 with 0 Axes>"
            ]
          },
          "metadata": {}
        },
        {
          "output_type": "display_data",
          "data": {
            "text/plain": [
              "<Figure size 1080x540 with 0 Axes>"
            ]
          },
          "metadata": {}
        },
        {
          "output_type": "display_data",
          "data": {
            "text/plain": [
              "<Figure size 1080x540 with 0 Axes>"
            ]
          },
          "metadata": {}
        },
        {
          "output_type": "display_data",
          "data": {
            "text/plain": [
              "<Figure size 1080x540 with 0 Axes>"
            ]
          },
          "metadata": {}
        },
        {
          "output_type": "display_data",
          "data": {
            "text/plain": [
              "<Figure size 1080x540 with 0 Axes>"
            ]
          },
          "metadata": {}
        },
        {
          "output_type": "display_data",
          "data": {
            "text/plain": [
              "<Figure size 1080x540 with 0 Axes>"
            ]
          },
          "metadata": {}
        },
        {
          "output_type": "display_data",
          "data": {
            "text/plain": [
              "<Figure size 1080x540 with 0 Axes>"
            ]
          },
          "metadata": {}
        },
        {
          "output_type": "display_data",
          "data": {
            "text/plain": [
              "<Figure size 1080x540 with 0 Axes>"
            ]
          },
          "metadata": {}
        },
        {
          "output_type": "display_data",
          "data": {
            "text/plain": [
              "<Figure size 1080x540 with 0 Axes>"
            ]
          },
          "metadata": {}
        },
        {
          "output_type": "display_data",
          "data": {
            "text/plain": [
              "<Figure size 1080x540 with 0 Axes>"
            ]
          },
          "metadata": {}
        },
        {
          "output_type": "display_data",
          "data": {
            "text/plain": [
              "<Figure size 1080x540 with 0 Axes>"
            ]
          },
          "metadata": {}
        },
        {
          "output_type": "display_data",
          "data": {
            "text/plain": [
              "<Figure size 1080x540 with 0 Axes>"
            ]
          },
          "metadata": {}
        },
        {
          "output_type": "display_data",
          "data": {
            "text/plain": [
              "<Figure size 1080x540 with 0 Axes>"
            ]
          },
          "metadata": {}
        },
        {
          "output_type": "display_data",
          "data": {
            "text/plain": [
              "<Figure size 1080x540 with 0 Axes>"
            ]
          },
          "metadata": {}
        },
        {
          "output_type": "display_data",
          "data": {
            "text/plain": [
              "<Figure size 1080x540 with 0 Axes>"
            ]
          },
          "metadata": {}
        },
        {
          "output_type": "display_data",
          "data": {
            "text/plain": [
              "<Figure size 1080x540 with 0 Axes>"
            ]
          },
          "metadata": {}
        },
        {
          "output_type": "display_data",
          "data": {
            "text/plain": [
              "<Figure size 1080x540 with 0 Axes>"
            ]
          },
          "metadata": {}
        },
        {
          "output_type": "display_data",
          "data": {
            "text/plain": [
              "<Figure size 1080x540 with 0 Axes>"
            ]
          },
          "metadata": {}
        },
        {
          "output_type": "display_data",
          "data": {
            "text/plain": [
              "<Figure size 1080x540 with 0 Axes>"
            ]
          },
          "metadata": {}
        },
        {
          "output_type": "display_data",
          "data": {
            "text/plain": [
              "<Figure size 1080x540 with 0 Axes>"
            ]
          },
          "metadata": {}
        },
        {
          "output_type": "display_data",
          "data": {
            "text/plain": [
              "<Figure size 1080x540 with 0 Axes>"
            ]
          },
          "metadata": {}
        },
        {
          "output_type": "display_data",
          "data": {
            "text/plain": [
              "<Figure size 1080x540 with 0 Axes>"
            ]
          },
          "metadata": {}
        },
        {
          "output_type": "display_data",
          "data": {
            "text/plain": [
              "<Figure size 1080x540 with 0 Axes>"
            ]
          },
          "metadata": {}
        },
        {
          "output_type": "display_data",
          "data": {
            "text/plain": [
              "<Figure size 1080x540 with 0 Axes>"
            ]
          },
          "metadata": {}
        },
        {
          "output_type": "display_data",
          "data": {
            "text/plain": [
              "<Figure size 1080x540 with 0 Axes>"
            ]
          },
          "metadata": {}
        },
        {
          "output_type": "display_data",
          "data": {
            "text/plain": [
              "<Figure size 1080x540 with 0 Axes>"
            ]
          },
          "metadata": {}
        },
        {
          "output_type": "display_data",
          "data": {
            "text/plain": [
              "<Figure size 1080x540 with 0 Axes>"
            ]
          },
          "metadata": {}
        },
        {
          "output_type": "display_data",
          "data": {
            "text/plain": [
              "<Figure size 1080x540 with 0 Axes>"
            ]
          },
          "metadata": {}
        },
        {
          "output_type": "display_data",
          "data": {
            "text/plain": [
              "<Figure size 1080x540 with 0 Axes>"
            ]
          },
          "metadata": {}
        },
        {
          "output_type": "display_data",
          "data": {
            "text/plain": [
              "<Figure size 1080x540 with 0 Axes>"
            ]
          },
          "metadata": {}
        },
        {
          "output_type": "display_data",
          "data": {
            "text/plain": [
              "<Figure size 1080x540 with 0 Axes>"
            ]
          },
          "metadata": {}
        },
        {
          "output_type": "display_data",
          "data": {
            "text/plain": [
              "<Figure size 1080x540 with 0 Axes>"
            ]
          },
          "metadata": {}
        },
        {
          "output_type": "display_data",
          "data": {
            "text/plain": [
              "<Figure size 1080x540 with 0 Axes>"
            ]
          },
          "metadata": {}
        },
        {
          "output_type": "display_data",
          "data": {
            "text/plain": [
              "<Figure size 1080x540 with 0 Axes>"
            ]
          },
          "metadata": {}
        },
        {
          "output_type": "display_data",
          "data": {
            "text/plain": [
              "<Figure size 1080x540 with 0 Axes>"
            ]
          },
          "metadata": {}
        },
        {
          "output_type": "display_data",
          "data": {
            "text/plain": [
              "<Figure size 1080x540 with 0 Axes>"
            ]
          },
          "metadata": {}
        },
        {
          "output_type": "display_data",
          "data": {
            "text/plain": [
              "<Figure size 1080x540 with 0 Axes>"
            ]
          },
          "metadata": {}
        },
        {
          "output_type": "display_data",
          "data": {
            "text/plain": [
              "<Figure size 1080x540 with 0 Axes>"
            ]
          },
          "metadata": {}
        },
        {
          "output_type": "display_data",
          "data": {
            "text/plain": [
              "<Figure size 1080x540 with 0 Axes>"
            ]
          },
          "metadata": {}
        },
        {
          "output_type": "display_data",
          "data": {
            "text/plain": [
              "<Figure size 1080x540 with 0 Axes>"
            ]
          },
          "metadata": {}
        },
        {
          "output_type": "display_data",
          "data": {
            "text/plain": [
              "<Figure size 1080x540 with 0 Axes>"
            ]
          },
          "metadata": {}
        },
        {
          "output_type": "display_data",
          "data": {
            "text/plain": [
              "<Figure size 1080x540 with 0 Axes>"
            ]
          },
          "metadata": {}
        },
        {
          "output_type": "display_data",
          "data": {
            "text/plain": [
              "<Figure size 1080x540 with 0 Axes>"
            ]
          },
          "metadata": {}
        },
        {
          "output_type": "display_data",
          "data": {
            "text/plain": [
              "<Figure size 1080x540 with 0 Axes>"
            ]
          },
          "metadata": {}
        },
        {
          "output_type": "display_data",
          "data": {
            "text/plain": [
              "<Figure size 1080x540 with 0 Axes>"
            ]
          },
          "metadata": {}
        },
        {
          "output_type": "display_data",
          "data": {
            "text/plain": [
              "<Figure size 1080x540 with 0 Axes>"
            ]
          },
          "metadata": {}
        },
        {
          "output_type": "display_data",
          "data": {
            "text/plain": [
              "<Figure size 1080x540 with 0 Axes>"
            ]
          },
          "metadata": {}
        },
        {
          "output_type": "display_data",
          "data": {
            "text/plain": [
              "<Figure size 1080x540 with 0 Axes>"
            ]
          },
          "metadata": {}
        },
        {
          "output_type": "display_data",
          "data": {
            "text/plain": [
              "<Figure size 1080x540 with 0 Axes>"
            ]
          },
          "metadata": {}
        },
        {
          "output_type": "display_data",
          "data": {
            "text/plain": [
              "<Figure size 1080x540 with 0 Axes>"
            ]
          },
          "metadata": {}
        },
        {
          "output_type": "display_data",
          "data": {
            "text/plain": [
              "<Figure size 1080x540 with 0 Axes>"
            ]
          },
          "metadata": {}
        },
        {
          "output_type": "display_data",
          "data": {
            "text/plain": [
              "<Figure size 1080x540 with 0 Axes>"
            ]
          },
          "metadata": {}
        },
        {
          "output_type": "display_data",
          "data": {
            "text/plain": [
              "<Figure size 1080x540 with 0 Axes>"
            ]
          },
          "metadata": {}
        },
        {
          "output_type": "display_data",
          "data": {
            "text/plain": [
              "<Figure size 1080x540 with 0 Axes>"
            ]
          },
          "metadata": {}
        },
        {
          "output_type": "display_data",
          "data": {
            "text/plain": [
              "<Figure size 1080x540 with 0 Axes>"
            ]
          },
          "metadata": {}
        },
        {
          "output_type": "display_data",
          "data": {
            "text/plain": [
              "<Figure size 1080x540 with 0 Axes>"
            ]
          },
          "metadata": {}
        },
        {
          "output_type": "display_data",
          "data": {
            "text/plain": [
              "<Figure size 1080x540 with 0 Axes>"
            ]
          },
          "metadata": {}
        },
        {
          "output_type": "display_data",
          "data": {
            "text/plain": [
              "<Figure size 1080x540 with 0 Axes>"
            ]
          },
          "metadata": {}
        },
        {
          "output_type": "display_data",
          "data": {
            "text/plain": [
              "<Figure size 1080x540 with 0 Axes>"
            ]
          },
          "metadata": {}
        },
        {
          "output_type": "display_data",
          "data": {
            "text/plain": [
              "<Figure size 1080x540 with 0 Axes>"
            ]
          },
          "metadata": {}
        },
        {
          "output_type": "display_data",
          "data": {
            "text/plain": [
              "<Figure size 1080x540 with 0 Axes>"
            ]
          },
          "metadata": {}
        },
        {
          "output_type": "display_data",
          "data": {
            "text/plain": [
              "<Figure size 1080x540 with 0 Axes>"
            ]
          },
          "metadata": {}
        },
        {
          "output_type": "display_data",
          "data": {
            "text/plain": [
              "<Figure size 1080x540 with 0 Axes>"
            ]
          },
          "metadata": {}
        },
        {
          "output_type": "display_data",
          "data": {
            "text/plain": [
              "<Figure size 1080x540 with 0 Axes>"
            ]
          },
          "metadata": {}
        },
        {
          "output_type": "display_data",
          "data": {
            "text/plain": [
              "<Figure size 1080x540 with 0 Axes>"
            ]
          },
          "metadata": {}
        },
        {
          "output_type": "display_data",
          "data": {
            "text/plain": [
              "<Figure size 1080x540 with 0 Axes>"
            ]
          },
          "metadata": {}
        },
        {
          "output_type": "display_data",
          "data": {
            "text/plain": [
              "<Figure size 1080x540 with 0 Axes>"
            ]
          },
          "metadata": {}
        },
        {
          "output_type": "display_data",
          "data": {
            "text/plain": [
              "<Figure size 1080x540 with 0 Axes>"
            ]
          },
          "metadata": {}
        },
        {
          "output_type": "display_data",
          "data": {
            "text/plain": [
              "<Figure size 1080x540 with 0 Axes>"
            ]
          },
          "metadata": {}
        },
        {
          "output_type": "display_data",
          "data": {
            "text/plain": [
              "<Figure size 1080x540 with 0 Axes>"
            ]
          },
          "metadata": {}
        },
        {
          "output_type": "display_data",
          "data": {
            "text/plain": [
              "<Figure size 1080x540 with 0 Axes>"
            ]
          },
          "metadata": {}
        },
        {
          "output_type": "display_data",
          "data": {
            "text/plain": [
              "<Figure size 1080x540 with 0 Axes>"
            ]
          },
          "metadata": {}
        },
        {
          "output_type": "display_data",
          "data": {
            "text/plain": [
              "<Figure size 1080x540 with 0 Axes>"
            ]
          },
          "metadata": {}
        },
        {
          "output_type": "display_data",
          "data": {
            "text/plain": [
              "<Figure size 1080x540 with 0 Axes>"
            ]
          },
          "metadata": {}
        },
        {
          "output_type": "display_data",
          "data": {
            "text/plain": [
              "<Figure size 1080x540 with 0 Axes>"
            ]
          },
          "metadata": {}
        },
        {
          "output_type": "display_data",
          "data": {
            "text/plain": [
              "<Figure size 1080x540 with 0 Axes>"
            ]
          },
          "metadata": {}
        },
        {
          "output_type": "display_data",
          "data": {
            "text/plain": [
              "<Figure size 1080x540 with 0 Axes>"
            ]
          },
          "metadata": {}
        },
        {
          "output_type": "display_data",
          "data": {
            "text/plain": [
              "<Figure size 1080x540 with 0 Axes>"
            ]
          },
          "metadata": {}
        },
        {
          "output_type": "display_data",
          "data": {
            "text/plain": [
              "<Figure size 1080x540 with 0 Axes>"
            ]
          },
          "metadata": {}
        },
        {
          "output_type": "display_data",
          "data": {
            "text/plain": [
              "<Figure size 1080x540 with 0 Axes>"
            ]
          },
          "metadata": {}
        },
        {
          "output_type": "display_data",
          "data": {
            "text/plain": [
              "<Figure size 1080x540 with 0 Axes>"
            ]
          },
          "metadata": {}
        },
        {
          "output_type": "display_data",
          "data": {
            "text/plain": [
              "<Figure size 1080x540 with 0 Axes>"
            ]
          },
          "metadata": {}
        },
        {
          "output_type": "display_data",
          "data": {
            "text/plain": [
              "<Figure size 1080x540 with 0 Axes>"
            ]
          },
          "metadata": {}
        },
        {
          "output_type": "display_data",
          "data": {
            "text/plain": [
              "<Figure size 1080x540 with 0 Axes>"
            ]
          },
          "metadata": {}
        },
        {
          "output_type": "display_data",
          "data": {
            "text/plain": [
              "<Figure size 1080x540 with 0 Axes>"
            ]
          },
          "metadata": {}
        },
        {
          "output_type": "display_data",
          "data": {
            "text/plain": [
              "<Figure size 1080x540 with 0 Axes>"
            ]
          },
          "metadata": {}
        },
        {
          "output_type": "display_data",
          "data": {
            "text/plain": [
              "<Figure size 1080x540 with 0 Axes>"
            ]
          },
          "metadata": {}
        },
        {
          "output_type": "display_data",
          "data": {
            "text/plain": [
              "<Figure size 1080x540 with 0 Axes>"
            ]
          },
          "metadata": {}
        },
        {
          "output_type": "display_data",
          "data": {
            "text/plain": [
              "<Figure size 1080x540 with 0 Axes>"
            ]
          },
          "metadata": {}
        },
        {
          "output_type": "display_data",
          "data": {
            "text/plain": [
              "<Figure size 1080x540 with 0 Axes>"
            ]
          },
          "metadata": {}
        },
        {
          "output_type": "display_data",
          "data": {
            "text/plain": [
              "<Figure size 1080x540 with 0 Axes>"
            ]
          },
          "metadata": {}
        },
        {
          "output_type": "display_data",
          "data": {
            "text/plain": [
              "<Figure size 1080x540 with 0 Axes>"
            ]
          },
          "metadata": {}
        },
        {
          "output_type": "display_data",
          "data": {
            "text/plain": [
              "<Figure size 1080x540 with 0 Axes>"
            ]
          },
          "metadata": {}
        },
        {
          "output_type": "display_data",
          "data": {
            "text/plain": [
              "<Figure size 1080x540 with 0 Axes>"
            ]
          },
          "metadata": {}
        },
        {
          "output_type": "display_data",
          "data": {
            "text/plain": [
              "<Figure size 1080x540 with 0 Axes>"
            ]
          },
          "metadata": {}
        },
        {
          "output_type": "display_data",
          "data": {
            "text/plain": [
              "<Figure size 1080x540 with 0 Axes>"
            ]
          },
          "metadata": {}
        },
        {
          "output_type": "display_data",
          "data": {
            "text/plain": [
              "<Figure size 1080x540 with 0 Axes>"
            ]
          },
          "metadata": {}
        },
        {
          "output_type": "display_data",
          "data": {
            "text/plain": [
              "<Figure size 1080x540 with 0 Axes>"
            ]
          },
          "metadata": {}
        },
        {
          "output_type": "display_data",
          "data": {
            "text/plain": [
              "<Figure size 1080x540 with 0 Axes>"
            ]
          },
          "metadata": {}
        },
        {
          "output_type": "display_data",
          "data": {
            "text/plain": [
              "<Figure size 1080x540 with 0 Axes>"
            ]
          },
          "metadata": {}
        },
        {
          "output_type": "display_data",
          "data": {
            "text/plain": [
              "<Figure size 1080x540 with 0 Axes>"
            ]
          },
          "metadata": {}
        },
        {
          "output_type": "display_data",
          "data": {
            "text/plain": [
              "<Figure size 1080x540 with 0 Axes>"
            ]
          },
          "metadata": {}
        },
        {
          "output_type": "display_data",
          "data": {
            "text/plain": [
              "<Figure size 1080x540 with 0 Axes>"
            ]
          },
          "metadata": {}
        },
        {
          "output_type": "display_data",
          "data": {
            "text/plain": [
              "<Figure size 1080x540 with 0 Axes>"
            ]
          },
          "metadata": {}
        },
        {
          "output_type": "display_data",
          "data": {
            "text/plain": [
              "<Figure size 1080x540 with 0 Axes>"
            ]
          },
          "metadata": {}
        },
        {
          "output_type": "display_data",
          "data": {
            "text/plain": [
              "<Figure size 1080x540 with 0 Axes>"
            ]
          },
          "metadata": {}
        },
        {
          "output_type": "display_data",
          "data": {
            "text/plain": [
              "<Figure size 1080x540 with 0 Axes>"
            ]
          },
          "metadata": {}
        },
        {
          "output_type": "display_data",
          "data": {
            "text/plain": [
              "<Figure size 1080x540 with 0 Axes>"
            ]
          },
          "metadata": {}
        },
        {
          "output_type": "display_data",
          "data": {
            "text/plain": [
              "<Figure size 1080x540 with 0 Axes>"
            ]
          },
          "metadata": {}
        },
        {
          "output_type": "display_data",
          "data": {
            "text/plain": [
              "<Figure size 1080x540 with 0 Axes>"
            ]
          },
          "metadata": {}
        },
        {
          "output_type": "display_data",
          "data": {
            "text/plain": [
              "<Figure size 1080x540 with 0 Axes>"
            ]
          },
          "metadata": {}
        },
        {
          "output_type": "display_data",
          "data": {
            "text/plain": [
              "<Figure size 1080x540 with 0 Axes>"
            ]
          },
          "metadata": {}
        },
        {
          "output_type": "display_data",
          "data": {
            "text/plain": [
              "<Figure size 1080x540 with 0 Axes>"
            ]
          },
          "metadata": {}
        },
        {
          "output_type": "display_data",
          "data": {
            "text/plain": [
              "<Figure size 1080x540 with 0 Axes>"
            ]
          },
          "metadata": {}
        },
        {
          "output_type": "display_data",
          "data": {
            "text/plain": [
              "<Figure size 1080x540 with 0 Axes>"
            ]
          },
          "metadata": {}
        },
        {
          "output_type": "display_data",
          "data": {
            "text/plain": [
              "<Figure size 1080x540 with 0 Axes>"
            ]
          },
          "metadata": {}
        },
        {
          "output_type": "display_data",
          "data": {
            "text/plain": [
              "<Figure size 1080x540 with 0 Axes>"
            ]
          },
          "metadata": {}
        },
        {
          "output_type": "display_data",
          "data": {
            "text/plain": [
              "<Figure size 1080x540 with 0 Axes>"
            ]
          },
          "metadata": {}
        },
        {
          "output_type": "display_data",
          "data": {
            "text/plain": [
              "<Figure size 1080x540 with 0 Axes>"
            ]
          },
          "metadata": {}
        },
        {
          "output_type": "display_data",
          "data": {
            "text/plain": [
              "<Figure size 1080x540 with 0 Axes>"
            ]
          },
          "metadata": {}
        },
        {
          "output_type": "display_data",
          "data": {
            "text/plain": [
              "<Figure size 1080x540 with 0 Axes>"
            ]
          },
          "metadata": {}
        },
        {
          "output_type": "display_data",
          "data": {
            "text/plain": [
              "<Figure size 1080x540 with 0 Axes>"
            ]
          },
          "metadata": {}
        },
        {
          "output_type": "display_data",
          "data": {
            "text/plain": [
              "<Figure size 1080x540 with 0 Axes>"
            ]
          },
          "metadata": {}
        },
        {
          "output_type": "display_data",
          "data": {
            "text/plain": [
              "<Figure size 1080x540 with 0 Axes>"
            ]
          },
          "metadata": {}
        },
        {
          "output_type": "display_data",
          "data": {
            "text/plain": [
              "<Figure size 1080x540 with 0 Axes>"
            ]
          },
          "metadata": {}
        },
        {
          "output_type": "display_data",
          "data": {
            "text/plain": [
              "<Figure size 1080x540 with 0 Axes>"
            ]
          },
          "metadata": {}
        },
        {
          "output_type": "display_data",
          "data": {
            "text/plain": [
              "<Figure size 1080x540 with 0 Axes>"
            ]
          },
          "metadata": {}
        },
        {
          "output_type": "display_data",
          "data": {
            "text/plain": [
              "<Figure size 1080x540 with 0 Axes>"
            ]
          },
          "metadata": {}
        },
        {
          "output_type": "display_data",
          "data": {
            "text/plain": [
              "<Figure size 1080x540 with 0 Axes>"
            ]
          },
          "metadata": {}
        },
        {
          "output_type": "display_data",
          "data": {
            "text/plain": [
              "<Figure size 1080x540 with 0 Axes>"
            ]
          },
          "metadata": {}
        },
        {
          "output_type": "display_data",
          "data": {
            "text/plain": [
              "<Figure size 1080x540 with 0 Axes>"
            ]
          },
          "metadata": {}
        },
        {
          "output_type": "display_data",
          "data": {
            "text/plain": [
              "<Figure size 1080x540 with 0 Axes>"
            ]
          },
          "metadata": {}
        },
        {
          "output_type": "display_data",
          "data": {
            "text/plain": [
              "<Figure size 1080x540 with 0 Axes>"
            ]
          },
          "metadata": {}
        },
        {
          "output_type": "display_data",
          "data": {
            "text/plain": [
              "<Figure size 1080x540 with 0 Axes>"
            ]
          },
          "metadata": {}
        },
        {
          "output_type": "display_data",
          "data": {
            "text/plain": [
              "<Figure size 1080x540 with 0 Axes>"
            ]
          },
          "metadata": {}
        },
        {
          "output_type": "display_data",
          "data": {
            "text/plain": [
              "<Figure size 1080x540 with 0 Axes>"
            ]
          },
          "metadata": {}
        },
        {
          "output_type": "display_data",
          "data": {
            "text/plain": [
              "<Figure size 1080x540 with 0 Axes>"
            ]
          },
          "metadata": {}
        },
        {
          "output_type": "display_data",
          "data": {
            "text/plain": [
              "<Figure size 1080x540 with 0 Axes>"
            ]
          },
          "metadata": {}
        },
        {
          "output_type": "display_data",
          "data": {
            "text/plain": [
              "<Figure size 1080x540 with 0 Axes>"
            ]
          },
          "metadata": {}
        },
        {
          "output_type": "display_data",
          "data": {
            "text/plain": [
              "<Figure size 1080x540 with 0 Axes>"
            ]
          },
          "metadata": {}
        },
        {
          "output_type": "display_data",
          "data": {
            "text/plain": [
              "<Figure size 1080x540 with 0 Axes>"
            ]
          },
          "metadata": {}
        },
        {
          "output_type": "display_data",
          "data": {
            "text/plain": [
              "<Figure size 1080x540 with 0 Axes>"
            ]
          },
          "metadata": {}
        },
        {
          "output_type": "display_data",
          "data": {
            "text/plain": [
              "<Figure size 1080x540 with 0 Axes>"
            ]
          },
          "metadata": {}
        },
        {
          "output_type": "display_data",
          "data": {
            "text/plain": [
              "<Figure size 1080x540 with 0 Axes>"
            ]
          },
          "metadata": {}
        },
        {
          "output_type": "display_data",
          "data": {
            "text/plain": [
              "<Figure size 1080x540 with 0 Axes>"
            ]
          },
          "metadata": {}
        },
        {
          "output_type": "display_data",
          "data": {
            "text/plain": [
              "<Figure size 1080x540 with 0 Axes>"
            ]
          },
          "metadata": {}
        },
        {
          "output_type": "display_data",
          "data": {
            "text/plain": [
              "<Figure size 1080x540 with 0 Axes>"
            ]
          },
          "metadata": {}
        },
        {
          "output_type": "display_data",
          "data": {
            "text/plain": [
              "<Figure size 1080x540 with 0 Axes>"
            ]
          },
          "metadata": {}
        },
        {
          "output_type": "display_data",
          "data": {
            "text/plain": [
              "<Figure size 1080x540 with 0 Axes>"
            ]
          },
          "metadata": {}
        },
        {
          "output_type": "display_data",
          "data": {
            "text/plain": [
              "<Figure size 1080x540 with 0 Axes>"
            ]
          },
          "metadata": {}
        },
        {
          "output_type": "display_data",
          "data": {
            "text/plain": [
              "<Figure size 1080x540 with 0 Axes>"
            ]
          },
          "metadata": {}
        },
        {
          "output_type": "display_data",
          "data": {
            "text/plain": [
              "<Figure size 1080x540 with 0 Axes>"
            ]
          },
          "metadata": {}
        },
        {
          "output_type": "display_data",
          "data": {
            "text/plain": [
              "<Figure size 1080x540 with 0 Axes>"
            ]
          },
          "metadata": {}
        },
        {
          "output_type": "display_data",
          "data": {
            "text/plain": [
              "<Figure size 1080x540 with 0 Axes>"
            ]
          },
          "metadata": {}
        },
        {
          "output_type": "display_data",
          "data": {
            "text/plain": [
              "<Figure size 1080x540 with 0 Axes>"
            ]
          },
          "metadata": {}
        },
        {
          "output_type": "display_data",
          "data": {
            "text/plain": [
              "<Figure size 1080x540 with 0 Axes>"
            ]
          },
          "metadata": {}
        },
        {
          "output_type": "display_data",
          "data": {
            "text/plain": [
              "<Figure size 1080x540 with 0 Axes>"
            ]
          },
          "metadata": {}
        },
        {
          "output_type": "display_data",
          "data": {
            "text/plain": [
              "<Figure size 1080x540 with 0 Axes>"
            ]
          },
          "metadata": {}
        },
        {
          "output_type": "display_data",
          "data": {
            "text/plain": [
              "<Figure size 1080x540 with 0 Axes>"
            ]
          },
          "metadata": {}
        },
        {
          "output_type": "display_data",
          "data": {
            "text/plain": [
              "<Figure size 1080x540 with 0 Axes>"
            ]
          },
          "metadata": {}
        },
        {
          "output_type": "display_data",
          "data": {
            "text/plain": [
              "<Figure size 1080x540 with 0 Axes>"
            ]
          },
          "metadata": {}
        },
        {
          "output_type": "display_data",
          "data": {
            "text/plain": [
              "<Figure size 1080x540 with 0 Axes>"
            ]
          },
          "metadata": {}
        },
        {
          "output_type": "display_data",
          "data": {
            "text/plain": [
              "<Figure size 1080x540 with 0 Axes>"
            ]
          },
          "metadata": {}
        },
        {
          "output_type": "display_data",
          "data": {
            "text/plain": [
              "<Figure size 1080x540 with 0 Axes>"
            ]
          },
          "metadata": {}
        },
        {
          "output_type": "display_data",
          "data": {
            "text/plain": [
              "<Figure size 1080x540 with 0 Axes>"
            ]
          },
          "metadata": {}
        },
        {
          "output_type": "display_data",
          "data": {
            "text/plain": [
              "<Figure size 1080x540 with 0 Axes>"
            ]
          },
          "metadata": {}
        },
        {
          "output_type": "display_data",
          "data": {
            "text/plain": [
              "<Figure size 1080x540 with 0 Axes>"
            ]
          },
          "metadata": {}
        },
        {
          "output_type": "display_data",
          "data": {
            "text/plain": [
              "<Figure size 1080x540 with 0 Axes>"
            ]
          },
          "metadata": {}
        },
        {
          "output_type": "display_data",
          "data": {
            "text/plain": [
              "<Figure size 1080x540 with 0 Axes>"
            ]
          },
          "metadata": {}
        },
        {
          "output_type": "display_data",
          "data": {
            "text/plain": [
              "<Figure size 1080x540 with 0 Axes>"
            ]
          },
          "metadata": {}
        },
        {
          "output_type": "display_data",
          "data": {
            "text/plain": [
              "<Figure size 1080x540 with 0 Axes>"
            ]
          },
          "metadata": {}
        },
        {
          "output_type": "display_data",
          "data": {
            "text/plain": [
              "<Figure size 1080x540 with 0 Axes>"
            ]
          },
          "metadata": {}
        },
        {
          "output_type": "display_data",
          "data": {
            "text/plain": [
              "<Figure size 1080x540 with 0 Axes>"
            ]
          },
          "metadata": {}
        },
        {
          "output_type": "display_data",
          "data": {
            "text/plain": [
              "<Figure size 1080x540 with 0 Axes>"
            ]
          },
          "metadata": {}
        },
        {
          "output_type": "display_data",
          "data": {
            "text/plain": [
              "<Figure size 1080x540 with 0 Axes>"
            ]
          },
          "metadata": {}
        },
        {
          "output_type": "display_data",
          "data": {
            "text/plain": [
              "<Figure size 1080x540 with 0 Axes>"
            ]
          },
          "metadata": {}
        },
        {
          "output_type": "display_data",
          "data": {
            "text/plain": [
              "<Figure size 1080x540 with 0 Axes>"
            ]
          },
          "metadata": {}
        },
        {
          "output_type": "display_data",
          "data": {
            "text/plain": [
              "<Figure size 1080x540 with 0 Axes>"
            ]
          },
          "metadata": {}
        },
        {
          "output_type": "display_data",
          "data": {
            "text/plain": [
              "<Figure size 1080x540 with 0 Axes>"
            ]
          },
          "metadata": {}
        },
        {
          "output_type": "display_data",
          "data": {
            "text/plain": [
              "<Figure size 1080x540 with 0 Axes>"
            ]
          },
          "metadata": {}
        },
        {
          "output_type": "display_data",
          "data": {
            "text/plain": [
              "<Figure size 1080x540 with 0 Axes>"
            ]
          },
          "metadata": {}
        },
        {
          "output_type": "display_data",
          "data": {
            "text/plain": [
              "<Figure size 1080x540 with 0 Axes>"
            ]
          },
          "metadata": {}
        },
        {
          "output_type": "display_data",
          "data": {
            "text/plain": [
              "<Figure size 1080x540 with 0 Axes>"
            ]
          },
          "metadata": {}
        },
        {
          "output_type": "display_data",
          "data": {
            "text/plain": [
              "<Figure size 1080x540 with 0 Axes>"
            ]
          },
          "metadata": {}
        },
        {
          "output_type": "display_data",
          "data": {
            "text/plain": [
              "<Figure size 1080x540 with 0 Axes>"
            ]
          },
          "metadata": {}
        },
        {
          "output_type": "display_data",
          "data": {
            "text/plain": [
              "<Figure size 1080x540 with 0 Axes>"
            ]
          },
          "metadata": {}
        },
        {
          "output_type": "display_data",
          "data": {
            "text/plain": [
              "<Figure size 1080x540 with 0 Axes>"
            ]
          },
          "metadata": {}
        },
        {
          "output_type": "display_data",
          "data": {
            "text/plain": [
              "<Figure size 1080x540 with 0 Axes>"
            ]
          },
          "metadata": {}
        },
        {
          "output_type": "display_data",
          "data": {
            "text/plain": [
              "<Figure size 1080x540 with 0 Axes>"
            ]
          },
          "metadata": {}
        },
        {
          "output_type": "display_data",
          "data": {
            "text/plain": [
              "<Figure size 1080x540 with 0 Axes>"
            ]
          },
          "metadata": {}
        },
        {
          "output_type": "display_data",
          "data": {
            "text/plain": [
              "<Figure size 1080x540 with 0 Axes>"
            ]
          },
          "metadata": {}
        },
        {
          "output_type": "display_data",
          "data": {
            "text/plain": [
              "<Figure size 1080x540 with 0 Axes>"
            ]
          },
          "metadata": {}
        },
        {
          "output_type": "display_data",
          "data": {
            "text/plain": [
              "<Figure size 1080x540 with 0 Axes>"
            ]
          },
          "metadata": {}
        },
        {
          "output_type": "display_data",
          "data": {
            "text/plain": [
              "<Figure size 1080x540 with 0 Axes>"
            ]
          },
          "metadata": {}
        },
        {
          "output_type": "display_data",
          "data": {
            "text/plain": [
              "<Figure size 1080x540 with 0 Axes>"
            ]
          },
          "metadata": {}
        },
        {
          "output_type": "display_data",
          "data": {
            "text/plain": [
              "<Figure size 1080x540 with 0 Axes>"
            ]
          },
          "metadata": {}
        },
        {
          "output_type": "display_data",
          "data": {
            "text/plain": [
              "<Figure size 1080x540 with 0 Axes>"
            ]
          },
          "metadata": {}
        },
        {
          "output_type": "display_data",
          "data": {
            "text/plain": [
              "<Figure size 1080x540 with 0 Axes>"
            ]
          },
          "metadata": {}
        },
        {
          "output_type": "display_data",
          "data": {
            "text/plain": [
              "<Figure size 1080x540 with 0 Axes>"
            ]
          },
          "metadata": {}
        },
        {
          "output_type": "display_data",
          "data": {
            "text/plain": [
              "<Figure size 1080x540 with 0 Axes>"
            ]
          },
          "metadata": {}
        },
        {
          "output_type": "display_data",
          "data": {
            "text/plain": [
              "<Figure size 1080x540 with 0 Axes>"
            ]
          },
          "metadata": {}
        },
        {
          "output_type": "display_data",
          "data": {
            "text/plain": [
              "<Figure size 1080x540 with 0 Axes>"
            ]
          },
          "metadata": {}
        },
        {
          "output_type": "display_data",
          "data": {
            "text/plain": [
              "<Figure size 1080x540 with 0 Axes>"
            ]
          },
          "metadata": {}
        },
        {
          "output_type": "display_data",
          "data": {
            "text/plain": [
              "<Figure size 1080x540 with 0 Axes>"
            ]
          },
          "metadata": {}
        },
        {
          "output_type": "display_data",
          "data": {
            "text/plain": [
              "<Figure size 1080x540 with 0 Axes>"
            ]
          },
          "metadata": {}
        },
        {
          "output_type": "display_data",
          "data": {
            "text/plain": [
              "<Figure size 1080x540 with 0 Axes>"
            ]
          },
          "metadata": {}
        },
        {
          "output_type": "display_data",
          "data": {
            "text/plain": [
              "<Figure size 1080x540 with 0 Axes>"
            ]
          },
          "metadata": {}
        },
        {
          "output_type": "display_data",
          "data": {
            "text/plain": [
              "<Figure size 1080x540 with 0 Axes>"
            ]
          },
          "metadata": {}
        },
        {
          "output_type": "display_data",
          "data": {
            "text/plain": [
              "<Figure size 1080x540 with 0 Axes>"
            ]
          },
          "metadata": {}
        },
        {
          "output_type": "display_data",
          "data": {
            "text/plain": [
              "<Figure size 1080x540 with 0 Axes>"
            ]
          },
          "metadata": {}
        },
        {
          "output_type": "display_data",
          "data": {
            "text/plain": [
              "<Figure size 1080x540 with 0 Axes>"
            ]
          },
          "metadata": {}
        },
        {
          "output_type": "display_data",
          "data": {
            "text/plain": [
              "<Figure size 1080x540 with 0 Axes>"
            ]
          },
          "metadata": {}
        },
        {
          "output_type": "display_data",
          "data": {
            "text/plain": [
              "<Figure size 1080x540 with 0 Axes>"
            ]
          },
          "metadata": {}
        },
        {
          "output_type": "display_data",
          "data": {
            "text/plain": [
              "<Figure size 1080x540 with 0 Axes>"
            ]
          },
          "metadata": {}
        },
        {
          "output_type": "display_data",
          "data": {
            "text/plain": [
              "<Figure size 1080x540 with 0 Axes>"
            ]
          },
          "metadata": {}
        },
        {
          "output_type": "display_data",
          "data": {
            "text/plain": [
              "<Figure size 1080x540 with 0 Axes>"
            ]
          },
          "metadata": {}
        },
        {
          "output_type": "display_data",
          "data": {
            "text/plain": [
              "<Figure size 1080x540 with 0 Axes>"
            ]
          },
          "metadata": {}
        },
        {
          "output_type": "display_data",
          "data": {
            "text/plain": [
              "<Figure size 1080x540 with 0 Axes>"
            ]
          },
          "metadata": {}
        },
        {
          "output_type": "display_data",
          "data": {
            "text/plain": [
              "<Figure size 1080x540 with 0 Axes>"
            ]
          },
          "metadata": {}
        },
        {
          "output_type": "display_data",
          "data": {
            "text/plain": [
              "<Figure size 1080x540 with 0 Axes>"
            ]
          },
          "metadata": {}
        },
        {
          "output_type": "display_data",
          "data": {
            "text/plain": [
              "<Figure size 1080x540 with 0 Axes>"
            ]
          },
          "metadata": {}
        },
        {
          "output_type": "display_data",
          "data": {
            "text/plain": [
              "<Figure size 1080x540 with 0 Axes>"
            ]
          },
          "metadata": {}
        },
        {
          "output_type": "display_data",
          "data": {
            "text/plain": [
              "<Figure size 1080x540 with 0 Axes>"
            ]
          },
          "metadata": {}
        },
        {
          "output_type": "display_data",
          "data": {
            "text/plain": [
              "<Figure size 1080x540 with 0 Axes>"
            ]
          },
          "metadata": {}
        },
        {
          "output_type": "display_data",
          "data": {
            "text/plain": [
              "<Figure size 1080x540 with 0 Axes>"
            ]
          },
          "metadata": {}
        },
        {
          "output_type": "display_data",
          "data": {
            "text/plain": [
              "<Figure size 1080x540 with 0 Axes>"
            ]
          },
          "metadata": {}
        },
        {
          "output_type": "display_data",
          "data": {
            "text/plain": [
              "<Figure size 1080x540 with 0 Axes>"
            ]
          },
          "metadata": {}
        },
        {
          "output_type": "display_data",
          "data": {
            "text/plain": [
              "<Figure size 1080x540 with 0 Axes>"
            ]
          },
          "metadata": {}
        },
        {
          "output_type": "display_data",
          "data": {
            "text/plain": [
              "<Figure size 1080x540 with 0 Axes>"
            ]
          },
          "metadata": {}
        },
        {
          "output_type": "display_data",
          "data": {
            "text/plain": [
              "<Figure size 1080x540 with 0 Axes>"
            ]
          },
          "metadata": {}
        },
        {
          "output_type": "display_data",
          "data": {
            "text/plain": [
              "<Figure size 1080x540 with 0 Axes>"
            ]
          },
          "metadata": {}
        },
        {
          "output_type": "display_data",
          "data": {
            "text/plain": [
              "<Figure size 1080x540 with 0 Axes>"
            ]
          },
          "metadata": {}
        },
        {
          "output_type": "display_data",
          "data": {
            "text/plain": [
              "<Figure size 1080x540 with 0 Axes>"
            ]
          },
          "metadata": {}
        },
        {
          "output_type": "display_data",
          "data": {
            "text/plain": [
              "<Figure size 1080x540 with 0 Axes>"
            ]
          },
          "metadata": {}
        },
        {
          "output_type": "display_data",
          "data": {
            "text/plain": [
              "<Figure size 1080x540 with 0 Axes>"
            ]
          },
          "metadata": {}
        },
        {
          "output_type": "display_data",
          "data": {
            "text/plain": [
              "<Figure size 1080x540 with 0 Axes>"
            ]
          },
          "metadata": {}
        },
        {
          "output_type": "display_data",
          "data": {
            "text/plain": [
              "<Figure size 1080x540 with 0 Axes>"
            ]
          },
          "metadata": {}
        },
        {
          "output_type": "display_data",
          "data": {
            "text/plain": [
              "<Figure size 1080x540 with 0 Axes>"
            ]
          },
          "metadata": {}
        },
        {
          "output_type": "display_data",
          "data": {
            "text/plain": [
              "<Figure size 1080x540 with 0 Axes>"
            ]
          },
          "metadata": {}
        },
        {
          "output_type": "display_data",
          "data": {
            "text/plain": [
              "<Figure size 1080x540 with 0 Axes>"
            ]
          },
          "metadata": {}
        },
        {
          "output_type": "display_data",
          "data": {
            "text/plain": [
              "<Figure size 1080x540 with 0 Axes>"
            ]
          },
          "metadata": {}
        },
        {
          "output_type": "display_data",
          "data": {
            "text/plain": [
              "<Figure size 1080x540 with 0 Axes>"
            ]
          },
          "metadata": {}
        },
        {
          "output_type": "display_data",
          "data": {
            "text/plain": [
              "<Figure size 1080x540 with 0 Axes>"
            ]
          },
          "metadata": {}
        },
        {
          "output_type": "display_data",
          "data": {
            "text/plain": [
              "<Figure size 1080x540 with 0 Axes>"
            ]
          },
          "metadata": {}
        },
        {
          "output_type": "display_data",
          "data": {
            "text/plain": [
              "<Figure size 1080x540 with 0 Axes>"
            ]
          },
          "metadata": {}
        },
        {
          "output_type": "display_data",
          "data": {
            "text/plain": [
              "<Figure size 1080x540 with 0 Axes>"
            ]
          },
          "metadata": {}
        },
        {
          "output_type": "display_data",
          "data": {
            "text/plain": [
              "<Figure size 1080x540 with 0 Axes>"
            ]
          },
          "metadata": {}
        },
        {
          "output_type": "display_data",
          "data": {
            "text/plain": [
              "<Figure size 1080x540 with 0 Axes>"
            ]
          },
          "metadata": {}
        },
        {
          "output_type": "display_data",
          "data": {
            "text/plain": [
              "<Figure size 1080x540 with 0 Axes>"
            ]
          },
          "metadata": {}
        },
        {
          "output_type": "display_data",
          "data": {
            "text/plain": [
              "<Figure size 1080x540 with 0 Axes>"
            ]
          },
          "metadata": {}
        },
        {
          "output_type": "display_data",
          "data": {
            "text/plain": [
              "<Figure size 1080x540 with 0 Axes>"
            ]
          },
          "metadata": {}
        },
        {
          "output_type": "display_data",
          "data": {
            "text/plain": [
              "<Figure size 1080x540 with 0 Axes>"
            ]
          },
          "metadata": {}
        },
        {
          "output_type": "display_data",
          "data": {
            "text/plain": [
              "<Figure size 1080x540 with 0 Axes>"
            ]
          },
          "metadata": {}
        },
        {
          "output_type": "display_data",
          "data": {
            "text/plain": [
              "<Figure size 1080x540 with 0 Axes>"
            ]
          },
          "metadata": {}
        },
        {
          "output_type": "display_data",
          "data": {
            "text/plain": [
              "<Figure size 1080x540 with 0 Axes>"
            ]
          },
          "metadata": {}
        },
        {
          "output_type": "display_data",
          "data": {
            "text/plain": [
              "<Figure size 1080x540 with 0 Axes>"
            ]
          },
          "metadata": {}
        },
        {
          "output_type": "display_data",
          "data": {
            "text/plain": [
              "<Figure size 1080x540 with 0 Axes>"
            ]
          },
          "metadata": {}
        },
        {
          "output_type": "display_data",
          "data": {
            "text/plain": [
              "<Figure size 1080x540 with 0 Axes>"
            ]
          },
          "metadata": {}
        },
        {
          "output_type": "display_data",
          "data": {
            "text/plain": [
              "<Figure size 1080x540 with 0 Axes>"
            ]
          },
          "metadata": {}
        },
        {
          "output_type": "display_data",
          "data": {
            "text/plain": [
              "<Figure size 1080x540 with 0 Axes>"
            ]
          },
          "metadata": {}
        },
        {
          "output_type": "display_data",
          "data": {
            "text/plain": [
              "<Figure size 1080x540 with 0 Axes>"
            ]
          },
          "metadata": {}
        },
        {
          "output_type": "display_data",
          "data": {
            "text/plain": [
              "<Figure size 1080x540 with 0 Axes>"
            ]
          },
          "metadata": {}
        },
        {
          "output_type": "display_data",
          "data": {
            "text/plain": [
              "<Figure size 1080x540 with 0 Axes>"
            ]
          },
          "metadata": {}
        },
        {
          "output_type": "display_data",
          "data": {
            "text/plain": [
              "<Figure size 1080x540 with 0 Axes>"
            ]
          },
          "metadata": {}
        },
        {
          "output_type": "display_data",
          "data": {
            "text/plain": [
              "<Figure size 1080x540 with 0 Axes>"
            ]
          },
          "metadata": {}
        },
        {
          "output_type": "display_data",
          "data": {
            "text/plain": [
              "<Figure size 1080x540 with 0 Axes>"
            ]
          },
          "metadata": {}
        },
        {
          "output_type": "display_data",
          "data": {
            "text/plain": [
              "<Figure size 1080x540 with 0 Axes>"
            ]
          },
          "metadata": {}
        },
        {
          "output_type": "display_data",
          "data": {
            "text/plain": [
              "<Figure size 1080x540 with 0 Axes>"
            ]
          },
          "metadata": {}
        },
        {
          "output_type": "display_data",
          "data": {
            "text/plain": [
              "<Figure size 1080x540 with 0 Axes>"
            ]
          },
          "metadata": {}
        },
        {
          "output_type": "display_data",
          "data": {
            "text/plain": [
              "<Figure size 1080x540 with 0 Axes>"
            ]
          },
          "metadata": {}
        },
        {
          "output_type": "display_data",
          "data": {
            "text/plain": [
              "<Figure size 1080x540 with 0 Axes>"
            ]
          },
          "metadata": {}
        },
        {
          "output_type": "display_data",
          "data": {
            "text/plain": [
              "<Figure size 1080x540 with 0 Axes>"
            ]
          },
          "metadata": {}
        },
        {
          "output_type": "display_data",
          "data": {
            "text/plain": [
              "<Figure size 1080x540 with 0 Axes>"
            ]
          },
          "metadata": {}
        },
        {
          "output_type": "display_data",
          "data": {
            "text/plain": [
              "<Figure size 1080x540 with 0 Axes>"
            ]
          },
          "metadata": {}
        },
        {
          "output_type": "display_data",
          "data": {
            "text/plain": [
              "<Figure size 1080x540 with 0 Axes>"
            ]
          },
          "metadata": {}
        },
        {
          "output_type": "display_data",
          "data": {
            "text/plain": [
              "<Figure size 1080x540 with 0 Axes>"
            ]
          },
          "metadata": {}
        },
        {
          "output_type": "display_data",
          "data": {
            "text/plain": [
              "<Figure size 1080x540 with 0 Axes>"
            ]
          },
          "metadata": {}
        },
        {
          "output_type": "display_data",
          "data": {
            "text/plain": [
              "<Figure size 1080x540 with 0 Axes>"
            ]
          },
          "metadata": {}
        },
        {
          "output_type": "display_data",
          "data": {
            "text/plain": [
              "<Figure size 1080x540 with 0 Axes>"
            ]
          },
          "metadata": {}
        },
        {
          "output_type": "display_data",
          "data": {
            "text/plain": [
              "<Figure size 1080x540 with 0 Axes>"
            ]
          },
          "metadata": {}
        },
        {
          "output_type": "display_data",
          "data": {
            "text/plain": [
              "<Figure size 1080x540 with 0 Axes>"
            ]
          },
          "metadata": {}
        },
        {
          "output_type": "display_data",
          "data": {
            "text/plain": [
              "<Figure size 1080x540 with 0 Axes>"
            ]
          },
          "metadata": {}
        },
        {
          "output_type": "display_data",
          "data": {
            "text/plain": [
              "<Figure size 1080x540 with 0 Axes>"
            ]
          },
          "metadata": {}
        },
        {
          "output_type": "display_data",
          "data": {
            "text/plain": [
              "<Figure size 1080x540 with 0 Axes>"
            ]
          },
          "metadata": {}
        },
        {
          "output_type": "display_data",
          "data": {
            "text/plain": [
              "<Figure size 1080x540 with 0 Axes>"
            ]
          },
          "metadata": {}
        },
        {
          "output_type": "display_data",
          "data": {
            "text/plain": [
              "<Figure size 1080x540 with 0 Axes>"
            ]
          },
          "metadata": {}
        },
        {
          "output_type": "display_data",
          "data": {
            "text/plain": [
              "<Figure size 1080x540 with 0 Axes>"
            ]
          },
          "metadata": {}
        },
        {
          "output_type": "display_data",
          "data": {
            "text/plain": [
              "<Figure size 1080x540 with 0 Axes>"
            ]
          },
          "metadata": {}
        },
        {
          "output_type": "display_data",
          "data": {
            "text/plain": [
              "<Figure size 1080x540 with 0 Axes>"
            ]
          },
          "metadata": {}
        },
        {
          "output_type": "display_data",
          "data": {
            "text/plain": [
              "<Figure size 1080x540 with 0 Axes>"
            ]
          },
          "metadata": {}
        },
        {
          "output_type": "display_data",
          "data": {
            "text/plain": [
              "<Figure size 1080x540 with 0 Axes>"
            ]
          },
          "metadata": {}
        },
        {
          "output_type": "display_data",
          "data": {
            "text/plain": [
              "<Figure size 1080x540 with 0 Axes>"
            ]
          },
          "metadata": {}
        },
        {
          "output_type": "display_data",
          "data": {
            "text/plain": [
              "<Figure size 1080x540 with 0 Axes>"
            ]
          },
          "metadata": {}
        },
        {
          "output_type": "display_data",
          "data": {
            "text/plain": [
              "<Figure size 1080x540 with 0 Axes>"
            ]
          },
          "metadata": {}
        },
        {
          "output_type": "display_data",
          "data": {
            "text/plain": [
              "<Figure size 1080x540 with 0 Axes>"
            ]
          },
          "metadata": {}
        },
        {
          "output_type": "display_data",
          "data": {
            "text/plain": [
              "<Figure size 1080x540 with 0 Axes>"
            ]
          },
          "metadata": {}
        },
        {
          "output_type": "display_data",
          "data": {
            "text/plain": [
              "<Figure size 1080x540 with 0 Axes>"
            ]
          },
          "metadata": {}
        },
        {
          "output_type": "display_data",
          "data": {
            "text/plain": [
              "<Figure size 1080x540 with 0 Axes>"
            ]
          },
          "metadata": {}
        },
        {
          "output_type": "display_data",
          "data": {
            "text/plain": [
              "<Figure size 1080x540 with 0 Axes>"
            ]
          },
          "metadata": {}
        },
        {
          "output_type": "display_data",
          "data": {
            "text/plain": [
              "<Figure size 1080x540 with 0 Axes>"
            ]
          },
          "metadata": {}
        },
        {
          "output_type": "display_data",
          "data": {
            "text/plain": [
              "<Figure size 1080x540 with 0 Axes>"
            ]
          },
          "metadata": {}
        },
        {
          "output_type": "display_data",
          "data": {
            "text/plain": [
              "<Figure size 1080x540 with 0 Axes>"
            ]
          },
          "metadata": {}
        },
        {
          "output_type": "display_data",
          "data": {
            "text/plain": [
              "<Figure size 1080x540 with 0 Axes>"
            ]
          },
          "metadata": {}
        },
        {
          "output_type": "display_data",
          "data": {
            "text/plain": [
              "<Figure size 1080x540 with 0 Axes>"
            ]
          },
          "metadata": {}
        },
        {
          "output_type": "display_data",
          "data": {
            "text/plain": [
              "<Figure size 1080x540 with 0 Axes>"
            ]
          },
          "metadata": {}
        },
        {
          "output_type": "display_data",
          "data": {
            "text/plain": [
              "<Figure size 1080x540 with 0 Axes>"
            ]
          },
          "metadata": {}
        },
        {
          "output_type": "display_data",
          "data": {
            "text/plain": [
              "<Figure size 1080x540 with 0 Axes>"
            ]
          },
          "metadata": {}
        },
        {
          "output_type": "display_data",
          "data": {
            "text/plain": [
              "<Figure size 1080x540 with 0 Axes>"
            ]
          },
          "metadata": {}
        },
        {
          "output_type": "display_data",
          "data": {
            "text/plain": [
              "<Figure size 1080x540 with 0 Axes>"
            ]
          },
          "metadata": {}
        },
        {
          "output_type": "display_data",
          "data": {
            "text/plain": [
              "<Figure size 1080x540 with 0 Axes>"
            ]
          },
          "metadata": {}
        },
        {
          "output_type": "display_data",
          "data": {
            "text/plain": [
              "<Figure size 1080x540 with 0 Axes>"
            ]
          },
          "metadata": {}
        },
        {
          "output_type": "display_data",
          "data": {
            "text/plain": [
              "<Figure size 1080x540 with 0 Axes>"
            ]
          },
          "metadata": {}
        },
        {
          "output_type": "display_data",
          "data": {
            "text/plain": [
              "<Figure size 1080x540 with 0 Axes>"
            ]
          },
          "metadata": {}
        },
        {
          "output_type": "display_data",
          "data": {
            "text/plain": [
              "<Figure size 1080x540 with 0 Axes>"
            ]
          },
          "metadata": {}
        },
        {
          "output_type": "display_data",
          "data": {
            "text/plain": [
              "<Figure size 1080x540 with 0 Axes>"
            ]
          },
          "metadata": {}
        },
        {
          "output_type": "display_data",
          "data": {
            "text/plain": [
              "<Figure size 1080x540 with 0 Axes>"
            ]
          },
          "metadata": {}
        },
        {
          "output_type": "display_data",
          "data": {
            "text/plain": [
              "<Figure size 1080x540 with 0 Axes>"
            ]
          },
          "metadata": {}
        },
        {
          "output_type": "display_data",
          "data": {
            "text/plain": [
              "<Figure size 1080x540 with 0 Axes>"
            ]
          },
          "metadata": {}
        },
        {
          "output_type": "display_data",
          "data": {
            "text/plain": [
              "<Figure size 1080x540 with 0 Axes>"
            ]
          },
          "metadata": {}
        },
        {
          "output_type": "display_data",
          "data": {
            "text/plain": [
              "<Figure size 1080x540 with 0 Axes>"
            ]
          },
          "metadata": {}
        },
        {
          "output_type": "display_data",
          "data": {
            "text/plain": [
              "<Figure size 1080x540 with 0 Axes>"
            ]
          },
          "metadata": {}
        },
        {
          "output_type": "display_data",
          "data": {
            "text/plain": [
              "<Figure size 1080x540 with 0 Axes>"
            ]
          },
          "metadata": {}
        },
        {
          "output_type": "display_data",
          "data": {
            "text/plain": [
              "<Figure size 1080x540 with 0 Axes>"
            ]
          },
          "metadata": {}
        },
        {
          "output_type": "display_data",
          "data": {
            "text/plain": [
              "<Figure size 1080x540 with 0 Axes>"
            ]
          },
          "metadata": {}
        },
        {
          "output_type": "display_data",
          "data": {
            "text/plain": [
              "<Figure size 1080x540 with 0 Axes>"
            ]
          },
          "metadata": {}
        },
        {
          "output_type": "display_data",
          "data": {
            "text/plain": [
              "<Figure size 1080x540 with 0 Axes>"
            ]
          },
          "metadata": {}
        },
        {
          "output_type": "display_data",
          "data": {
            "text/plain": [
              "<Figure size 1080x540 with 0 Axes>"
            ]
          },
          "metadata": {}
        },
        {
          "output_type": "display_data",
          "data": {
            "text/plain": [
              "<Figure size 1080x540 with 0 Axes>"
            ]
          },
          "metadata": {}
        },
        {
          "output_type": "display_data",
          "data": {
            "text/plain": [
              "<Figure size 1080x540 with 0 Axes>"
            ]
          },
          "metadata": {}
        },
        {
          "output_type": "display_data",
          "data": {
            "text/plain": [
              "<Figure size 1080x540 with 0 Axes>"
            ]
          },
          "metadata": {}
        },
        {
          "output_type": "display_data",
          "data": {
            "text/plain": [
              "<Figure size 1080x540 with 0 Axes>"
            ]
          },
          "metadata": {}
        },
        {
          "output_type": "display_data",
          "data": {
            "text/plain": [
              "<Figure size 1080x540 with 0 Axes>"
            ]
          },
          "metadata": {}
        },
        {
          "output_type": "display_data",
          "data": {
            "text/plain": [
              "<Figure size 1080x540 with 0 Axes>"
            ]
          },
          "metadata": {}
        },
        {
          "output_type": "display_data",
          "data": {
            "text/plain": [
              "<Figure size 1080x540 with 0 Axes>"
            ]
          },
          "metadata": {}
        },
        {
          "output_type": "display_data",
          "data": {
            "text/plain": [
              "<Figure size 1080x540 with 0 Axes>"
            ]
          },
          "metadata": {}
        },
        {
          "output_type": "display_data",
          "data": {
            "text/plain": [
              "<Figure size 1080x540 with 0 Axes>"
            ]
          },
          "metadata": {}
        },
        {
          "output_type": "display_data",
          "data": {
            "text/plain": [
              "<Figure size 1080x540 with 0 Axes>"
            ]
          },
          "metadata": {}
        },
        {
          "output_type": "display_data",
          "data": {
            "text/plain": [
              "<Figure size 1080x540 with 0 Axes>"
            ]
          },
          "metadata": {}
        },
        {
          "output_type": "display_data",
          "data": {
            "text/plain": [
              "<Figure size 1080x540 with 0 Axes>"
            ]
          },
          "metadata": {}
        },
        {
          "output_type": "display_data",
          "data": {
            "text/plain": [
              "<Figure size 1080x540 with 0 Axes>"
            ]
          },
          "metadata": {}
        },
        {
          "output_type": "display_data",
          "data": {
            "text/plain": [
              "<Figure size 1080x540 with 0 Axes>"
            ]
          },
          "metadata": {}
        },
        {
          "output_type": "display_data",
          "data": {
            "text/plain": [
              "<Figure size 1080x540 with 0 Axes>"
            ]
          },
          "metadata": {}
        },
        {
          "output_type": "display_data",
          "data": {
            "text/plain": [
              "<Figure size 1080x540 with 0 Axes>"
            ]
          },
          "metadata": {}
        },
        {
          "output_type": "display_data",
          "data": {
            "text/plain": [
              "<Figure size 1080x540 with 0 Axes>"
            ]
          },
          "metadata": {}
        },
        {
          "output_type": "display_data",
          "data": {
            "text/plain": [
              "<Figure size 1080x540 with 0 Axes>"
            ]
          },
          "metadata": {}
        },
        {
          "output_type": "display_data",
          "data": {
            "text/plain": [
              "<Figure size 1080x540 with 0 Axes>"
            ]
          },
          "metadata": {}
        },
        {
          "output_type": "display_data",
          "data": {
            "text/plain": [
              "<Figure size 1080x540 with 0 Axes>"
            ]
          },
          "metadata": {}
        },
        {
          "output_type": "display_data",
          "data": {
            "text/plain": [
              "<Figure size 1080x540 with 0 Axes>"
            ]
          },
          "metadata": {}
        },
        {
          "output_type": "display_data",
          "data": {
            "text/plain": [
              "<Figure size 1080x540 with 0 Axes>"
            ]
          },
          "metadata": {}
        },
        {
          "output_type": "display_data",
          "data": {
            "text/plain": [
              "<Figure size 1080x540 with 0 Axes>"
            ]
          },
          "metadata": {}
        },
        {
          "output_type": "display_data",
          "data": {
            "text/plain": [
              "<Figure size 1080x540 with 0 Axes>"
            ]
          },
          "metadata": {}
        },
        {
          "output_type": "display_data",
          "data": {
            "text/plain": [
              "<Figure size 1080x540 with 0 Axes>"
            ]
          },
          "metadata": {}
        },
        {
          "output_type": "display_data",
          "data": {
            "text/plain": [
              "<Figure size 1080x540 with 0 Axes>"
            ]
          },
          "metadata": {}
        },
        {
          "output_type": "display_data",
          "data": {
            "text/plain": [
              "<Figure size 1080x540 with 0 Axes>"
            ]
          },
          "metadata": {}
        },
        {
          "output_type": "display_data",
          "data": {
            "text/plain": [
              "<Figure size 1080x540 with 0 Axes>"
            ]
          },
          "metadata": {}
        },
        {
          "output_type": "display_data",
          "data": {
            "text/plain": [
              "<Figure size 1080x540 with 0 Axes>"
            ]
          },
          "metadata": {}
        },
        {
          "output_type": "display_data",
          "data": {
            "text/plain": [
              "<Figure size 1080x540 with 0 Axes>"
            ]
          },
          "metadata": {}
        },
        {
          "output_type": "display_data",
          "data": {
            "text/plain": [
              "<Figure size 1080x540 with 0 Axes>"
            ]
          },
          "metadata": {}
        },
        {
          "output_type": "display_data",
          "data": {
            "text/plain": [
              "<Figure size 1080x540 with 0 Axes>"
            ]
          },
          "metadata": {}
        },
        {
          "output_type": "display_data",
          "data": {
            "text/plain": [
              "<Figure size 1080x540 with 0 Axes>"
            ]
          },
          "metadata": {}
        },
        {
          "output_type": "display_data",
          "data": {
            "text/plain": [
              "<Figure size 1080x540 with 0 Axes>"
            ]
          },
          "metadata": {}
        },
        {
          "output_type": "display_data",
          "data": {
            "text/plain": [
              "<Figure size 1080x540 with 0 Axes>"
            ]
          },
          "metadata": {}
        },
        {
          "output_type": "display_data",
          "data": {
            "text/plain": [
              "<Figure size 1080x540 with 0 Axes>"
            ]
          },
          "metadata": {}
        },
        {
          "output_type": "display_data",
          "data": {
            "text/plain": [
              "<Figure size 1080x540 with 0 Axes>"
            ]
          },
          "metadata": {}
        },
        {
          "output_type": "display_data",
          "data": {
            "text/plain": [
              "<Figure size 1080x540 with 0 Axes>"
            ]
          },
          "metadata": {}
        },
        {
          "output_type": "display_data",
          "data": {
            "text/plain": [
              "<Figure size 1080x540 with 0 Axes>"
            ]
          },
          "metadata": {}
        },
        {
          "output_type": "display_data",
          "data": {
            "text/plain": [
              "<Figure size 1080x540 with 0 Axes>"
            ]
          },
          "metadata": {}
        },
        {
          "output_type": "display_data",
          "data": {
            "text/plain": [
              "<Figure size 1080x540 with 0 Axes>"
            ]
          },
          "metadata": {}
        },
        {
          "output_type": "display_data",
          "data": {
            "text/plain": [
              "<Figure size 1080x540 with 0 Axes>"
            ]
          },
          "metadata": {}
        },
        {
          "output_type": "display_data",
          "data": {
            "text/plain": [
              "<Figure size 1080x540 with 0 Axes>"
            ]
          },
          "metadata": {}
        },
        {
          "output_type": "display_data",
          "data": {
            "text/plain": [
              "<Figure size 1080x540 with 0 Axes>"
            ]
          },
          "metadata": {}
        },
        {
          "output_type": "display_data",
          "data": {
            "text/plain": [
              "<Figure size 1080x540 with 0 Axes>"
            ]
          },
          "metadata": {}
        },
        {
          "output_type": "display_data",
          "data": {
            "text/plain": [
              "<Figure size 1080x540 with 0 Axes>"
            ]
          },
          "metadata": {}
        },
        {
          "output_type": "display_data",
          "data": {
            "text/plain": [
              "<Figure size 1080x540 with 0 Axes>"
            ]
          },
          "metadata": {}
        },
        {
          "output_type": "display_data",
          "data": {
            "text/plain": [
              "<Figure size 1080x540 with 0 Axes>"
            ]
          },
          "metadata": {}
        },
        {
          "output_type": "display_data",
          "data": {
            "text/plain": [
              "<Figure size 1080x540 with 0 Axes>"
            ]
          },
          "metadata": {}
        },
        {
          "output_type": "display_data",
          "data": {
            "text/plain": [
              "<Figure size 1080x540 with 0 Axes>"
            ]
          },
          "metadata": {}
        },
        {
          "output_type": "display_data",
          "data": {
            "text/plain": [
              "<Figure size 1080x540 with 0 Axes>"
            ]
          },
          "metadata": {}
        },
        {
          "output_type": "display_data",
          "data": {
            "text/plain": [
              "<Figure size 1080x540 with 0 Axes>"
            ]
          },
          "metadata": {}
        },
        {
          "output_type": "display_data",
          "data": {
            "text/plain": [
              "<Figure size 1080x540 with 0 Axes>"
            ]
          },
          "metadata": {}
        },
        {
          "output_type": "display_data",
          "data": {
            "text/plain": [
              "<Figure size 1080x540 with 0 Axes>"
            ]
          },
          "metadata": {}
        },
        {
          "output_type": "display_data",
          "data": {
            "text/plain": [
              "<Figure size 1080x540 with 0 Axes>"
            ]
          },
          "metadata": {}
        },
        {
          "output_type": "display_data",
          "data": {
            "text/plain": [
              "<Figure size 1080x540 with 0 Axes>"
            ]
          },
          "metadata": {}
        },
        {
          "output_type": "display_data",
          "data": {
            "text/plain": [
              "<Figure size 1080x540 with 0 Axes>"
            ]
          },
          "metadata": {}
        },
        {
          "output_type": "display_data",
          "data": {
            "text/plain": [
              "<Figure size 1080x540 with 0 Axes>"
            ]
          },
          "metadata": {}
        },
        {
          "output_type": "display_data",
          "data": {
            "text/plain": [
              "<Figure size 1080x540 with 0 Axes>"
            ]
          },
          "metadata": {}
        },
        {
          "output_type": "display_data",
          "data": {
            "text/plain": [
              "<Figure size 1080x540 with 0 Axes>"
            ]
          },
          "metadata": {}
        },
        {
          "output_type": "display_data",
          "data": {
            "text/plain": [
              "<Figure size 1080x540 with 0 Axes>"
            ]
          },
          "metadata": {}
        },
        {
          "output_type": "display_data",
          "data": {
            "text/plain": [
              "<Figure size 1080x540 with 0 Axes>"
            ]
          },
          "metadata": {}
        },
        {
          "output_type": "display_data",
          "data": {
            "text/plain": [
              "<Figure size 1080x540 with 0 Axes>"
            ]
          },
          "metadata": {}
        },
        {
          "output_type": "display_data",
          "data": {
            "text/plain": [
              "<Figure size 1080x540 with 0 Axes>"
            ]
          },
          "metadata": {}
        },
        {
          "output_type": "display_data",
          "data": {
            "text/plain": [
              "<Figure size 1080x540 with 0 Axes>"
            ]
          },
          "metadata": {}
        },
        {
          "output_type": "display_data",
          "data": {
            "text/plain": [
              "<Figure size 1080x540 with 0 Axes>"
            ]
          },
          "metadata": {}
        },
        {
          "output_type": "display_data",
          "data": {
            "text/plain": [
              "<Figure size 1080x540 with 0 Axes>"
            ]
          },
          "metadata": {}
        },
        {
          "output_type": "display_data",
          "data": {
            "text/plain": [
              "<Figure size 1080x540 with 0 Axes>"
            ]
          },
          "metadata": {}
        },
        {
          "output_type": "display_data",
          "data": {
            "text/plain": [
              "<Figure size 1080x540 with 0 Axes>"
            ]
          },
          "metadata": {}
        },
        {
          "output_type": "display_data",
          "data": {
            "text/plain": [
              "<Figure size 1080x540 with 0 Axes>"
            ]
          },
          "metadata": {}
        },
        {
          "output_type": "display_data",
          "data": {
            "text/plain": [
              "<Figure size 1080x540 with 0 Axes>"
            ]
          },
          "metadata": {}
        },
        {
          "output_type": "display_data",
          "data": {
            "text/plain": [
              "<Figure size 1080x540 with 0 Axes>"
            ]
          },
          "metadata": {}
        },
        {
          "output_type": "display_data",
          "data": {
            "text/plain": [
              "<Figure size 1080x540 with 0 Axes>"
            ]
          },
          "metadata": {}
        },
        {
          "output_type": "display_data",
          "data": {
            "text/plain": [
              "<Figure size 1080x540 with 0 Axes>"
            ]
          },
          "metadata": {}
        },
        {
          "output_type": "display_data",
          "data": {
            "text/plain": [
              "<Figure size 1080x540 with 0 Axes>"
            ]
          },
          "metadata": {}
        },
        {
          "output_type": "display_data",
          "data": {
            "text/plain": [
              "<Figure size 1080x540 with 0 Axes>"
            ]
          },
          "metadata": {}
        },
        {
          "output_type": "display_data",
          "data": {
            "text/plain": [
              "<Figure size 1080x540 with 0 Axes>"
            ]
          },
          "metadata": {}
        },
        {
          "output_type": "display_data",
          "data": {
            "text/plain": [
              "<Figure size 1080x540 with 0 Axes>"
            ]
          },
          "metadata": {}
        },
        {
          "output_type": "display_data",
          "data": {
            "text/plain": [
              "<Figure size 1080x540 with 0 Axes>"
            ]
          },
          "metadata": {}
        },
        {
          "output_type": "display_data",
          "data": {
            "text/plain": [
              "<Figure size 1080x540 with 0 Axes>"
            ]
          },
          "metadata": {}
        },
        {
          "output_type": "display_data",
          "data": {
            "text/plain": [
              "<Figure size 1080x540 with 0 Axes>"
            ]
          },
          "metadata": {}
        },
        {
          "output_type": "display_data",
          "data": {
            "text/plain": [
              "<Figure size 1080x540 with 0 Axes>"
            ]
          },
          "metadata": {}
        },
        {
          "output_type": "display_data",
          "data": {
            "text/plain": [
              "<Figure size 1080x540 with 0 Axes>"
            ]
          },
          "metadata": {}
        },
        {
          "output_type": "display_data",
          "data": {
            "text/plain": [
              "<Figure size 1080x540 with 0 Axes>"
            ]
          },
          "metadata": {}
        },
        {
          "output_type": "display_data",
          "data": {
            "text/plain": [
              "<Figure size 1080x540 with 0 Axes>"
            ]
          },
          "metadata": {}
        },
        {
          "output_type": "display_data",
          "data": {
            "text/plain": [
              "<Figure size 1080x540 with 0 Axes>"
            ]
          },
          "metadata": {}
        },
        {
          "output_type": "display_data",
          "data": {
            "text/plain": [
              "<Figure size 1080x540 with 0 Axes>"
            ]
          },
          "metadata": {}
        },
        {
          "output_type": "display_data",
          "data": {
            "text/plain": [
              "<Figure size 1080x540 with 0 Axes>"
            ]
          },
          "metadata": {}
        },
        {
          "output_type": "display_data",
          "data": {
            "text/plain": [
              "<Figure size 1080x540 with 0 Axes>"
            ]
          },
          "metadata": {}
        },
        {
          "output_type": "display_data",
          "data": {
            "text/plain": [
              "<Figure size 1080x540 with 0 Axes>"
            ]
          },
          "metadata": {}
        },
        {
          "output_type": "display_data",
          "data": {
            "text/plain": [
              "<Figure size 1080x540 with 0 Axes>"
            ]
          },
          "metadata": {}
        },
        {
          "output_type": "display_data",
          "data": {
            "text/plain": [
              "<Figure size 1080x540 with 0 Axes>"
            ]
          },
          "metadata": {}
        },
        {
          "output_type": "display_data",
          "data": {
            "text/plain": [
              "<Figure size 1080x540 with 0 Axes>"
            ]
          },
          "metadata": {}
        },
        {
          "output_type": "display_data",
          "data": {
            "text/plain": [
              "<Figure size 1080x540 with 0 Axes>"
            ]
          },
          "metadata": {}
        },
        {
          "output_type": "display_data",
          "data": {
            "text/plain": [
              "<Figure size 1080x540 with 0 Axes>"
            ]
          },
          "metadata": {}
        },
        {
          "output_type": "display_data",
          "data": {
            "text/plain": [
              "<Figure size 1080x540 with 0 Axes>"
            ]
          },
          "metadata": {}
        },
        {
          "output_type": "display_data",
          "data": {
            "text/plain": [
              "<Figure size 1080x540 with 0 Axes>"
            ]
          },
          "metadata": {}
        },
        {
          "output_type": "display_data",
          "data": {
            "text/plain": [
              "<Figure size 1080x540 with 0 Axes>"
            ]
          },
          "metadata": {}
        },
        {
          "output_type": "display_data",
          "data": {
            "text/plain": [
              "<Figure size 1080x540 with 0 Axes>"
            ]
          },
          "metadata": {}
        },
        {
          "output_type": "display_data",
          "data": {
            "text/plain": [
              "<Figure size 1080x540 with 0 Axes>"
            ]
          },
          "metadata": {}
        },
        {
          "output_type": "display_data",
          "data": {
            "text/plain": [
              "<Figure size 1080x540 with 0 Axes>"
            ]
          },
          "metadata": {}
        },
        {
          "output_type": "display_data",
          "data": {
            "text/plain": [
              "<Figure size 1080x540 with 0 Axes>"
            ]
          },
          "metadata": {}
        },
        {
          "output_type": "display_data",
          "data": {
            "text/plain": [
              "<Figure size 1080x540 with 0 Axes>"
            ]
          },
          "metadata": {}
        },
        {
          "output_type": "display_data",
          "data": {
            "text/plain": [
              "<Figure size 1080x540 with 0 Axes>"
            ]
          },
          "metadata": {}
        },
        {
          "output_type": "display_data",
          "data": {
            "text/plain": [
              "<Figure size 1080x540 with 0 Axes>"
            ]
          },
          "metadata": {}
        },
        {
          "output_type": "display_data",
          "data": {
            "text/plain": [
              "<Figure size 1080x540 with 0 Axes>"
            ]
          },
          "metadata": {}
        },
        {
          "output_type": "display_data",
          "data": {
            "text/plain": [
              "<Figure size 1080x540 with 0 Axes>"
            ]
          },
          "metadata": {}
        },
        {
          "output_type": "display_data",
          "data": {
            "text/plain": [
              "<Figure size 1080x540 with 0 Axes>"
            ]
          },
          "metadata": {}
        },
        {
          "output_type": "display_data",
          "data": {
            "text/plain": [
              "<Figure size 1080x540 with 0 Axes>"
            ]
          },
          "metadata": {}
        },
        {
          "output_type": "display_data",
          "data": {
            "text/plain": [
              "<Figure size 1080x540 with 0 Axes>"
            ]
          },
          "metadata": {}
        },
        {
          "output_type": "display_data",
          "data": {
            "text/plain": [
              "<Figure size 1080x540 with 0 Axes>"
            ]
          },
          "metadata": {}
        },
        {
          "output_type": "display_data",
          "data": {
            "text/plain": [
              "<Figure size 1080x540 with 0 Axes>"
            ]
          },
          "metadata": {}
        },
        {
          "output_type": "display_data",
          "data": {
            "text/plain": [
              "<Figure size 1080x540 with 0 Axes>"
            ]
          },
          "metadata": {}
        },
        {
          "output_type": "display_data",
          "data": {
            "text/plain": [
              "<Figure size 1080x540 with 0 Axes>"
            ]
          },
          "metadata": {}
        },
        {
          "output_type": "display_data",
          "data": {
            "text/plain": [
              "<Figure size 1080x540 with 0 Axes>"
            ]
          },
          "metadata": {}
        },
        {
          "output_type": "display_data",
          "data": {
            "text/plain": [
              "<Figure size 1080x540 with 0 Axes>"
            ]
          },
          "metadata": {}
        },
        {
          "output_type": "display_data",
          "data": {
            "text/plain": [
              "<Figure size 1080x540 with 0 Axes>"
            ]
          },
          "metadata": {}
        },
        {
          "output_type": "display_data",
          "data": {
            "text/plain": [
              "<Figure size 1080x540 with 0 Axes>"
            ]
          },
          "metadata": {}
        },
        {
          "output_type": "display_data",
          "data": {
            "text/plain": [
              "<Figure size 1080x540 with 0 Axes>"
            ]
          },
          "metadata": {}
        },
        {
          "output_type": "display_data",
          "data": {
            "text/plain": [
              "<Figure size 1080x540 with 0 Axes>"
            ]
          },
          "metadata": {}
        },
        {
          "output_type": "display_data",
          "data": {
            "text/plain": [
              "<Figure size 1080x540 with 0 Axes>"
            ]
          },
          "metadata": {}
        },
        {
          "output_type": "display_data",
          "data": {
            "text/plain": [
              "<Figure size 1080x540 with 0 Axes>"
            ]
          },
          "metadata": {}
        },
        {
          "output_type": "display_data",
          "data": {
            "text/plain": [
              "<Figure size 1080x540 with 0 Axes>"
            ]
          },
          "metadata": {}
        },
        {
          "output_type": "display_data",
          "data": {
            "text/plain": [
              "<Figure size 1080x540 with 0 Axes>"
            ]
          },
          "metadata": {}
        },
        {
          "output_type": "display_data",
          "data": {
            "text/plain": [
              "<Figure size 1080x540 with 0 Axes>"
            ]
          },
          "metadata": {}
        },
        {
          "output_type": "display_data",
          "data": {
            "text/plain": [
              "<Figure size 1080x540 with 0 Axes>"
            ]
          },
          "metadata": {}
        },
        {
          "output_type": "display_data",
          "data": {
            "text/plain": [
              "<Figure size 1080x540 with 0 Axes>"
            ]
          },
          "metadata": {}
        },
        {
          "output_type": "display_data",
          "data": {
            "text/plain": [
              "<Figure size 1080x540 with 0 Axes>"
            ]
          },
          "metadata": {}
        },
        {
          "output_type": "display_data",
          "data": {
            "text/plain": [
              "<Figure size 1080x540 with 0 Axes>"
            ]
          },
          "metadata": {}
        },
        {
          "output_type": "display_data",
          "data": {
            "text/plain": [
              "<Figure size 1080x540 with 0 Axes>"
            ]
          },
          "metadata": {}
        },
        {
          "output_type": "display_data",
          "data": {
            "text/plain": [
              "<Figure size 1080x540 with 0 Axes>"
            ]
          },
          "metadata": {}
        },
        {
          "output_type": "display_data",
          "data": {
            "text/plain": [
              "<Figure size 1080x540 with 0 Axes>"
            ]
          },
          "metadata": {}
        },
        {
          "output_type": "display_data",
          "data": {
            "text/plain": [
              "<Figure size 1080x540 with 0 Axes>"
            ]
          },
          "metadata": {}
        },
        {
          "output_type": "display_data",
          "data": {
            "text/plain": [
              "<Figure size 1080x540 with 0 Axes>"
            ]
          },
          "metadata": {}
        },
        {
          "output_type": "display_data",
          "data": {
            "text/plain": [
              "<Figure size 1080x540 with 0 Axes>"
            ]
          },
          "metadata": {}
        },
        {
          "output_type": "display_data",
          "data": {
            "text/plain": [
              "<Figure size 1080x540 with 0 Axes>"
            ]
          },
          "metadata": {}
        },
        {
          "output_type": "display_data",
          "data": {
            "text/plain": [
              "<Figure size 1080x540 with 0 Axes>"
            ]
          },
          "metadata": {}
        },
        {
          "output_type": "display_data",
          "data": {
            "text/plain": [
              "<Figure size 1080x540 with 0 Axes>"
            ]
          },
          "metadata": {}
        },
        {
          "output_type": "display_data",
          "data": {
            "text/plain": [
              "<Figure size 1080x540 with 0 Axes>"
            ]
          },
          "metadata": {}
        },
        {
          "output_type": "display_data",
          "data": {
            "text/plain": [
              "<Figure size 1080x540 with 0 Axes>"
            ]
          },
          "metadata": {}
        },
        {
          "output_type": "display_data",
          "data": {
            "text/plain": [
              "<Figure size 1080x540 with 0 Axes>"
            ]
          },
          "metadata": {}
        },
        {
          "output_type": "display_data",
          "data": {
            "text/plain": [
              "<Figure size 1080x540 with 0 Axes>"
            ]
          },
          "metadata": {}
        },
        {
          "output_type": "display_data",
          "data": {
            "text/plain": [
              "<Figure size 1080x540 with 0 Axes>"
            ]
          },
          "metadata": {}
        },
        {
          "output_type": "display_data",
          "data": {
            "text/plain": [
              "<Figure size 1080x540 with 0 Axes>"
            ]
          },
          "metadata": {}
        },
        {
          "output_type": "display_data",
          "data": {
            "text/plain": [
              "<Figure size 1080x540 with 0 Axes>"
            ]
          },
          "metadata": {}
        },
        {
          "output_type": "display_data",
          "data": {
            "text/plain": [
              "<Figure size 1080x540 with 0 Axes>"
            ]
          },
          "metadata": {}
        },
        {
          "output_type": "display_data",
          "data": {
            "text/plain": [
              "<Figure size 1080x540 with 0 Axes>"
            ]
          },
          "metadata": {}
        },
        {
          "output_type": "display_data",
          "data": {
            "text/plain": [
              "<Figure size 1080x540 with 0 Axes>"
            ]
          },
          "metadata": {}
        },
        {
          "output_type": "display_data",
          "data": {
            "text/plain": [
              "<Figure size 1080x540 with 0 Axes>"
            ]
          },
          "metadata": {}
        },
        {
          "output_type": "display_data",
          "data": {
            "text/plain": [
              "<Figure size 1080x540 with 0 Axes>"
            ]
          },
          "metadata": {}
        },
        {
          "output_type": "display_data",
          "data": {
            "text/plain": [
              "<Figure size 1080x540 with 0 Axes>"
            ]
          },
          "metadata": {}
        },
        {
          "output_type": "display_data",
          "data": {
            "text/plain": [
              "<Figure size 1080x540 with 0 Axes>"
            ]
          },
          "metadata": {}
        },
        {
          "output_type": "display_data",
          "data": {
            "text/plain": [
              "<Figure size 1080x540 with 0 Axes>"
            ]
          },
          "metadata": {}
        },
        {
          "output_type": "display_data",
          "data": {
            "text/plain": [
              "<Figure size 1080x540 with 0 Axes>"
            ]
          },
          "metadata": {}
        },
        {
          "output_type": "display_data",
          "data": {
            "text/plain": [
              "<Figure size 1080x540 with 0 Axes>"
            ]
          },
          "metadata": {}
        },
        {
          "output_type": "display_data",
          "data": {
            "text/plain": [
              "<Figure size 1080x540 with 0 Axes>"
            ]
          },
          "metadata": {}
        },
        {
          "output_type": "display_data",
          "data": {
            "text/plain": [
              "<Figure size 1080x540 with 0 Axes>"
            ]
          },
          "metadata": {}
        },
        {
          "output_type": "display_data",
          "data": {
            "text/plain": [
              "<Figure size 1080x540 with 0 Axes>"
            ]
          },
          "metadata": {}
        },
        {
          "output_type": "display_data",
          "data": {
            "text/plain": [
              "<Figure size 1080x540 with 0 Axes>"
            ]
          },
          "metadata": {}
        },
        {
          "output_type": "display_data",
          "data": {
            "text/plain": [
              "<Figure size 1080x540 with 0 Axes>"
            ]
          },
          "metadata": {}
        },
        {
          "output_type": "display_data",
          "data": {
            "text/plain": [
              "<Figure size 1080x540 with 0 Axes>"
            ]
          },
          "metadata": {}
        },
        {
          "output_type": "display_data",
          "data": {
            "text/plain": [
              "<Figure size 1080x540 with 0 Axes>"
            ]
          },
          "metadata": {}
        },
        {
          "output_type": "display_data",
          "data": {
            "text/plain": [
              "<Figure size 1080x540 with 0 Axes>"
            ]
          },
          "metadata": {}
        },
        {
          "output_type": "display_data",
          "data": {
            "text/plain": [
              "<Figure size 1080x540 with 0 Axes>"
            ]
          },
          "metadata": {}
        },
        {
          "output_type": "display_data",
          "data": {
            "text/plain": [
              "<Figure size 1080x540 with 0 Axes>"
            ]
          },
          "metadata": {}
        },
        {
          "output_type": "display_data",
          "data": {
            "text/plain": [
              "<Figure size 1080x540 with 0 Axes>"
            ]
          },
          "metadata": {}
        },
        {
          "output_type": "display_data",
          "data": {
            "text/plain": [
              "<Figure size 1080x540 with 0 Axes>"
            ]
          },
          "metadata": {}
        },
        {
          "output_type": "display_data",
          "data": {
            "text/plain": [
              "<Figure size 1080x540 with 0 Axes>"
            ]
          },
          "metadata": {}
        },
        {
          "output_type": "display_data",
          "data": {
            "text/plain": [
              "<Figure size 1080x540 with 0 Axes>"
            ]
          },
          "metadata": {}
        },
        {
          "output_type": "display_data",
          "data": {
            "text/plain": [
              "<Figure size 1080x540 with 0 Axes>"
            ]
          },
          "metadata": {}
        },
        {
          "output_type": "display_data",
          "data": {
            "text/plain": [
              "<Figure size 1080x540 with 0 Axes>"
            ]
          },
          "metadata": {}
        },
        {
          "output_type": "display_data",
          "data": {
            "text/plain": [
              "<Figure size 1080x540 with 0 Axes>"
            ]
          },
          "metadata": {}
        },
        {
          "output_type": "display_data",
          "data": {
            "text/plain": [
              "<Figure size 1080x540 with 0 Axes>"
            ]
          },
          "metadata": {}
        },
        {
          "output_type": "display_data",
          "data": {
            "text/plain": [
              "<Figure size 1080x540 with 0 Axes>"
            ]
          },
          "metadata": {}
        },
        {
          "output_type": "display_data",
          "data": {
            "text/plain": [
              "<Figure size 1080x540 with 0 Axes>"
            ]
          },
          "metadata": {}
        },
        {
          "output_type": "display_data",
          "data": {
            "text/plain": [
              "<Figure size 1080x540 with 0 Axes>"
            ]
          },
          "metadata": {}
        },
        {
          "output_type": "display_data",
          "data": {
            "text/plain": [
              "<Figure size 1080x540 with 0 Axes>"
            ]
          },
          "metadata": {}
        },
        {
          "output_type": "display_data",
          "data": {
            "text/plain": [
              "<Figure size 1080x540 with 0 Axes>"
            ]
          },
          "metadata": {}
        },
        {
          "output_type": "display_data",
          "data": {
            "text/plain": [
              "<Figure size 1080x540 with 0 Axes>"
            ]
          },
          "metadata": {}
        },
        {
          "output_type": "display_data",
          "data": {
            "text/plain": [
              "<Figure size 1080x540 with 0 Axes>"
            ]
          },
          "metadata": {}
        },
        {
          "output_type": "display_data",
          "data": {
            "text/plain": [
              "<Figure size 1080x540 with 0 Axes>"
            ]
          },
          "metadata": {}
        },
        {
          "output_type": "display_data",
          "data": {
            "text/plain": [
              "<Figure size 1080x540 with 0 Axes>"
            ]
          },
          "metadata": {}
        },
        {
          "output_type": "display_data",
          "data": {
            "text/plain": [
              "<Figure size 1080x540 with 0 Axes>"
            ]
          },
          "metadata": {}
        },
        {
          "output_type": "display_data",
          "data": {
            "text/plain": [
              "<Figure size 1080x540 with 0 Axes>"
            ]
          },
          "metadata": {}
        },
        {
          "output_type": "display_data",
          "data": {
            "text/plain": [
              "<Figure size 1080x540 with 0 Axes>"
            ]
          },
          "metadata": {}
        },
        {
          "output_type": "display_data",
          "data": {
            "text/plain": [
              "<Figure size 1080x540 with 0 Axes>"
            ]
          },
          "metadata": {}
        },
        {
          "output_type": "display_data",
          "data": {
            "text/plain": [
              "<Figure size 1080x540 with 0 Axes>"
            ]
          },
          "metadata": {}
        },
        {
          "output_type": "display_data",
          "data": {
            "text/plain": [
              "<Figure size 1080x540 with 0 Axes>"
            ]
          },
          "metadata": {}
        },
        {
          "output_type": "display_data",
          "data": {
            "text/plain": [
              "<Figure size 1080x540 with 0 Axes>"
            ]
          },
          "metadata": {}
        },
        {
          "output_type": "display_data",
          "data": {
            "text/plain": [
              "<Figure size 1080x540 with 0 Axes>"
            ]
          },
          "metadata": {}
        },
        {
          "output_type": "display_data",
          "data": {
            "text/plain": [
              "<Figure size 1080x540 with 0 Axes>"
            ]
          },
          "metadata": {}
        },
        {
          "output_type": "display_data",
          "data": {
            "text/plain": [
              "<Figure size 1080x540 with 0 Axes>"
            ]
          },
          "metadata": {}
        },
        {
          "output_type": "display_data",
          "data": {
            "text/plain": [
              "<Figure size 1080x540 with 0 Axes>"
            ]
          },
          "metadata": {}
        },
        {
          "output_type": "display_data",
          "data": {
            "text/plain": [
              "<Figure size 1080x540 with 0 Axes>"
            ]
          },
          "metadata": {}
        },
        {
          "output_type": "display_data",
          "data": {
            "text/plain": [
              "<Figure size 1080x540 with 0 Axes>"
            ]
          },
          "metadata": {}
        },
        {
          "output_type": "display_data",
          "data": {
            "text/plain": [
              "<Figure size 1080x540 with 0 Axes>"
            ]
          },
          "metadata": {}
        },
        {
          "output_type": "display_data",
          "data": {
            "text/plain": [
              "<Figure size 1080x540 with 0 Axes>"
            ]
          },
          "metadata": {}
        },
        {
          "output_type": "display_data",
          "data": {
            "text/plain": [
              "<Figure size 1080x540 with 0 Axes>"
            ]
          },
          "metadata": {}
        },
        {
          "output_type": "display_data",
          "data": {
            "text/plain": [
              "<Figure size 1080x540 with 0 Axes>"
            ]
          },
          "metadata": {}
        },
        {
          "output_type": "display_data",
          "data": {
            "text/plain": [
              "<Figure size 1080x540 with 0 Axes>"
            ]
          },
          "metadata": {}
        },
        {
          "output_type": "display_data",
          "data": {
            "text/plain": [
              "<Figure size 1080x540 with 0 Axes>"
            ]
          },
          "metadata": {}
        },
        {
          "output_type": "display_data",
          "data": {
            "text/plain": [
              "<Figure size 1080x540 with 0 Axes>"
            ]
          },
          "metadata": {}
        },
        {
          "output_type": "display_data",
          "data": {
            "text/plain": [
              "<Figure size 1080x540 with 0 Axes>"
            ]
          },
          "metadata": {}
        },
        {
          "output_type": "display_data",
          "data": {
            "text/plain": [
              "<Figure size 1080x540 with 0 Axes>"
            ]
          },
          "metadata": {}
        },
        {
          "output_type": "display_data",
          "data": {
            "text/plain": [
              "<Figure size 1080x540 with 0 Axes>"
            ]
          },
          "metadata": {}
        },
        {
          "output_type": "display_data",
          "data": {
            "text/plain": [
              "<Figure size 1080x540 with 0 Axes>"
            ]
          },
          "metadata": {}
        },
        {
          "output_type": "display_data",
          "data": {
            "text/plain": [
              "<Figure size 1080x540 with 0 Axes>"
            ]
          },
          "metadata": {}
        },
        {
          "output_type": "display_data",
          "data": {
            "text/plain": [
              "<Figure size 1080x540 with 0 Axes>"
            ]
          },
          "metadata": {}
        },
        {
          "output_type": "display_data",
          "data": {
            "text/plain": [
              "<Figure size 1080x540 with 0 Axes>"
            ]
          },
          "metadata": {}
        },
        {
          "output_type": "display_data",
          "data": {
            "text/plain": [
              "<Figure size 1080x540 with 0 Axes>"
            ]
          },
          "metadata": {}
        },
        {
          "output_type": "display_data",
          "data": {
            "text/plain": [
              "<Figure size 1080x540 with 0 Axes>"
            ]
          },
          "metadata": {}
        },
        {
          "output_type": "display_data",
          "data": {
            "text/plain": [
              "<Figure size 1080x540 with 0 Axes>"
            ]
          },
          "metadata": {}
        },
        {
          "output_type": "display_data",
          "data": {
            "text/plain": [
              "<Figure size 1080x540 with 0 Axes>"
            ]
          },
          "metadata": {}
        },
        {
          "output_type": "display_data",
          "data": {
            "text/plain": [
              "<Figure size 1080x540 with 0 Axes>"
            ]
          },
          "metadata": {}
        },
        {
          "output_type": "display_data",
          "data": {
            "text/plain": [
              "<Figure size 1080x540 with 0 Axes>"
            ]
          },
          "metadata": {}
        },
        {
          "output_type": "display_data",
          "data": {
            "text/plain": [
              "<Figure size 1080x540 with 0 Axes>"
            ]
          },
          "metadata": {}
        },
        {
          "output_type": "display_data",
          "data": {
            "text/plain": [
              "<Figure size 1080x540 with 0 Axes>"
            ]
          },
          "metadata": {}
        },
        {
          "output_type": "display_data",
          "data": {
            "text/plain": [
              "<Figure size 1080x540 with 0 Axes>"
            ]
          },
          "metadata": {}
        },
        {
          "output_type": "display_data",
          "data": {
            "text/plain": [
              "<Figure size 1080x540 with 0 Axes>"
            ]
          },
          "metadata": {}
        },
        {
          "output_type": "display_data",
          "data": {
            "text/plain": [
              "<Figure size 1080x540 with 0 Axes>"
            ]
          },
          "metadata": {}
        },
        {
          "output_type": "display_data",
          "data": {
            "text/plain": [
              "<Figure size 1080x540 with 0 Axes>"
            ]
          },
          "metadata": {}
        },
        {
          "output_type": "display_data",
          "data": {
            "text/plain": [
              "<Figure size 1080x540 with 0 Axes>"
            ]
          },
          "metadata": {}
        },
        {
          "output_type": "display_data",
          "data": {
            "text/plain": [
              "<Figure size 1080x540 with 0 Axes>"
            ]
          },
          "metadata": {}
        },
        {
          "output_type": "display_data",
          "data": {
            "text/plain": [
              "<Figure size 1080x540 with 0 Axes>"
            ]
          },
          "metadata": {}
        },
        {
          "output_type": "display_data",
          "data": {
            "text/plain": [
              "<Figure size 1080x540 with 0 Axes>"
            ]
          },
          "metadata": {}
        },
        {
          "output_type": "display_data",
          "data": {
            "text/plain": [
              "<Figure size 1080x540 with 0 Axes>"
            ]
          },
          "metadata": {}
        },
        {
          "output_type": "display_data",
          "data": {
            "text/plain": [
              "<Figure size 1080x540 with 0 Axes>"
            ]
          },
          "metadata": {}
        },
        {
          "output_type": "display_data",
          "data": {
            "text/plain": [
              "<Figure size 1080x540 with 0 Axes>"
            ]
          },
          "metadata": {}
        },
        {
          "output_type": "display_data",
          "data": {
            "text/plain": [
              "<Figure size 1080x540 with 0 Axes>"
            ]
          },
          "metadata": {}
        },
        {
          "output_type": "display_data",
          "data": {
            "text/plain": [
              "<Figure size 1080x540 with 0 Axes>"
            ]
          },
          "metadata": {}
        },
        {
          "output_type": "display_data",
          "data": {
            "text/plain": [
              "<Figure size 1080x540 with 0 Axes>"
            ]
          },
          "metadata": {}
        },
        {
          "output_type": "display_data",
          "data": {
            "text/plain": [
              "<Figure size 1080x540 with 0 Axes>"
            ]
          },
          "metadata": {}
        },
        {
          "output_type": "display_data",
          "data": {
            "text/plain": [
              "<Figure size 1080x540 with 0 Axes>"
            ]
          },
          "metadata": {}
        },
        {
          "output_type": "display_data",
          "data": {
            "text/plain": [
              "<Figure size 1080x540 with 0 Axes>"
            ]
          },
          "metadata": {}
        },
        {
          "output_type": "display_data",
          "data": {
            "text/plain": [
              "<Figure size 1080x540 with 0 Axes>"
            ]
          },
          "metadata": {}
        },
        {
          "output_type": "display_data",
          "data": {
            "text/plain": [
              "<Figure size 1080x540 with 0 Axes>"
            ]
          },
          "metadata": {}
        },
        {
          "output_type": "display_data",
          "data": {
            "text/plain": [
              "<Figure size 1080x540 with 0 Axes>"
            ]
          },
          "metadata": {}
        },
        {
          "output_type": "display_data",
          "data": {
            "text/plain": [
              "<Figure size 1080x540 with 0 Axes>"
            ]
          },
          "metadata": {}
        },
        {
          "output_type": "display_data",
          "data": {
            "text/plain": [
              "<Figure size 1080x540 with 0 Axes>"
            ]
          },
          "metadata": {}
        },
        {
          "output_type": "display_data",
          "data": {
            "text/plain": [
              "<Figure size 1080x540 with 0 Axes>"
            ]
          },
          "metadata": {}
        },
        {
          "output_type": "display_data",
          "data": {
            "text/plain": [
              "<Figure size 1080x540 with 0 Axes>"
            ]
          },
          "metadata": {}
        },
        {
          "output_type": "display_data",
          "data": {
            "text/plain": [
              "<Figure size 1080x540 with 0 Axes>"
            ]
          },
          "metadata": {}
        },
        {
          "output_type": "display_data",
          "data": {
            "text/plain": [
              "<Figure size 1080x540 with 0 Axes>"
            ]
          },
          "metadata": {}
        },
        {
          "output_type": "display_data",
          "data": {
            "text/plain": [
              "<Figure size 1080x540 with 0 Axes>"
            ]
          },
          "metadata": {}
        },
        {
          "output_type": "display_data",
          "data": {
            "text/plain": [
              "<Figure size 1080x540 with 0 Axes>"
            ]
          },
          "metadata": {}
        },
        {
          "output_type": "display_data",
          "data": {
            "text/plain": [
              "<Figure size 1080x540 with 0 Axes>"
            ]
          },
          "metadata": {}
        },
        {
          "output_type": "display_data",
          "data": {
            "text/plain": [
              "<Figure size 1080x540 with 0 Axes>"
            ]
          },
          "metadata": {}
        },
        {
          "output_type": "display_data",
          "data": {
            "text/plain": [
              "<Figure size 1080x540 with 0 Axes>"
            ]
          },
          "metadata": {}
        },
        {
          "output_type": "display_data",
          "data": {
            "text/plain": [
              "<Figure size 1080x540 with 0 Axes>"
            ]
          },
          "metadata": {}
        },
        {
          "output_type": "display_data",
          "data": {
            "text/plain": [
              "<Figure size 1080x540 with 0 Axes>"
            ]
          },
          "metadata": {}
        },
        {
          "output_type": "display_data",
          "data": {
            "text/plain": [
              "<Figure size 1080x540 with 0 Axes>"
            ]
          },
          "metadata": {}
        },
        {
          "output_type": "display_data",
          "data": {
            "text/plain": [
              "<Figure size 1080x540 with 0 Axes>"
            ]
          },
          "metadata": {}
        },
        {
          "output_type": "display_data",
          "data": {
            "text/plain": [
              "<Figure size 1080x540 with 0 Axes>"
            ]
          },
          "metadata": {}
        },
        {
          "output_type": "display_data",
          "data": {
            "text/plain": [
              "<Figure size 1080x540 with 0 Axes>"
            ]
          },
          "metadata": {}
        },
        {
          "output_type": "display_data",
          "data": {
            "text/plain": [
              "<Figure size 1080x540 with 0 Axes>"
            ]
          },
          "metadata": {}
        },
        {
          "output_type": "display_data",
          "data": {
            "text/plain": [
              "<Figure size 1080x540 with 0 Axes>"
            ]
          },
          "metadata": {}
        },
        {
          "output_type": "display_data",
          "data": {
            "text/plain": [
              "<Figure size 1080x540 with 0 Axes>"
            ]
          },
          "metadata": {}
        },
        {
          "output_type": "display_data",
          "data": {
            "text/plain": [
              "<Figure size 1080x540 with 0 Axes>"
            ]
          },
          "metadata": {}
        },
        {
          "output_type": "display_data",
          "data": {
            "text/plain": [
              "<Figure size 1080x540 with 0 Axes>"
            ]
          },
          "metadata": {}
        },
        {
          "output_type": "display_data",
          "data": {
            "text/plain": [
              "<Figure size 1080x540 with 0 Axes>"
            ]
          },
          "metadata": {}
        },
        {
          "output_type": "display_data",
          "data": {
            "text/plain": [
              "<Figure size 1080x540 with 0 Axes>"
            ]
          },
          "metadata": {}
        },
        {
          "output_type": "display_data",
          "data": {
            "text/plain": [
              "<Figure size 1080x540 with 0 Axes>"
            ]
          },
          "metadata": {}
        },
        {
          "output_type": "display_data",
          "data": {
            "text/plain": [
              "<Figure size 1080x540 with 0 Axes>"
            ]
          },
          "metadata": {}
        },
        {
          "output_type": "display_data",
          "data": {
            "text/plain": [
              "<Figure size 1080x540 with 0 Axes>"
            ]
          },
          "metadata": {}
        },
        {
          "output_type": "display_data",
          "data": {
            "text/plain": [
              "<Figure size 1080x540 with 0 Axes>"
            ]
          },
          "metadata": {}
        },
        {
          "output_type": "display_data",
          "data": {
            "text/plain": [
              "<Figure size 1080x540 with 0 Axes>"
            ]
          },
          "metadata": {}
        },
        {
          "output_type": "display_data",
          "data": {
            "text/plain": [
              "<Figure size 1080x540 with 0 Axes>"
            ]
          },
          "metadata": {}
        },
        {
          "output_type": "display_data",
          "data": {
            "text/plain": [
              "<Figure size 1080x540 with 0 Axes>"
            ]
          },
          "metadata": {}
        },
        {
          "output_type": "display_data",
          "data": {
            "text/plain": [
              "<Figure size 1080x540 with 0 Axes>"
            ]
          },
          "metadata": {}
        },
        {
          "output_type": "display_data",
          "data": {
            "text/plain": [
              "<Figure size 1080x540 with 0 Axes>"
            ]
          },
          "metadata": {}
        },
        {
          "output_type": "display_data",
          "data": {
            "text/plain": [
              "<Figure size 1080x540 with 0 Axes>"
            ]
          },
          "metadata": {}
        },
        {
          "output_type": "display_data",
          "data": {
            "text/plain": [
              "<Figure size 1080x540 with 0 Axes>"
            ]
          },
          "metadata": {}
        },
        {
          "output_type": "display_data",
          "data": {
            "text/plain": [
              "<Figure size 1080x540 with 0 Axes>"
            ]
          },
          "metadata": {}
        },
        {
          "output_type": "display_data",
          "data": {
            "text/plain": [
              "<Figure size 1080x540 with 0 Axes>"
            ]
          },
          "metadata": {}
        },
        {
          "output_type": "display_data",
          "data": {
            "text/plain": [
              "<Figure size 1080x540 with 0 Axes>"
            ]
          },
          "metadata": {}
        },
        {
          "output_type": "display_data",
          "data": {
            "text/plain": [
              "<Figure size 1080x540 with 0 Axes>"
            ]
          },
          "metadata": {}
        },
        {
          "output_type": "display_data",
          "data": {
            "text/plain": [
              "<Figure size 1080x540 with 0 Axes>"
            ]
          },
          "metadata": {}
        },
        {
          "output_type": "display_data",
          "data": {
            "text/plain": [
              "<Figure size 1080x540 with 0 Axes>"
            ]
          },
          "metadata": {}
        },
        {
          "output_type": "display_data",
          "data": {
            "text/plain": [
              "<Figure size 1080x540 with 0 Axes>"
            ]
          },
          "metadata": {}
        },
        {
          "output_type": "display_data",
          "data": {
            "text/plain": [
              "<Figure size 1080x540 with 0 Axes>"
            ]
          },
          "metadata": {}
        },
        {
          "output_type": "display_data",
          "data": {
            "text/plain": [
              "<Figure size 1080x540 with 0 Axes>"
            ]
          },
          "metadata": {}
        },
        {
          "output_type": "display_data",
          "data": {
            "text/plain": [
              "<Figure size 1080x540 with 0 Axes>"
            ]
          },
          "metadata": {}
        },
        {
          "output_type": "display_data",
          "data": {
            "text/plain": [
              "<Figure size 1080x540 with 0 Axes>"
            ]
          },
          "metadata": {}
        },
        {
          "output_type": "display_data",
          "data": {
            "text/plain": [
              "<Figure size 1080x540 with 0 Axes>"
            ]
          },
          "metadata": {}
        },
        {
          "output_type": "display_data",
          "data": {
            "text/plain": [
              "<Figure size 1080x540 with 0 Axes>"
            ]
          },
          "metadata": {}
        },
        {
          "output_type": "display_data",
          "data": {
            "text/plain": [
              "<Figure size 1080x540 with 0 Axes>"
            ]
          },
          "metadata": {}
        },
        {
          "output_type": "display_data",
          "data": {
            "text/plain": [
              "<Figure size 1080x540 with 0 Axes>"
            ]
          },
          "metadata": {}
        },
        {
          "output_type": "display_data",
          "data": {
            "text/plain": [
              "<Figure size 1080x540 with 0 Axes>"
            ]
          },
          "metadata": {}
        },
        {
          "output_type": "display_data",
          "data": {
            "text/plain": [
              "<Figure size 1080x540 with 0 Axes>"
            ]
          },
          "metadata": {}
        },
        {
          "output_type": "display_data",
          "data": {
            "text/plain": [
              "<Figure size 1080x540 with 0 Axes>"
            ]
          },
          "metadata": {}
        },
        {
          "output_type": "display_data",
          "data": {
            "text/plain": [
              "<Figure size 1080x540 with 0 Axes>"
            ]
          },
          "metadata": {}
        },
        {
          "output_type": "display_data",
          "data": {
            "text/plain": [
              "<Figure size 1080x540 with 0 Axes>"
            ]
          },
          "metadata": {}
        },
        {
          "output_type": "display_data",
          "data": {
            "text/plain": [
              "<Figure size 1080x540 with 0 Axes>"
            ]
          },
          "metadata": {}
        },
        {
          "output_type": "display_data",
          "data": {
            "text/plain": [
              "<Figure size 1080x540 with 0 Axes>"
            ]
          },
          "metadata": {}
        },
        {
          "output_type": "display_data",
          "data": {
            "text/plain": [
              "<Figure size 1080x540 with 0 Axes>"
            ]
          },
          "metadata": {}
        },
        {
          "output_type": "display_data",
          "data": {
            "text/plain": [
              "<Figure size 1080x540 with 0 Axes>"
            ]
          },
          "metadata": {}
        },
        {
          "output_type": "display_data",
          "data": {
            "text/plain": [
              "<Figure size 1080x540 with 0 Axes>"
            ]
          },
          "metadata": {}
        },
        {
          "output_type": "display_data",
          "data": {
            "text/plain": [
              "<Figure size 1080x540 with 0 Axes>"
            ]
          },
          "metadata": {}
        },
        {
          "output_type": "display_data",
          "data": {
            "text/plain": [
              "<Figure size 1080x540 with 0 Axes>"
            ]
          },
          "metadata": {}
        },
        {
          "output_type": "display_data",
          "data": {
            "text/plain": [
              "<Figure size 1080x540 with 0 Axes>"
            ]
          },
          "metadata": {}
        },
        {
          "output_type": "display_data",
          "data": {
            "text/plain": [
              "<Figure size 1080x540 with 0 Axes>"
            ]
          },
          "metadata": {}
        },
        {
          "output_type": "display_data",
          "data": {
            "text/plain": [
              "<Figure size 1080x540 with 0 Axes>"
            ]
          },
          "metadata": {}
        },
        {
          "output_type": "display_data",
          "data": {
            "text/plain": [
              "<Figure size 1080x540 with 0 Axes>"
            ]
          },
          "metadata": {}
        },
        {
          "output_type": "display_data",
          "data": {
            "text/plain": [
              "<Figure size 1080x540 with 0 Axes>"
            ]
          },
          "metadata": {}
        },
        {
          "output_type": "display_data",
          "data": {
            "text/plain": [
              "<Figure size 1080x540 with 0 Axes>"
            ]
          },
          "metadata": {}
        },
        {
          "output_type": "display_data",
          "data": {
            "text/plain": [
              "<Figure size 1080x540 with 0 Axes>"
            ]
          },
          "metadata": {}
        },
        {
          "output_type": "display_data",
          "data": {
            "text/plain": [
              "<Figure size 1080x540 with 0 Axes>"
            ]
          },
          "metadata": {}
        },
        {
          "output_type": "display_data",
          "data": {
            "text/plain": [
              "<Figure size 1080x540 with 0 Axes>"
            ]
          },
          "metadata": {}
        },
        {
          "output_type": "display_data",
          "data": {
            "text/plain": [
              "<Figure size 1080x540 with 0 Axes>"
            ]
          },
          "metadata": {}
        },
        {
          "output_type": "display_data",
          "data": {
            "text/plain": [
              "<Figure size 1080x540 with 0 Axes>"
            ]
          },
          "metadata": {}
        },
        {
          "output_type": "display_data",
          "data": {
            "text/plain": [
              "<Figure size 1080x540 with 0 Axes>"
            ]
          },
          "metadata": {}
        },
        {
          "output_type": "display_data",
          "data": {
            "text/plain": [
              "<Figure size 1080x540 with 0 Axes>"
            ]
          },
          "metadata": {}
        },
        {
          "output_type": "display_data",
          "data": {
            "text/plain": [
              "<Figure size 1080x540 with 0 Axes>"
            ]
          },
          "metadata": {}
        },
        {
          "output_type": "display_data",
          "data": {
            "text/plain": [
              "<Figure size 1080x540 with 0 Axes>"
            ]
          },
          "metadata": {}
        },
        {
          "output_type": "display_data",
          "data": {
            "text/plain": [
              "<Figure size 1080x540 with 0 Axes>"
            ]
          },
          "metadata": {}
        },
        {
          "output_type": "display_data",
          "data": {
            "text/plain": [
              "<Figure size 1080x540 with 0 Axes>"
            ]
          },
          "metadata": {}
        },
        {
          "output_type": "display_data",
          "data": {
            "text/plain": [
              "<Figure size 1080x540 with 0 Axes>"
            ]
          },
          "metadata": {}
        },
        {
          "output_type": "display_data",
          "data": {
            "text/plain": [
              "<Figure size 1080x540 with 0 Axes>"
            ]
          },
          "metadata": {}
        },
        {
          "output_type": "display_data",
          "data": {
            "text/plain": [
              "<Figure size 1080x540 with 0 Axes>"
            ]
          },
          "metadata": {}
        },
        {
          "output_type": "display_data",
          "data": {
            "text/plain": [
              "<Figure size 1080x540 with 0 Axes>"
            ]
          },
          "metadata": {}
        },
        {
          "output_type": "display_data",
          "data": {
            "text/plain": [
              "<Figure size 1080x540 with 0 Axes>"
            ]
          },
          "metadata": {}
        },
        {
          "output_type": "display_data",
          "data": {
            "text/plain": [
              "<Figure size 1080x540 with 0 Axes>"
            ]
          },
          "metadata": {}
        },
        {
          "output_type": "display_data",
          "data": {
            "text/plain": [
              "<Figure size 1080x540 with 0 Axes>"
            ]
          },
          "metadata": {}
        },
        {
          "output_type": "display_data",
          "data": {
            "text/plain": [
              "<Figure size 1080x540 with 0 Axes>"
            ]
          },
          "metadata": {}
        },
        {
          "output_type": "display_data",
          "data": {
            "text/plain": [
              "<Figure size 1080x540 with 0 Axes>"
            ]
          },
          "metadata": {}
        },
        {
          "output_type": "display_data",
          "data": {
            "text/plain": [
              "<Figure size 1080x540 with 0 Axes>"
            ]
          },
          "metadata": {}
        },
        {
          "output_type": "display_data",
          "data": {
            "text/plain": [
              "<Figure size 1080x540 with 0 Axes>"
            ]
          },
          "metadata": {}
        },
        {
          "output_type": "display_data",
          "data": {
            "text/plain": [
              "<Figure size 1080x540 with 0 Axes>"
            ]
          },
          "metadata": {}
        },
        {
          "output_type": "display_data",
          "data": {
            "text/plain": [
              "<Figure size 1080x540 with 0 Axes>"
            ]
          },
          "metadata": {}
        },
        {
          "output_type": "display_data",
          "data": {
            "text/plain": [
              "<Figure size 1080x540 with 0 Axes>"
            ]
          },
          "metadata": {}
        },
        {
          "output_type": "display_data",
          "data": {
            "text/plain": [
              "<Figure size 1080x540 with 0 Axes>"
            ]
          },
          "metadata": {}
        },
        {
          "output_type": "display_data",
          "data": {
            "text/plain": [
              "<Figure size 1080x540 with 0 Axes>"
            ]
          },
          "metadata": {}
        },
        {
          "output_type": "display_data",
          "data": {
            "text/plain": [
              "<Figure size 1080x540 with 0 Axes>"
            ]
          },
          "metadata": {}
        },
        {
          "output_type": "display_data",
          "data": {
            "text/plain": [
              "<Figure size 1080x540 with 0 Axes>"
            ]
          },
          "metadata": {}
        },
        {
          "output_type": "display_data",
          "data": {
            "text/plain": [
              "<Figure size 1080x540 with 0 Axes>"
            ]
          },
          "metadata": {}
        },
        {
          "output_type": "display_data",
          "data": {
            "text/plain": [
              "<Figure size 1080x540 with 0 Axes>"
            ]
          },
          "metadata": {}
        },
        {
          "output_type": "display_data",
          "data": {
            "text/plain": [
              "<Figure size 1080x540 with 0 Axes>"
            ]
          },
          "metadata": {}
        },
        {
          "output_type": "display_data",
          "data": {
            "text/plain": [
              "<Figure size 1080x540 with 0 Axes>"
            ]
          },
          "metadata": {}
        },
        {
          "output_type": "display_data",
          "data": {
            "text/plain": [
              "<Figure size 1080x540 with 0 Axes>"
            ]
          },
          "metadata": {}
        },
        {
          "output_type": "display_data",
          "data": {
            "text/plain": [
              "<Figure size 1080x540 with 0 Axes>"
            ]
          },
          "metadata": {}
        },
        {
          "output_type": "display_data",
          "data": {
            "text/plain": [
              "<Figure size 1080x540 with 0 Axes>"
            ]
          },
          "metadata": {}
        },
        {
          "output_type": "display_data",
          "data": {
            "text/plain": [
              "<Figure size 1080x540 with 0 Axes>"
            ]
          },
          "metadata": {}
        },
        {
          "output_type": "display_data",
          "data": {
            "text/plain": [
              "<Figure size 1080x540 with 0 Axes>"
            ]
          },
          "metadata": {}
        },
        {
          "output_type": "display_data",
          "data": {
            "text/plain": [
              "<Figure size 1080x540 with 0 Axes>"
            ]
          },
          "metadata": {}
        },
        {
          "output_type": "display_data",
          "data": {
            "text/plain": [
              "<Figure size 1080x540 with 0 Axes>"
            ]
          },
          "metadata": {}
        },
        {
          "output_type": "display_data",
          "data": {
            "text/plain": [
              "<Figure size 1080x540 with 0 Axes>"
            ]
          },
          "metadata": {}
        },
        {
          "output_type": "display_data",
          "data": {
            "text/plain": [
              "<Figure size 1080x540 with 0 Axes>"
            ]
          },
          "metadata": {}
        },
        {
          "output_type": "display_data",
          "data": {
            "text/plain": [
              "<Figure size 1080x540 with 0 Axes>"
            ]
          },
          "metadata": {}
        },
        {
          "output_type": "display_data",
          "data": {
            "text/plain": [
              "<Figure size 1080x540 with 0 Axes>"
            ]
          },
          "metadata": {}
        },
        {
          "output_type": "display_data",
          "data": {
            "text/plain": [
              "<Figure size 1080x540 with 0 Axes>"
            ]
          },
          "metadata": {}
        },
        {
          "output_type": "display_data",
          "data": {
            "text/plain": [
              "<Figure size 1080x540 with 0 Axes>"
            ]
          },
          "metadata": {}
        },
        {
          "output_type": "display_data",
          "data": {
            "text/plain": [
              "<Figure size 1080x540 with 0 Axes>"
            ]
          },
          "metadata": {}
        },
        {
          "output_type": "display_data",
          "data": {
            "text/plain": [
              "<Figure size 1080x540 with 0 Axes>"
            ]
          },
          "metadata": {}
        },
        {
          "output_type": "display_data",
          "data": {
            "text/plain": [
              "<Figure size 1080x540 with 0 Axes>"
            ]
          },
          "metadata": {}
        },
        {
          "output_type": "display_data",
          "data": {
            "text/plain": [
              "<Figure size 1080x540 with 0 Axes>"
            ]
          },
          "metadata": {}
        },
        {
          "output_type": "display_data",
          "data": {
            "text/plain": [
              "<Figure size 1080x540 with 0 Axes>"
            ]
          },
          "metadata": {}
        },
        {
          "output_type": "display_data",
          "data": {
            "text/plain": [
              "<Figure size 1080x540 with 0 Axes>"
            ]
          },
          "metadata": {}
        },
        {
          "output_type": "display_data",
          "data": {
            "text/plain": [
              "<Figure size 1080x540 with 0 Axes>"
            ]
          },
          "metadata": {}
        },
        {
          "output_type": "display_data",
          "data": {
            "text/plain": [
              "<Figure size 1080x540 with 0 Axes>"
            ]
          },
          "metadata": {}
        },
        {
          "output_type": "display_data",
          "data": {
            "text/plain": [
              "<Figure size 1080x540 with 0 Axes>"
            ]
          },
          "metadata": {}
        },
        {
          "output_type": "display_data",
          "data": {
            "text/plain": [
              "<Figure size 1080x540 with 0 Axes>"
            ]
          },
          "metadata": {}
        },
        {
          "output_type": "display_data",
          "data": {
            "text/plain": [
              "<Figure size 1080x540 with 0 Axes>"
            ]
          },
          "metadata": {}
        },
        {
          "output_type": "display_data",
          "data": {
            "text/plain": [
              "<Figure size 1080x540 with 0 Axes>"
            ]
          },
          "metadata": {}
        },
        {
          "output_type": "display_data",
          "data": {
            "text/plain": [
              "<Figure size 1080x540 with 0 Axes>"
            ]
          },
          "metadata": {}
        },
        {
          "output_type": "display_data",
          "data": {
            "text/plain": [
              "<Figure size 1080x540 with 0 Axes>"
            ]
          },
          "metadata": {}
        },
        {
          "output_type": "display_data",
          "data": {
            "text/plain": [
              "<Figure size 1080x540 with 0 Axes>"
            ]
          },
          "metadata": {}
        },
        {
          "output_type": "display_data",
          "data": {
            "text/plain": [
              "<Figure size 1080x540 with 0 Axes>"
            ]
          },
          "metadata": {}
        },
        {
          "output_type": "display_data",
          "data": {
            "text/plain": [
              "<Figure size 1080x540 with 0 Axes>"
            ]
          },
          "metadata": {}
        },
        {
          "output_type": "display_data",
          "data": {
            "text/plain": [
              "<Figure size 1080x540 with 0 Axes>"
            ]
          },
          "metadata": {}
        },
        {
          "output_type": "display_data",
          "data": {
            "text/plain": [
              "<Figure size 1080x540 with 0 Axes>"
            ]
          },
          "metadata": {}
        },
        {
          "output_type": "display_data",
          "data": {
            "text/plain": [
              "<Figure size 1080x540 with 0 Axes>"
            ]
          },
          "metadata": {}
        },
        {
          "output_type": "display_data",
          "data": {
            "text/plain": [
              "<Figure size 1080x540 with 0 Axes>"
            ]
          },
          "metadata": {}
        },
        {
          "output_type": "display_data",
          "data": {
            "text/plain": [
              "<Figure size 1080x540 with 0 Axes>"
            ]
          },
          "metadata": {}
        },
        {
          "output_type": "display_data",
          "data": {
            "text/plain": [
              "<Figure size 1080x540 with 0 Axes>"
            ]
          },
          "metadata": {}
        },
        {
          "output_type": "display_data",
          "data": {
            "text/plain": [
              "<Figure size 1080x540 with 0 Axes>"
            ]
          },
          "metadata": {}
        },
        {
          "output_type": "display_data",
          "data": {
            "text/plain": [
              "<Figure size 1080x540 with 0 Axes>"
            ]
          },
          "metadata": {}
        },
        {
          "output_type": "display_data",
          "data": {
            "text/plain": [
              "<Figure size 1080x540 with 0 Axes>"
            ]
          },
          "metadata": {}
        },
        {
          "output_type": "display_data",
          "data": {
            "text/plain": [
              "<Figure size 1080x540 with 0 Axes>"
            ]
          },
          "metadata": {}
        },
        {
          "output_type": "display_data",
          "data": {
            "text/plain": [
              "<Figure size 1080x540 with 0 Axes>"
            ]
          },
          "metadata": {}
        },
        {
          "output_type": "display_data",
          "data": {
            "text/plain": [
              "<Figure size 1080x540 with 0 Axes>"
            ]
          },
          "metadata": {}
        },
        {
          "output_type": "display_data",
          "data": {
            "text/plain": [
              "<Figure size 1080x540 with 0 Axes>"
            ]
          },
          "metadata": {}
        },
        {
          "output_type": "display_data",
          "data": {
            "text/plain": [
              "<Figure size 1080x540 with 0 Axes>"
            ]
          },
          "metadata": {}
        },
        {
          "output_type": "display_data",
          "data": {
            "text/plain": [
              "<Figure size 1080x540 with 0 Axes>"
            ]
          },
          "metadata": {}
        },
        {
          "output_type": "display_data",
          "data": {
            "text/plain": [
              "<Figure size 1080x540 with 0 Axes>"
            ]
          },
          "metadata": {}
        },
        {
          "output_type": "display_data",
          "data": {
            "text/plain": [
              "<Figure size 1080x540 with 0 Axes>"
            ]
          },
          "metadata": {}
        },
        {
          "output_type": "display_data",
          "data": {
            "text/plain": [
              "<Figure size 1080x540 with 0 Axes>"
            ]
          },
          "metadata": {}
        },
        {
          "output_type": "display_data",
          "data": {
            "text/plain": [
              "<Figure size 1080x540 with 0 Axes>"
            ]
          },
          "metadata": {}
        },
        {
          "output_type": "display_data",
          "data": {
            "text/plain": [
              "<Figure size 1080x540 with 0 Axes>"
            ]
          },
          "metadata": {}
        },
        {
          "output_type": "display_data",
          "data": {
            "text/plain": [
              "<Figure size 1080x540 with 0 Axes>"
            ]
          },
          "metadata": {}
        },
        {
          "output_type": "display_data",
          "data": {
            "text/plain": [
              "<Figure size 1080x540 with 0 Axes>"
            ]
          },
          "metadata": {}
        },
        {
          "output_type": "display_data",
          "data": {
            "text/plain": [
              "<Figure size 1080x540 with 0 Axes>"
            ]
          },
          "metadata": {}
        },
        {
          "output_type": "display_data",
          "data": {
            "text/plain": [
              "<Figure size 1080x540 with 0 Axes>"
            ]
          },
          "metadata": {}
        },
        {
          "output_type": "display_data",
          "data": {
            "text/plain": [
              "<Figure size 1080x540 with 0 Axes>"
            ]
          },
          "metadata": {}
        },
        {
          "output_type": "display_data",
          "data": {
            "text/plain": [
              "<Figure size 1080x540 with 0 Axes>"
            ]
          },
          "metadata": {}
        },
        {
          "output_type": "display_data",
          "data": {
            "text/plain": [
              "<Figure size 1080x540 with 0 Axes>"
            ]
          },
          "metadata": {}
        },
        {
          "output_type": "display_data",
          "data": {
            "text/plain": [
              "<Figure size 1080x540 with 0 Axes>"
            ]
          },
          "metadata": {}
        },
        {
          "output_type": "display_data",
          "data": {
            "text/plain": [
              "<Figure size 1080x540 with 0 Axes>"
            ]
          },
          "metadata": {}
        },
        {
          "output_type": "display_data",
          "data": {
            "text/plain": [
              "<Figure size 1080x540 with 0 Axes>"
            ]
          },
          "metadata": {}
        },
        {
          "output_type": "display_data",
          "data": {
            "text/plain": [
              "<Figure size 1080x540 with 0 Axes>"
            ]
          },
          "metadata": {}
        },
        {
          "output_type": "display_data",
          "data": {
            "text/plain": [
              "<Figure size 1080x540 with 0 Axes>"
            ]
          },
          "metadata": {}
        },
        {
          "output_type": "display_data",
          "data": {
            "text/plain": [
              "<Figure size 1080x540 with 0 Axes>"
            ]
          },
          "metadata": {}
        },
        {
          "output_type": "display_data",
          "data": {
            "text/plain": [
              "<Figure size 1080x540 with 0 Axes>"
            ]
          },
          "metadata": {}
        },
        {
          "output_type": "display_data",
          "data": {
            "text/plain": [
              "<Figure size 1080x540 with 0 Axes>"
            ]
          },
          "metadata": {}
        },
        {
          "output_type": "display_data",
          "data": {
            "text/plain": [
              "<Figure size 1080x540 with 0 Axes>"
            ]
          },
          "metadata": {}
        },
        {
          "output_type": "display_data",
          "data": {
            "text/plain": [
              "<Figure size 1080x540 with 0 Axes>"
            ]
          },
          "metadata": {}
        },
        {
          "output_type": "display_data",
          "data": {
            "text/plain": [
              "<Figure size 1080x540 with 0 Axes>"
            ]
          },
          "metadata": {}
        },
        {
          "output_type": "display_data",
          "data": {
            "text/plain": [
              "<Figure size 1080x540 with 0 Axes>"
            ]
          },
          "metadata": {}
        },
        {
          "output_type": "display_data",
          "data": {
            "text/plain": [
              "<Figure size 1080x540 with 0 Axes>"
            ]
          },
          "metadata": {}
        },
        {
          "output_type": "display_data",
          "data": {
            "text/plain": [
              "<Figure size 1080x540 with 0 Axes>"
            ]
          },
          "metadata": {}
        },
        {
          "output_type": "display_data",
          "data": {
            "text/plain": [
              "<Figure size 1080x540 with 0 Axes>"
            ]
          },
          "metadata": {}
        },
        {
          "output_type": "display_data",
          "data": {
            "text/plain": [
              "<Figure size 1080x540 with 0 Axes>"
            ]
          },
          "metadata": {}
        },
        {
          "output_type": "display_data",
          "data": {
            "text/plain": [
              "<Figure size 1080x540 with 0 Axes>"
            ]
          },
          "metadata": {}
        },
        {
          "output_type": "display_data",
          "data": {
            "text/plain": [
              "<Figure size 1080x540 with 0 Axes>"
            ]
          },
          "metadata": {}
        },
        {
          "output_type": "display_data",
          "data": {
            "text/plain": [
              "<Figure size 1080x540 with 0 Axes>"
            ]
          },
          "metadata": {}
        },
        {
          "output_type": "display_data",
          "data": {
            "text/plain": [
              "<Figure size 1080x540 with 0 Axes>"
            ]
          },
          "metadata": {}
        },
        {
          "output_type": "display_data",
          "data": {
            "text/plain": [
              "<Figure size 1080x540 with 0 Axes>"
            ]
          },
          "metadata": {}
        },
        {
          "output_type": "display_data",
          "data": {
            "text/plain": [
              "<Figure size 1080x540 with 0 Axes>"
            ]
          },
          "metadata": {}
        },
        {
          "output_type": "display_data",
          "data": {
            "text/plain": [
              "<Figure size 1080x540 with 0 Axes>"
            ]
          },
          "metadata": {}
        },
        {
          "output_type": "display_data",
          "data": {
            "text/plain": [
              "<Figure size 1080x540 with 0 Axes>"
            ]
          },
          "metadata": {}
        },
        {
          "output_type": "display_data",
          "data": {
            "text/plain": [
              "<Figure size 1080x540 with 0 Axes>"
            ]
          },
          "metadata": {}
        },
        {
          "output_type": "display_data",
          "data": {
            "text/plain": [
              "<Figure size 1080x540 with 0 Axes>"
            ]
          },
          "metadata": {}
        },
        {
          "output_type": "display_data",
          "data": {
            "text/plain": [
              "<Figure size 1080x540 with 0 Axes>"
            ]
          },
          "metadata": {}
        },
        {
          "output_type": "display_data",
          "data": {
            "text/plain": [
              "<Figure size 1080x540 with 0 Axes>"
            ]
          },
          "metadata": {}
        },
        {
          "output_type": "display_data",
          "data": {
            "text/plain": [
              "<Figure size 1080x540 with 0 Axes>"
            ]
          },
          "metadata": {}
        },
        {
          "output_type": "display_data",
          "data": {
            "text/plain": [
              "<Figure size 1080x540 with 0 Axes>"
            ]
          },
          "metadata": {}
        },
        {
          "output_type": "display_data",
          "data": {
            "text/plain": [
              "<Figure size 1080x540 with 0 Axes>"
            ]
          },
          "metadata": {}
        },
        {
          "output_type": "display_data",
          "data": {
            "text/plain": [
              "<Figure size 1080x540 with 0 Axes>"
            ]
          },
          "metadata": {}
        },
        {
          "output_type": "display_data",
          "data": {
            "text/plain": [
              "<Figure size 1080x540 with 0 Axes>"
            ]
          },
          "metadata": {}
        },
        {
          "output_type": "display_data",
          "data": {
            "text/plain": [
              "<Figure size 1080x540 with 0 Axes>"
            ]
          },
          "metadata": {}
        },
        {
          "output_type": "display_data",
          "data": {
            "text/plain": [
              "<Figure size 1080x540 with 0 Axes>"
            ]
          },
          "metadata": {}
        },
        {
          "output_type": "display_data",
          "data": {
            "text/plain": [
              "<Figure size 1080x540 with 0 Axes>"
            ]
          },
          "metadata": {}
        },
        {
          "output_type": "display_data",
          "data": {
            "text/plain": [
              "<Figure size 1080x540 with 0 Axes>"
            ]
          },
          "metadata": {}
        },
        {
          "output_type": "display_data",
          "data": {
            "text/plain": [
              "<Figure size 1080x540 with 0 Axes>"
            ]
          },
          "metadata": {}
        },
        {
          "output_type": "display_data",
          "data": {
            "text/plain": [
              "<Figure size 1080x540 with 0 Axes>"
            ]
          },
          "metadata": {}
        },
        {
          "output_type": "display_data",
          "data": {
            "text/plain": [
              "<Figure size 1080x540 with 0 Axes>"
            ]
          },
          "metadata": {}
        },
        {
          "output_type": "display_data",
          "data": {
            "text/plain": [
              "<Figure size 1080x540 with 0 Axes>"
            ]
          },
          "metadata": {}
        },
        {
          "output_type": "display_data",
          "data": {
            "text/plain": [
              "<Figure size 1080x540 with 0 Axes>"
            ]
          },
          "metadata": {}
        },
        {
          "output_type": "display_data",
          "data": {
            "text/plain": [
              "<Figure size 1080x540 with 0 Axes>"
            ]
          },
          "metadata": {}
        },
        {
          "output_type": "display_data",
          "data": {
            "text/plain": [
              "<Figure size 1080x540 with 0 Axes>"
            ]
          },
          "metadata": {}
        },
        {
          "output_type": "display_data",
          "data": {
            "text/plain": [
              "<Figure size 1080x540 with 0 Axes>"
            ]
          },
          "metadata": {}
        },
        {
          "output_type": "display_data",
          "data": {
            "text/plain": [
              "<Figure size 1080x540 with 0 Axes>"
            ]
          },
          "metadata": {}
        },
        {
          "output_type": "display_data",
          "data": {
            "text/plain": [
              "<Figure size 1080x540 with 0 Axes>"
            ]
          },
          "metadata": {}
        },
        {
          "output_type": "display_data",
          "data": {
            "text/plain": [
              "<Figure size 1080x540 with 0 Axes>"
            ]
          },
          "metadata": {}
        },
        {
          "output_type": "display_data",
          "data": {
            "text/plain": [
              "<Figure size 1080x540 with 0 Axes>"
            ]
          },
          "metadata": {}
        },
        {
          "output_type": "display_data",
          "data": {
            "text/plain": [
              "<Figure size 1080x540 with 0 Axes>"
            ]
          },
          "metadata": {}
        },
        {
          "output_type": "display_data",
          "data": {
            "text/plain": [
              "<Figure size 1080x540 with 0 Axes>"
            ]
          },
          "metadata": {}
        },
        {
          "output_type": "display_data",
          "data": {
            "text/plain": [
              "<Figure size 1080x540 with 0 Axes>"
            ]
          },
          "metadata": {}
        },
        {
          "output_type": "display_data",
          "data": {
            "text/plain": [
              "<Figure size 1080x540 with 0 Axes>"
            ]
          },
          "metadata": {}
        },
        {
          "output_type": "display_data",
          "data": {
            "text/plain": [
              "<Figure size 1080x540 with 0 Axes>"
            ]
          },
          "metadata": {}
        },
        {
          "output_type": "display_data",
          "data": {
            "text/plain": [
              "<Figure size 1080x540 with 0 Axes>"
            ]
          },
          "metadata": {}
        },
        {
          "output_type": "display_data",
          "data": {
            "text/plain": [
              "<Figure size 1080x540 with 0 Axes>"
            ]
          },
          "metadata": {}
        },
        {
          "output_type": "display_data",
          "data": {
            "text/plain": [
              "<Figure size 1080x540 with 0 Axes>"
            ]
          },
          "metadata": {}
        },
        {
          "output_type": "display_data",
          "data": {
            "text/plain": [
              "<Figure size 1080x540 with 0 Axes>"
            ]
          },
          "metadata": {}
        },
        {
          "output_type": "display_data",
          "data": {
            "text/plain": [
              "<Figure size 1080x540 with 0 Axes>"
            ]
          },
          "metadata": {}
        },
        {
          "output_type": "display_data",
          "data": {
            "text/plain": [
              "<Figure size 1080x540 with 0 Axes>"
            ]
          },
          "metadata": {}
        },
        {
          "output_type": "display_data",
          "data": {
            "text/plain": [
              "<Figure size 1080x540 with 0 Axes>"
            ]
          },
          "metadata": {}
        },
        {
          "output_type": "display_data",
          "data": {
            "text/plain": [
              "<Figure size 1080x540 with 0 Axes>"
            ]
          },
          "metadata": {}
        },
        {
          "output_type": "display_data",
          "data": {
            "text/plain": [
              "<Figure size 1080x540 with 0 Axes>"
            ]
          },
          "metadata": {}
        },
        {
          "output_type": "display_data",
          "data": {
            "text/plain": [
              "<Figure size 1080x540 with 0 Axes>"
            ]
          },
          "metadata": {}
        },
        {
          "output_type": "display_data",
          "data": {
            "text/plain": [
              "<Figure size 1080x540 with 0 Axes>"
            ]
          },
          "metadata": {}
        },
        {
          "output_type": "display_data",
          "data": {
            "text/plain": [
              "<Figure size 1080x540 with 0 Axes>"
            ]
          },
          "metadata": {}
        },
        {
          "output_type": "display_data",
          "data": {
            "text/plain": [
              "<Figure size 1080x540 with 0 Axes>"
            ]
          },
          "metadata": {}
        },
        {
          "output_type": "display_data",
          "data": {
            "text/plain": [
              "<Figure size 1080x540 with 0 Axes>"
            ]
          },
          "metadata": {}
        },
        {
          "output_type": "display_data",
          "data": {
            "text/plain": [
              "<Figure size 1080x540 with 0 Axes>"
            ]
          },
          "metadata": {}
        },
        {
          "output_type": "display_data",
          "data": {
            "text/plain": [
              "<Figure size 1080x540 with 0 Axes>"
            ]
          },
          "metadata": {}
        },
        {
          "output_type": "display_data",
          "data": {
            "text/plain": [
              "<Figure size 1080x540 with 0 Axes>"
            ]
          },
          "metadata": {}
        },
        {
          "output_type": "display_data",
          "data": {
            "text/plain": [
              "<Figure size 1080x540 with 0 Axes>"
            ]
          },
          "metadata": {}
        },
        {
          "output_type": "display_data",
          "data": {
            "text/plain": [
              "<Figure size 1080x540 with 0 Axes>"
            ]
          },
          "metadata": {}
        },
        {
          "output_type": "display_data",
          "data": {
            "text/plain": [
              "<Figure size 1080x540 with 0 Axes>"
            ]
          },
          "metadata": {}
        },
        {
          "output_type": "display_data",
          "data": {
            "text/plain": [
              "<Figure size 1080x540 with 0 Axes>"
            ]
          },
          "metadata": {}
        },
        {
          "output_type": "display_data",
          "data": {
            "text/plain": [
              "<Figure size 1080x540 with 0 Axes>"
            ]
          },
          "metadata": {}
        },
        {
          "output_type": "display_data",
          "data": {
            "text/plain": [
              "<Figure size 1080x540 with 0 Axes>"
            ]
          },
          "metadata": {}
        },
        {
          "output_type": "display_data",
          "data": {
            "text/plain": [
              "<Figure size 1080x540 with 0 Axes>"
            ]
          },
          "metadata": {}
        },
        {
          "output_type": "display_data",
          "data": {
            "text/plain": [
              "<Figure size 1080x540 with 0 Axes>"
            ]
          },
          "metadata": {}
        },
        {
          "output_type": "display_data",
          "data": {
            "text/plain": [
              "<Figure size 1080x540 with 0 Axes>"
            ]
          },
          "metadata": {}
        },
        {
          "output_type": "display_data",
          "data": {
            "text/plain": [
              "<Figure size 1080x540 with 0 Axes>"
            ]
          },
          "metadata": {}
        },
        {
          "output_type": "display_data",
          "data": {
            "text/plain": [
              "<Figure size 1080x540 with 0 Axes>"
            ]
          },
          "metadata": {}
        },
        {
          "output_type": "display_data",
          "data": {
            "text/plain": [
              "<Figure size 1080x540 with 0 Axes>"
            ]
          },
          "metadata": {}
        },
        {
          "output_type": "display_data",
          "data": {
            "text/plain": [
              "<Figure size 1080x540 with 0 Axes>"
            ]
          },
          "metadata": {}
        },
        {
          "output_type": "display_data",
          "data": {
            "text/plain": [
              "<Figure size 1080x540 with 0 Axes>"
            ]
          },
          "metadata": {}
        },
        {
          "output_type": "display_data",
          "data": {
            "text/plain": [
              "<Figure size 1080x540 with 0 Axes>"
            ]
          },
          "metadata": {}
        },
        {
          "output_type": "display_data",
          "data": {
            "text/plain": [
              "<Figure size 1080x540 with 0 Axes>"
            ]
          },
          "metadata": {}
        },
        {
          "output_type": "display_data",
          "data": {
            "text/plain": [
              "<Figure size 1080x540 with 0 Axes>"
            ]
          },
          "metadata": {}
        },
        {
          "output_type": "display_data",
          "data": {
            "text/plain": [
              "<Figure size 1080x540 with 0 Axes>"
            ]
          },
          "metadata": {}
        },
        {
          "output_type": "display_data",
          "data": {
            "text/plain": [
              "<Figure size 1080x540 with 0 Axes>"
            ]
          },
          "metadata": {}
        },
        {
          "output_type": "display_data",
          "data": {
            "text/plain": [
              "<Figure size 1080x540 with 0 Axes>"
            ]
          },
          "metadata": {}
        },
        {
          "output_type": "display_data",
          "data": {
            "text/plain": [
              "<Figure size 1080x540 with 0 Axes>"
            ]
          },
          "metadata": {}
        },
        {
          "output_type": "display_data",
          "data": {
            "text/plain": [
              "<Figure size 1080x540 with 0 Axes>"
            ]
          },
          "metadata": {}
        },
        {
          "output_type": "display_data",
          "data": {
            "text/plain": [
              "<Figure size 1080x540 with 0 Axes>"
            ]
          },
          "metadata": {}
        },
        {
          "output_type": "display_data",
          "data": {
            "text/plain": [
              "<Figure size 1080x540 with 0 Axes>"
            ]
          },
          "metadata": {}
        },
        {
          "output_type": "display_data",
          "data": {
            "text/plain": [
              "<Figure size 1080x540 with 0 Axes>"
            ]
          },
          "metadata": {}
        },
        {
          "output_type": "display_data",
          "data": {
            "text/plain": [
              "<Figure size 1080x540 with 0 Axes>"
            ]
          },
          "metadata": {}
        },
        {
          "output_type": "display_data",
          "data": {
            "text/plain": [
              "<Figure size 1080x540 with 0 Axes>"
            ]
          },
          "metadata": {}
        },
        {
          "output_type": "display_data",
          "data": {
            "text/plain": [
              "<Figure size 1080x540 with 0 Axes>"
            ]
          },
          "metadata": {}
        },
        {
          "output_type": "display_data",
          "data": {
            "text/plain": [
              "<Figure size 1080x540 with 0 Axes>"
            ]
          },
          "metadata": {}
        },
        {
          "output_type": "display_data",
          "data": {
            "text/plain": [
              "<Figure size 1080x540 with 0 Axes>"
            ]
          },
          "metadata": {}
        },
        {
          "output_type": "display_data",
          "data": {
            "text/plain": [
              "<Figure size 1080x540 with 0 Axes>"
            ]
          },
          "metadata": {}
        },
        {
          "output_type": "display_data",
          "data": {
            "text/plain": [
              "<Figure size 1080x540 with 0 Axes>"
            ]
          },
          "metadata": {}
        },
        {
          "output_type": "display_data",
          "data": {
            "text/plain": [
              "<Figure size 1080x540 with 0 Axes>"
            ]
          },
          "metadata": {}
        },
        {
          "output_type": "display_data",
          "data": {
            "text/plain": [
              "<Figure size 1080x540 with 0 Axes>"
            ]
          },
          "metadata": {}
        },
        {
          "output_type": "display_data",
          "data": {
            "text/plain": [
              "<Figure size 1080x540 with 0 Axes>"
            ]
          },
          "metadata": {}
        },
        {
          "output_type": "display_data",
          "data": {
            "text/plain": [
              "<Figure size 1080x540 with 0 Axes>"
            ]
          },
          "metadata": {}
        },
        {
          "output_type": "display_data",
          "data": {
            "text/plain": [
              "<Figure size 1080x540 with 0 Axes>"
            ]
          },
          "metadata": {}
        },
        {
          "output_type": "display_data",
          "data": {
            "text/plain": [
              "<Figure size 1080x540 with 0 Axes>"
            ]
          },
          "metadata": {}
        },
        {
          "output_type": "display_data",
          "data": {
            "text/plain": [
              "<Figure size 1080x540 with 0 Axes>"
            ]
          },
          "metadata": {}
        },
        {
          "output_type": "display_data",
          "data": {
            "text/plain": [
              "<Figure size 1080x540 with 0 Axes>"
            ]
          },
          "metadata": {}
        },
        {
          "output_type": "display_data",
          "data": {
            "text/plain": [
              "<Figure size 1080x540 with 0 Axes>"
            ]
          },
          "metadata": {}
        },
        {
          "output_type": "display_data",
          "data": {
            "text/plain": [
              "<Figure size 1080x540 with 0 Axes>"
            ]
          },
          "metadata": {}
        },
        {
          "output_type": "display_data",
          "data": {
            "text/plain": [
              "<Figure size 1080x540 with 0 Axes>"
            ]
          },
          "metadata": {}
        },
        {
          "output_type": "display_data",
          "data": {
            "text/plain": [
              "<Figure size 1080x540 with 0 Axes>"
            ]
          },
          "metadata": {}
        },
        {
          "output_type": "display_data",
          "data": {
            "text/plain": [
              "<Figure size 1080x540 with 0 Axes>"
            ]
          },
          "metadata": {}
        },
        {
          "output_type": "display_data",
          "data": {
            "text/plain": [
              "<Figure size 1080x540 with 0 Axes>"
            ]
          },
          "metadata": {}
        },
        {
          "output_type": "display_data",
          "data": {
            "text/plain": [
              "<Figure size 1080x540 with 0 Axes>"
            ]
          },
          "metadata": {}
        },
        {
          "output_type": "display_data",
          "data": {
            "text/plain": [
              "<Figure size 1080x540 with 0 Axes>"
            ]
          },
          "metadata": {}
        },
        {
          "output_type": "display_data",
          "data": {
            "text/plain": [
              "<Figure size 1080x540 with 0 Axes>"
            ]
          },
          "metadata": {}
        },
        {
          "output_type": "display_data",
          "data": {
            "text/plain": [
              "<Figure size 1080x540 with 0 Axes>"
            ]
          },
          "metadata": {}
        },
        {
          "output_type": "display_data",
          "data": {
            "text/plain": [
              "<Figure size 1080x540 with 0 Axes>"
            ]
          },
          "metadata": {}
        },
        {
          "output_type": "display_data",
          "data": {
            "text/plain": [
              "<Figure size 1080x540 with 0 Axes>"
            ]
          },
          "metadata": {}
        },
        {
          "output_type": "display_data",
          "data": {
            "text/plain": [
              "<Figure size 1080x540 with 0 Axes>"
            ]
          },
          "metadata": {}
        },
        {
          "output_type": "display_data",
          "data": {
            "text/plain": [
              "<Figure size 1080x540 with 0 Axes>"
            ]
          },
          "metadata": {}
        },
        {
          "output_type": "display_data",
          "data": {
            "text/plain": [
              "<Figure size 1080x540 with 0 Axes>"
            ]
          },
          "metadata": {}
        },
        {
          "output_type": "display_data",
          "data": {
            "text/plain": [
              "<Figure size 1080x540 with 0 Axes>"
            ]
          },
          "metadata": {}
        },
        {
          "output_type": "display_data",
          "data": {
            "text/plain": [
              "<Figure size 1080x540 with 0 Axes>"
            ]
          },
          "metadata": {}
        },
        {
          "output_type": "display_data",
          "data": {
            "text/plain": [
              "<Figure size 1080x540 with 0 Axes>"
            ]
          },
          "metadata": {}
        },
        {
          "output_type": "display_data",
          "data": {
            "text/plain": [
              "<Figure size 1080x540 with 0 Axes>"
            ]
          },
          "metadata": {}
        },
        {
          "output_type": "display_data",
          "data": {
            "text/plain": [
              "<Figure size 1080x540 with 0 Axes>"
            ]
          },
          "metadata": {}
        },
        {
          "output_type": "display_data",
          "data": {
            "text/plain": [
              "<Figure size 1080x540 with 0 Axes>"
            ]
          },
          "metadata": {}
        },
        {
          "output_type": "display_data",
          "data": {
            "text/plain": [
              "<Figure size 1080x540 with 0 Axes>"
            ]
          },
          "metadata": {}
        },
        {
          "output_type": "display_data",
          "data": {
            "text/plain": [
              "<Figure size 1080x540 with 0 Axes>"
            ]
          },
          "metadata": {}
        },
        {
          "output_type": "display_data",
          "data": {
            "text/plain": [
              "<Figure size 1080x540 with 0 Axes>"
            ]
          },
          "metadata": {}
        },
        {
          "output_type": "display_data",
          "data": {
            "text/plain": [
              "<Figure size 1080x540 with 0 Axes>"
            ]
          },
          "metadata": {}
        },
        {
          "output_type": "display_data",
          "data": {
            "text/plain": [
              "<Figure size 1080x540 with 0 Axes>"
            ]
          },
          "metadata": {}
        },
        {
          "output_type": "display_data",
          "data": {
            "text/plain": [
              "<Figure size 1080x540 with 0 Axes>"
            ]
          },
          "metadata": {}
        },
        {
          "output_type": "display_data",
          "data": {
            "text/plain": [
              "<Figure size 1080x540 with 0 Axes>"
            ]
          },
          "metadata": {}
        },
        {
          "output_type": "display_data",
          "data": {
            "text/plain": [
              "<Figure size 1080x540 with 0 Axes>"
            ]
          },
          "metadata": {}
        },
        {
          "output_type": "display_data",
          "data": {
            "text/plain": [
              "<Figure size 1080x540 with 0 Axes>"
            ]
          },
          "metadata": {}
        },
        {
          "output_type": "display_data",
          "data": {
            "text/plain": [
              "<Figure size 1080x540 with 0 Axes>"
            ]
          },
          "metadata": {}
        },
        {
          "output_type": "display_data",
          "data": {
            "text/plain": [
              "<Figure size 1080x540 with 0 Axes>"
            ]
          },
          "metadata": {}
        },
        {
          "output_type": "display_data",
          "data": {
            "text/plain": [
              "<Figure size 1080x540 with 0 Axes>"
            ]
          },
          "metadata": {}
        },
        {
          "output_type": "display_data",
          "data": {
            "text/plain": [
              "<Figure size 1080x540 with 0 Axes>"
            ]
          },
          "metadata": {}
        },
        {
          "output_type": "display_data",
          "data": {
            "text/plain": [
              "<Figure size 1080x540 with 0 Axes>"
            ]
          },
          "metadata": {}
        },
        {
          "output_type": "display_data",
          "data": {
            "text/plain": [
              "<Figure size 1080x540 with 0 Axes>"
            ]
          },
          "metadata": {}
        },
        {
          "output_type": "display_data",
          "data": {
            "text/plain": [
              "<Figure size 1080x540 with 0 Axes>"
            ]
          },
          "metadata": {}
        },
        {
          "output_type": "display_data",
          "data": {
            "text/plain": [
              "<Figure size 1080x540 with 0 Axes>"
            ]
          },
          "metadata": {}
        },
        {
          "output_type": "display_data",
          "data": {
            "text/plain": [
              "<Figure size 1080x540 with 0 Axes>"
            ]
          },
          "metadata": {}
        },
        {
          "output_type": "display_data",
          "data": {
            "text/plain": [
              "<Figure size 1080x540 with 0 Axes>"
            ]
          },
          "metadata": {}
        },
        {
          "output_type": "display_data",
          "data": {
            "text/plain": [
              "<Figure size 1080x540 with 0 Axes>"
            ]
          },
          "metadata": {}
        },
        {
          "output_type": "display_data",
          "data": {
            "text/plain": [
              "<Figure size 1080x540 with 0 Axes>"
            ]
          },
          "metadata": {}
        },
        {
          "output_type": "display_data",
          "data": {
            "text/plain": [
              "<Figure size 1080x540 with 0 Axes>"
            ]
          },
          "metadata": {}
        },
        {
          "output_type": "display_data",
          "data": {
            "text/plain": [
              "<Figure size 1080x540 with 0 Axes>"
            ]
          },
          "metadata": {}
        },
        {
          "output_type": "display_data",
          "data": {
            "text/plain": [
              "<Figure size 1080x540 with 0 Axes>"
            ]
          },
          "metadata": {}
        },
        {
          "output_type": "display_data",
          "data": {
            "text/plain": [
              "<Figure size 1080x540 with 0 Axes>"
            ]
          },
          "metadata": {}
        },
        {
          "output_type": "display_data",
          "data": {
            "text/plain": [
              "<Figure size 1080x540 with 0 Axes>"
            ]
          },
          "metadata": {}
        },
        {
          "output_type": "display_data",
          "data": {
            "text/plain": [
              "<Figure size 1080x540 with 0 Axes>"
            ]
          },
          "metadata": {}
        },
        {
          "output_type": "display_data",
          "data": {
            "text/plain": [
              "<Figure size 1080x540 with 0 Axes>"
            ]
          },
          "metadata": {}
        },
        {
          "output_type": "display_data",
          "data": {
            "text/plain": [
              "<Figure size 1080x540 with 0 Axes>"
            ]
          },
          "metadata": {}
        },
        {
          "output_type": "display_data",
          "data": {
            "text/plain": [
              "<Figure size 1080x540 with 0 Axes>"
            ]
          },
          "metadata": {}
        },
        {
          "output_type": "display_data",
          "data": {
            "text/plain": [
              "<Figure size 1080x540 with 0 Axes>"
            ]
          },
          "metadata": {}
        },
        {
          "output_type": "display_data",
          "data": {
            "text/plain": [
              "<Figure size 1080x540 with 0 Axes>"
            ]
          },
          "metadata": {}
        },
        {
          "output_type": "display_data",
          "data": {
            "text/plain": [
              "<Figure size 1080x540 with 0 Axes>"
            ]
          },
          "metadata": {}
        },
        {
          "output_type": "display_data",
          "data": {
            "text/plain": [
              "<Figure size 1080x540 with 0 Axes>"
            ]
          },
          "metadata": {}
        },
        {
          "output_type": "display_data",
          "data": {
            "text/plain": [
              "<Figure size 1080x540 with 0 Axes>"
            ]
          },
          "metadata": {}
        },
        {
          "output_type": "display_data",
          "data": {
            "text/plain": [
              "<Figure size 1080x540 with 0 Axes>"
            ]
          },
          "metadata": {}
        },
        {
          "output_type": "display_data",
          "data": {
            "text/plain": [
              "<Figure size 1080x540 with 0 Axes>"
            ]
          },
          "metadata": {}
        },
        {
          "output_type": "display_data",
          "data": {
            "text/plain": [
              "<Figure size 1080x540 with 0 Axes>"
            ]
          },
          "metadata": {}
        },
        {
          "output_type": "display_data",
          "data": {
            "text/plain": [
              "<Figure size 1080x540 with 0 Axes>"
            ]
          },
          "metadata": {}
        },
        {
          "output_type": "display_data",
          "data": {
            "text/plain": [
              "<Figure size 1080x540 with 0 Axes>"
            ]
          },
          "metadata": {}
        },
        {
          "output_type": "display_data",
          "data": {
            "text/plain": [
              "<Figure size 1080x540 with 0 Axes>"
            ]
          },
          "metadata": {}
        },
        {
          "output_type": "display_data",
          "data": {
            "text/plain": [
              "<Figure size 1080x540 with 0 Axes>"
            ]
          },
          "metadata": {}
        },
        {
          "output_type": "display_data",
          "data": {
            "text/plain": [
              "<Figure size 1080x540 with 0 Axes>"
            ]
          },
          "metadata": {}
        },
        {
          "output_type": "display_data",
          "data": {
            "text/plain": [
              "<Figure size 1080x540 with 0 Axes>"
            ]
          },
          "metadata": {}
        },
        {
          "output_type": "display_data",
          "data": {
            "text/plain": [
              "<Figure size 1080x540 with 0 Axes>"
            ]
          },
          "metadata": {}
        },
        {
          "output_type": "display_data",
          "data": {
            "text/plain": [
              "<Figure size 1080x540 with 0 Axes>"
            ]
          },
          "metadata": {}
        },
        {
          "output_type": "display_data",
          "data": {
            "text/plain": [
              "<Figure size 1080x540 with 0 Axes>"
            ]
          },
          "metadata": {}
        },
        {
          "output_type": "display_data",
          "data": {
            "text/plain": [
              "<Figure size 1080x540 with 0 Axes>"
            ]
          },
          "metadata": {}
        },
        {
          "output_type": "display_data",
          "data": {
            "text/plain": [
              "<Figure size 1080x540 with 0 Axes>"
            ]
          },
          "metadata": {}
        },
        {
          "output_type": "display_data",
          "data": {
            "text/plain": [
              "<Figure size 1080x540 with 0 Axes>"
            ]
          },
          "metadata": {}
        },
        {
          "output_type": "display_data",
          "data": {
            "text/plain": [
              "<Figure size 1080x540 with 0 Axes>"
            ]
          },
          "metadata": {}
        },
        {
          "output_type": "display_data",
          "data": {
            "text/plain": [
              "<Figure size 1080x540 with 0 Axes>"
            ]
          },
          "metadata": {}
        },
        {
          "output_type": "display_data",
          "data": {
            "text/plain": [
              "<Figure size 1080x540 with 0 Axes>"
            ]
          },
          "metadata": {}
        },
        {
          "output_type": "display_data",
          "data": {
            "text/plain": [
              "<Figure size 1080x540 with 0 Axes>"
            ]
          },
          "metadata": {}
        },
        {
          "output_type": "display_data",
          "data": {
            "text/plain": [
              "<Figure size 1080x540 with 0 Axes>"
            ]
          },
          "metadata": {}
        },
        {
          "output_type": "display_data",
          "data": {
            "text/plain": [
              "<Figure size 1080x540 with 0 Axes>"
            ]
          },
          "metadata": {}
        },
        {
          "output_type": "display_data",
          "data": {
            "text/plain": [
              "<Figure size 1080x540 with 0 Axes>"
            ]
          },
          "metadata": {}
        },
        {
          "output_type": "display_data",
          "data": {
            "text/plain": [
              "<Figure size 1080x540 with 0 Axes>"
            ]
          },
          "metadata": {}
        },
        {
          "output_type": "display_data",
          "data": {
            "text/plain": [
              "<Figure size 1080x540 with 0 Axes>"
            ]
          },
          "metadata": {}
        },
        {
          "output_type": "display_data",
          "data": {
            "text/plain": [
              "<Figure size 1080x540 with 0 Axes>"
            ]
          },
          "metadata": {}
        },
        {
          "output_type": "display_data",
          "data": {
            "text/plain": [
              "<Figure size 1080x540 with 0 Axes>"
            ]
          },
          "metadata": {}
        },
        {
          "output_type": "display_data",
          "data": {
            "text/plain": [
              "<Figure size 1080x540 with 0 Axes>"
            ]
          },
          "metadata": {}
        },
        {
          "output_type": "display_data",
          "data": {
            "text/plain": [
              "<Figure size 1080x540 with 0 Axes>"
            ]
          },
          "metadata": {}
        },
        {
          "output_type": "display_data",
          "data": {
            "text/plain": [
              "<Figure size 1080x540 with 0 Axes>"
            ]
          },
          "metadata": {}
        },
        {
          "output_type": "display_data",
          "data": {
            "text/plain": [
              "<Figure size 1080x540 with 0 Axes>"
            ]
          },
          "metadata": {}
        },
        {
          "output_type": "display_data",
          "data": {
            "text/plain": [
              "<Figure size 1080x540 with 0 Axes>"
            ]
          },
          "metadata": {}
        },
        {
          "output_type": "display_data",
          "data": {
            "text/plain": [
              "<Figure size 1080x540 with 0 Axes>"
            ]
          },
          "metadata": {}
        },
        {
          "output_type": "display_data",
          "data": {
            "text/plain": [
              "<Figure size 1080x540 with 0 Axes>"
            ]
          },
          "metadata": {}
        },
        {
          "output_type": "display_data",
          "data": {
            "text/plain": [
              "<Figure size 1080x540 with 0 Axes>"
            ]
          },
          "metadata": {}
        },
        {
          "output_type": "display_data",
          "data": {
            "text/plain": [
              "<Figure size 1080x540 with 0 Axes>"
            ]
          },
          "metadata": {}
        },
        {
          "output_type": "display_data",
          "data": {
            "text/plain": [
              "<Figure size 1080x540 with 0 Axes>"
            ]
          },
          "metadata": {}
        },
        {
          "output_type": "display_data",
          "data": {
            "text/plain": [
              "<Figure size 1080x540 with 0 Axes>"
            ]
          },
          "metadata": {}
        },
        {
          "output_type": "display_data",
          "data": {
            "text/plain": [
              "<Figure size 1080x540 with 0 Axes>"
            ]
          },
          "metadata": {}
        },
        {
          "output_type": "display_data",
          "data": {
            "text/plain": [
              "<Figure size 1080x540 with 0 Axes>"
            ]
          },
          "metadata": {}
        },
        {
          "output_type": "display_data",
          "data": {
            "text/plain": [
              "<Figure size 1080x540 with 0 Axes>"
            ]
          },
          "metadata": {}
        },
        {
          "output_type": "display_data",
          "data": {
            "text/plain": [
              "<Figure size 1080x540 with 0 Axes>"
            ]
          },
          "metadata": {}
        },
        {
          "output_type": "display_data",
          "data": {
            "text/plain": [
              "<Figure size 1080x540 with 0 Axes>"
            ]
          },
          "metadata": {}
        },
        {
          "output_type": "display_data",
          "data": {
            "text/plain": [
              "<Figure size 1080x540 with 0 Axes>"
            ]
          },
          "metadata": {}
        },
        {
          "output_type": "display_data",
          "data": {
            "text/plain": [
              "<Figure size 1080x540 with 0 Axes>"
            ]
          },
          "metadata": {}
        },
        {
          "output_type": "display_data",
          "data": {
            "text/plain": [
              "<Figure size 1080x540 with 0 Axes>"
            ]
          },
          "metadata": {}
        },
        {
          "output_type": "display_data",
          "data": {
            "text/plain": [
              "<Figure size 1080x540 with 0 Axes>"
            ]
          },
          "metadata": {}
        },
        {
          "output_type": "display_data",
          "data": {
            "text/plain": [
              "<Figure size 1080x540 with 0 Axes>"
            ]
          },
          "metadata": {}
        },
        {
          "output_type": "display_data",
          "data": {
            "text/plain": [
              "<Figure size 1080x540 with 0 Axes>"
            ]
          },
          "metadata": {}
        },
        {
          "output_type": "display_data",
          "data": {
            "text/plain": [
              "<Figure size 1080x540 with 0 Axes>"
            ]
          },
          "metadata": {}
        },
        {
          "output_type": "display_data",
          "data": {
            "text/plain": [
              "<Figure size 1080x540 with 0 Axes>"
            ]
          },
          "metadata": {}
        },
        {
          "output_type": "display_data",
          "data": {
            "text/plain": [
              "<Figure size 1080x540 with 0 Axes>"
            ]
          },
          "metadata": {}
        },
        {
          "output_type": "display_data",
          "data": {
            "text/plain": [
              "<Figure size 1080x540 with 0 Axes>"
            ]
          },
          "metadata": {}
        },
        {
          "output_type": "display_data",
          "data": {
            "text/plain": [
              "<Figure size 1080x540 with 0 Axes>"
            ]
          },
          "metadata": {}
        },
        {
          "output_type": "display_data",
          "data": {
            "text/plain": [
              "<Figure size 1080x540 with 0 Axes>"
            ]
          },
          "metadata": {}
        },
        {
          "output_type": "display_data",
          "data": {
            "text/plain": [
              "<Figure size 1080x540 with 0 Axes>"
            ]
          },
          "metadata": {}
        },
        {
          "output_type": "display_data",
          "data": {
            "text/plain": [
              "<Figure size 1080x540 with 0 Axes>"
            ]
          },
          "metadata": {}
        },
        {
          "output_type": "display_data",
          "data": {
            "text/plain": [
              "<Figure size 1080x540 with 0 Axes>"
            ]
          },
          "metadata": {}
        },
        {
          "output_type": "display_data",
          "data": {
            "text/plain": [
              "<Figure size 1080x540 with 0 Axes>"
            ]
          },
          "metadata": {}
        },
        {
          "output_type": "display_data",
          "data": {
            "text/plain": [
              "<Figure size 1080x540 with 0 Axes>"
            ]
          },
          "metadata": {}
        },
        {
          "output_type": "display_data",
          "data": {
            "text/plain": [
              "<Figure size 1080x540 with 0 Axes>"
            ]
          },
          "metadata": {}
        },
        {
          "output_type": "display_data",
          "data": {
            "text/plain": [
              "<Figure size 1080x540 with 0 Axes>"
            ]
          },
          "metadata": {}
        },
        {
          "output_type": "display_data",
          "data": {
            "text/plain": [
              "<Figure size 1080x540 with 0 Axes>"
            ]
          },
          "metadata": {}
        },
        {
          "output_type": "display_data",
          "data": {
            "text/plain": [
              "<Figure size 1080x540 with 0 Axes>"
            ]
          },
          "metadata": {}
        },
        {
          "output_type": "display_data",
          "data": {
            "text/plain": [
              "<Figure size 1080x540 with 0 Axes>"
            ]
          },
          "metadata": {}
        },
        {
          "output_type": "display_data",
          "data": {
            "text/plain": [
              "<Figure size 1080x540 with 0 Axes>"
            ]
          },
          "metadata": {}
        },
        {
          "output_type": "display_data",
          "data": {
            "text/plain": [
              "<Figure size 1080x540 with 0 Axes>"
            ]
          },
          "metadata": {}
        },
        {
          "output_type": "display_data",
          "data": {
            "text/plain": [
              "<Figure size 1080x540 with 0 Axes>"
            ]
          },
          "metadata": {}
        },
        {
          "output_type": "display_data",
          "data": {
            "text/plain": [
              "<Figure size 1080x540 with 0 Axes>"
            ]
          },
          "metadata": {}
        },
        {
          "output_type": "display_data",
          "data": {
            "text/plain": [
              "<Figure size 1080x540 with 0 Axes>"
            ]
          },
          "metadata": {}
        },
        {
          "output_type": "display_data",
          "data": {
            "text/plain": [
              "<Figure size 1080x540 with 0 Axes>"
            ]
          },
          "metadata": {}
        },
        {
          "output_type": "display_data",
          "data": {
            "text/plain": [
              "<Figure size 1080x540 with 0 Axes>"
            ]
          },
          "metadata": {}
        },
        {
          "output_type": "display_data",
          "data": {
            "text/plain": [
              "<Figure size 1080x540 with 0 Axes>"
            ]
          },
          "metadata": {}
        },
        {
          "output_type": "display_data",
          "data": {
            "text/plain": [
              "<Figure size 1080x540 with 0 Axes>"
            ]
          },
          "metadata": {}
        },
        {
          "output_type": "display_data",
          "data": {
            "text/plain": [
              "<Figure size 1080x540 with 0 Axes>"
            ]
          },
          "metadata": {}
        },
        {
          "output_type": "display_data",
          "data": {
            "text/plain": [
              "<Figure size 1080x540 with 0 Axes>"
            ]
          },
          "metadata": {}
        },
        {
          "output_type": "display_data",
          "data": {
            "text/plain": [
              "<Figure size 1080x540 with 0 Axes>"
            ]
          },
          "metadata": {}
        },
        {
          "output_type": "display_data",
          "data": {
            "text/plain": [
              "<Figure size 1080x540 with 0 Axes>"
            ]
          },
          "metadata": {}
        },
        {
          "output_type": "display_data",
          "data": {
            "text/plain": [
              "<Figure size 1080x540 with 0 Axes>"
            ]
          },
          "metadata": {}
        },
        {
          "output_type": "display_data",
          "data": {
            "text/plain": [
              "<Figure size 1080x540 with 0 Axes>"
            ]
          },
          "metadata": {}
        },
        {
          "output_type": "display_data",
          "data": {
            "text/plain": [
              "<Figure size 1080x540 with 0 Axes>"
            ]
          },
          "metadata": {}
        },
        {
          "output_type": "display_data",
          "data": {
            "text/plain": [
              "<Figure size 1080x540 with 0 Axes>"
            ]
          },
          "metadata": {}
        },
        {
          "output_type": "display_data",
          "data": {
            "text/plain": [
              "<Figure size 1080x540 with 0 Axes>"
            ]
          },
          "metadata": {}
        },
        {
          "output_type": "display_data",
          "data": {
            "text/plain": [
              "<Figure size 1080x540 with 0 Axes>"
            ]
          },
          "metadata": {}
        },
        {
          "output_type": "display_data",
          "data": {
            "text/plain": [
              "<Figure size 1080x540 with 0 Axes>"
            ]
          },
          "metadata": {}
        },
        {
          "output_type": "display_data",
          "data": {
            "text/plain": [
              "<Figure size 1080x540 with 0 Axes>"
            ]
          },
          "metadata": {}
        },
        {
          "output_type": "display_data",
          "data": {
            "text/plain": [
              "<Figure size 1080x540 with 0 Axes>"
            ]
          },
          "metadata": {}
        },
        {
          "output_type": "display_data",
          "data": {
            "text/plain": [
              "<Figure size 1080x540 with 0 Axes>"
            ]
          },
          "metadata": {}
        },
        {
          "output_type": "display_data",
          "data": {
            "text/plain": [
              "<Figure size 1080x540 with 0 Axes>"
            ]
          },
          "metadata": {}
        },
        {
          "output_type": "display_data",
          "data": {
            "text/plain": [
              "<Figure size 1080x540 with 0 Axes>"
            ]
          },
          "metadata": {}
        },
        {
          "output_type": "display_data",
          "data": {
            "text/plain": [
              "<Figure size 1080x540 with 0 Axes>"
            ]
          },
          "metadata": {}
        },
        {
          "output_type": "display_data",
          "data": {
            "text/plain": [
              "<Figure size 1080x540 with 0 Axes>"
            ]
          },
          "metadata": {}
        },
        {
          "output_type": "display_data",
          "data": {
            "text/plain": [
              "<Figure size 1080x540 with 0 Axes>"
            ]
          },
          "metadata": {}
        },
        {
          "output_type": "display_data",
          "data": {
            "text/plain": [
              "<Figure size 1080x540 with 0 Axes>"
            ]
          },
          "metadata": {}
        },
        {
          "output_type": "display_data",
          "data": {
            "text/plain": [
              "<Figure size 1080x540 with 0 Axes>"
            ]
          },
          "metadata": {}
        },
        {
          "output_type": "display_data",
          "data": {
            "text/plain": [
              "<Figure size 1080x540 with 0 Axes>"
            ]
          },
          "metadata": {}
        },
        {
          "output_type": "display_data",
          "data": {
            "text/plain": [
              "<Figure size 1080x540 with 0 Axes>"
            ]
          },
          "metadata": {}
        },
        {
          "output_type": "display_data",
          "data": {
            "text/plain": [
              "<Figure size 1080x540 with 0 Axes>"
            ]
          },
          "metadata": {}
        },
        {
          "output_type": "display_data",
          "data": {
            "text/plain": [
              "<Figure size 1080x540 with 0 Axes>"
            ]
          },
          "metadata": {}
        },
        {
          "output_type": "display_data",
          "data": {
            "text/plain": [
              "<Figure size 1080x540 with 0 Axes>"
            ]
          },
          "metadata": {}
        },
        {
          "output_type": "display_data",
          "data": {
            "text/plain": [
              "<Figure size 1080x540 with 0 Axes>"
            ]
          },
          "metadata": {}
        },
        {
          "output_type": "display_data",
          "data": {
            "text/plain": [
              "<Figure size 1080x540 with 0 Axes>"
            ]
          },
          "metadata": {}
        },
        {
          "output_type": "display_data",
          "data": {
            "text/plain": [
              "<Figure size 1080x540 with 0 Axes>"
            ]
          },
          "metadata": {}
        },
        {
          "output_type": "display_data",
          "data": {
            "text/plain": [
              "<Figure size 1080x540 with 0 Axes>"
            ]
          },
          "metadata": {}
        },
        {
          "output_type": "display_data",
          "data": {
            "text/plain": [
              "<Figure size 1080x540 with 0 Axes>"
            ]
          },
          "metadata": {}
        },
        {
          "output_type": "display_data",
          "data": {
            "text/plain": [
              "<Figure size 1080x540 with 0 Axes>"
            ]
          },
          "metadata": {}
        },
        {
          "output_type": "display_data",
          "data": {
            "text/plain": [
              "<Figure size 1080x540 with 0 Axes>"
            ]
          },
          "metadata": {}
        },
        {
          "output_type": "display_data",
          "data": {
            "text/plain": [
              "<Figure size 1080x540 with 0 Axes>"
            ]
          },
          "metadata": {}
        },
        {
          "output_type": "display_data",
          "data": {
            "text/plain": [
              "<Figure size 1080x540 with 0 Axes>"
            ]
          },
          "metadata": {}
        },
        {
          "output_type": "display_data",
          "data": {
            "text/plain": [
              "<Figure size 1080x540 with 0 Axes>"
            ]
          },
          "metadata": {}
        },
        {
          "output_type": "display_data",
          "data": {
            "text/plain": [
              "<Figure size 1080x540 with 0 Axes>"
            ]
          },
          "metadata": {}
        },
        {
          "output_type": "display_data",
          "data": {
            "text/plain": [
              "<Figure size 1080x540 with 0 Axes>"
            ]
          },
          "metadata": {}
        },
        {
          "output_type": "display_data",
          "data": {
            "text/plain": [
              "<Figure size 1080x540 with 0 Axes>"
            ]
          },
          "metadata": {}
        },
        {
          "output_type": "display_data",
          "data": {
            "text/plain": [
              "<Figure size 1080x540 with 0 Axes>"
            ]
          },
          "metadata": {}
        },
        {
          "output_type": "display_data",
          "data": {
            "text/plain": [
              "<Figure size 1080x540 with 0 Axes>"
            ]
          },
          "metadata": {}
        },
        {
          "output_type": "display_data",
          "data": {
            "text/plain": [
              "<Figure size 1080x540 with 0 Axes>"
            ]
          },
          "metadata": {}
        },
        {
          "output_type": "display_data",
          "data": {
            "text/plain": [
              "<Figure size 1080x540 with 0 Axes>"
            ]
          },
          "metadata": {}
        },
        {
          "output_type": "display_data",
          "data": {
            "text/plain": [
              "<Figure size 1080x540 with 0 Axes>"
            ]
          },
          "metadata": {}
        },
        {
          "output_type": "display_data",
          "data": {
            "text/plain": [
              "<Figure size 1080x540 with 0 Axes>"
            ]
          },
          "metadata": {}
        },
        {
          "output_type": "display_data",
          "data": {
            "text/plain": [
              "<Figure size 1080x540 with 0 Axes>"
            ]
          },
          "metadata": {}
        },
        {
          "output_type": "display_data",
          "data": {
            "text/plain": [
              "<Figure size 1080x540 with 0 Axes>"
            ]
          },
          "metadata": {}
        },
        {
          "output_type": "display_data",
          "data": {
            "text/plain": [
              "<Figure size 1080x540 with 0 Axes>"
            ]
          },
          "metadata": {}
        },
        {
          "output_type": "display_data",
          "data": {
            "text/plain": [
              "<Figure size 1080x540 with 0 Axes>"
            ]
          },
          "metadata": {}
        },
        {
          "output_type": "display_data",
          "data": {
            "text/plain": [
              "<Figure size 1080x540 with 0 Axes>"
            ]
          },
          "metadata": {}
        },
        {
          "output_type": "display_data",
          "data": {
            "text/plain": [
              "<Figure size 1080x540 with 0 Axes>"
            ]
          },
          "metadata": {}
        },
        {
          "output_type": "display_data",
          "data": {
            "text/plain": [
              "<Figure size 1080x540 with 0 Axes>"
            ]
          },
          "metadata": {}
        },
        {
          "output_type": "display_data",
          "data": {
            "text/plain": [
              "<Figure size 1080x540 with 0 Axes>"
            ]
          },
          "metadata": {}
        },
        {
          "output_type": "display_data",
          "data": {
            "text/plain": [
              "<Figure size 1080x540 with 0 Axes>"
            ]
          },
          "metadata": {}
        },
        {
          "output_type": "display_data",
          "data": {
            "text/plain": [
              "<Figure size 1080x540 with 0 Axes>"
            ]
          },
          "metadata": {}
        },
        {
          "output_type": "display_data",
          "data": {
            "text/plain": [
              "<Figure size 1080x540 with 0 Axes>"
            ]
          },
          "metadata": {}
        },
        {
          "output_type": "display_data",
          "data": {
            "text/plain": [
              "<Figure size 1080x540 with 0 Axes>"
            ]
          },
          "metadata": {}
        },
        {
          "output_type": "display_data",
          "data": {
            "text/plain": [
              "<Figure size 1080x540 with 0 Axes>"
            ]
          },
          "metadata": {}
        },
        {
          "output_type": "display_data",
          "data": {
            "text/plain": [
              "<Figure size 1080x540 with 0 Axes>"
            ]
          },
          "metadata": {}
        },
        {
          "output_type": "display_data",
          "data": {
            "text/plain": [
              "<Figure size 1080x540 with 0 Axes>"
            ]
          },
          "metadata": {}
        },
        {
          "output_type": "display_data",
          "data": {
            "text/plain": [
              "<Figure size 1080x540 with 0 Axes>"
            ]
          },
          "metadata": {}
        },
        {
          "output_type": "display_data",
          "data": {
            "text/plain": [
              "<Figure size 1080x540 with 0 Axes>"
            ]
          },
          "metadata": {}
        },
        {
          "output_type": "display_data",
          "data": {
            "text/plain": [
              "<Figure size 1080x540 with 0 Axes>"
            ]
          },
          "metadata": {}
        },
        {
          "output_type": "display_data",
          "data": {
            "text/plain": [
              "<Figure size 1080x540 with 0 Axes>"
            ]
          },
          "metadata": {}
        },
        {
          "output_type": "display_data",
          "data": {
            "text/plain": [
              "<Figure size 1080x540 with 0 Axes>"
            ]
          },
          "metadata": {}
        },
        {
          "output_type": "display_data",
          "data": {
            "text/plain": [
              "<Figure size 1080x540 with 0 Axes>"
            ]
          },
          "metadata": {}
        },
        {
          "output_type": "display_data",
          "data": {
            "text/plain": [
              "<Figure size 1080x540 with 0 Axes>"
            ]
          },
          "metadata": {}
        },
        {
          "output_type": "display_data",
          "data": {
            "text/plain": [
              "<Figure size 1080x540 with 0 Axes>"
            ]
          },
          "metadata": {}
        },
        {
          "output_type": "display_data",
          "data": {
            "text/plain": [
              "<Figure size 1080x540 with 0 Axes>"
            ]
          },
          "metadata": {}
        },
        {
          "output_type": "display_data",
          "data": {
            "text/plain": [
              "<Figure size 1080x540 with 0 Axes>"
            ]
          },
          "metadata": {}
        },
        {
          "output_type": "display_data",
          "data": {
            "text/plain": [
              "<Figure size 1080x540 with 0 Axes>"
            ]
          },
          "metadata": {}
        },
        {
          "output_type": "display_data",
          "data": {
            "text/plain": [
              "<Figure size 1080x540 with 0 Axes>"
            ]
          },
          "metadata": {}
        },
        {
          "output_type": "display_data",
          "data": {
            "text/plain": [
              "<Figure size 1080x540 with 0 Axes>"
            ]
          },
          "metadata": {}
        },
        {
          "output_type": "display_data",
          "data": {
            "text/plain": [
              "<Figure size 1080x540 with 0 Axes>"
            ]
          },
          "metadata": {}
        },
        {
          "output_type": "display_data",
          "data": {
            "text/plain": [
              "<Figure size 1080x540 with 0 Axes>"
            ]
          },
          "metadata": {}
        },
        {
          "output_type": "display_data",
          "data": {
            "text/plain": [
              "<Figure size 1080x540 with 0 Axes>"
            ]
          },
          "metadata": {}
        },
        {
          "output_type": "display_data",
          "data": {
            "text/plain": [
              "<Figure size 1080x540 with 0 Axes>"
            ]
          },
          "metadata": {}
        },
        {
          "output_type": "display_data",
          "data": {
            "text/plain": [
              "<Figure size 1080x540 with 0 Axes>"
            ]
          },
          "metadata": {}
        },
        {
          "output_type": "display_data",
          "data": {
            "text/plain": [
              "<Figure size 1080x540 with 0 Axes>"
            ]
          },
          "metadata": {}
        },
        {
          "output_type": "display_data",
          "data": {
            "text/plain": [
              "<Figure size 1080x540 with 0 Axes>"
            ]
          },
          "metadata": {}
        },
        {
          "output_type": "display_data",
          "data": {
            "text/plain": [
              "<Figure size 1080x540 with 0 Axes>"
            ]
          },
          "metadata": {}
        },
        {
          "output_type": "display_data",
          "data": {
            "text/plain": [
              "<Figure size 1080x540 with 0 Axes>"
            ]
          },
          "metadata": {}
        },
        {
          "output_type": "display_data",
          "data": {
            "text/plain": [
              "<Figure size 1080x540 with 0 Axes>"
            ]
          },
          "metadata": {}
        },
        {
          "output_type": "display_data",
          "data": {
            "text/plain": [
              "<Figure size 1080x540 with 0 Axes>"
            ]
          },
          "metadata": {}
        },
        {
          "output_type": "display_data",
          "data": {
            "text/plain": [
              "<Figure size 1080x540 with 0 Axes>"
            ]
          },
          "metadata": {}
        },
        {
          "output_type": "display_data",
          "data": {
            "text/plain": [
              "<Figure size 1080x540 with 0 Axes>"
            ]
          },
          "metadata": {}
        },
        {
          "output_type": "display_data",
          "data": {
            "text/plain": [
              "<Figure size 1080x540 with 0 Axes>"
            ]
          },
          "metadata": {}
        },
        {
          "output_type": "display_data",
          "data": {
            "text/plain": [
              "<Figure size 1080x540 with 0 Axes>"
            ]
          },
          "metadata": {}
        },
        {
          "output_type": "display_data",
          "data": {
            "text/plain": [
              "<Figure size 1080x540 with 0 Axes>"
            ]
          },
          "metadata": {}
        },
        {
          "output_type": "display_data",
          "data": {
            "text/plain": [
              "<Figure size 1080x540 with 0 Axes>"
            ]
          },
          "metadata": {}
        },
        {
          "output_type": "display_data",
          "data": {
            "text/plain": [
              "<Figure size 1080x540 with 0 Axes>"
            ]
          },
          "metadata": {}
        },
        {
          "output_type": "display_data",
          "data": {
            "text/plain": [
              "<Figure size 1080x540 with 0 Axes>"
            ]
          },
          "metadata": {}
        },
        {
          "output_type": "display_data",
          "data": {
            "text/plain": [
              "<Figure size 1080x540 with 0 Axes>"
            ]
          },
          "metadata": {}
        },
        {
          "output_type": "display_data",
          "data": {
            "text/plain": [
              "<Figure size 1080x540 with 0 Axes>"
            ]
          },
          "metadata": {}
        },
        {
          "output_type": "display_data",
          "data": {
            "text/plain": [
              "<Figure size 1080x540 with 0 Axes>"
            ]
          },
          "metadata": {}
        },
        {
          "output_type": "display_data",
          "data": {
            "text/plain": [
              "<Figure size 1080x540 with 0 Axes>"
            ]
          },
          "metadata": {}
        },
        {
          "output_type": "display_data",
          "data": {
            "text/plain": [
              "<Figure size 1080x540 with 0 Axes>"
            ]
          },
          "metadata": {}
        },
        {
          "output_type": "display_data",
          "data": {
            "text/plain": [
              "<Figure size 1080x540 with 0 Axes>"
            ]
          },
          "metadata": {}
        },
        {
          "output_type": "display_data",
          "data": {
            "text/plain": [
              "<Figure size 1080x540 with 0 Axes>"
            ]
          },
          "metadata": {}
        },
        {
          "output_type": "display_data",
          "data": {
            "text/plain": [
              "<Figure size 1080x540 with 0 Axes>"
            ]
          },
          "metadata": {}
        },
        {
          "output_type": "display_data",
          "data": {
            "text/plain": [
              "<Figure size 1080x540 with 0 Axes>"
            ]
          },
          "metadata": {}
        },
        {
          "output_type": "display_data",
          "data": {
            "text/plain": [
              "<Figure size 1080x540 with 0 Axes>"
            ]
          },
          "metadata": {}
        },
        {
          "output_type": "display_data",
          "data": {
            "text/plain": [
              "<Figure size 1080x540 with 0 Axes>"
            ]
          },
          "metadata": {}
        },
        {
          "output_type": "display_data",
          "data": {
            "text/plain": [
              "<Figure size 1080x540 with 0 Axes>"
            ]
          },
          "metadata": {}
        },
        {
          "output_type": "display_data",
          "data": {
            "text/plain": [
              "<Figure size 1080x540 with 0 Axes>"
            ]
          },
          "metadata": {}
        },
        {
          "output_type": "display_data",
          "data": {
            "text/plain": [
              "<Figure size 1080x540 with 0 Axes>"
            ]
          },
          "metadata": {}
        },
        {
          "output_type": "display_data",
          "data": {
            "text/plain": [
              "<Figure size 1080x540 with 0 Axes>"
            ]
          },
          "metadata": {}
        },
        {
          "output_type": "display_data",
          "data": {
            "text/plain": [
              "<Figure size 1080x540 with 0 Axes>"
            ]
          },
          "metadata": {}
        },
        {
          "output_type": "display_data",
          "data": {
            "text/plain": [
              "<Figure size 1080x540 with 0 Axes>"
            ]
          },
          "metadata": {}
        },
        {
          "output_type": "display_data",
          "data": {
            "text/plain": [
              "<Figure size 1080x540 with 0 Axes>"
            ]
          },
          "metadata": {}
        },
        {
          "output_type": "display_data",
          "data": {
            "text/plain": [
              "<Figure size 1080x540 with 0 Axes>"
            ]
          },
          "metadata": {}
        },
        {
          "output_type": "display_data",
          "data": {
            "text/plain": [
              "<Figure size 1080x540 with 0 Axes>"
            ]
          },
          "metadata": {}
        },
        {
          "output_type": "display_data",
          "data": {
            "text/plain": [
              "<Figure size 1080x540 with 0 Axes>"
            ]
          },
          "metadata": {}
        },
        {
          "output_type": "display_data",
          "data": {
            "text/plain": [
              "<Figure size 1080x540 with 0 Axes>"
            ]
          },
          "metadata": {}
        },
        {
          "output_type": "display_data",
          "data": {
            "text/plain": [
              "<Figure size 1080x540 with 0 Axes>"
            ]
          },
          "metadata": {}
        },
        {
          "output_type": "display_data",
          "data": {
            "text/plain": [
              "<Figure size 1080x540 with 0 Axes>"
            ]
          },
          "metadata": {}
        },
        {
          "output_type": "display_data",
          "data": {
            "text/plain": [
              "<Figure size 1080x540 with 0 Axes>"
            ]
          },
          "metadata": {}
        },
        {
          "output_type": "display_data",
          "data": {
            "text/plain": [
              "<Figure size 1080x540 with 0 Axes>"
            ]
          },
          "metadata": {}
        },
        {
          "output_type": "display_data",
          "data": {
            "text/plain": [
              "<Figure size 1080x540 with 0 Axes>"
            ]
          },
          "metadata": {}
        },
        {
          "output_type": "display_data",
          "data": {
            "text/plain": [
              "<Figure size 1080x540 with 0 Axes>"
            ]
          },
          "metadata": {}
        },
        {
          "output_type": "display_data",
          "data": {
            "text/plain": [
              "<Figure size 1080x540 with 0 Axes>"
            ]
          },
          "metadata": {}
        },
        {
          "output_type": "display_data",
          "data": {
            "text/plain": [
              "<Figure size 1080x540 with 0 Axes>"
            ]
          },
          "metadata": {}
        },
        {
          "output_type": "display_data",
          "data": {
            "text/plain": [
              "<Figure size 1080x540 with 0 Axes>"
            ]
          },
          "metadata": {}
        },
        {
          "output_type": "display_data",
          "data": {
            "text/plain": [
              "<Figure size 1080x540 with 0 Axes>"
            ]
          },
          "metadata": {}
        },
        {
          "output_type": "display_data",
          "data": {
            "text/plain": [
              "<Figure size 1080x540 with 0 Axes>"
            ]
          },
          "metadata": {}
        },
        {
          "output_type": "display_data",
          "data": {
            "text/plain": [
              "<Figure size 1080x540 with 0 Axes>"
            ]
          },
          "metadata": {}
        },
        {
          "output_type": "display_data",
          "data": {
            "text/plain": [
              "<Figure size 1080x540 with 0 Axes>"
            ]
          },
          "metadata": {}
        },
        {
          "output_type": "display_data",
          "data": {
            "text/plain": [
              "<Figure size 1080x540 with 0 Axes>"
            ]
          },
          "metadata": {}
        },
        {
          "output_type": "display_data",
          "data": {
            "text/plain": [
              "<Figure size 1080x540 with 0 Axes>"
            ]
          },
          "metadata": {}
        },
        {
          "output_type": "display_data",
          "data": {
            "text/plain": [
              "<Figure size 1080x540 with 0 Axes>"
            ]
          },
          "metadata": {}
        },
        {
          "output_type": "display_data",
          "data": {
            "text/plain": [
              "<Figure size 1080x540 with 0 Axes>"
            ]
          },
          "metadata": {}
        },
        {
          "output_type": "display_data",
          "data": {
            "text/plain": [
              "<Figure size 1080x540 with 0 Axes>"
            ]
          },
          "metadata": {}
        },
        {
          "output_type": "display_data",
          "data": {
            "text/plain": [
              "<Figure size 1080x540 with 0 Axes>"
            ]
          },
          "metadata": {}
        },
        {
          "output_type": "display_data",
          "data": {
            "text/plain": [
              "<Figure size 1080x540 with 0 Axes>"
            ]
          },
          "metadata": {}
        },
        {
          "output_type": "display_data",
          "data": {
            "text/plain": [
              "<Figure size 1080x540 with 0 Axes>"
            ]
          },
          "metadata": {}
        },
        {
          "output_type": "display_data",
          "data": {
            "text/plain": [
              "<Figure size 1080x540 with 0 Axes>"
            ]
          },
          "metadata": {}
        },
        {
          "output_type": "display_data",
          "data": {
            "text/plain": [
              "<Figure size 1080x540 with 0 Axes>"
            ]
          },
          "metadata": {}
        },
        {
          "output_type": "display_data",
          "data": {
            "text/plain": [
              "<Figure size 1080x540 with 0 Axes>"
            ]
          },
          "metadata": {}
        },
        {
          "output_type": "display_data",
          "data": {
            "text/plain": [
              "<Figure size 1080x540 with 0 Axes>"
            ]
          },
          "metadata": {}
        },
        {
          "output_type": "display_data",
          "data": {
            "text/plain": [
              "<Figure size 1080x540 with 0 Axes>"
            ]
          },
          "metadata": {}
        },
        {
          "output_type": "display_data",
          "data": {
            "text/plain": [
              "<Figure size 1080x540 with 0 Axes>"
            ]
          },
          "metadata": {}
        },
        {
          "output_type": "display_data",
          "data": {
            "text/plain": [
              "<Figure size 1080x540 with 0 Axes>"
            ]
          },
          "metadata": {}
        },
        {
          "output_type": "display_data",
          "data": {
            "text/plain": [
              "<Figure size 1080x540 with 0 Axes>"
            ]
          },
          "metadata": {}
        },
        {
          "output_type": "display_data",
          "data": {
            "text/plain": [
              "<Figure size 1080x540 with 0 Axes>"
            ]
          },
          "metadata": {}
        },
        {
          "output_type": "display_data",
          "data": {
            "text/plain": [
              "<Figure size 1080x540 with 0 Axes>"
            ]
          },
          "metadata": {}
        },
        {
          "output_type": "display_data",
          "data": {
            "text/plain": [
              "<Figure size 1080x540 with 0 Axes>"
            ]
          },
          "metadata": {}
        },
        {
          "output_type": "display_data",
          "data": {
            "text/plain": [
              "<Figure size 1080x540 with 0 Axes>"
            ]
          },
          "metadata": {}
        },
        {
          "output_type": "display_data",
          "data": {
            "text/plain": [
              "<Figure size 1080x540 with 0 Axes>"
            ]
          },
          "metadata": {}
        },
        {
          "output_type": "display_data",
          "data": {
            "text/plain": [
              "<Figure size 1080x540 with 0 Axes>"
            ]
          },
          "metadata": {}
        },
        {
          "output_type": "display_data",
          "data": {
            "text/plain": [
              "<Figure size 1080x540 with 0 Axes>"
            ]
          },
          "metadata": {}
        },
        {
          "output_type": "display_data",
          "data": {
            "text/plain": [
              "<Figure size 1080x540 with 0 Axes>"
            ]
          },
          "metadata": {}
        },
        {
          "output_type": "display_data",
          "data": {
            "text/plain": [
              "<Figure size 1080x540 with 0 Axes>"
            ]
          },
          "metadata": {}
        },
        {
          "output_type": "display_data",
          "data": {
            "text/plain": [
              "<Figure size 1080x540 with 0 Axes>"
            ]
          },
          "metadata": {}
        },
        {
          "output_type": "display_data",
          "data": {
            "text/plain": [
              "<Figure size 1080x540 with 0 Axes>"
            ]
          },
          "metadata": {}
        },
        {
          "output_type": "display_data",
          "data": {
            "text/plain": [
              "<Figure size 1080x540 with 0 Axes>"
            ]
          },
          "metadata": {}
        },
        {
          "output_type": "display_data",
          "data": {
            "text/plain": [
              "<Figure size 1080x540 with 0 Axes>"
            ]
          },
          "metadata": {}
        },
        {
          "output_type": "display_data",
          "data": {
            "text/plain": [
              "<Figure size 1080x540 with 0 Axes>"
            ]
          },
          "metadata": {}
        },
        {
          "output_type": "display_data",
          "data": {
            "text/plain": [
              "<Figure size 1080x540 with 0 Axes>"
            ]
          },
          "metadata": {}
        },
        {
          "output_type": "display_data",
          "data": {
            "text/plain": [
              "<Figure size 1080x540 with 0 Axes>"
            ]
          },
          "metadata": {}
        },
        {
          "output_type": "display_data",
          "data": {
            "text/plain": [
              "<Figure size 1080x540 with 0 Axes>"
            ]
          },
          "metadata": {}
        },
        {
          "output_type": "display_data",
          "data": {
            "text/plain": [
              "<Figure size 1080x540 with 0 Axes>"
            ]
          },
          "metadata": {}
        },
        {
          "output_type": "display_data",
          "data": {
            "text/plain": [
              "<Figure size 1080x540 with 0 Axes>"
            ]
          },
          "metadata": {}
        },
        {
          "output_type": "display_data",
          "data": {
            "text/plain": [
              "<Figure size 1080x540 with 0 Axes>"
            ]
          },
          "metadata": {}
        },
        {
          "output_type": "display_data",
          "data": {
            "text/plain": [
              "<Figure size 1080x540 with 0 Axes>"
            ]
          },
          "metadata": {}
        },
        {
          "output_type": "display_data",
          "data": {
            "text/plain": [
              "<Figure size 1080x540 with 0 Axes>"
            ]
          },
          "metadata": {}
        },
        {
          "output_type": "display_data",
          "data": {
            "text/plain": [
              "<Figure size 1080x540 with 0 Axes>"
            ]
          },
          "metadata": {}
        },
        {
          "output_type": "display_data",
          "data": {
            "text/plain": [
              "<Figure size 1080x540 with 0 Axes>"
            ]
          },
          "metadata": {}
        },
        {
          "output_type": "display_data",
          "data": {
            "text/plain": [
              "<Figure size 1080x540 with 0 Axes>"
            ]
          },
          "metadata": {}
        },
        {
          "output_type": "display_data",
          "data": {
            "text/plain": [
              "<Figure size 1080x540 with 0 Axes>"
            ]
          },
          "metadata": {}
        },
        {
          "output_type": "display_data",
          "data": {
            "text/plain": [
              "<Figure size 1080x540 with 0 Axes>"
            ]
          },
          "metadata": {}
        },
        {
          "output_type": "display_data",
          "data": {
            "text/plain": [
              "<Figure size 1080x540 with 0 Axes>"
            ]
          },
          "metadata": {}
        },
        {
          "output_type": "display_data",
          "data": {
            "text/plain": [
              "<Figure size 1080x540 with 0 Axes>"
            ]
          },
          "metadata": {}
        },
        {
          "output_type": "display_data",
          "data": {
            "text/plain": [
              "<Figure size 1080x540 with 0 Axes>"
            ]
          },
          "metadata": {}
        },
        {
          "output_type": "display_data",
          "data": {
            "text/plain": [
              "<Figure size 1080x540 with 0 Axes>"
            ]
          },
          "metadata": {}
        },
        {
          "output_type": "display_data",
          "data": {
            "text/plain": [
              "<Figure size 1080x540 with 0 Axes>"
            ]
          },
          "metadata": {}
        },
        {
          "output_type": "display_data",
          "data": {
            "text/plain": [
              "<Figure size 1080x540 with 0 Axes>"
            ]
          },
          "metadata": {}
        },
        {
          "output_type": "display_data",
          "data": {
            "text/plain": [
              "<Figure size 1080x540 with 0 Axes>"
            ]
          },
          "metadata": {}
        },
        {
          "output_type": "display_data",
          "data": {
            "text/plain": [
              "<Figure size 1080x540 with 0 Axes>"
            ]
          },
          "metadata": {}
        },
        {
          "output_type": "display_data",
          "data": {
            "text/plain": [
              "<Figure size 1080x540 with 0 Axes>"
            ]
          },
          "metadata": {}
        },
        {
          "output_type": "display_data",
          "data": {
            "text/plain": [
              "<Figure size 1080x540 with 0 Axes>"
            ]
          },
          "metadata": {}
        },
        {
          "output_type": "display_data",
          "data": {
            "text/plain": [
              "<Figure size 1080x540 with 0 Axes>"
            ]
          },
          "metadata": {}
        },
        {
          "output_type": "display_data",
          "data": {
            "text/plain": [
              "<Figure size 1080x540 with 0 Axes>"
            ]
          },
          "metadata": {}
        },
        {
          "output_type": "display_data",
          "data": {
            "text/plain": [
              "<Figure size 1080x540 with 0 Axes>"
            ]
          },
          "metadata": {}
        },
        {
          "output_type": "display_data",
          "data": {
            "text/plain": [
              "<Figure size 1080x540 with 0 Axes>"
            ]
          },
          "metadata": {}
        },
        {
          "output_type": "display_data",
          "data": {
            "text/plain": [
              "<Figure size 1080x540 with 0 Axes>"
            ]
          },
          "metadata": {}
        },
        {
          "output_type": "display_data",
          "data": {
            "text/plain": [
              "<Figure size 1080x540 with 0 Axes>"
            ]
          },
          "metadata": {}
        },
        {
          "output_type": "display_data",
          "data": {
            "text/plain": [
              "<Figure size 1080x540 with 0 Axes>"
            ]
          },
          "metadata": {}
        },
        {
          "output_type": "display_data",
          "data": {
            "text/plain": [
              "<Figure size 1080x540 with 0 Axes>"
            ]
          },
          "metadata": {}
        },
        {
          "output_type": "display_data",
          "data": {
            "text/plain": [
              "<Figure size 1080x540 with 0 Axes>"
            ]
          },
          "metadata": {}
        },
        {
          "output_type": "display_data",
          "data": {
            "text/plain": [
              "<Figure size 1080x540 with 0 Axes>"
            ]
          },
          "metadata": {}
        },
        {
          "output_type": "display_data",
          "data": {
            "text/plain": [
              "<Figure size 1080x540 with 0 Axes>"
            ]
          },
          "metadata": {}
        },
        {
          "output_type": "display_data",
          "data": {
            "text/plain": [
              "<Figure size 1080x540 with 0 Axes>"
            ]
          },
          "metadata": {}
        },
        {
          "output_type": "display_data",
          "data": {
            "text/plain": [
              "<Figure size 1080x540 with 0 Axes>"
            ]
          },
          "metadata": {}
        },
        {
          "output_type": "display_data",
          "data": {
            "text/plain": [
              "<Figure size 1080x540 with 0 Axes>"
            ]
          },
          "metadata": {}
        },
        {
          "output_type": "display_data",
          "data": {
            "text/plain": [
              "<Figure size 1080x540 with 0 Axes>"
            ]
          },
          "metadata": {}
        },
        {
          "output_type": "display_data",
          "data": {
            "text/plain": [
              "<Figure size 1080x540 with 0 Axes>"
            ]
          },
          "metadata": {}
        },
        {
          "output_type": "display_data",
          "data": {
            "text/plain": [
              "<Figure size 1080x540 with 0 Axes>"
            ]
          },
          "metadata": {}
        },
        {
          "output_type": "display_data",
          "data": {
            "text/plain": [
              "<Figure size 1080x540 with 0 Axes>"
            ]
          },
          "metadata": {}
        },
        {
          "output_type": "display_data",
          "data": {
            "text/plain": [
              "<Figure size 1080x540 with 0 Axes>"
            ]
          },
          "metadata": {}
        },
        {
          "output_type": "display_data",
          "data": {
            "text/plain": [
              "<Figure size 1080x540 with 0 Axes>"
            ]
          },
          "metadata": {}
        },
        {
          "output_type": "display_data",
          "data": {
            "text/plain": [
              "<Figure size 1080x540 with 0 Axes>"
            ]
          },
          "metadata": {}
        },
        {
          "output_type": "display_data",
          "data": {
            "text/plain": [
              "<Figure size 1080x540 with 0 Axes>"
            ]
          },
          "metadata": {}
        },
        {
          "output_type": "display_data",
          "data": {
            "text/plain": [
              "<Figure size 1080x540 with 0 Axes>"
            ]
          },
          "metadata": {}
        },
        {
          "output_type": "display_data",
          "data": {
            "text/plain": [
              "<Figure size 1080x540 with 0 Axes>"
            ]
          },
          "metadata": {}
        },
        {
          "output_type": "display_data",
          "data": {
            "text/plain": [
              "<Figure size 1080x540 with 0 Axes>"
            ]
          },
          "metadata": {}
        },
        {
          "output_type": "display_data",
          "data": {
            "text/plain": [
              "<Figure size 1080x540 with 0 Axes>"
            ]
          },
          "metadata": {}
        },
        {
          "output_type": "display_data",
          "data": {
            "text/plain": [
              "<Figure size 1080x540 with 0 Axes>"
            ]
          },
          "metadata": {}
        },
        {
          "output_type": "display_data",
          "data": {
            "text/plain": [
              "<Figure size 1080x540 with 0 Axes>"
            ]
          },
          "metadata": {}
        },
        {
          "output_type": "display_data",
          "data": {
            "text/plain": [
              "<Figure size 1080x540 with 0 Axes>"
            ]
          },
          "metadata": {}
        },
        {
          "output_type": "display_data",
          "data": {
            "text/plain": [
              "<Figure size 1080x540 with 0 Axes>"
            ]
          },
          "metadata": {}
        },
        {
          "output_type": "display_data",
          "data": {
            "text/plain": [
              "<Figure size 1080x540 with 0 Axes>"
            ]
          },
          "metadata": {}
        },
        {
          "output_type": "display_data",
          "data": {
            "text/plain": [
              "<Figure size 1080x540 with 0 Axes>"
            ]
          },
          "metadata": {}
        },
        {
          "output_type": "display_data",
          "data": {
            "text/plain": [
              "<Figure size 1080x540 with 0 Axes>"
            ]
          },
          "metadata": {}
        },
        {
          "output_type": "display_data",
          "data": {
            "text/plain": [
              "<Figure size 1080x540 with 0 Axes>"
            ]
          },
          "metadata": {}
        },
        {
          "output_type": "display_data",
          "data": {
            "text/plain": [
              "<Figure size 1080x540 with 0 Axes>"
            ]
          },
          "metadata": {}
        },
        {
          "output_type": "display_data",
          "data": {
            "text/plain": [
              "<Figure size 1080x540 with 0 Axes>"
            ]
          },
          "metadata": {}
        },
        {
          "output_type": "display_data",
          "data": {
            "text/plain": [
              "<Figure size 1080x540 with 0 Axes>"
            ]
          },
          "metadata": {}
        },
        {
          "output_type": "display_data",
          "data": {
            "text/plain": [
              "<Figure size 1080x540 with 0 Axes>"
            ]
          },
          "metadata": {}
        },
        {
          "output_type": "display_data",
          "data": {
            "text/plain": [
              "<Figure size 1080x540 with 0 Axes>"
            ]
          },
          "metadata": {}
        },
        {
          "output_type": "display_data",
          "data": {
            "text/plain": [
              "<Figure size 1080x540 with 0 Axes>"
            ]
          },
          "metadata": {}
        },
        {
          "output_type": "display_data",
          "data": {
            "text/plain": [
              "<Figure size 1080x540 with 0 Axes>"
            ]
          },
          "metadata": {}
        },
        {
          "output_type": "display_data",
          "data": {
            "text/plain": [
              "<Figure size 1080x540 with 0 Axes>"
            ]
          },
          "metadata": {}
        },
        {
          "output_type": "display_data",
          "data": {
            "text/plain": [
              "<Figure size 1080x540 with 0 Axes>"
            ]
          },
          "metadata": {}
        },
        {
          "output_type": "display_data",
          "data": {
            "text/plain": [
              "<Figure size 1080x540 with 0 Axes>"
            ]
          },
          "metadata": {}
        },
        {
          "output_type": "display_data",
          "data": {
            "text/plain": [
              "<Figure size 1080x540 with 0 Axes>"
            ]
          },
          "metadata": {}
        },
        {
          "output_type": "display_data",
          "data": {
            "text/plain": [
              "<Figure size 1080x540 with 0 Axes>"
            ]
          },
          "metadata": {}
        },
        {
          "output_type": "display_data",
          "data": {
            "text/plain": [
              "<Figure size 1080x540 with 0 Axes>"
            ]
          },
          "metadata": {}
        },
        {
          "output_type": "display_data",
          "data": {
            "text/plain": [
              "<Figure size 1080x540 with 0 Axes>"
            ]
          },
          "metadata": {}
        },
        {
          "output_type": "display_data",
          "data": {
            "text/plain": [
              "<Figure size 1080x540 with 0 Axes>"
            ]
          },
          "metadata": {}
        },
        {
          "output_type": "display_data",
          "data": {
            "text/plain": [
              "<Figure size 1080x540 with 0 Axes>"
            ]
          },
          "metadata": {}
        },
        {
          "output_type": "display_data",
          "data": {
            "text/plain": [
              "<Figure size 1080x540 with 0 Axes>"
            ]
          },
          "metadata": {}
        },
        {
          "output_type": "display_data",
          "data": {
            "text/plain": [
              "<Figure size 1080x540 with 0 Axes>"
            ]
          },
          "metadata": {}
        },
        {
          "output_type": "display_data",
          "data": {
            "text/plain": [
              "<Figure size 1080x540 with 0 Axes>"
            ]
          },
          "metadata": {}
        },
        {
          "output_type": "display_data",
          "data": {
            "text/plain": [
              "<Figure size 1080x540 with 0 Axes>"
            ]
          },
          "metadata": {}
        },
        {
          "output_type": "display_data",
          "data": {
            "text/plain": [
              "<Figure size 1080x540 with 0 Axes>"
            ]
          },
          "metadata": {}
        },
        {
          "output_type": "display_data",
          "data": {
            "text/plain": [
              "<Figure size 1080x540 with 0 Axes>"
            ]
          },
          "metadata": {}
        },
        {
          "output_type": "display_data",
          "data": {
            "text/plain": [
              "<Figure size 1080x540 with 0 Axes>"
            ]
          },
          "metadata": {}
        },
        {
          "output_type": "display_data",
          "data": {
            "text/plain": [
              "<Figure size 1080x540 with 0 Axes>"
            ]
          },
          "metadata": {}
        },
        {
          "output_type": "display_data",
          "data": {
            "text/plain": [
              "<Figure size 1080x540 with 0 Axes>"
            ]
          },
          "metadata": {}
        },
        {
          "output_type": "display_data",
          "data": {
            "text/plain": [
              "<Figure size 1080x540 with 0 Axes>"
            ]
          },
          "metadata": {}
        },
        {
          "output_type": "display_data",
          "data": {
            "text/plain": [
              "<Figure size 1080x540 with 0 Axes>"
            ]
          },
          "metadata": {}
        },
        {
          "output_type": "display_data",
          "data": {
            "text/plain": [
              "<Figure size 1080x540 with 0 Axes>"
            ]
          },
          "metadata": {}
        },
        {
          "output_type": "display_data",
          "data": {
            "text/plain": [
              "<Figure size 1080x540 with 0 Axes>"
            ]
          },
          "metadata": {}
        },
        {
          "output_type": "display_data",
          "data": {
            "text/plain": [
              "<Figure size 1080x540 with 0 Axes>"
            ]
          },
          "metadata": {}
        },
        {
          "output_type": "display_data",
          "data": {
            "text/plain": [
              "<Figure size 1080x540 with 0 Axes>"
            ]
          },
          "metadata": {}
        },
        {
          "output_type": "display_data",
          "data": {
            "text/plain": [
              "<Figure size 1080x540 with 0 Axes>"
            ]
          },
          "metadata": {}
        },
        {
          "output_type": "display_data",
          "data": {
            "text/plain": [
              "<Figure size 1080x540 with 0 Axes>"
            ]
          },
          "metadata": {}
        },
        {
          "output_type": "display_data",
          "data": {
            "text/plain": [
              "<Figure size 1080x540 with 0 Axes>"
            ]
          },
          "metadata": {}
        },
        {
          "output_type": "display_data",
          "data": {
            "text/plain": [
              "<Figure size 1080x540 with 0 Axes>"
            ]
          },
          "metadata": {}
        },
        {
          "output_type": "display_data",
          "data": {
            "text/plain": [
              "<Figure size 1080x540 with 0 Axes>"
            ]
          },
          "metadata": {}
        },
        {
          "output_type": "display_data",
          "data": {
            "text/plain": [
              "<Figure size 1080x540 with 0 Axes>"
            ]
          },
          "metadata": {}
        },
        {
          "output_type": "display_data",
          "data": {
            "text/plain": [
              "<Figure size 1080x540 with 0 Axes>"
            ]
          },
          "metadata": {}
        },
        {
          "output_type": "display_data",
          "data": {
            "text/plain": [
              "<Figure size 1080x540 with 0 Axes>"
            ]
          },
          "metadata": {}
        },
        {
          "output_type": "display_data",
          "data": {
            "text/plain": [
              "<Figure size 1080x540 with 0 Axes>"
            ]
          },
          "metadata": {}
        },
        {
          "output_type": "display_data",
          "data": {
            "text/plain": [
              "<Figure size 1080x540 with 0 Axes>"
            ]
          },
          "metadata": {}
        },
        {
          "output_type": "display_data",
          "data": {
            "text/plain": [
              "<Figure size 1080x540 with 0 Axes>"
            ]
          },
          "metadata": {}
        }
      ]
    },
    {
      "cell_type": "markdown",
      "source": [
        "#Split the Spectrograms into Train, Validation, and Test Sets\n",
        "\n",
        "Split the data stored in folders into train, validation, and test folders using https://github.com/jfilter/split-folders"
      ],
      "metadata": {
        "id": "zRlDUIlTl3dN"
      }
    },
    {
      "cell_type": "code",
      "source": [
        "!pip install split-folders"
      ],
      "metadata": {
        "colab": {
          "base_uri": "https://localhost:8080/"
        },
        "id": "T78ytJwfntbi",
        "outputId": "e23dcbe1-a03b-46c6-ec38-65de13621910"
      },
      "execution_count": null,
      "outputs": [
        {
          "output_type": "stream",
          "name": "stdout",
          "text": [
            "Collecting split-folders\n",
            "  Downloading split_folders-0.5.1-py3-none-any.whl (8.4 kB)\n",
            "Installing collected packages: split-folders\n",
            "Successfully installed split-folders-0.5.1\n"
          ]
        }
      ]
    },
    {
      "cell_type": "code",
      "source": [
        "import splitfolders\n",
        "\n",
        "#use a ratio of 70% train, 10% validation, and 20% test\n",
        "splitfolders.ratio(\"/content/drive/My Drive/Colab Notebooks/Deep Learning/ChiroVox_Bat_Spectrograms_Folders\", output=\"/content/drive/My Drive/Colab Notebooks/Deep Learning/ChirVox_Bat_Spectrograms_Train_Test_Folders_More_Data\",\n",
        "    seed=1337, ratio=(.7, .1, .2), group_prefix=None, move=False)"
      ],
      "metadata": {
        "colab": {
          "base_uri": "https://localhost:8080/"
        },
        "id": "Pt_ia4X7nzWA",
        "outputId": "5707e4fb-b84c-4f44-c98e-f99671a645d7"
      },
      "execution_count": null,
      "outputs": [
        {
          "output_type": "stream",
          "name": "stderr",
          "text": [
            "Copying files: 2144 files [00:39, 54.38 files/s]\n"
          ]
        }
      ]
    }
  ]
}